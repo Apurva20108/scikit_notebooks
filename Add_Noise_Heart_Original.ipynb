{
 "cells": [
  {
   "cell_type": "code",
   "execution_count": 70,
   "metadata": {},
   "outputs": [],
   "source": [
    "import numpy as np\n",
    "import pandas as pd \n",
    "\n",
    "df=pd.read_csv(\"heart.csv\")"
   ]
  },
  {
   "cell_type": "code",
   "execution_count": 71,
   "metadata": {},
   "outputs": [],
   "source": [
    "from sklearn.ensemble import RandomForestRegressor\n",
    "from sklearn import metrics\n",
    "from sklearn.model_selection import train_test_split"
   ]
  },
  {
   "cell_type": "code",
   "execution_count": 72,
   "metadata": {},
   "outputs": [
    {
     "data": {
      "text/html": [
       "<div>\n",
       "<style scoped>\n",
       "    .dataframe tbody tr th:only-of-type {\n",
       "        vertical-align: middle;\n",
       "    }\n",
       "\n",
       "    .dataframe tbody tr th {\n",
       "        vertical-align: top;\n",
       "    }\n",
       "\n",
       "    .dataframe thead th {\n",
       "        text-align: right;\n",
       "    }\n",
       "</style>\n",
       "<table border=\"1\" class=\"dataframe\">\n",
       "  <thead>\n",
       "    <tr style=\"text-align: right;\">\n",
       "      <th></th>\n",
       "      <th>age</th>\n",
       "      <th>sex</th>\n",
       "      <th>cp</th>\n",
       "      <th>trestbps</th>\n",
       "      <th>chol</th>\n",
       "      <th>fbs</th>\n",
       "      <th>restecg</th>\n",
       "      <th>thalach</th>\n",
       "      <th>exang</th>\n",
       "      <th>oldpeak</th>\n",
       "      <th>slope</th>\n",
       "      <th>ca</th>\n",
       "      <th>thal</th>\n",
       "      <th>target</th>\n",
       "    </tr>\n",
       "  </thead>\n",
       "  <tbody>\n",
       "    <tr>\n",
       "      <th>0</th>\n",
       "      <td>63</td>\n",
       "      <td>1</td>\n",
       "      <td>3</td>\n",
       "      <td>145</td>\n",
       "      <td>233</td>\n",
       "      <td>1</td>\n",
       "      <td>0</td>\n",
       "      <td>150</td>\n",
       "      <td>0</td>\n",
       "      <td>2.3</td>\n",
       "      <td>0</td>\n",
       "      <td>0</td>\n",
       "      <td>1</td>\n",
       "      <td>1</td>\n",
       "    </tr>\n",
       "    <tr>\n",
       "      <th>1</th>\n",
       "      <td>37</td>\n",
       "      <td>1</td>\n",
       "      <td>2</td>\n",
       "      <td>130</td>\n",
       "      <td>250</td>\n",
       "      <td>0</td>\n",
       "      <td>1</td>\n",
       "      <td>187</td>\n",
       "      <td>0</td>\n",
       "      <td>3.5</td>\n",
       "      <td>0</td>\n",
       "      <td>0</td>\n",
       "      <td>2</td>\n",
       "      <td>1</td>\n",
       "    </tr>\n",
       "    <tr>\n",
       "      <th>2</th>\n",
       "      <td>41</td>\n",
       "      <td>0</td>\n",
       "      <td>1</td>\n",
       "      <td>130</td>\n",
       "      <td>204</td>\n",
       "      <td>0</td>\n",
       "      <td>0</td>\n",
       "      <td>172</td>\n",
       "      <td>0</td>\n",
       "      <td>1.4</td>\n",
       "      <td>2</td>\n",
       "      <td>0</td>\n",
       "      <td>2</td>\n",
       "      <td>1</td>\n",
       "    </tr>\n",
       "    <tr>\n",
       "      <th>3</th>\n",
       "      <td>56</td>\n",
       "      <td>1</td>\n",
       "      <td>1</td>\n",
       "      <td>120</td>\n",
       "      <td>236</td>\n",
       "      <td>0</td>\n",
       "      <td>1</td>\n",
       "      <td>178</td>\n",
       "      <td>0</td>\n",
       "      <td>0.8</td>\n",
       "      <td>2</td>\n",
       "      <td>0</td>\n",
       "      <td>2</td>\n",
       "      <td>1</td>\n",
       "    </tr>\n",
       "    <tr>\n",
       "      <th>4</th>\n",
       "      <td>57</td>\n",
       "      <td>0</td>\n",
       "      <td>0</td>\n",
       "      <td>120</td>\n",
       "      <td>354</td>\n",
       "      <td>0</td>\n",
       "      <td>1</td>\n",
       "      <td>163</td>\n",
       "      <td>1</td>\n",
       "      <td>0.6</td>\n",
       "      <td>2</td>\n",
       "      <td>0</td>\n",
       "      <td>2</td>\n",
       "      <td>1</td>\n",
       "    </tr>\n",
       "  </tbody>\n",
       "</table>\n",
       "</div>"
      ],
      "text/plain": [
       "   age  sex  cp  trestbps  chol  fbs  restecg  thalach  exang  oldpeak  slope  \\\n",
       "0   63    1   3       145   233    1        0      150      0      2.3      0   \n",
       "1   37    1   2       130   250    0        1      187      0      3.5      0   \n",
       "2   41    0   1       130   204    0        0      172      0      1.4      2   \n",
       "3   56    1   1       120   236    0        1      178      0      0.8      2   \n",
       "4   57    0   0       120   354    0        1      163      1      0.6      2   \n",
       "\n",
       "   ca  thal  target  \n",
       "0   0     1       1  \n",
       "1   0     2       1  \n",
       "2   0     2       1  \n",
       "3   0     2       1  \n",
       "4   0     2       1  "
      ]
     },
     "execution_count": 72,
     "metadata": {},
     "output_type": "execute_result"
    }
   ],
   "source": [
    "df.head()"
   ]
  },
  {
   "cell_type": "code",
   "execution_count": 73,
   "metadata": {},
   "outputs": [
    {
     "name": "stdout",
     "output_type": "stream",
     "text": [
      "<class 'pandas.core.frame.DataFrame'>\n",
      "RangeIndex: 303 entries, 0 to 302\n",
      "Data columns (total 14 columns):\n",
      " #   Column    Non-Null Count  Dtype  \n",
      "---  ------    --------------  -----  \n",
      " 0   age       303 non-null    int64  \n",
      " 1   sex       303 non-null    int64  \n",
      " 2   cp        303 non-null    int64  \n",
      " 3   trestbps  303 non-null    int64  \n",
      " 4   chol      303 non-null    int64  \n",
      " 5   fbs       303 non-null    int64  \n",
      " 6   restecg   303 non-null    int64  \n",
      " 7   thalach   303 non-null    int64  \n",
      " 8   exang     303 non-null    int64  \n",
      " 9   oldpeak   303 non-null    float64\n",
      " 10  slope     303 non-null    int64  \n",
      " 11  ca        303 non-null    int64  \n",
      " 12  thal      303 non-null    int64  \n",
      " 13  target    303 non-null    int64  \n",
      "dtypes: float64(1), int64(13)\n",
      "memory usage: 33.3 KB\n"
     ]
    }
   ],
   "source": [
    "df.info()"
   ]
  },
  {
   "cell_type": "code",
   "execution_count": 74,
   "metadata": {},
   "outputs": [
    {
     "data": {
      "text/plain": [
       "age         0\n",
       "sex         0\n",
       "cp          0\n",
       "trestbps    0\n",
       "chol        0\n",
       "fbs         0\n",
       "restecg     0\n",
       "thalach     0\n",
       "exang       0\n",
       "oldpeak     0\n",
       "slope       0\n",
       "ca          0\n",
       "thal        0\n",
       "target      0\n",
       "dtype: int64"
      ]
     },
     "execution_count": 74,
     "metadata": {},
     "output_type": "execute_result"
    }
   ],
   "source": [
    " df.isnull().sum()"
   ]
  },
  {
   "cell_type": "code",
   "execution_count": 75,
   "metadata": {},
   "outputs": [
    {
     "name": "stdout",
     "output_type": "stream",
     "text": [
      "num of pepole without heart disease: 138\n",
      "num of pepole with chance for heart disease: 165\n"
     ]
    }
   ],
   "source": [
    "healthy = df[(df['target'] ==0) ].count()[1]\n",
    "sick = df[(df['target'] ==1) ].count()[1]\n",
    "print (\"num of pepole without heart disease: \"+ str(healthy))\n",
    "print (\"num of pepole with chance for heart disease: \"+ str(sick))"
   ]
  },
  {
   "cell_type": "code",
   "execution_count": 76,
   "metadata": {},
   "outputs": [
    {
     "name": "stdout",
     "output_type": "stream",
     "text": [
      "['age', 'sex', 'cp', 'trestbps', 'chol', 'fbs', 'restecg', 'thalach', 'exang', 'oldpeak', 'slope', 'ca', 'thal']\n"
     ]
    }
   ],
   "source": [
    "features = df.columns.tolist()\n",
    "features.remove('target')\n",
    "print(features)\n",
    "X = df[features]\n",
    "y = df[\"target\"]"
   ]
  },
  {
   "cell_type": "code",
   "execution_count": 77,
   "metadata": {},
   "outputs": [],
   "source": [
    "X = df[features]\n",
    "y = df[\"target\"]"
   ]
  },
  {
   "cell_type": "code",
   "execution_count": 78,
   "metadata": {},
   "outputs": [],
   "source": [
    "from sklearn.ensemble import RandomForestRegressor\n",
    "from sklearn import metrics\n",
    "from sklearn.model_selection import train_test_split\n",
    "import pandas\n",
    "\n",
    "def func(X,y):    \n",
    "    X_train, X_test, y_train, y_test = train_test_split(X, y, test_size = 0.10,random_state=123)\n",
    "    print(X_train)\n",
    "    print(X_test)\n",
    "    print(y_train)\n",
    "    print(y_test)\n",
    "    rg = RandomForestRegressor(criterion='mae')\n",
    "    rg.fit(X_train, y_train)\n",
    "    y_pred = rg.predict(X_test)\n",
    "    #print(y_pred)\n",
    "    #print(y_test)\n",
    "    mae = metrics.mean_absolute_error(y_test, y_pred)\n",
    "    mse = metrics.mean_squared_error(y_test, y_pred)\n",
    "    r2score=metrics.r2_score(y_test, y_pred)\n",
    "    return ([mae, mse,r2score])"
   ]
  },
  {
   "cell_type": "code",
   "execution_count": 85,
   "metadata": {},
   "outputs": [
    {
     "name": "stdout",
     "output_type": "stream",
     "text": [
      "     age  sex  cp  trestbps  chol  fbs  restecg  thalach  exang  oldpeak  \\\n",
      "107   45    0   0       138   236    0        0      152      1      0.2   \n",
      "155   58    0   0       130   197    0        1      131      0      0.6   \n",
      "251   43    1   0       132   247    1        0      143      1      0.1   \n",
      "171   48    1   1       110   229    0        1      168      0      1.0   \n",
      "53    44    0   2       108   141    0        1      175      0      0.6   \n",
      "..   ...  ...  ..       ...   ...  ...      ...      ...    ...      ...   \n",
      "106   69    1   3       160   234    1        0      131      0      0.1   \n",
      "83    52    1   3       152   298    1        1      178      0      1.2   \n",
      "17    66    0   3       150   226    0        1      114      0      2.6   \n",
      "230   47    1   2       108   243    0        1      152      0      0.0   \n",
      "98    43    1   2       130   315    0        1      162      0      1.9   \n",
      "\n",
      "     slope  ca  thal  \n",
      "107      1   0     2  \n",
      "155      1   0     2  \n",
      "251      1   4     3  \n",
      "171      0   0     3  \n",
      "53       1   0     2  \n",
      "..     ...  ..   ...  \n",
      "106      1   1     2  \n",
      "83       1   0     3  \n",
      "17       0   0     2  \n",
      "230      2   0     2  \n",
      "98       2   1     2  \n",
      "\n",
      "[272 rows x 13 columns]\n",
      "     age  sex  cp  trestbps  chol  fbs  restecg  thalach  exang  oldpeak  \\\n",
      "11    48    0   2       130   275    0        1      139      0      0.2   \n",
      "292   58    0   0       170   225    1        0      146      1      2.8   \n",
      "269   56    1   0       130   283    1        0      103      1      1.6   \n",
      "268   54    1   0       122   286    0        0      116      1      3.2   \n",
      "94    45    0   1       112   160    0        1      138      0      0.0   \n",
      "201   60    1   0       125   258    0        0      141      1      2.8   \n",
      "81    45    1   1       128   308    0        0      170      0      0.0   \n",
      "20    59    1   0       135   234    0        1      161      0      0.5   \n",
      "54    63    0   2       135   252    0        0      172      0      0.0   \n",
      "196   46    1   2       150   231    0        1      147      0      3.6   \n",
      "202   58    1   0       150   270    0        0      111      1      0.8   \n",
      "31    65    1   0       120   177    0        1      140      0      0.4   \n",
      "250   51    1   0       140   298    0        1      122      1      4.2   \n",
      "256   58    1   0       128   259    0        0      130      1      3.0   \n",
      "245   48    1   0       124   274    0        0      166      0      0.5   \n",
      "204   62    0   0       160   164    0        0      145      0      6.2   \n",
      "120   64    0   0       130   303    0        1      122      0      2.0   \n",
      "281   52    1   0       128   204    1        1      156      1      1.0   \n",
      "199   65    1   0       110   248    0        0      158      0      0.6   \n",
      "89    58    0   0       100   248    0        0      122      0      1.0   \n",
      "159   56    1   1       130   221    0        0      163      0      0.0   \n",
      "247   66    1   1       160   246    0        1      120      1      0.0   \n",
      "115   37    0   2       120   215    0        1      170      0      0.0   \n",
      "52    62    1   2       130   231    0        1      146      0      1.8   \n",
      "203   68    1   2       180   274    1        0      150      1      1.6   \n",
      "241   59    0   0       174   249    0        1      143      1      0.0   \n",
      "167   62    0   0       140   268    0        0      160      0      3.6   \n",
      "296   63    0   0       124   197    0        1      136      1      0.0   \n",
      "223   56    0   0       200   288    1        0      133      1      4.0   \n",
      "150   66    1   0       160   228    0        0      138      0      2.3   \n",
      "165   67    1   0       160   286    0        0      108      1      1.5   \n",
      "\n",
      "     slope  ca  thal  \n",
      "11       2   0     2  \n",
      "292      1   2     1  \n",
      "269      0   0     3  \n",
      "268      1   2     2  \n",
      "94       1   0     2  \n",
      "201      1   1     3  \n",
      "81       2   0     2  \n",
      "20       1   0     3  \n",
      "54       2   0     2  \n",
      "196      1   0     2  \n",
      "202      2   0     3  \n",
      "31       2   0     3  \n",
      "250      1   3     3  \n",
      "256      1   2     3  \n",
      "245      1   0     3  \n",
      "204      0   3     3  \n",
      "120      1   2     2  \n",
      "281      1   0     0  \n",
      "199      2   2     1  \n",
      "89       1   0     2  \n",
      "159      2   0     3  \n",
      "247      1   3     1  \n",
      "115      2   0     2  \n",
      "52       1   3     3  \n",
      "203      1   0     3  \n",
      "241      1   0     2  \n",
      "167      0   2     2  \n",
      "296      1   0     2  \n",
      "223      0   2     3  \n",
      "150      2   0     1  \n",
      "165      1   3     2  \n",
      "107    1\n",
      "155    1\n",
      "251    0\n",
      "171    0\n",
      "53     1\n",
      "      ..\n",
      "106    1\n",
      "83     1\n",
      "17     1\n",
      "230    0\n",
      "98     1\n",
      "Name: target, Length: 272, dtype: int64\n",
      "11     1\n",
      "292    0\n",
      "269    0\n",
      "268    0\n",
      "94     1\n",
      "201    0\n",
      "81     1\n",
      "20     1\n",
      "54     1\n",
      "196    0\n",
      "202    0\n",
      "31     1\n",
      "250    0\n",
      "256    0\n",
      "245    0\n",
      "204    0\n",
      "120    1\n",
      "281    0\n",
      "199    0\n",
      "89     1\n",
      "159    1\n",
      "247    0\n",
      "115    1\n",
      "52     1\n",
      "203    0\n",
      "241    0\n",
      "167    0\n",
      "296    0\n",
      "223    0\n",
      "150    1\n",
      "165    0\n",
      "Name: target, dtype: int64\n"
     ]
    },
    {
     "name": "stderr",
     "output_type": "stream",
     "text": [
      "/home/apurva/anaconda3/envs/scikitlearnoriginal/scikit-learn/sklearn/ensemble/_forest.py:394: FutureWarning: Criterion 'mae' was deprecated in v1.0 and will be removed in version 1.2. Use `criterion='absolute_error'` which is equivalent.\n",
      "  warn(\n"
     ]
    }
   ],
   "source": [
    "results={}\n",
    "results['heart_mae'] = []\n",
    "results['heart_mae'].append(func(X, y))"
   ]
  },
  {
   "cell_type": "code",
   "execution_count": 86,
   "metadata": {},
   "outputs": [
    {
     "data": {
      "text/plain": [
       "{'heart_mae': [[0.32870967741935475, 0.17651935483870965, 0.2559864035087722]]}"
      ]
     },
     "execution_count": 86,
     "metadata": {},
     "output_type": "execute_result"
    }
   ],
   "source": [
    "results"
   ]
  },
  {
   "cell_type": "code",
   "execution_count": 65,
   "metadata": {},
   "outputs": [
    {
     "data": {
      "text/html": [
       "<div>\n",
       "<style scoped>\n",
       "    .dataframe tbody tr th:only-of-type {\n",
       "        vertical-align: middle;\n",
       "    }\n",
       "\n",
       "    .dataframe tbody tr th {\n",
       "        vertical-align: top;\n",
       "    }\n",
       "\n",
       "    .dataframe thead th {\n",
       "        text-align: right;\n",
       "    }\n",
       "</style>\n",
       "<table border=\"1\" class=\"dataframe\">\n",
       "  <thead>\n",
       "    <tr style=\"text-align: right;\">\n",
       "      <th></th>\n",
       "      <th>age</th>\n",
       "      <th>sex</th>\n",
       "      <th>cp</th>\n",
       "      <th>trestbps</th>\n",
       "      <th>chol</th>\n",
       "      <th>fbs</th>\n",
       "      <th>restecg</th>\n",
       "      <th>thalach</th>\n",
       "      <th>exang</th>\n",
       "      <th>oldpeak</th>\n",
       "      <th>slope</th>\n",
       "      <th>ca</th>\n",
       "      <th>thal</th>\n",
       "    </tr>\n",
       "  </thead>\n",
       "  <tbody>\n",
       "    <tr>\n",
       "      <th>0</th>\n",
       "      <td>63</td>\n",
       "      <td>1</td>\n",
       "      <td>3</td>\n",
       "      <td>145</td>\n",
       "      <td>233</td>\n",
       "      <td>1</td>\n",
       "      <td>0</td>\n",
       "      <td>150</td>\n",
       "      <td>0</td>\n",
       "      <td>2.3</td>\n",
       "      <td>0</td>\n",
       "      <td>0</td>\n",
       "      <td>1</td>\n",
       "    </tr>\n",
       "    <tr>\n",
       "      <th>1</th>\n",
       "      <td>37</td>\n",
       "      <td>1</td>\n",
       "      <td>2</td>\n",
       "      <td>130</td>\n",
       "      <td>250</td>\n",
       "      <td>0</td>\n",
       "      <td>1</td>\n",
       "      <td>187</td>\n",
       "      <td>0</td>\n",
       "      <td>3.5</td>\n",
       "      <td>0</td>\n",
       "      <td>0</td>\n",
       "      <td>2</td>\n",
       "    </tr>\n",
       "    <tr>\n",
       "      <th>2</th>\n",
       "      <td>41</td>\n",
       "      <td>0</td>\n",
       "      <td>1</td>\n",
       "      <td>130</td>\n",
       "      <td>204</td>\n",
       "      <td>0</td>\n",
       "      <td>0</td>\n",
       "      <td>172</td>\n",
       "      <td>0</td>\n",
       "      <td>1.4</td>\n",
       "      <td>2</td>\n",
       "      <td>0</td>\n",
       "      <td>2</td>\n",
       "    </tr>\n",
       "    <tr>\n",
       "      <th>3</th>\n",
       "      <td>56</td>\n",
       "      <td>1</td>\n",
       "      <td>1</td>\n",
       "      <td>120</td>\n",
       "      <td>236</td>\n",
       "      <td>0</td>\n",
       "      <td>1</td>\n",
       "      <td>178</td>\n",
       "      <td>0</td>\n",
       "      <td>0.8</td>\n",
       "      <td>2</td>\n",
       "      <td>0</td>\n",
       "      <td>2</td>\n",
       "    </tr>\n",
       "    <tr>\n",
       "      <th>4</th>\n",
       "      <td>57</td>\n",
       "      <td>0</td>\n",
       "      <td>0</td>\n",
       "      <td>120</td>\n",
       "      <td>354</td>\n",
       "      <td>0</td>\n",
       "      <td>1</td>\n",
       "      <td>163</td>\n",
       "      <td>1</td>\n",
       "      <td>0.6</td>\n",
       "      <td>2</td>\n",
       "      <td>0</td>\n",
       "      <td>2</td>\n",
       "    </tr>\n",
       "  </tbody>\n",
       "</table>\n",
       "</div>"
      ],
      "text/plain": [
       "   age  sex  cp  trestbps  chol  fbs  restecg  thalach  exang  oldpeak  slope  \\\n",
       "0   63    1   3       145   233    1        0      150      0      2.3      0   \n",
       "1   37    1   2       130   250    0        1      187      0      3.5      0   \n",
       "2   41    0   1       130   204    0        0      172      0      1.4      2   \n",
       "3   56    1   1       120   236    0        1      178      0      0.8      2   \n",
       "4   57    0   0       120   354    0        1      163      1      0.6      2   \n",
       "\n",
       "   ca  thal  \n",
       "0   0     1  \n",
       "1   0     2  \n",
       "2   0     2  \n",
       "3   0     2  \n",
       "4   0     2  "
      ]
     },
     "execution_count": 65,
     "metadata": {},
     "output_type": "execute_result"
    }
   ],
   "source": [
    "X.head()"
   ]
  },
  {
   "cell_type": "code",
   "execution_count": 47,
   "metadata": {},
   "outputs": [
    {
     "data": {
      "text/plain": [
       "0    1\n",
       "1    1\n",
       "2    1\n",
       "3    1\n",
       "4    1\n",
       "Name: target, dtype: int64"
      ]
     },
     "execution_count": 47,
     "metadata": {},
     "output_type": "execute_result"
    }
   ],
   "source": [
    "y.head()"
   ]
  },
  {
   "cell_type": "code",
   "execution_count": 92,
   "metadata": {},
   "outputs": [],
   "source": [
    "from sklearn.ensemble import RandomForestRegressor\n",
    "def crit_mae(X_train, X_test, y_train, y_test):\n",
    "    rg = RandomForestRegressor(criterion='mae')  \n",
    "    rg.fit(X_train, y_train)\n",
    "    y_pred = rg.predict(X_test)\n",
    "    from sklearn import metrics\n",
    "    mae= metrics.mean_absolute_error(y_test, y_pred)\n",
    "    print(mae)\n",
    "    mse= metrics.mean_squared_error(y_test, y_pred)\n",
    "    r2_score=metrics.r2_score(y_test, y_pred)\n",
    "    print(r2_score)\n",
    "    return ([mae,mse,r2_score])"
   ]
  },
  {
   "cell_type": "code",
   "execution_count": 101,
   "metadata": {},
   "outputs": [],
   "source": [
    "from sklearn.ensemble import RandomForestRegressor\n",
    "def crit_mse(X_train, X_test, y_train, y_test):\n",
    "    rg = RandomForestRegressor(criterion='mse')  \n",
    "    rg.fit(X_train, y_train)\n",
    "    y_pred = rg.predict(X_test)\n",
    "    from sklearn import metrics\n",
    "    mae= metrics.mean_absolute_error(y_test, y_pred)\n",
    "    print(mae)\n",
    "    mse= metrics.mean_squared_error(y_test, y_pred)\n",
    "    r2_score=metrics.r2_score(y_test, y_pred)\n",
    "    print(r2_score)\n",
    "    return ([mae,mse,r2_score])"
   ]
  },
  {
   "cell_type": "code",
   "execution_count": 87,
   "metadata": {},
   "outputs": [],
   "source": [
    "#splitting data\n",
    "X_train, X_test, y_train, y_test = train_test_split(X, y, test_size = 0.10,random_state=123)\n"
   ]
  },
  {
   "cell_type": "code",
   "execution_count": 134,
   "metadata": {
    "scrolled": false
   },
   "outputs": [
    {
     "data": {
      "text/html": [
       "<div>\n",
       "<style scoped>\n",
       "    .dataframe tbody tr th:only-of-type {\n",
       "        vertical-align: middle;\n",
       "    }\n",
       "\n",
       "    .dataframe tbody tr th {\n",
       "        vertical-align: top;\n",
       "    }\n",
       "\n",
       "    .dataframe thead th {\n",
       "        text-align: right;\n",
       "    }\n",
       "</style>\n",
       "<table border=\"1\" class=\"dataframe\">\n",
       "  <thead>\n",
       "    <tr style=\"text-align: right;\">\n",
       "      <th></th>\n",
       "      <th>age</th>\n",
       "      <th>sex</th>\n",
       "      <th>cp</th>\n",
       "      <th>trestbps</th>\n",
       "      <th>chol</th>\n",
       "      <th>fbs</th>\n",
       "      <th>restecg</th>\n",
       "      <th>thalach</th>\n",
       "      <th>exang</th>\n",
       "      <th>oldpeak</th>\n",
       "      <th>slope</th>\n",
       "      <th>ca</th>\n",
       "      <th>thal</th>\n",
       "    </tr>\n",
       "  </thead>\n",
       "  <tbody>\n",
       "    <tr>\n",
       "      <th>107</th>\n",
       "      <td>45</td>\n",
       "      <td>0</td>\n",
       "      <td>0</td>\n",
       "      <td>138</td>\n",
       "      <td>236</td>\n",
       "      <td>0</td>\n",
       "      <td>0</td>\n",
       "      <td>152</td>\n",
       "      <td>1</td>\n",
       "      <td>0.2</td>\n",
       "      <td>1</td>\n",
       "      <td>0</td>\n",
       "      <td>2</td>\n",
       "    </tr>\n",
       "    <tr>\n",
       "      <th>155</th>\n",
       "      <td>58</td>\n",
       "      <td>0</td>\n",
       "      <td>0</td>\n",
       "      <td>130</td>\n",
       "      <td>197</td>\n",
       "      <td>0</td>\n",
       "      <td>1</td>\n",
       "      <td>131</td>\n",
       "      <td>0</td>\n",
       "      <td>0.6</td>\n",
       "      <td>1</td>\n",
       "      <td>0</td>\n",
       "      <td>2</td>\n",
       "    </tr>\n",
       "    <tr>\n",
       "      <th>251</th>\n",
       "      <td>43</td>\n",
       "      <td>1</td>\n",
       "      <td>0</td>\n",
       "      <td>132</td>\n",
       "      <td>247</td>\n",
       "      <td>1</td>\n",
       "      <td>0</td>\n",
       "      <td>143</td>\n",
       "      <td>1</td>\n",
       "      <td>0.1</td>\n",
       "      <td>1</td>\n",
       "      <td>4</td>\n",
       "      <td>3</td>\n",
       "    </tr>\n",
       "    <tr>\n",
       "      <th>171</th>\n",
       "      <td>48</td>\n",
       "      <td>1</td>\n",
       "      <td>1</td>\n",
       "      <td>110</td>\n",
       "      <td>229</td>\n",
       "      <td>0</td>\n",
       "      <td>1</td>\n",
       "      <td>168</td>\n",
       "      <td>0</td>\n",
       "      <td>1.0</td>\n",
       "      <td>0</td>\n",
       "      <td>0</td>\n",
       "      <td>3</td>\n",
       "    </tr>\n",
       "    <tr>\n",
       "      <th>53</th>\n",
       "      <td>44</td>\n",
       "      <td>0</td>\n",
       "      <td>2</td>\n",
       "      <td>108</td>\n",
       "      <td>141</td>\n",
       "      <td>0</td>\n",
       "      <td>1</td>\n",
       "      <td>175</td>\n",
       "      <td>0</td>\n",
       "      <td>0.6</td>\n",
       "      <td>1</td>\n",
       "      <td>0</td>\n",
       "      <td>2</td>\n",
       "    </tr>\n",
       "    <tr>\n",
       "      <th>...</th>\n",
       "      <td>...</td>\n",
       "      <td>...</td>\n",
       "      <td>...</td>\n",
       "      <td>...</td>\n",
       "      <td>...</td>\n",
       "      <td>...</td>\n",
       "      <td>...</td>\n",
       "      <td>...</td>\n",
       "      <td>...</td>\n",
       "      <td>...</td>\n",
       "      <td>...</td>\n",
       "      <td>...</td>\n",
       "      <td>...</td>\n",
       "    </tr>\n",
       "    <tr>\n",
       "      <th>106</th>\n",
       "      <td>69</td>\n",
       "      <td>1</td>\n",
       "      <td>3</td>\n",
       "      <td>160</td>\n",
       "      <td>234</td>\n",
       "      <td>1</td>\n",
       "      <td>0</td>\n",
       "      <td>131</td>\n",
       "      <td>0</td>\n",
       "      <td>0.1</td>\n",
       "      <td>1</td>\n",
       "      <td>1</td>\n",
       "      <td>2</td>\n",
       "    </tr>\n",
       "    <tr>\n",
       "      <th>83</th>\n",
       "      <td>52</td>\n",
       "      <td>1</td>\n",
       "      <td>3</td>\n",
       "      <td>152</td>\n",
       "      <td>298</td>\n",
       "      <td>1</td>\n",
       "      <td>1</td>\n",
       "      <td>178</td>\n",
       "      <td>0</td>\n",
       "      <td>1.2</td>\n",
       "      <td>1</td>\n",
       "      <td>0</td>\n",
       "      <td>3</td>\n",
       "    </tr>\n",
       "    <tr>\n",
       "      <th>17</th>\n",
       "      <td>66</td>\n",
       "      <td>0</td>\n",
       "      <td>3</td>\n",
       "      <td>150</td>\n",
       "      <td>226</td>\n",
       "      <td>0</td>\n",
       "      <td>1</td>\n",
       "      <td>114</td>\n",
       "      <td>0</td>\n",
       "      <td>2.6</td>\n",
       "      <td>0</td>\n",
       "      <td>0</td>\n",
       "      <td>2</td>\n",
       "    </tr>\n",
       "    <tr>\n",
       "      <th>230</th>\n",
       "      <td>47</td>\n",
       "      <td>1</td>\n",
       "      <td>2</td>\n",
       "      <td>108</td>\n",
       "      <td>243</td>\n",
       "      <td>0</td>\n",
       "      <td>1</td>\n",
       "      <td>152</td>\n",
       "      <td>0</td>\n",
       "      <td>0.0</td>\n",
       "      <td>2</td>\n",
       "      <td>0</td>\n",
       "      <td>2</td>\n",
       "    </tr>\n",
       "    <tr>\n",
       "      <th>98</th>\n",
       "      <td>43</td>\n",
       "      <td>1</td>\n",
       "      <td>2</td>\n",
       "      <td>130</td>\n",
       "      <td>315</td>\n",
       "      <td>0</td>\n",
       "      <td>1</td>\n",
       "      <td>162</td>\n",
       "      <td>0</td>\n",
       "      <td>1.9</td>\n",
       "      <td>2</td>\n",
       "      <td>1</td>\n",
       "      <td>2</td>\n",
       "    </tr>\n",
       "  </tbody>\n",
       "</table>\n",
       "<p>272 rows × 13 columns</p>\n",
       "</div>"
      ],
      "text/plain": [
       "     age  sex  cp  trestbps  chol  fbs  restecg  thalach  exang  oldpeak  \\\n",
       "107   45    0   0       138   236    0        0      152      1      0.2   \n",
       "155   58    0   0       130   197    0        1      131      0      0.6   \n",
       "251   43    1   0       132   247    1        0      143      1      0.1   \n",
       "171   48    1   1       110   229    0        1      168      0      1.0   \n",
       "53    44    0   2       108   141    0        1      175      0      0.6   \n",
       "..   ...  ...  ..       ...   ...  ...      ...      ...    ...      ...   \n",
       "106   69    1   3       160   234    1        0      131      0      0.1   \n",
       "83    52    1   3       152   298    1        1      178      0      1.2   \n",
       "17    66    0   3       150   226    0        1      114      0      2.6   \n",
       "230   47    1   2       108   243    0        1      152      0      0.0   \n",
       "98    43    1   2       130   315    0        1      162      0      1.9   \n",
       "\n",
       "     slope  ca  thal  \n",
       "107      1   0     2  \n",
       "155      1   0     2  \n",
       "251      1   4     3  \n",
       "171      0   0     3  \n",
       "53       1   0     2  \n",
       "..     ...  ..   ...  \n",
       "106      1   1     2  \n",
       "83       1   0     3  \n",
       "17       0   0     2  \n",
       "230      2   0     2  \n",
       "98       2   1     2  \n",
       "\n",
       "[272 rows x 13 columns]"
      ]
     },
     "execution_count": 134,
     "metadata": {},
     "output_type": "execute_result"
    }
   ],
   "source": [
    "X_train"
   ]
  },
  {
   "cell_type": "code",
   "execution_count": 89,
   "metadata": {},
   "outputs": [
    {
     "data": {
      "text/plain": [
       "107    1\n",
       "155    1\n",
       "251    0\n",
       "171    0\n",
       "53     1\n",
       "      ..\n",
       "106    1\n",
       "83     1\n",
       "17     1\n",
       "230    0\n",
       "98     1\n",
       "Name: target, Length: 272, dtype: int64"
      ]
     },
     "execution_count": 89,
     "metadata": {},
     "output_type": "execute_result"
    }
   ],
   "source": [
    "y_train"
   ]
  },
  {
   "cell_type": "code",
   "execution_count": 90,
   "metadata": {},
   "outputs": [
    {
     "data": {
      "text/html": [
       "<div>\n",
       "<style scoped>\n",
       "    .dataframe tbody tr th:only-of-type {\n",
       "        vertical-align: middle;\n",
       "    }\n",
       "\n",
       "    .dataframe tbody tr th {\n",
       "        vertical-align: top;\n",
       "    }\n",
       "\n",
       "    .dataframe thead th {\n",
       "        text-align: right;\n",
       "    }\n",
       "</style>\n",
       "<table border=\"1\" class=\"dataframe\">\n",
       "  <thead>\n",
       "    <tr style=\"text-align: right;\">\n",
       "      <th></th>\n",
       "      <th>age</th>\n",
       "      <th>sex</th>\n",
       "      <th>cp</th>\n",
       "      <th>trestbps</th>\n",
       "      <th>chol</th>\n",
       "      <th>fbs</th>\n",
       "      <th>restecg</th>\n",
       "      <th>thalach</th>\n",
       "      <th>exang</th>\n",
       "      <th>oldpeak</th>\n",
       "      <th>slope</th>\n",
       "      <th>ca</th>\n",
       "      <th>thal</th>\n",
       "    </tr>\n",
       "  </thead>\n",
       "  <tbody>\n",
       "    <tr>\n",
       "      <th>11</th>\n",
       "      <td>48</td>\n",
       "      <td>0</td>\n",
       "      <td>2</td>\n",
       "      <td>130</td>\n",
       "      <td>275</td>\n",
       "      <td>0</td>\n",
       "      <td>1</td>\n",
       "      <td>139</td>\n",
       "      <td>0</td>\n",
       "      <td>0.2</td>\n",
       "      <td>2</td>\n",
       "      <td>0</td>\n",
       "      <td>2</td>\n",
       "    </tr>\n",
       "    <tr>\n",
       "      <th>292</th>\n",
       "      <td>58</td>\n",
       "      <td>0</td>\n",
       "      <td>0</td>\n",
       "      <td>170</td>\n",
       "      <td>225</td>\n",
       "      <td>1</td>\n",
       "      <td>0</td>\n",
       "      <td>146</td>\n",
       "      <td>1</td>\n",
       "      <td>2.8</td>\n",
       "      <td>1</td>\n",
       "      <td>2</td>\n",
       "      <td>1</td>\n",
       "    </tr>\n",
       "    <tr>\n",
       "      <th>269</th>\n",
       "      <td>56</td>\n",
       "      <td>1</td>\n",
       "      <td>0</td>\n",
       "      <td>130</td>\n",
       "      <td>283</td>\n",
       "      <td>1</td>\n",
       "      <td>0</td>\n",
       "      <td>103</td>\n",
       "      <td>1</td>\n",
       "      <td>1.6</td>\n",
       "      <td>0</td>\n",
       "      <td>0</td>\n",
       "      <td>3</td>\n",
       "    </tr>\n",
       "    <tr>\n",
       "      <th>268</th>\n",
       "      <td>54</td>\n",
       "      <td>1</td>\n",
       "      <td>0</td>\n",
       "      <td>122</td>\n",
       "      <td>286</td>\n",
       "      <td>0</td>\n",
       "      <td>0</td>\n",
       "      <td>116</td>\n",
       "      <td>1</td>\n",
       "      <td>3.2</td>\n",
       "      <td>1</td>\n",
       "      <td>2</td>\n",
       "      <td>2</td>\n",
       "    </tr>\n",
       "    <tr>\n",
       "      <th>94</th>\n",
       "      <td>45</td>\n",
       "      <td>0</td>\n",
       "      <td>1</td>\n",
       "      <td>112</td>\n",
       "      <td>160</td>\n",
       "      <td>0</td>\n",
       "      <td>1</td>\n",
       "      <td>138</td>\n",
       "      <td>0</td>\n",
       "      <td>0.0</td>\n",
       "      <td>1</td>\n",
       "      <td>0</td>\n",
       "      <td>2</td>\n",
       "    </tr>\n",
       "    <tr>\n",
       "      <th>201</th>\n",
       "      <td>60</td>\n",
       "      <td>1</td>\n",
       "      <td>0</td>\n",
       "      <td>125</td>\n",
       "      <td>258</td>\n",
       "      <td>0</td>\n",
       "      <td>0</td>\n",
       "      <td>141</td>\n",
       "      <td>1</td>\n",
       "      <td>2.8</td>\n",
       "      <td>1</td>\n",
       "      <td>1</td>\n",
       "      <td>3</td>\n",
       "    </tr>\n",
       "    <tr>\n",
       "      <th>81</th>\n",
       "      <td>45</td>\n",
       "      <td>1</td>\n",
       "      <td>1</td>\n",
       "      <td>128</td>\n",
       "      <td>308</td>\n",
       "      <td>0</td>\n",
       "      <td>0</td>\n",
       "      <td>170</td>\n",
       "      <td>0</td>\n",
       "      <td>0.0</td>\n",
       "      <td>2</td>\n",
       "      <td>0</td>\n",
       "      <td>2</td>\n",
       "    </tr>\n",
       "    <tr>\n",
       "      <th>20</th>\n",
       "      <td>59</td>\n",
       "      <td>1</td>\n",
       "      <td>0</td>\n",
       "      <td>135</td>\n",
       "      <td>234</td>\n",
       "      <td>0</td>\n",
       "      <td>1</td>\n",
       "      <td>161</td>\n",
       "      <td>0</td>\n",
       "      <td>0.5</td>\n",
       "      <td>1</td>\n",
       "      <td>0</td>\n",
       "      <td>3</td>\n",
       "    </tr>\n",
       "    <tr>\n",
       "      <th>54</th>\n",
       "      <td>63</td>\n",
       "      <td>0</td>\n",
       "      <td>2</td>\n",
       "      <td>135</td>\n",
       "      <td>252</td>\n",
       "      <td>0</td>\n",
       "      <td>0</td>\n",
       "      <td>172</td>\n",
       "      <td>0</td>\n",
       "      <td>0.0</td>\n",
       "      <td>2</td>\n",
       "      <td>0</td>\n",
       "      <td>2</td>\n",
       "    </tr>\n",
       "    <tr>\n",
       "      <th>196</th>\n",
       "      <td>46</td>\n",
       "      <td>1</td>\n",
       "      <td>2</td>\n",
       "      <td>150</td>\n",
       "      <td>231</td>\n",
       "      <td>0</td>\n",
       "      <td>1</td>\n",
       "      <td>147</td>\n",
       "      <td>0</td>\n",
       "      <td>3.6</td>\n",
       "      <td>1</td>\n",
       "      <td>0</td>\n",
       "      <td>2</td>\n",
       "    </tr>\n",
       "    <tr>\n",
       "      <th>202</th>\n",
       "      <td>58</td>\n",
       "      <td>1</td>\n",
       "      <td>0</td>\n",
       "      <td>150</td>\n",
       "      <td>270</td>\n",
       "      <td>0</td>\n",
       "      <td>0</td>\n",
       "      <td>111</td>\n",
       "      <td>1</td>\n",
       "      <td>0.8</td>\n",
       "      <td>2</td>\n",
       "      <td>0</td>\n",
       "      <td>3</td>\n",
       "    </tr>\n",
       "    <tr>\n",
       "      <th>31</th>\n",
       "      <td>65</td>\n",
       "      <td>1</td>\n",
       "      <td>0</td>\n",
       "      <td>120</td>\n",
       "      <td>177</td>\n",
       "      <td>0</td>\n",
       "      <td>1</td>\n",
       "      <td>140</td>\n",
       "      <td>0</td>\n",
       "      <td>0.4</td>\n",
       "      <td>2</td>\n",
       "      <td>0</td>\n",
       "      <td>3</td>\n",
       "    </tr>\n",
       "    <tr>\n",
       "      <th>250</th>\n",
       "      <td>51</td>\n",
       "      <td>1</td>\n",
       "      <td>0</td>\n",
       "      <td>140</td>\n",
       "      <td>298</td>\n",
       "      <td>0</td>\n",
       "      <td>1</td>\n",
       "      <td>122</td>\n",
       "      <td>1</td>\n",
       "      <td>4.2</td>\n",
       "      <td>1</td>\n",
       "      <td>3</td>\n",
       "      <td>3</td>\n",
       "    </tr>\n",
       "    <tr>\n",
       "      <th>256</th>\n",
       "      <td>58</td>\n",
       "      <td>1</td>\n",
       "      <td>0</td>\n",
       "      <td>128</td>\n",
       "      <td>259</td>\n",
       "      <td>0</td>\n",
       "      <td>0</td>\n",
       "      <td>130</td>\n",
       "      <td>1</td>\n",
       "      <td>3.0</td>\n",
       "      <td>1</td>\n",
       "      <td>2</td>\n",
       "      <td>3</td>\n",
       "    </tr>\n",
       "    <tr>\n",
       "      <th>245</th>\n",
       "      <td>48</td>\n",
       "      <td>1</td>\n",
       "      <td>0</td>\n",
       "      <td>124</td>\n",
       "      <td>274</td>\n",
       "      <td>0</td>\n",
       "      <td>0</td>\n",
       "      <td>166</td>\n",
       "      <td>0</td>\n",
       "      <td>0.5</td>\n",
       "      <td>1</td>\n",
       "      <td>0</td>\n",
       "      <td>3</td>\n",
       "    </tr>\n",
       "    <tr>\n",
       "      <th>204</th>\n",
       "      <td>62</td>\n",
       "      <td>0</td>\n",
       "      <td>0</td>\n",
       "      <td>160</td>\n",
       "      <td>164</td>\n",
       "      <td>0</td>\n",
       "      <td>0</td>\n",
       "      <td>145</td>\n",
       "      <td>0</td>\n",
       "      <td>6.2</td>\n",
       "      <td>0</td>\n",
       "      <td>3</td>\n",
       "      <td>3</td>\n",
       "    </tr>\n",
       "    <tr>\n",
       "      <th>120</th>\n",
       "      <td>64</td>\n",
       "      <td>0</td>\n",
       "      <td>0</td>\n",
       "      <td>130</td>\n",
       "      <td>303</td>\n",
       "      <td>0</td>\n",
       "      <td>1</td>\n",
       "      <td>122</td>\n",
       "      <td>0</td>\n",
       "      <td>2.0</td>\n",
       "      <td>1</td>\n",
       "      <td>2</td>\n",
       "      <td>2</td>\n",
       "    </tr>\n",
       "    <tr>\n",
       "      <th>281</th>\n",
       "      <td>52</td>\n",
       "      <td>1</td>\n",
       "      <td>0</td>\n",
       "      <td>128</td>\n",
       "      <td>204</td>\n",
       "      <td>1</td>\n",
       "      <td>1</td>\n",
       "      <td>156</td>\n",
       "      <td>1</td>\n",
       "      <td>1.0</td>\n",
       "      <td>1</td>\n",
       "      <td>0</td>\n",
       "      <td>0</td>\n",
       "    </tr>\n",
       "    <tr>\n",
       "      <th>199</th>\n",
       "      <td>65</td>\n",
       "      <td>1</td>\n",
       "      <td>0</td>\n",
       "      <td>110</td>\n",
       "      <td>248</td>\n",
       "      <td>0</td>\n",
       "      <td>0</td>\n",
       "      <td>158</td>\n",
       "      <td>0</td>\n",
       "      <td>0.6</td>\n",
       "      <td>2</td>\n",
       "      <td>2</td>\n",
       "      <td>1</td>\n",
       "    </tr>\n",
       "    <tr>\n",
       "      <th>89</th>\n",
       "      <td>58</td>\n",
       "      <td>0</td>\n",
       "      <td>0</td>\n",
       "      <td>100</td>\n",
       "      <td>248</td>\n",
       "      <td>0</td>\n",
       "      <td>0</td>\n",
       "      <td>122</td>\n",
       "      <td>0</td>\n",
       "      <td>1.0</td>\n",
       "      <td>1</td>\n",
       "      <td>0</td>\n",
       "      <td>2</td>\n",
       "    </tr>\n",
       "    <tr>\n",
       "      <th>159</th>\n",
       "      <td>56</td>\n",
       "      <td>1</td>\n",
       "      <td>1</td>\n",
       "      <td>130</td>\n",
       "      <td>221</td>\n",
       "      <td>0</td>\n",
       "      <td>0</td>\n",
       "      <td>163</td>\n",
       "      <td>0</td>\n",
       "      <td>0.0</td>\n",
       "      <td>2</td>\n",
       "      <td>0</td>\n",
       "      <td>3</td>\n",
       "    </tr>\n",
       "    <tr>\n",
       "      <th>247</th>\n",
       "      <td>66</td>\n",
       "      <td>1</td>\n",
       "      <td>1</td>\n",
       "      <td>160</td>\n",
       "      <td>246</td>\n",
       "      <td>0</td>\n",
       "      <td>1</td>\n",
       "      <td>120</td>\n",
       "      <td>1</td>\n",
       "      <td>0.0</td>\n",
       "      <td>1</td>\n",
       "      <td>3</td>\n",
       "      <td>1</td>\n",
       "    </tr>\n",
       "    <tr>\n",
       "      <th>115</th>\n",
       "      <td>37</td>\n",
       "      <td>0</td>\n",
       "      <td>2</td>\n",
       "      <td>120</td>\n",
       "      <td>215</td>\n",
       "      <td>0</td>\n",
       "      <td>1</td>\n",
       "      <td>170</td>\n",
       "      <td>0</td>\n",
       "      <td>0.0</td>\n",
       "      <td>2</td>\n",
       "      <td>0</td>\n",
       "      <td>2</td>\n",
       "    </tr>\n",
       "    <tr>\n",
       "      <th>52</th>\n",
       "      <td>62</td>\n",
       "      <td>1</td>\n",
       "      <td>2</td>\n",
       "      <td>130</td>\n",
       "      <td>231</td>\n",
       "      <td>0</td>\n",
       "      <td>1</td>\n",
       "      <td>146</td>\n",
       "      <td>0</td>\n",
       "      <td>1.8</td>\n",
       "      <td>1</td>\n",
       "      <td>3</td>\n",
       "      <td>3</td>\n",
       "    </tr>\n",
       "    <tr>\n",
       "      <th>203</th>\n",
       "      <td>68</td>\n",
       "      <td>1</td>\n",
       "      <td>2</td>\n",
       "      <td>180</td>\n",
       "      <td>274</td>\n",
       "      <td>1</td>\n",
       "      <td>0</td>\n",
       "      <td>150</td>\n",
       "      <td>1</td>\n",
       "      <td>1.6</td>\n",
       "      <td>1</td>\n",
       "      <td>0</td>\n",
       "      <td>3</td>\n",
       "    </tr>\n",
       "    <tr>\n",
       "      <th>241</th>\n",
       "      <td>59</td>\n",
       "      <td>0</td>\n",
       "      <td>0</td>\n",
       "      <td>174</td>\n",
       "      <td>249</td>\n",
       "      <td>0</td>\n",
       "      <td>1</td>\n",
       "      <td>143</td>\n",
       "      <td>1</td>\n",
       "      <td>0.0</td>\n",
       "      <td>1</td>\n",
       "      <td>0</td>\n",
       "      <td>2</td>\n",
       "    </tr>\n",
       "    <tr>\n",
       "      <th>167</th>\n",
       "      <td>62</td>\n",
       "      <td>0</td>\n",
       "      <td>0</td>\n",
       "      <td>140</td>\n",
       "      <td>268</td>\n",
       "      <td>0</td>\n",
       "      <td>0</td>\n",
       "      <td>160</td>\n",
       "      <td>0</td>\n",
       "      <td>3.6</td>\n",
       "      <td>0</td>\n",
       "      <td>2</td>\n",
       "      <td>2</td>\n",
       "    </tr>\n",
       "    <tr>\n",
       "      <th>296</th>\n",
       "      <td>63</td>\n",
       "      <td>0</td>\n",
       "      <td>0</td>\n",
       "      <td>124</td>\n",
       "      <td>197</td>\n",
       "      <td>0</td>\n",
       "      <td>1</td>\n",
       "      <td>136</td>\n",
       "      <td>1</td>\n",
       "      <td>0.0</td>\n",
       "      <td>1</td>\n",
       "      <td>0</td>\n",
       "      <td>2</td>\n",
       "    </tr>\n",
       "    <tr>\n",
       "      <th>223</th>\n",
       "      <td>56</td>\n",
       "      <td>0</td>\n",
       "      <td>0</td>\n",
       "      <td>200</td>\n",
       "      <td>288</td>\n",
       "      <td>1</td>\n",
       "      <td>0</td>\n",
       "      <td>133</td>\n",
       "      <td>1</td>\n",
       "      <td>4.0</td>\n",
       "      <td>0</td>\n",
       "      <td>2</td>\n",
       "      <td>3</td>\n",
       "    </tr>\n",
       "    <tr>\n",
       "      <th>150</th>\n",
       "      <td>66</td>\n",
       "      <td>1</td>\n",
       "      <td>0</td>\n",
       "      <td>160</td>\n",
       "      <td>228</td>\n",
       "      <td>0</td>\n",
       "      <td>0</td>\n",
       "      <td>138</td>\n",
       "      <td>0</td>\n",
       "      <td>2.3</td>\n",
       "      <td>2</td>\n",
       "      <td>0</td>\n",
       "      <td>1</td>\n",
       "    </tr>\n",
       "    <tr>\n",
       "      <th>165</th>\n",
       "      <td>67</td>\n",
       "      <td>1</td>\n",
       "      <td>0</td>\n",
       "      <td>160</td>\n",
       "      <td>286</td>\n",
       "      <td>0</td>\n",
       "      <td>0</td>\n",
       "      <td>108</td>\n",
       "      <td>1</td>\n",
       "      <td>1.5</td>\n",
       "      <td>1</td>\n",
       "      <td>3</td>\n",
       "      <td>2</td>\n",
       "    </tr>\n",
       "  </tbody>\n",
       "</table>\n",
       "</div>"
      ],
      "text/plain": [
       "     age  sex  cp  trestbps  chol  fbs  restecg  thalach  exang  oldpeak  \\\n",
       "11    48    0   2       130   275    0        1      139      0      0.2   \n",
       "292   58    0   0       170   225    1        0      146      1      2.8   \n",
       "269   56    1   0       130   283    1        0      103      1      1.6   \n",
       "268   54    1   0       122   286    0        0      116      1      3.2   \n",
       "94    45    0   1       112   160    0        1      138      0      0.0   \n",
       "201   60    1   0       125   258    0        0      141      1      2.8   \n",
       "81    45    1   1       128   308    0        0      170      0      0.0   \n",
       "20    59    1   0       135   234    0        1      161      0      0.5   \n",
       "54    63    0   2       135   252    0        0      172      0      0.0   \n",
       "196   46    1   2       150   231    0        1      147      0      3.6   \n",
       "202   58    1   0       150   270    0        0      111      1      0.8   \n",
       "31    65    1   0       120   177    0        1      140      0      0.4   \n",
       "250   51    1   0       140   298    0        1      122      1      4.2   \n",
       "256   58    1   0       128   259    0        0      130      1      3.0   \n",
       "245   48    1   0       124   274    0        0      166      0      0.5   \n",
       "204   62    0   0       160   164    0        0      145      0      6.2   \n",
       "120   64    0   0       130   303    0        1      122      0      2.0   \n",
       "281   52    1   0       128   204    1        1      156      1      1.0   \n",
       "199   65    1   0       110   248    0        0      158      0      0.6   \n",
       "89    58    0   0       100   248    0        0      122      0      1.0   \n",
       "159   56    1   1       130   221    0        0      163      0      0.0   \n",
       "247   66    1   1       160   246    0        1      120      1      0.0   \n",
       "115   37    0   2       120   215    0        1      170      0      0.0   \n",
       "52    62    1   2       130   231    0        1      146      0      1.8   \n",
       "203   68    1   2       180   274    1        0      150      1      1.6   \n",
       "241   59    0   0       174   249    0        1      143      1      0.0   \n",
       "167   62    0   0       140   268    0        0      160      0      3.6   \n",
       "296   63    0   0       124   197    0        1      136      1      0.0   \n",
       "223   56    0   0       200   288    1        0      133      1      4.0   \n",
       "150   66    1   0       160   228    0        0      138      0      2.3   \n",
       "165   67    1   0       160   286    0        0      108      1      1.5   \n",
       "\n",
       "     slope  ca  thal  \n",
       "11       2   0     2  \n",
       "292      1   2     1  \n",
       "269      0   0     3  \n",
       "268      1   2     2  \n",
       "94       1   0     2  \n",
       "201      1   1     3  \n",
       "81       2   0     2  \n",
       "20       1   0     3  \n",
       "54       2   0     2  \n",
       "196      1   0     2  \n",
       "202      2   0     3  \n",
       "31       2   0     3  \n",
       "250      1   3     3  \n",
       "256      1   2     3  \n",
       "245      1   0     3  \n",
       "204      0   3     3  \n",
       "120      1   2     2  \n",
       "281      1   0     0  \n",
       "199      2   2     1  \n",
       "89       1   0     2  \n",
       "159      2   0     3  \n",
       "247      1   3     1  \n",
       "115      2   0     2  \n",
       "52       1   3     3  \n",
       "203      1   0     3  \n",
       "241      1   0     2  \n",
       "167      0   2     2  \n",
       "296      1   0     2  \n",
       "223      0   2     3  \n",
       "150      2   0     1  \n",
       "165      1   3     2  "
      ]
     },
     "execution_count": 90,
     "metadata": {},
     "output_type": "execute_result"
    }
   ],
   "source": [
    "X_test"
   ]
  },
  {
   "cell_type": "code",
   "execution_count": 91,
   "metadata": {},
   "outputs": [
    {
     "data": {
      "text/plain": [
       "11     1\n",
       "292    0\n",
       "269    0\n",
       "268    0\n",
       "94     1\n",
       "201    0\n",
       "81     1\n",
       "20     1\n",
       "54     1\n",
       "196    0\n",
       "202    0\n",
       "31     1\n",
       "250    0\n",
       "256    0\n",
       "245    0\n",
       "204    0\n",
       "120    1\n",
       "281    0\n",
       "199    0\n",
       "89     1\n",
       "159    1\n",
       "247    0\n",
       "115    1\n",
       "52     1\n",
       "203    0\n",
       "241    0\n",
       "167    0\n",
       "296    0\n",
       "223    0\n",
       "150    1\n",
       "165    0\n",
       "Name: target, dtype: int64"
      ]
     },
     "execution_count": 91,
     "metadata": {},
     "output_type": "execute_result"
    }
   ],
   "source": [
    "y_test"
   ]
  },
  {
   "cell_type": "code",
   "execution_count": 98,
   "metadata": {},
   "outputs": [
    {
     "name": "stderr",
     "output_type": "stream",
     "text": [
      "/home/apurva/anaconda3/envs/scikitlearnoriginal/scikit-learn/sklearn/ensemble/_forest.py:394: FutureWarning: Criterion 'mae' was deprecated in v1.0 and will be removed in version 1.2. Use `criterion='absolute_error'` which is equivalent.\n",
      "  warn(\n"
     ]
    },
    {
     "name": "stdout",
     "output_type": "stream",
     "text": [
      "0.3258064516129032\n",
      "0.25483070175438627\n"
     ]
    }
   ],
   "source": [
    "results_split={}\n",
    "results_split['heart_mae'] = []\n",
    "results_split['heart_mae'].append(crit_mae(X_train, X_test, y_train, y_test))"
   ]
  },
  {
   "cell_type": "code",
   "execution_count": 102,
   "metadata": {},
   "outputs": [
    {
     "name": "stderr",
     "output_type": "stream",
     "text": [
      "/home/apurva/anaconda3/envs/scikitlearnoriginal/scikit-learn/sklearn/ensemble/_forest.py:387: FutureWarning: Criterion 'mse' was deprecated in v1.0 and will be removed in version 1.2. Use `criterion='squared_error'` which is equivalent.\n",
      "  warn(\n"
     ]
    },
    {
     "name": "stdout",
     "output_type": "stream",
     "text": [
      "0.3058064516129032\n",
      "0.23185263157894753\n"
     ]
    }
   ],
   "source": [
    "results_split['heart_mse'] = []\n",
    "results_split['heart_mse'].append(crit_mse(X_train, X_test, y_train, y_test))"
   ]
  },
  {
   "cell_type": "code",
   "execution_count": 103,
   "metadata": {},
   "outputs": [
    {
     "data": {
      "text/plain": [
       "{'heart_mae': [[0.3258064516129032, 0.17679354838709677, 0.25483070175438627]],\n",
       " 'heart_mse': [[0.3058064516129032, 0.1822451612903226, 0.23185263157894753]]}"
      ]
     },
     "execution_count": 103,
     "metadata": {},
     "output_type": "execute_result"
    }
   ],
   "source": [
    "results_split"
   ]
  },
  {
   "cell_type": "code",
   "execution_count": 104,
   "metadata": {},
   "outputs": [],
   "source": [
    "Y_train10,Y_train90=train_test_split(y_train, train_size = 0.10,random_state=123,shuffle=False)"
   ]
  },
  {
   "cell_type": "code",
   "execution_count": 105,
   "metadata": {},
   "outputs": [
    {
     "data": {
      "text/plain": [
       "107    1\n",
       "155    1\n",
       "251    0\n",
       "171    0\n",
       "53     1\n",
       "41     1\n",
       "29     1\n",
       "142    1\n",
       "75     1\n",
       "72     1\n",
       "270    0\n",
       "266    0\n",
       "30     1\n",
       "19     1\n",
       "229    0\n",
       "191    0\n",
       "216    0\n",
       "90     1\n",
       "22     1\n",
       "184    0\n",
       "284    0\n",
       "80     1\n",
       "71     1\n",
       "299    0\n",
       "35     1\n",
       "95     1\n",
       "26     1\n",
       "Name: target, dtype: int64"
      ]
     },
     "execution_count": 105,
     "metadata": {},
     "output_type": "execute_result"
    }
   ],
   "source": [
    "Y_train10"
   ]
  },
  {
   "cell_type": "code",
   "execution_count": 106,
   "metadata": {},
   "outputs": [
    {
     "data": {
      "text/plain": [
       "259    0\n",
       "143    1\n",
       "42     1\n",
       "102    1\n",
       "261    0\n",
       "      ..\n",
       "106    1\n",
       "83     1\n",
       "17     1\n",
       "230    0\n",
       "98     1\n",
       "Name: target, Length: 245, dtype: int64"
      ]
     },
     "execution_count": 106,
     "metadata": {},
     "output_type": "execute_result"
    }
   ],
   "source": [
    "Y_train90"
   ]
  },
  {
   "cell_type": "code",
   "execution_count": 107,
   "metadata": {},
   "outputs": [
    {
     "data": {
      "text/plain": [
       "10"
      ]
     },
     "execution_count": 107,
     "metadata": {},
     "output_type": "execute_result"
    }
   ],
   "source": [
    "#no. of label as 0 before mislabelling\n",
    "(Y_train10 == 0).sum()"
   ]
  },
  {
   "cell_type": "code",
   "execution_count": 108,
   "metadata": {},
   "outputs": [
    {
     "data": {
      "text/plain": [
       "17"
      ]
     },
     "execution_count": 108,
     "metadata": {},
     "output_type": "execute_result"
    }
   ],
   "source": [
    "#no. of label as 1 before mislabelling\n",
    "(Y_train10 == 1).sum()"
   ]
  },
  {
   "cell_type": "code",
   "execution_count": 109,
   "metadata": {},
   "outputs": [],
   "source": [
    "#changing labels\n",
    "Y_train10=Y_train10.eq(0).mul(1)"
   ]
  },
  {
   "cell_type": "code",
   "execution_count": 110,
   "metadata": {},
   "outputs": [
    {
     "data": {
      "text/plain": [
       "107    0\n",
       "155    0\n",
       "251    1\n",
       "171    1\n",
       "53     0\n",
       "41     0\n",
       "29     0\n",
       "142    0\n",
       "75     0\n",
       "72     0\n",
       "270    1\n",
       "266    1\n",
       "30     0\n",
       "19     0\n",
       "229    1\n",
       "191    1\n",
       "216    1\n",
       "90     0\n",
       "22     0\n",
       "184    1\n",
       "284    1\n",
       "80     0\n",
       "71     0\n",
       "299    1\n",
       "35     0\n",
       "95     0\n",
       "26     0\n",
       "Name: target, dtype: int64"
      ]
     },
     "execution_count": 110,
     "metadata": {},
     "output_type": "execute_result"
    }
   ],
   "source": [
    "Y_train10"
   ]
  },
  {
   "cell_type": "code",
   "execution_count": 111,
   "metadata": {},
   "outputs": [
    {
     "data": {
      "text/plain": [
       "17"
      ]
     },
     "execution_count": 111,
     "metadata": {},
     "output_type": "execute_result"
    }
   ],
   "source": [
    "#no. of label as 0 after mislabelling\n",
    "(Y_train10 == 0).sum()"
   ]
  },
  {
   "cell_type": "code",
   "execution_count": 112,
   "metadata": {},
   "outputs": [
    {
     "data": {
      "text/plain": [
       "10"
      ]
     },
     "execution_count": 112,
     "metadata": {},
     "output_type": "execute_result"
    }
   ],
   "source": [
    "#no. of label as 1 after mislabelling\n",
    "(Y_train10 == 1).sum()"
   ]
  },
  {
   "cell_type": "code",
   "execution_count": 113,
   "metadata": {},
   "outputs": [],
   "source": [
    "y_train_10mislabel = pd.concat([Y_train10, Y_train90])"
   ]
  },
  {
   "cell_type": "code",
   "execution_count": 114,
   "metadata": {},
   "outputs": [
    {
     "data": {
      "text/plain": [
       "107    0\n",
       "155    0\n",
       "251    1\n",
       "171    1\n",
       "53     0\n",
       "      ..\n",
       "106    1\n",
       "83     1\n",
       "17     1\n",
       "230    0\n",
       "98     1\n",
       "Name: target, Length: 272, dtype: int64"
      ]
     },
     "execution_count": 114,
     "metadata": {},
     "output_type": "execute_result"
    }
   ],
   "source": [
    "y_train_10mislabel"
   ]
  },
  {
   "cell_type": "code",
   "execution_count": 254,
   "metadata": {},
   "outputs": [],
   "source": [
    "y_new10=pd.concat([y_train_10mislabel, y_test])\n",
    "x_new10=pd.concat([X_train, X_test])\n",
    "df10=pd.concat([x_new10, y_new10],axis=1, join='inner')\n",
    "df10.to_csv('mislabel10.csv', index=True)"
   ]
  },
  {
   "cell_type": "code",
   "execution_count": 31,
   "metadata": {},
   "outputs": [],
   "source": [
    "###############Mislabelling 15% of data##########################"
   ]
  },
  {
   "cell_type": "code",
   "execution_count": 115,
   "metadata": {},
   "outputs": [],
   "source": [
    "Y_train15,Y_train85=train_test_split(y_train, train_size = 0.15,random_state=123,shuffle=False)"
   ]
  },
  {
   "cell_type": "code",
   "execution_count": 116,
   "metadata": {},
   "outputs": [
    {
     "name": "stdout",
     "output_type": "stream",
     "text": [
      "107    1\n",
      "155    1\n",
      "251    0\n",
      "171    0\n",
      "53     1\n",
      "41     1\n",
      "29     1\n",
      "142    1\n",
      "75     1\n",
      "72     1\n",
      "270    0\n",
      "266    0\n",
      "30     1\n",
      "19     1\n",
      "229    0\n",
      "191    0\n",
      "216    0\n",
      "90     1\n",
      "22     1\n",
      "184    0\n",
      "284    0\n",
      "80     1\n",
      "71     1\n",
      "299    0\n",
      "35     1\n",
      "95     1\n",
      "26     1\n",
      "259    0\n",
      "143    1\n",
      "42     1\n",
      "102    1\n",
      "261    0\n",
      "228    0\n",
      "288    0\n",
      "78     1\n",
      "124    1\n",
      "200    0\n",
      "197    0\n",
      "24     1\n",
      "174    0\n",
      "Name: target, dtype: int64\n",
      "175    0\n",
      "105    1\n",
      "220    0\n",
      "61     1\n",
      "179    0\n",
      "      ..\n",
      "106    1\n",
      "83     1\n",
      "17     1\n",
      "230    0\n",
      "98     1\n",
      "Name: target, Length: 232, dtype: int64\n"
     ]
    }
   ],
   "source": [
    "print(Y_train15)\n",
    "print(Y_train85)"
   ]
  },
  {
   "cell_type": "code",
   "execution_count": 117,
   "metadata": {},
   "outputs": [
    {
     "name": "stdout",
     "output_type": "stream",
     "text": [
      "17\n",
      "23\n"
     ]
    }
   ],
   "source": [
    "#no. of label as 0 before mislabelling\n",
    "print((Y_train15 == 0).sum())\n",
    "#no. of label as 1 before mislabelling\n",
    "print((Y_train15 == 1).sum())"
   ]
  },
  {
   "cell_type": "code",
   "execution_count": 118,
   "metadata": {},
   "outputs": [
    {
     "name": "stdout",
     "output_type": "stream",
     "text": [
      "23\n",
      "17\n"
     ]
    }
   ],
   "source": [
    "#changing labels\n",
    "Y_train15=Y_train15.eq(0).mul(1)\n",
    "#no. of label as 0 before mislabelling\n",
    "print((Y_train15 == 0).sum())\n",
    "#no. of label as 1 before mislabelling\n",
    "print((Y_train15 == 1).sum())"
   ]
  },
  {
   "cell_type": "code",
   "execution_count": 119,
   "metadata": {},
   "outputs": [
    {
     "data": {
      "text/plain": [
       "107    0\n",
       "155    0\n",
       "251    1\n",
       "171    1\n",
       "53     0\n",
       "41     0\n",
       "29     0\n",
       "142    0\n",
       "75     0\n",
       "72     0\n",
       "270    1\n",
       "266    1\n",
       "30     0\n",
       "19     0\n",
       "229    1\n",
       "191    1\n",
       "216    1\n",
       "90     0\n",
       "22     0\n",
       "184    1\n",
       "284    1\n",
       "80     0\n",
       "71     0\n",
       "299    1\n",
       "35     0\n",
       "95     0\n",
       "26     0\n",
       "259    1\n",
       "143    0\n",
       "42     0\n",
       "102    0\n",
       "261    1\n",
       "228    1\n",
       "288    1\n",
       "78     0\n",
       "124    0\n",
       "200    1\n",
       "197    1\n",
       "24     0\n",
       "174    1\n",
       "Name: target, dtype: int64"
      ]
     },
     "execution_count": 119,
     "metadata": {},
     "output_type": "execute_result"
    }
   ],
   "source": [
    "Y_train15"
   ]
  },
  {
   "cell_type": "code",
   "execution_count": 120,
   "metadata": {},
   "outputs": [],
   "source": [
    "y_train_15mislabel = pd.concat([Y_train15, Y_train85])"
   ]
  },
  {
   "cell_type": "code",
   "execution_count": 121,
   "metadata": {},
   "outputs": [
    {
     "name": "stdout",
     "output_type": "stream",
     "text": [
      "107    0\n",
      "155    0\n",
      "251    1\n",
      "171    1\n",
      "53     0\n",
      "      ..\n",
      "106    1\n",
      "83     1\n",
      "17     1\n",
      "230    0\n",
      "98     1\n",
      "Name: target, Length: 272, dtype: int64\n"
     ]
    }
   ],
   "source": [
    "print(y_train_15mislabel)"
   ]
  },
  {
   "cell_type": "code",
   "execution_count": 255,
   "metadata": {},
   "outputs": [],
   "source": [
    "y_new15=pd.concat([y_train_15mislabel, y_test])\n",
    "x_new15=pd.concat([X_train, X_test])\n",
    "df15=pd.concat([x_new15, y_new15],axis=1, join='inner')\n",
    "df15.to_csv('mislabel15.csv', index=True)"
   ]
  },
  {
   "cell_type": "code",
   "execution_count": 122,
   "metadata": {},
   "outputs": [],
   "source": [
    "###############Mislabelling 20% of data##########################"
   ]
  },
  {
   "cell_type": "code",
   "execution_count": 123,
   "metadata": {},
   "outputs": [],
   "source": [
    "Y_train20,Y_train80=train_test_split(y_train, train_size = 0.20,random_state=123,shuffle=False)"
   ]
  },
  {
   "cell_type": "code",
   "execution_count": 124,
   "metadata": {},
   "outputs": [
    {
     "name": "stdout",
     "output_type": "stream",
     "text": [
      "22\n",
      "32\n",
      "32\n",
      "22\n",
      "107    0\n",
      "155    0\n",
      "251    1\n",
      "171    1\n",
      "53     0\n",
      "      ..\n",
      "106    1\n",
      "83     1\n",
      "17     1\n",
      "230    0\n",
      "98     1\n",
      "Name: target, Length: 272, dtype: int64\n"
     ]
    }
   ],
   "source": [
    "#no. of label as 0 before mislabelling\n",
    "print((Y_train20 == 0).sum())\n",
    "#no. of label as 1 before mislabelling\n",
    "print((Y_train20 == 1).sum())\n",
    "\n",
    "#changing labels\n",
    "Y_train20=Y_train20.eq(0).mul(1)\n",
    "#no. of label as 0 before mislabelling\n",
    "print((Y_train20 == 0).sum())\n",
    "#no. of label as 1 before mislabelling\n",
    "print((Y_train20 == 1).sum())\n",
    "\n",
    "y_train_20mislabel = pd.concat([Y_train20, Y_train80])\n",
    "\n",
    "print(y_train_20mislabel)"
   ]
  },
  {
   "cell_type": "code",
   "execution_count": 256,
   "metadata": {},
   "outputs": [],
   "source": [
    "y_new20=pd.concat([y_train_20mislabel, y_test])\n",
    "x_new20=pd.concat([X_train, X_test])\n",
    "df20=pd.concat([x_new20, y_new20],axis=1, join='inner')\n",
    "df20.to_csv('mislabel20.csv', index=True)"
   ]
  },
  {
   "cell_type": "code",
   "execution_count": 125,
   "metadata": {},
   "outputs": [],
   "source": [
    "###############Mislabelling 25% of data##########################"
   ]
  },
  {
   "cell_type": "code",
   "execution_count": 126,
   "metadata": {},
   "outputs": [
    {
     "name": "stdout",
     "output_type": "stream",
     "text": [
      "31\n",
      "37\n",
      "37\n",
      "31\n",
      "107    0\n",
      "155    0\n",
      "251    1\n",
      "171    1\n",
      "53     0\n",
      "      ..\n",
      "106    1\n",
      "83     1\n",
      "17     1\n",
      "230    0\n",
      "98     1\n",
      "Name: target, Length: 272, dtype: int64\n"
     ]
    }
   ],
   "source": [
    "Y_train25,Y_train75=train_test_split(y_train, train_size = 0.25,random_state=123,shuffle=False)\n",
    "\n",
    "#no. of label as 0 before mislabelling\n",
    "print((Y_train25 == 0).sum())\n",
    "#no. of label as 1 before mislabelling\n",
    "print((Y_train25 == 1).sum())\n",
    "\n",
    "#changing labels\n",
    "Y_train25=Y_train25.eq(0).mul(1)\n",
    "#no. of label as 0 after mislabelling\n",
    "print((Y_train25 == 0).sum())\n",
    "#no. of label as 1 after mislabelling\n",
    "print((Y_train25 == 1).sum())\n",
    "\n",
    "y_train_25mislabel = pd.concat([Y_train25, Y_train75])\n",
    "\n",
    "print(y_train_25mislabel)"
   ]
  },
  {
   "cell_type": "code",
   "execution_count": 257,
   "metadata": {},
   "outputs": [],
   "source": [
    "y_new25=pd.concat([y_train_25mislabel, y_test])\n",
    "x_new25=pd.concat([X_train, X_test])\n",
    "df25=pd.concat([x_new25, y_new25],axis=1, join='inner')\n",
    "df25.to_csv('mislabel25.csv', index=True)"
   ]
  },
  {
   "cell_type": "code",
   "execution_count": 82,
   "metadata": {},
   "outputs": [],
   "source": [
    "###############Mislabelling 30% of data##########################"
   ]
  },
  {
   "cell_type": "code",
   "execution_count": 127,
   "metadata": {},
   "outputs": [
    {
     "name": "stdout",
     "output_type": "stream",
     "text": [
      "36\n",
      "45\n",
      "45\n",
      "36\n",
      "107    0\n",
      "155    0\n",
      "251    1\n",
      "171    1\n",
      "53     0\n",
      "      ..\n",
      "106    1\n",
      "83     1\n",
      "17     1\n",
      "230    0\n",
      "98     1\n",
      "Name: target, Length: 272, dtype: int64\n"
     ]
    }
   ],
   "source": [
    "Y_train30,Y_train70=train_test_split(y_train, train_size = 0.30,random_state=123,shuffle=False)\n",
    "\n",
    "#no. of label as 0 before mislabelling\n",
    "print((Y_train30 == 0).sum())\n",
    "#no. of label as 1 before mislabelling\n",
    "print((Y_train30 == 1).sum())\n",
    "\n",
    "#changing labels\n",
    "Y_train30=Y_train30.eq(0).mul(1)\n",
    "#no. of label as 0 after mislabelling\n",
    "print((Y_train30 == 0).sum())\n",
    "#no. of label as 1 after mislabelling\n",
    "print((Y_train30 == 1).sum())\n",
    "\n",
    "y_train_30mislabel = pd.concat([Y_train30, Y_train70])\n",
    "\n",
    "print(y_train_30mislabel)"
   ]
  },
  {
   "cell_type": "code",
   "execution_count": 258,
   "metadata": {},
   "outputs": [],
   "source": [
    "y_new30=pd.concat([y_train_30mislabel, y_test])\n",
    "x_new30=pd.concat([X_train, X_test])\n",
    "df30=pd.concat([x_new30, y_new30],axis=1, join='inner')\n",
    "df30.to_csv('mislabel30.csv', index=True)"
   ]
  },
  {
   "cell_type": "code",
   "execution_count": 84,
   "metadata": {},
   "outputs": [],
   "source": [
    "###############Mislabelling 40% of data##########################"
   ]
  },
  {
   "cell_type": "code",
   "execution_count": 128,
   "metadata": {},
   "outputs": [
    {
     "name": "stdout",
     "output_type": "stream",
     "text": [
      "45\n",
      "63\n",
      "63\n",
      "45\n",
      "107    0\n",
      "155    0\n",
      "251    1\n",
      "171    1\n",
      "53     0\n",
      "      ..\n",
      "106    1\n",
      "83     1\n",
      "17     1\n",
      "230    0\n",
      "98     1\n",
      "Name: target, Length: 272, dtype: int64\n"
     ]
    }
   ],
   "source": [
    "Y_train40,Y_train60=train_test_split(y_train, train_size = 0.40,random_state=123,shuffle=False)\n",
    "\n",
    "#no. of label as 0 before mislabelling\n",
    "print((Y_train40 == 0).sum())\n",
    "#no. of label as 1 before mislabelling\n",
    "print((Y_train40 == 1).sum())\n",
    "\n",
    "#changing labels\n",
    "Y_train40=Y_train40.eq(0).mul(1)\n",
    "#no. of label as 0 after mislabelling\n",
    "print((Y_train40 == 0).sum())\n",
    "#no. of label as 1 after mislabelling\n",
    "print((Y_train40 == 1).sum())\n",
    "\n",
    "y_train_40mislabel = pd.concat([Y_train40, Y_train60])\n",
    "\n",
    "print(y_train_40mislabel)"
   ]
  },
  {
   "cell_type": "code",
   "execution_count": 259,
   "metadata": {},
   "outputs": [],
   "source": [
    "y_new40=pd.concat([y_train_40mislabel, y_test])\n",
    "x_new40=pd.concat([X_train, X_test])\n",
    "df40=pd.concat([x_new40, y_new40],axis=1, join='inner')\n",
    "df40.to_csv('mislabel40.csv', index=True)"
   ]
  },
  {
   "cell_type": "code",
   "execution_count": 129,
   "metadata": {},
   "outputs": [],
   "source": [
    "#########################Gaussian Noise################################"
   ]
  },
  {
   "cell_type": "code",
   "execution_count": 185,
   "metadata": {},
   "outputs": [
    {
     "name": "stdout",
     "output_type": "stream",
     "text": [
      "[[ 0.04967142 -0.01382643  0.06476885 ... -0.04634177 -0.04657298\n",
      "   0.02419623]\n",
      " [-0.19132802 -0.17249178 -0.05622875 ... -0.14247482 -0.05443827\n",
      "   0.01109226]\n",
      " [-0.11509936  0.0375698  -0.06006387 ...  0.02088636 -0.19596701\n",
      "  -0.1328186 ]\n",
      " ...\n",
      " [-0.00480885 -0.01831505 -0.03566731 ... -0.0061004   0.05002405\n",
      "  -0.05336003]\n",
      " [ 0.12208213 -0.08767738  0.17120403 ...  0.05027448 -0.24932708\n",
      "  -0.09656648]\n",
      " [ 0.16291664 -0.0581782  -0.117388   ... -0.12390527  0.20958435\n",
      "   0.15944424]]\n",
      "           age       sex        cp    trestbps        chol       fbs  \\\n",
      "107  45.049671 -0.013826  0.064769  138.152303  235.976585 -0.023414   \n",
      "155  57.808672 -0.172492 -0.056229  129.898717  197.031425 -0.090802   \n",
      "251  42.884901  1.037570 -0.060064  131.970831  246.939829  1.185228   \n",
      "171  48.019686  1.073847  1.017137  109.988435  228.969890 -0.147852   \n",
      "53   43.932308  0.061168  2.103100  108.093128  140.916078 -0.030921   \n",
      "..         ...       ...       ...         ...         ...       ...   \n",
      "106  68.991912  1.005226  2.893939  159.928298  233.871542  1.097782   \n",
      "83   51.898940  0.948478  3.153020  152.066493  297.907544  0.840240   \n",
      "17   65.995191 -0.018315  2.964333  150.118064  225.937269  0.004522   \n",
      "230  47.122082  0.912323  2.171204  107.825236  243.043477  0.047543   \n",
      "98   43.162917  0.941822  1.882612  129.980206  315.206791 -0.183168   \n",
      "\n",
      "      restecg     thalach     exang   oldpeak     slope        ca      thal  \n",
      "107  0.157921  152.076743  0.953053  0.254256  0.953658 -0.046573  2.024196  \n",
      "155  0.858770  131.146565 -0.022578  0.606753  0.857525 -0.054438  2.011092  \n",
      "251 -0.001350  142.894229  1.082254 -0.022084  1.020886  3.804033  2.867181  \n",
      "171  0.928016  167.953936  0.105712  1.034362 -0.176304  0.032408  2.961492  \n",
      "53   1.033126  175.097555 -0.047917  0.581434  0.889367 -0.119621  2.081253  \n",
      "..        ...         ...       ...       ...       ...       ...       ...  \n",
      "106 -0.210565  131.115359  0.138635  0.069782  0.739686  0.963869  1.993582  \n",
      "83   0.967298  177.978654  0.049620  1.146468  1.051150  0.193515  3.081550  \n",
      "17   1.005120  113.949822 -0.137247  2.632297 -0.006100  0.050024  1.946640  \n",
      "230  0.920444  152.042439  0.127952 -0.221682  2.050274 -0.249327  1.903434  \n",
      "98   0.894869  162.149743  0.185770  1.889657  1.876095  1.209584  2.159444  \n",
      "\n",
      "[272 rows x 13 columns]\n"
     ]
    }
   ],
   "source": [
    "####Gaussian Noise Level 1 mu=0  sigma=0.1 ####\n",
    "np.random.seed(42)\n",
    "noise = np.random.normal(0, .1, X_train.shape)\n",
    "print(noise)\n",
    "X_train_gaus1 = X_train + noise\n",
    "print(X_train_gaus1)"
   ]
  },
  {
   "cell_type": "code",
   "execution_count": 260,
   "metadata": {},
   "outputs": [],
   "source": [
    "X_train_gaus1.to_csv('X_train_gaus1.csv', index=True)"
   ]
  },
  {
   "cell_type": "code",
   "execution_count": 186,
   "metadata": {},
   "outputs": [
    {
     "name": "stdout",
     "output_type": "stream",
     "text": [
      "[[ 0.49671415 -0.1382643   0.64768854 ... -0.46341769 -0.46572975\n",
      "   0.24196227]\n",
      " [-1.91328024 -1.72491783 -0.56228753 ... -1.42474819 -0.54438272\n",
      "   0.11092259]\n",
      " [-1.15099358  0.37569802 -0.60063869 ...  0.2088636  -1.95967012\n",
      "  -1.32818605]\n",
      " ...\n",
      " [-0.04808851 -0.18315047 -0.35667313 ... -0.06100397  0.50024047\n",
      "  -0.53360031]\n",
      " [ 1.2208213  -0.87677378  1.71204028 ...  0.50274481 -2.49327082\n",
      "  -0.9656648 ]\n",
      " [ 1.62916636 -0.58178203 -1.17387996 ... -1.2390527   2.0958435\n",
      "   1.59444239]]\n",
      "           age       sex        cp    trestbps        chol       fbs  \\\n",
      "107  45.496714 -0.138264  0.647689  139.523030  235.765847 -0.234137   \n",
      "155  56.086720 -1.724918 -0.562288  128.987169  197.314247 -0.908024   \n",
      "251  41.849006  1.375698 -0.600639  131.708306  246.398293  2.852278   \n",
      "171  48.196861  1.738467  1.171368  109.884352  228.698896 -1.478522   \n",
      "53   43.323078  0.611676  3.031000  108.931280  140.160782 -0.309212   \n",
      "..         ...       ...       ...         ...         ...       ...   \n",
      "106  68.919122  1.052258  1.939395  159.282984  232.715416  1.977816   \n",
      "83   50.989402  0.484782  4.530195  152.664927  297.075436 -0.597599   \n",
      "17   65.951911 -0.183150  2.643327  151.180641  225.372687  0.045223   \n",
      "230  48.220821  0.123226  3.712040  106.252363  243.434770  0.475431   \n",
      "98   44.629166  0.418218  0.826120  129.802062  317.067906 -1.831682   \n",
      "\n",
      "      restecg     thalach     exang   oldpeak     slope        ca      thal  \n",
      "107  1.579213  152.767435  0.530526  0.742560  0.536582 -0.465730  2.241962  \n",
      "155 -0.412304  132.465649 -0.225776  0.667528 -0.424748 -0.544383  2.110923  \n",
      "251 -0.013497  141.942289  1.822545 -1.120844  1.208864  2.040330  1.671814  \n",
      "171  0.280156  167.539361  1.057122  1.343618 -1.763040  0.324084  2.614918  \n",
      "53   1.331263  175.975545 -0.479174  0.414341 -0.106335 -1.196207  2.812526  \n",
      "..        ...         ...       ...       ...       ...       ...       ...  \n",
      "106 -2.105647  132.153590  1.386349 -0.202181 -1.603137  0.638689  1.935816  \n",
      "83   0.672983  177.786543  0.496199  0.664683  1.511500  1.935154  3.815501  \n",
      "17   1.051198  113.498216 -1.372466  2.922975 -0.061004  0.500240  1.466400  \n",
      "230  0.204443  152.424394  1.279519 -2.216819  2.502745 -2.493271  1.034335  \n",
      "98  -0.051310  163.497432  1.857702  1.796569  0.760947  3.095844  3.594442  \n",
      "\n",
      "[272 rows x 13 columns]\n"
     ]
    }
   ],
   "source": [
    "####Gaussian Noise Level 2 mu=0  sigma=1 ####\n",
    "np.random.seed(42)\n",
    "noise = np.random.normal(0, 1, X_train.shape)\n",
    "print(noise)\n",
    "X_train_gaus2 = X_train + noise\n",
    "print(X_train_gaus2)"
   ]
  },
  {
   "cell_type": "code",
   "execution_count": 261,
   "metadata": {},
   "outputs": [],
   "source": [
    "X_train_gaus2.to_csv('X_train_gaus2.csv', index=True)"
   ]
  },
  {
   "cell_type": "code",
   "execution_count": 187,
   "metadata": {},
   "outputs": [
    {
     "name": "stdout",
     "output_type": "stream",
     "text": [
      "           age       sex         cp    trestbps        chol        fbs  \\\n",
      "107  47.483571 -0.691322   3.238443  145.615149  234.829233  -1.170685   \n",
      "155  48.433599 -8.624589  -2.811438  124.935844  198.571237  -4.540120   \n",
      "251  37.245032  2.878490  -3.003193  130.541531  243.991467  10.261391   \n",
      "171  48.984306  4.692333   1.856841  109.421759  227.494482  -7.392610   \n",
      "53   40.615390  3.058381   7.154998  112.656401  136.803912  -1.546062   \n",
      "..         ...       ...        ...         ...         ...        ...   \n",
      "106  68.595608  1.261292  -2.303025  156.414919  227.577079   5.889078   \n",
      "83   46.947009 -1.576092  10.650976  155.324636  293.377179  -6.987996   \n",
      "17   65.759557 -0.915752   1.216634  155.903205  222.863433   0.226114   \n",
      "230  53.104106 -3.383869  10.560201   99.261817  245.173850   2.377153   \n",
      "98   51.145832 -1.908910  -3.869400  129.010311  325.339532  -9.158411   \n",
      "\n",
      "       restecg     thalach     exang    oldpeak      slope         ca  \\\n",
      "107   7.896064  155.837174 -1.347372   2.912800  -1.317088  -2.328649   \n",
      "155  -6.061519  138.328244 -1.128882   0.937641  -6.123741  -2.721914   \n",
      "251  -0.067486  137.711445  5.112725  -6.004218   2.044318  -5.798351   \n",
      "171  -2.599221  165.696806  5.285611   2.718091  -8.815201   1.620420   \n",
      "53    2.656317  179.877726 -2.395871  -0.328295  -4.531675  -5.981033   \n",
      "..         ...         ...       ...        ...        ...        ...   \n",
      "106 -10.528235  136.767952  6.931747  -1.410903 -12.015685  -0.806553   \n",
      "83   -0.635087  176.932716  2.480996  -1.476584   3.557498   9.675770   \n",
      "17    1.255990  111.491079 -6.862328   4.214873  -0.305020   2.501202   \n",
      "230  -2.977785  154.121970  6.397593 -11.084094   4.513724 -12.466354   \n",
      "98   -4.256550  169.487158  9.288512   1.382844  -4.195264  11.479218   \n",
      "\n",
      "         thal  \n",
      "107  3.209811  \n",
      "155  2.554613  \n",
      "251 -3.640930  \n",
      "171  1.074589  \n",
      "53   6.062629  \n",
      "..        ...  \n",
      "106  1.679079  \n",
      "83   7.077505  \n",
      "17  -0.668002  \n",
      "230 -2.828324  \n",
      "98   9.972212  \n",
      "\n",
      "[272 rows x 13 columns]\n"
     ]
    }
   ],
   "source": [
    "####Gaussian Noise Level 3 mu=0  sigma=5 ####\n",
    "np.random.seed(42)\n",
    "noise = np.random.normal(0, 5, X_train.shape)\n",
    "X_train_gaus3 = X_train + noise\n",
    "print(X_train_gaus3)"
   ]
  },
  {
   "cell_type": "code",
   "execution_count": 262,
   "metadata": {},
   "outputs": [],
   "source": [
    "X_train_gaus3.to_csv('X_train_gaus3.csv', index=True)"
   ]
  },
  {
   "cell_type": "code",
   "execution_count": 193,
   "metadata": {},
   "outputs": [
    {
     "name": "stderr",
     "output_type": "stream",
     "text": [
      "/home/apurva/anaconda3/envs/scikitlearnoriginal/scikit-learn/sklearn/ensemble/_forest.py:394: FutureWarning: Criterion 'mae' was deprecated in v1.0 and will be removed in version 1.2. Use `criterion='absolute_error'` which is equivalent.\n",
      "  warn(\n"
     ]
    },
    {
     "name": "stdout",
     "output_type": "stream",
     "text": [
      "0.3535483870967742\n",
      "0.15916578947368454\n"
     ]
    }
   ],
   "source": [
    "##Calling regression function where criterion=mae with mislabelling for Gaussian noise level1\n",
    "results={}\n",
    "results['gauslevel1_without_mislabel_mae'] = []\n",
    "results['gauslevel1_without_mislabel_mae'].append(crit_mae(X_train_gaus1,X_test,y_train,y_test))\n"
   ]
  },
  {
   "cell_type": "code",
   "execution_count": 194,
   "metadata": {},
   "outputs": [
    {
     "name": "stderr",
     "output_type": "stream",
     "text": [
      "/home/apurva/anaconda3/envs/scikitlearnoriginal/scikit-learn/sklearn/ensemble/_forest.py:394: FutureWarning: Criterion 'mae' was deprecated in v1.0 and will be removed in version 1.2. Use `criterion='absolute_error'` which is equivalent.\n",
      "  warn(\n"
     ]
    },
    {
     "name": "stdout",
     "output_type": "stream",
     "text": [
      "0.3351612903225807\n",
      "0.28217324561403534\n"
     ]
    }
   ],
   "source": [
    "##Calling regression function where criterion=mae with mislabelling for Gaussian noise level1\n",
    "results['gauslevel1_with_10%mislabel_mae'] = []\n",
    "results['gauslevel1_with_10%mislabel_mae'].append(crit_mae(X_train_gaus1,X_test,y_train_10mislabel,y_test))"
   ]
  },
  {
   "cell_type": "code",
   "execution_count": 195,
   "metadata": {},
   "outputs": [
    {
     "name": "stderr",
     "output_type": "stream",
     "text": [
      "/home/apurva/anaconda3/envs/scikitlearnoriginal/scikit-learn/sklearn/ensemble/_forest.py:394: FutureWarning: Criterion 'mae' was deprecated in v1.0 and will be removed in version 1.2. Use `criterion='absolute_error'` which is equivalent.\n",
      "  warn(\n"
     ]
    },
    {
     "name": "stdout",
     "output_type": "stream",
     "text": [
      "0.3367741935483871\n",
      "0.30182017543859685\n"
     ]
    }
   ],
   "source": [
    "##Calling regression function where criterion=mae with mislabelling for Gaussian noise level1\n",
    "results['gauslevel1_with_15%mislabel_mae'] = []\n",
    "results['gauslevel1_with_15%mislabel_mae'].append(crit_mae(X_train_gaus1,X_test,y_train_15mislabel,y_test))"
   ]
  },
  {
   "cell_type": "code",
   "execution_count": 196,
   "metadata": {},
   "outputs": [
    {
     "name": "stderr",
     "output_type": "stream",
     "text": [
      "/home/apurva/anaconda3/envs/scikitlearnoriginal/scikit-learn/sklearn/ensemble/_forest.py:394: FutureWarning: Criterion 'mae' was deprecated in v1.0 and will be removed in version 1.2. Use `criterion='absolute_error'` which is equivalent.\n",
      "  warn(\n"
     ]
    },
    {
     "name": "stdout",
     "output_type": "stream",
     "text": [
      "0.35516129032258065\n",
      "0.23697850877193005\n"
     ]
    }
   ],
   "source": [
    "##Calling regression function where criterion=mae with mislabelling for Gaussian noise level1\n",
    "results['gauslevel1_with_20%mislabel_mae'] = []\n",
    "results['gauslevel1_with_20%mislabel_mae'].append(crit_mae(X_train_gaus1,X_test,y_train_20mislabel,y_test))"
   ]
  },
  {
   "cell_type": "code",
   "execution_count": 197,
   "metadata": {},
   "outputs": [
    {
     "name": "stderr",
     "output_type": "stream",
     "text": [
      "/home/apurva/anaconda3/envs/scikitlearnoriginal/scikit-learn/sklearn/ensemble/_forest.py:394: FutureWarning: Criterion 'mae' was deprecated in v1.0 and will be removed in version 1.2. Use `criterion='absolute_error'` which is equivalent.\n",
      "  warn(\n"
     ]
    },
    {
     "name": "stdout",
     "output_type": "stream",
     "text": [
      "0.42806451612903224\n",
      "0.06645131578947394\n"
     ]
    }
   ],
   "source": [
    "##Calling regression function where criterion=mae with mislabelling for Gaussian noise level1\n",
    "results['gauslevel1_with_25%mislabel_mae'] = []\n",
    "results['gauslevel1_with_25%mislabel_mae'].append(crit_mae(X_train_gaus1,X_test,y_train_25mislabel,y_test))"
   ]
  },
  {
   "cell_type": "code",
   "execution_count": 198,
   "metadata": {},
   "outputs": [
    {
     "name": "stderr",
     "output_type": "stream",
     "text": [
      "/home/apurva/anaconda3/envs/scikitlearnoriginal/scikit-learn/sklearn/ensemble/_forest.py:394: FutureWarning: Criterion 'mae' was deprecated in v1.0 and will be removed in version 1.2. Use `criterion='absolute_error'` which is equivalent.\n",
      "  warn(\n"
     ]
    },
    {
     "name": "stdout",
     "output_type": "stream",
     "text": [
      "0.4383870967741936\n",
      "0.07072061403508834\n"
     ]
    }
   ],
   "source": [
    "##Calling regression function where criterion=mae with mislabelling for Gaussian noise level1\n",
    "results['gauslevel1_with_30%mislabel_mae'] = []\n",
    "results['gauslevel1_with_30%mislabel_mae'].append(crit_mae(X_train_gaus1,X_test,y_train_30mislabel,y_test))"
   ]
  },
  {
   "cell_type": "code",
   "execution_count": 199,
   "metadata": {},
   "outputs": [
    {
     "name": "stderr",
     "output_type": "stream",
     "text": [
      "/home/apurva/anaconda3/envs/scikitlearnoriginal/scikit-learn/sklearn/ensemble/_forest.py:394: FutureWarning: Criterion 'mae' was deprecated in v1.0 and will be removed in version 1.2. Use `criterion='absolute_error'` which is equivalent.\n",
      "  warn(\n"
     ]
    },
    {
     "name": "stdout",
     "output_type": "stream",
     "text": [
      "0.49774193548387097\n",
      "-0.160256578947368\n"
     ]
    }
   ],
   "source": [
    "##Calling regression function where criterion=mae with mislabelling for Gaussian noise level1\n",
    "results['gauslevel1_with_40%mislabel_mae'] = []\n",
    "results['gauslevel1_with_40%mislabel_mae'].append(crit_mae(X_train_gaus1,X_test,y_train_40mislabel,y_test))"
   ]
  },
  {
   "cell_type": "code",
   "execution_count": 200,
   "metadata": {},
   "outputs": [
    {
     "data": {
      "text/plain": [
       "{'gauslevel1_without_mislabel_mae': [[0.3535483870967742,\n",
       "   0.19949032258064514,\n",
       "   0.15916578947368454]],\n",
       " 'gauslevel1_with_10%mislabel_mae': [[0.3351612903225807,\n",
       "   0.17030645161290323,\n",
       "   0.28217324561403534]],\n",
       " 'gauslevel1_with_15%mislabel_mae': [[0.3367741935483871,\n",
       "   0.16564516129032256,\n",
       "   0.30182017543859685]],\n",
       " 'gauslevel1_with_20%mislabel_mae': [[0.35516129032258065,\n",
       "   0.18102903225806452,\n",
       "   0.23697850877193005]],\n",
       " 'gauslevel1_with_25%mislabel_mae': [[0.42806451612903224,\n",
       "   0.22148709677419356,\n",
       "   0.06645131578947394]],\n",
       " 'gauslevel1_with_30%mislabel_mae': [[0.4383870967741936,\n",
       "   0.22047419354838704,\n",
       "   0.07072061403508834]],\n",
       " 'gauslevel1_with_40%mislabel_mae': [[0.49774193548387097,\n",
       "   0.2752741935483871,\n",
       "   -0.160256578947368]]}"
      ]
     },
     "execution_count": 200,
     "metadata": {},
     "output_type": "execute_result"
    }
   ],
   "source": [
    "results"
   ]
  },
  {
   "cell_type": "code",
   "execution_count": 201,
   "metadata": {},
   "outputs": [
    {
     "name": "stderr",
     "output_type": "stream",
     "text": [
      "/home/apurva/anaconda3/envs/scikitlearnoriginal/scikit-learn/sklearn/ensemble/_forest.py:387: FutureWarning: Criterion 'mse' was deprecated in v1.0 and will be removed in version 1.2. Use `criterion='squared_error'` which is equivalent.\n",
      "  warn(\n"
     ]
    },
    {
     "name": "stdout",
     "output_type": "stream",
     "text": [
      "0.3125806451612903\n",
      "0.1842785087719302\n"
     ]
    },
    {
     "name": "stderr",
     "output_type": "stream",
     "text": [
      "/home/apurva/anaconda3/envs/scikitlearnoriginal/scikit-learn/sklearn/ensemble/_forest.py:387: FutureWarning: Criterion 'mse' was deprecated in v1.0 and will be removed in version 1.2. Use `criterion='squared_error'` which is equivalent.\n",
      "  warn(\n"
     ]
    },
    {
     "name": "stdout",
     "output_type": "stream",
     "text": [
      "0.29161290322580646\n",
      "0.2813438596491231\n"
     ]
    },
    {
     "name": "stderr",
     "output_type": "stream",
     "text": [
      "/home/apurva/anaconda3/envs/scikitlearnoriginal/scikit-learn/sklearn/ensemble/_forest.py:387: FutureWarning: Criterion 'mse' was deprecated in v1.0 and will be removed in version 1.2. Use `criterion='squared_error'` which is equivalent.\n",
      "  warn(\n"
     ]
    },
    {
     "name": "stdout",
     "output_type": "stream",
     "text": [
      "0.30387096774193556\n",
      "0.3205289473684212\n"
     ]
    },
    {
     "name": "stderr",
     "output_type": "stream",
     "text": [
      "/home/apurva/anaconda3/envs/scikitlearnoriginal/scikit-learn/sklearn/ensemble/_forest.py:387: FutureWarning: Criterion 'mse' was deprecated in v1.0 and will be removed in version 1.2. Use `criterion='squared_error'` which is equivalent.\n",
      "  warn(\n"
     ]
    },
    {
     "name": "stdout",
     "output_type": "stream",
     "text": [
      "0.3464516129032257\n",
      "0.2547763157894738\n"
     ]
    },
    {
     "name": "stderr",
     "output_type": "stream",
     "text": [
      "/home/apurva/anaconda3/envs/scikitlearnoriginal/scikit-learn/sklearn/ensemble/_forest.py:387: FutureWarning: Criterion 'mse' was deprecated in v1.0 and will be removed in version 1.2. Use `criterion='squared_error'` which is equivalent.\n",
      "  warn(\n"
     ]
    },
    {
     "name": "stdout",
     "output_type": "stream",
     "text": [
      "0.4206451612903226\n",
      "0.12218333333333342\n"
     ]
    },
    {
     "name": "stderr",
     "output_type": "stream",
     "text": [
      "/home/apurva/anaconda3/envs/scikitlearnoriginal/scikit-learn/sklearn/ensemble/_forest.py:387: FutureWarning: Criterion 'mse' was deprecated in v1.0 and will be removed in version 1.2. Use `criterion='squared_error'` which is equivalent.\n",
      "  warn(\n"
     ]
    },
    {
     "name": "stdout",
     "output_type": "stream",
     "text": [
      "0.425483870967742\n",
      "0.10574517543859674\n"
     ]
    },
    {
     "name": "stderr",
     "output_type": "stream",
     "text": [
      "/home/apurva/anaconda3/envs/scikitlearnoriginal/scikit-learn/sklearn/ensemble/_forest.py:387: FutureWarning: Criterion 'mse' was deprecated in v1.0 and will be removed in version 1.2. Use `criterion='squared_error'` which is equivalent.\n",
      "  warn(\n"
     ]
    },
    {
     "name": "stdout",
     "output_type": "stream",
     "text": [
      "0.46741935483870967\n",
      "0.007632894736842255\n"
     ]
    }
   ],
   "source": [
    "##Calling regression function where criterion=mse with mislabelling for Gaussian noise level1 \n",
    "results['gauslevel1_without_mislabel_mse'] =[]\n",
    "results['gauslevel1_with_10%mislabel_mse'] = []\n",
    "results['gauslevel1_with_15%mislabel_mse'] = []\n",
    "results['gauslevel1_with_20%mislabel_mse'] = []\n",
    "results['gauslevel1_with_25%mislabel_mse'] = []\n",
    "results['gauslevel1_with_30%mislabel_mse'] = []\n",
    "results['gauslevel1_with_40%mislabel_mse'] = []\n",
    "results['gauslevel1_without_mislabel_mse'].append(crit_mse(X_train_gaus1,X_test,y_train,y_test))\n",
    "results['gauslevel1_with_10%mislabel_mse'].append(crit_mse(X_train_gaus1,X_test,y_train_10mislabel,y_test))\n",
    "results['gauslevel1_with_15%mislabel_mse'].append(crit_mse(X_train_gaus1,X_test,y_train_15mislabel,y_test))\n",
    "results['gauslevel1_with_20%mislabel_mse'].append(crit_mse(X_train_gaus1,X_test,y_train_20mislabel,y_test))\n",
    "results['gauslevel1_with_25%mislabel_mse'].append(crit_mse(X_train_gaus1,X_test,y_train_25mislabel,y_test))\n",
    "results['gauslevel1_with_30%mislabel_mse'].append(crit_mse(X_train_gaus1,X_test,y_train_30mislabel,y_test))\n",
    "results['gauslevel1_with_40%mislabel_mse'].append(crit_mse(X_train_gaus1,X_test,y_train_40mislabel,y_test))"
   ]
  },
  {
   "cell_type": "code",
   "execution_count": 202,
   "metadata": {},
   "outputs": [
    {
     "data": {
      "text/plain": [
       "{'gauslevel1_without_mislabel_mae': [[0.3535483870967742,\n",
       "   0.19949032258064514,\n",
       "   0.15916578947368454]],\n",
       " 'gauslevel1_with_10%mislabel_mae': [[0.3351612903225807,\n",
       "   0.17030645161290323,\n",
       "   0.28217324561403534]],\n",
       " 'gauslevel1_with_15%mislabel_mae': [[0.3367741935483871,\n",
       "   0.16564516129032256,\n",
       "   0.30182017543859685]],\n",
       " 'gauslevel1_with_20%mislabel_mae': [[0.35516129032258065,\n",
       "   0.18102903225806452,\n",
       "   0.23697850877193005]],\n",
       " 'gauslevel1_with_25%mislabel_mae': [[0.42806451612903224,\n",
       "   0.22148709677419356,\n",
       "   0.06645131578947394]],\n",
       " 'gauslevel1_with_30%mislabel_mae': [[0.4383870967741936,\n",
       "   0.22047419354838704,\n",
       "   0.07072061403508834]],\n",
       " 'gauslevel1_with_40%mislabel_mae': [[0.49774193548387097,\n",
       "   0.2752741935483871,\n",
       "   -0.160256578947368]],\n",
       " 'gauslevel1_without_mislabel_mse': [[0.3125806451612903,\n",
       "   0.1935322580645161,\n",
       "   0.1842785087719302]],\n",
       " 'gauslevel1_with_10%mislabel_mse': [[0.29161290322580646,\n",
       "   0.1705032258064516,\n",
       "   0.2813438596491231]],\n",
       " 'gauslevel1_with_15%mislabel_mse': [[0.30387096774193556,\n",
       "   0.16120645161290326,\n",
       "   0.3205289473684212]],\n",
       " 'gauslevel1_with_20%mislabel_mse': [[0.3464516129032257,\n",
       "   0.17680645161290326,\n",
       "   0.2547763157894738]],\n",
       " 'gauslevel1_with_25%mislabel_mse': [[0.4206451612903226,\n",
       "   0.20826451612903232,\n",
       "   0.12218333333333342]],\n",
       " 'gauslevel1_with_30%mislabel_mse': [[0.425483870967742,\n",
       "   0.21216451612903228,\n",
       "   0.10574517543859674]],\n",
       " 'gauslevel1_with_40%mislabel_mse': [[0.46741935483870967,\n",
       "   0.235441935483871,\n",
       "   0.007632894736842255]]}"
      ]
     },
     "execution_count": 202,
     "metadata": {},
     "output_type": "execute_result"
    }
   ],
   "source": [
    "results"
   ]
  },
  {
   "cell_type": "code",
   "execution_count": 204,
   "metadata": {},
   "outputs": [
    {
     "name": "stderr",
     "output_type": "stream",
     "text": [
      "/home/apurva/anaconda3/envs/scikitlearnoriginal/scikit-learn/sklearn/ensemble/_forest.py:394: FutureWarning: Criterion 'mae' was deprecated in v1.0 and will be removed in version 1.2. Use `criterion='absolute_error'` which is equivalent.\n",
      "  warn(\n"
     ]
    },
    {
     "name": "stdout",
     "output_type": "stream",
     "text": [
      "0.3687096774193549\n",
      "0.05745043859649157\n"
     ]
    },
    {
     "name": "stderr",
     "output_type": "stream",
     "text": [
      "/home/apurva/anaconda3/envs/scikitlearnoriginal/scikit-learn/sklearn/ensemble/_forest.py:394: FutureWarning: Criterion 'mae' was deprecated in v1.0 and will be removed in version 1.2. Use `criterion='absolute_error'` which is equivalent.\n",
      "  warn(\n"
     ]
    },
    {
     "name": "stdout",
     "output_type": "stream",
     "text": [
      "0.35612903225806447\n",
      "0.1956043859649127\n"
     ]
    },
    {
     "name": "stderr",
     "output_type": "stream",
     "text": [
      "/home/apurva/anaconda3/envs/scikitlearnoriginal/scikit-learn/sklearn/ensemble/_forest.py:394: FutureWarning: Criterion 'mae' was deprecated in v1.0 and will be removed in version 1.2. Use `criterion='absolute_error'` which is equivalent.\n",
      "  warn(\n"
     ]
    },
    {
     "name": "stdout",
     "output_type": "stream",
     "text": [
      "0.3732258064516129\n",
      "0.16807149122807064\n"
     ]
    },
    {
     "name": "stderr",
     "output_type": "stream",
     "text": [
      "/home/apurva/anaconda3/envs/scikitlearnoriginal/scikit-learn/sklearn/ensemble/_forest.py:394: FutureWarning: Criterion 'mae' was deprecated in v1.0 and will be removed in version 1.2. Use `criterion='absolute_error'` which is equivalent.\n",
      "  warn(\n"
     ]
    },
    {
     "name": "stdout",
     "output_type": "stream",
     "text": [
      "0.39290322580645154\n",
      "0.13542631578947395\n"
     ]
    },
    {
     "name": "stderr",
     "output_type": "stream",
     "text": [
      "/home/apurva/anaconda3/envs/scikitlearnoriginal/scikit-learn/sklearn/ensemble/_forest.py:394: FutureWarning: Criterion 'mae' was deprecated in v1.0 and will be removed in version 1.2. Use `criterion='absolute_error'` which is equivalent.\n",
      "  warn(\n"
     ]
    },
    {
     "name": "stdout",
     "output_type": "stream",
     "text": [
      "0.4490322580645161\n",
      "-0.014842105263157546\n"
     ]
    },
    {
     "name": "stderr",
     "output_type": "stream",
     "text": [
      "/home/apurva/anaconda3/envs/scikitlearnoriginal/scikit-learn/sklearn/ensemble/_forest.py:394: FutureWarning: Criterion 'mae' was deprecated in v1.0 and will be removed in version 1.2. Use `criterion='absolute_error'` which is equivalent.\n",
      "  warn(\n"
     ]
    },
    {
     "name": "stdout",
     "output_type": "stream",
     "text": [
      "0.47870967741935483\n",
      "-0.08377631578947331\n"
     ]
    },
    {
     "name": "stderr",
     "output_type": "stream",
     "text": [
      "/home/apurva/anaconda3/envs/scikitlearnoriginal/scikit-learn/sklearn/ensemble/_forest.py:394: FutureWarning: Criterion 'mae' was deprecated in v1.0 and will be removed in version 1.2. Use `criterion='absolute_error'` which is equivalent.\n",
      "  warn(\n"
     ]
    },
    {
     "name": "stdout",
     "output_type": "stream",
     "text": [
      "0.5225806451612903\n",
      "-0.23951052631578906\n"
     ]
    }
   ],
   "source": [
    "##Calling regression function where criterion=mae with mislabelling for Gaussian noise level3\n",
    "results['gauslevel2_without_mislabel_mae'] =[]\n",
    "results['gauslevel2_with_10%mislabel_mae'] = []\n",
    "results['gauslevel2_with_15%mislabel_mae'] = []\n",
    "results['gauslevel2_with_20%mislabel_mae'] = []\n",
    "results['gauslevel2_with_25%mislabel_mae'] = []\n",
    "results['gauslevel2_with_30%mislabel_mae'] = []\n",
    "results['gauslevel2_with_40%mislabel_mae'] = []\n",
    "results['gauslevel2_without_mislabel_mae'].append(crit_mae(X_train_gaus2,X_test,y_train,y_test))\n",
    "results['gauslevel2_with_10%mislabel_mae'].append(crit_mae(X_train_gaus2,X_test,y_train_10mislabel,y_test))\n",
    "results['gauslevel2_with_15%mislabel_mae'].append(crit_mae(X_train_gaus2,X_test,y_train_15mislabel,y_test))\n",
    "results['gauslevel2_with_20%mislabel_mae'].append(crit_mae(X_train_gaus2,X_test,y_train_20mislabel,y_test))\n",
    "results['gauslevel2_with_25%mislabel_mae'].append(crit_mae(X_train_gaus2,X_test,y_train_25mislabel,y_test))\n",
    "results['gauslevel2_with_30%mislabel_mae'].append(crit_mae(X_train_gaus2,X_test,y_train_30mislabel,y_test))\n",
    "results['gauslevel2_with_40%mislabel_mae'].append(crit_mae(X_train_gaus2,X_test,y_train_40mislabel,y_test))\n",
    "\n"
   ]
  },
  {
   "cell_type": "code",
   "execution_count": 205,
   "metadata": {},
   "outputs": [
    {
     "name": "stderr",
     "output_type": "stream",
     "text": [
      "/home/apurva/anaconda3/envs/scikitlearnoriginal/scikit-learn/sklearn/ensemble/_forest.py:387: FutureWarning: Criterion 'mse' was deprecated in v1.0 and will be removed in version 1.2. Use `criterion='squared_error'` which is equivalent.\n",
      "  warn(\n"
     ]
    },
    {
     "name": "stdout",
     "output_type": "stream",
     "text": [
      "0.3535483870967742\n",
      "0.06526842105263164\n"
     ]
    },
    {
     "name": "stderr",
     "output_type": "stream",
     "text": [
      "/home/apurva/anaconda3/envs/scikitlearnoriginal/scikit-learn/sklearn/ensemble/_forest.py:387: FutureWarning: Criterion 'mse' was deprecated in v1.0 and will be removed in version 1.2. Use `criterion='squared_error'` which is equivalent.\n",
      "  warn(\n"
     ]
    },
    {
     "name": "stdout",
     "output_type": "stream",
     "text": [
      "0.3351612903225807\n",
      "0.22044517543859687\n"
     ]
    },
    {
     "name": "stderr",
     "output_type": "stream",
     "text": [
      "/home/apurva/anaconda3/envs/scikitlearnoriginal/scikit-learn/sklearn/ensemble/_forest.py:387: FutureWarning: Criterion 'mse' was deprecated in v1.0 and will be removed in version 1.2. Use `criterion='squared_error'` which is equivalent.\n",
      "  warn(\n"
     ]
    },
    {
     "name": "stdout",
     "output_type": "stream",
     "text": [
      "0.34548387096774197\n",
      "0.2280048245614037\n"
     ]
    },
    {
     "name": "stderr",
     "output_type": "stream",
     "text": [
      "/home/apurva/anaconda3/envs/scikitlearnoriginal/scikit-learn/sklearn/ensemble/_forest.py:387: FutureWarning: Criterion 'mse' was deprecated in v1.0 and will be removed in version 1.2. Use `criterion='squared_error'` which is equivalent.\n",
      "  warn(\n"
     ]
    },
    {
     "name": "stdout",
     "output_type": "stream",
     "text": [
      "0.39645161290322584\n",
      "0.11847149122807044\n"
     ]
    },
    {
     "name": "stderr",
     "output_type": "stream",
     "text": [
      "/home/apurva/anaconda3/envs/scikitlearnoriginal/scikit-learn/sklearn/ensemble/_forest.py:387: FutureWarning: Criterion 'mse' was deprecated in v1.0 and will be removed in version 1.2. Use `criterion='squared_error'` which is equivalent.\n",
      "  warn(\n"
     ]
    },
    {
     "name": "stdout",
     "output_type": "stream",
     "text": [
      "0.42419354838709666\n",
      "0.11085745614035114\n"
     ]
    },
    {
     "name": "stderr",
     "output_type": "stream",
     "text": [
      "/home/apurva/anaconda3/envs/scikitlearnoriginal/scikit-learn/sklearn/ensemble/_forest.py:387: FutureWarning: Criterion 'mse' was deprecated in v1.0 and will be removed in version 1.2. Use `criterion='squared_error'` which is equivalent.\n",
      "  warn(\n"
     ]
    },
    {
     "name": "stdout",
     "output_type": "stream",
     "text": [
      "0.4612903225806452\n",
      "-0.008234210526315566\n"
     ]
    },
    {
     "name": "stderr",
     "output_type": "stream",
     "text": [
      "/home/apurva/anaconda3/envs/scikitlearnoriginal/scikit-learn/sklearn/ensemble/_forest.py:387: FutureWarning: Criterion 'mse' was deprecated in v1.0 and will be removed in version 1.2. Use `criterion='squared_error'` which is equivalent.\n",
      "  warn(\n"
     ]
    },
    {
     "name": "stdout",
     "output_type": "stream",
     "text": [
      "0.49354838709677423\n",
      "-0.09245087719298195\n"
     ]
    }
   ],
   "source": [
    "##Calling regression function where criterion=mse with mislabelling for Gaussian noise level2\n",
    "results['gauslevel2_without_mislabel_mse'] =[]\n",
    "results['gauslevel2_with_10%mislabel_mse'] = []\n",
    "results['gauslevel2_with_15%mislabel_mse'] = []\n",
    "results['gauslevel2_with_20%mislabel_mse'] = []\n",
    "results['gauslevel2_with_25%mislabel_mse'] = []\n",
    "results['gauslevel2_with_30%mislabel_mse'] = []\n",
    "results['gauslevel2_with_40%mislabel_mse'] = []\n",
    "results['gauslevel2_without_mislabel_mse'].append(crit_mse(X_train_gaus2,X_test,y_train,y_test))\n",
    "results['gauslevel2_with_10%mislabel_mse'].append(crit_mse(X_train_gaus2,X_test,y_train_10mislabel,y_test))\n",
    "results['gauslevel2_with_15%mislabel_mse'].append(crit_mse(X_train_gaus2,X_test,y_train_15mislabel,y_test))\n",
    "results['gauslevel2_with_20%mislabel_mse'].append(crit_mse(X_train_gaus2,X_test,y_train_20mislabel,y_test))\n",
    "results['gauslevel2_with_25%mislabel_mse'].append(crit_mse(X_train_gaus2,X_test,y_train_25mislabel,y_test))\n",
    "results['gauslevel2_with_30%mislabel_mse'].append(crit_mse(X_train_gaus2,X_test,y_train_30mislabel,y_test))\n",
    "results['gauslevel2_with_40%mislabel_mse'].append(crit_mse(X_train_gaus2,X_test,y_train_40mislabel,y_test))"
   ]
  },
  {
   "cell_type": "code",
   "execution_count": 206,
   "metadata": {},
   "outputs": [
    {
     "name": "stderr",
     "output_type": "stream",
     "text": [
      "/home/apurva/anaconda3/envs/scikitlearnoriginal/scikit-learn/sklearn/ensemble/_forest.py:394: FutureWarning: Criterion 'mae' was deprecated in v1.0 and will be removed in version 1.2. Use `criterion='absolute_error'` which is equivalent.\n",
      "  warn(\n"
     ]
    },
    {
     "name": "stdout",
     "output_type": "stream",
     "text": [
      "0.4403225806451612\n",
      "-0.2660100877192977\n"
     ]
    },
    {
     "name": "stderr",
     "output_type": "stream",
     "text": [
      "/home/apurva/anaconda3/envs/scikitlearnoriginal/scikit-learn/sklearn/ensemble/_forest.py:394: FutureWarning: Criterion 'mae' was deprecated in v1.0 and will be removed in version 1.2. Use `criterion='absolute_error'` which is equivalent.\n",
      "  warn(\n"
     ]
    },
    {
     "name": "stdout",
     "output_type": "stream",
     "text": [
      "0.44709677419354843\n",
      "-0.09680175438596494\n"
     ]
    },
    {
     "name": "stderr",
     "output_type": "stream",
     "text": [
      "/home/apurva/anaconda3/envs/scikitlearnoriginal/scikit-learn/sklearn/ensemble/_forest.py:394: FutureWarning: Criterion 'mae' was deprecated in v1.0 and will be removed in version 1.2. Use `criterion='absolute_error'` which is equivalent.\n",
      "  warn(\n"
     ]
    },
    {
     "name": "stdout",
     "output_type": "stream",
     "text": [
      "0.46741935483870967\n",
      "-0.18307149122806976\n"
     ]
    },
    {
     "name": "stderr",
     "output_type": "stream",
     "text": [
      "/home/apurva/anaconda3/envs/scikitlearnoriginal/scikit-learn/sklearn/ensemble/_forest.py:394: FutureWarning: Criterion 'mae' was deprecated in v1.0 and will be removed in version 1.2. Use `criterion='absolute_error'` which is equivalent.\n",
      "  warn(\n"
     ]
    },
    {
     "name": "stdout",
     "output_type": "stream",
     "text": [
      "0.46064516129032257\n",
      "-0.06593771929824555\n"
     ]
    },
    {
     "name": "stderr",
     "output_type": "stream",
     "text": [
      "/home/apurva/anaconda3/envs/scikitlearnoriginal/scikit-learn/sklearn/ensemble/_forest.py:394: FutureWarning: Criterion 'mae' was deprecated in v1.0 and will be removed in version 1.2. Use `criterion='absolute_error'` which is equivalent.\n",
      "  warn(\n"
     ]
    },
    {
     "name": "stdout",
     "output_type": "stream",
     "text": [
      "0.5125806451612903\n",
      "-0.3144951754385963\n"
     ]
    },
    {
     "name": "stderr",
     "output_type": "stream",
     "text": [
      "/home/apurva/anaconda3/envs/scikitlearnoriginal/scikit-learn/sklearn/ensemble/_forest.py:394: FutureWarning: Criterion 'mae' was deprecated in v1.0 and will be removed in version 1.2. Use `criterion='absolute_error'` which is equivalent.\n",
      "  warn(\n"
     ]
    },
    {
     "name": "stdout",
     "output_type": "stream",
     "text": [
      "0.49354838709677434\n",
      "-0.17984912280701715\n"
     ]
    },
    {
     "name": "stderr",
     "output_type": "stream",
     "text": [
      "/home/apurva/anaconda3/envs/scikitlearnoriginal/scikit-learn/sklearn/ensemble/_forest.py:394: FutureWarning: Criterion 'mae' was deprecated in v1.0 and will be removed in version 1.2. Use `criterion='absolute_error'` which is equivalent.\n",
      "  warn(\n"
     ]
    },
    {
     "name": "stdout",
     "output_type": "stream",
     "text": [
      "0.53\n",
      "-0.25516008771929766\n"
     ]
    }
   ],
   "source": [
    "##Calling regression function where criterion=mae with mislabelling for Gaussian noise level3\n",
    "results['gauslevel3_without_mislabel_mae'] =[]\n",
    "results['gauslevel3_with_10%mislabel_mae'] = []\n",
    "results['gauslevel3_with_15%mislabel_mae'] = []\n",
    "results['gauslevel3_with_20%mislabel_mae'] = []\n",
    "results['gauslevel3_with_25%mislabel_mae'] = []\n",
    "results['gauslevel3_with_30%mislabel_mae'] = []\n",
    "results['gauslevel3_with_40%mislabel_mae'] = []\n",
    "results['gauslevel3_without_mislabel_mae'].append(crit_mae(X_train_gaus3,X_test,y_train,y_test))\n",
    "results['gauslevel3_with_10%mislabel_mae'].append(crit_mae(X_train_gaus3,X_test,y_train_10mislabel,y_test))\n",
    "results['gauslevel3_with_15%mislabel_mae'].append(crit_mae(X_train_gaus3,X_test,y_train_15mislabel,y_test))\n",
    "results['gauslevel3_with_20%mislabel_mae'].append(crit_mae(X_train_gaus3,X_test,y_train_20mislabel,y_test))\n",
    "results['gauslevel3_with_25%mislabel_mae'].append(crit_mae(X_train_gaus3,X_test,y_train_25mislabel,y_test))\n",
    "results['gauslevel3_with_30%mislabel_mae'].append(crit_mae(X_train_gaus3,X_test,y_train_30mislabel,y_test))\n",
    "results['gauslevel3_with_40%mislabel_mae'].append(crit_mae(X_train_gaus3,X_test,y_train_40mislabel,y_test))\n"
   ]
  },
  {
   "cell_type": "code",
   "execution_count": 207,
   "metadata": {},
   "outputs": [
    {
     "name": "stderr",
     "output_type": "stream",
     "text": [
      "/home/apurva/anaconda3/envs/scikitlearnoriginal/scikit-learn/sklearn/ensemble/_forest.py:387: FutureWarning: Criterion 'mse' was deprecated in v1.0 and will be removed in version 1.2. Use `criterion='squared_error'` which is equivalent.\n",
      "  warn(\n"
     ]
    },
    {
     "name": "stdout",
     "output_type": "stream",
     "text": [
      "0.4074193548387097\n",
      "-0.15990307017543803\n"
     ]
    },
    {
     "name": "stderr",
     "output_type": "stream",
     "text": [
      "/home/apurva/anaconda3/envs/scikitlearnoriginal/scikit-learn/sklearn/ensemble/_forest.py:387: FutureWarning: Criterion 'mse' was deprecated in v1.0 and will be removed in version 1.2. Use `criterion='squared_error'` which is equivalent.\n",
      "  warn(\n"
     ]
    },
    {
     "name": "stdout",
     "output_type": "stream",
     "text": [
      "0.44290322580645153\n",
      "0.021827631578947626\n"
     ]
    },
    {
     "name": "stderr",
     "output_type": "stream",
     "text": [
      "/home/apurva/anaconda3/envs/scikitlearnoriginal/scikit-learn/sklearn/ensemble/_forest.py:387: FutureWarning: Criterion 'mse' was deprecated in v1.0 and will be removed in version 1.2. Use `criterion='squared_error'` which is equivalent.\n",
      "  warn(\n"
     ]
    },
    {
     "name": "stdout",
     "output_type": "stream",
     "text": [
      "0.4712903225806451\n",
      "-0.14432149122806992\n"
     ]
    },
    {
     "name": "stderr",
     "output_type": "stream",
     "text": [
      "/home/apurva/anaconda3/envs/scikitlearnoriginal/scikit-learn/sklearn/ensemble/_forest.py:387: FutureWarning: Criterion 'mse' was deprecated in v1.0 and will be removed in version 1.2. Use `criterion='squared_error'` which is equivalent.\n",
      "  warn(\n"
     ]
    },
    {
     "name": "stdout",
     "output_type": "stream",
     "text": [
      "0.45806451612903226\n",
      "-0.030287719298245364\n"
     ]
    },
    {
     "name": "stderr",
     "output_type": "stream",
     "text": [
      "/home/apurva/anaconda3/envs/scikitlearnoriginal/scikit-learn/sklearn/ensemble/_forest.py:387: FutureWarning: Criterion 'mse' was deprecated in v1.0 and will be removed in version 1.2. Use `criterion='squared_error'` which is equivalent.\n",
      "  warn(\n"
     ]
    },
    {
     "name": "stdout",
     "output_type": "stream",
     "text": [
      "0.502258064516129\n",
      "-0.20950307017543857\n"
     ]
    },
    {
     "name": "stderr",
     "output_type": "stream",
     "text": [
      "/home/apurva/anaconda3/envs/scikitlearnoriginal/scikit-learn/sklearn/ensemble/_forest.py:387: FutureWarning: Criterion 'mse' was deprecated in v1.0 and will be removed in version 1.2. Use `criterion='squared_error'` which is equivalent.\n",
      "  warn(\n"
     ]
    },
    {
     "name": "stdout",
     "output_type": "stream",
     "text": [
      "0.49903225806451607\n",
      "-0.1485092105263155\n"
     ]
    },
    {
     "name": "stderr",
     "output_type": "stream",
     "text": [
      "/home/apurva/anaconda3/envs/scikitlearnoriginal/scikit-learn/sklearn/ensemble/_forest.py:387: FutureWarning: Criterion 'mse' was deprecated in v1.0 and will be removed in version 1.2. Use `criterion='squared_error'` which is equivalent.\n",
      "  warn(\n"
     ]
    },
    {
     "name": "stdout",
     "output_type": "stream",
     "text": [
      "0.5148387096774193\n",
      "-0.14787017543859626\n"
     ]
    }
   ],
   "source": [
    "##Calling regression function where criterion=mse with mislabelling for Gaussian noise level3\n",
    "results['gauslevel3_without_mislabel_mse'] =[]\n",
    "results['gauslevel3_with_10%mislabel_mse'] = []\n",
    "results['gauslevel3_with_15%mislabel_mse'] = []\n",
    "results['gauslevel3_with_20%mislabel_mse'] = []\n",
    "results['gauslevel3_with_25%mislabel_mse'] = []\n",
    "results['gauslevel3_with_30%mislabel_mse'] = []\n",
    "results['gauslevel3_with_40%mislabel_mse'] = []\n",
    "results['gauslevel3_without_mislabel_mse'].append(crit_mse(X_train_gaus3,X_test,y_train,y_test))\n",
    "results['gauslevel3_with_10%mislabel_mse'].append(crit_mse(X_train_gaus3,X_test,y_train_10mislabel,y_test))\n",
    "results['gauslevel3_with_15%mislabel_mse'].append(crit_mse(X_train_gaus3,X_test,y_train_15mislabel,y_test))\n",
    "results['gauslevel3_with_20%mislabel_mse'].append(crit_mse(X_train_gaus3,X_test,y_train_20mislabel,y_test))\n",
    "results['gauslevel3_with_25%mislabel_mse'].append(crit_mse(X_train_gaus3,X_test,y_train_25mislabel,y_test))\n",
    "results['gauslevel3_with_30%mislabel_mse'].append(crit_mse(X_train_gaus3,X_test,y_train_30mislabel,y_test))\n",
    "results['gauslevel3_with_40%mislabel_mse'].append(crit_mse(X_train_gaus3,X_test,y_train_40mislabel,y_test))"
   ]
  },
  {
   "cell_type": "code",
   "execution_count": 208,
   "metadata": {},
   "outputs": [
    {
     "data": {
      "text/plain": [
       "{'gauslevel1_without_mislabel_mae': [[0.3535483870967742,\n",
       "   0.19949032258064514,\n",
       "   0.15916578947368454]],\n",
       " 'gauslevel1_with_10%mislabel_mae': [[0.3351612903225807,\n",
       "   0.17030645161290323,\n",
       "   0.28217324561403534]],\n",
       " 'gauslevel1_with_15%mislabel_mae': [[0.3367741935483871,\n",
       "   0.16564516129032256,\n",
       "   0.30182017543859685]],\n",
       " 'gauslevel1_with_20%mislabel_mae': [[0.35516129032258065,\n",
       "   0.18102903225806452,\n",
       "   0.23697850877193005]],\n",
       " 'gauslevel1_with_25%mislabel_mae': [[0.42806451612903224,\n",
       "   0.22148709677419356,\n",
       "   0.06645131578947394]],\n",
       " 'gauslevel1_with_30%mislabel_mae': [[0.4383870967741936,\n",
       "   0.22047419354838704,\n",
       "   0.07072061403508834]],\n",
       " 'gauslevel1_with_40%mislabel_mae': [[0.49774193548387097,\n",
       "   0.2752741935483871,\n",
       "   -0.160256578947368]],\n",
       " 'gauslevel1_without_mislabel_mse': [[0.3125806451612903,\n",
       "   0.1935322580645161,\n",
       "   0.1842785087719302]],\n",
       " 'gauslevel1_with_10%mislabel_mse': [[0.29161290322580646,\n",
       "   0.1705032258064516,\n",
       "   0.2813438596491231]],\n",
       " 'gauslevel1_with_15%mislabel_mse': [[0.30387096774193556,\n",
       "   0.16120645161290326,\n",
       "   0.3205289473684212]],\n",
       " 'gauslevel1_with_20%mislabel_mse': [[0.3464516129032257,\n",
       "   0.17680645161290326,\n",
       "   0.2547763157894738]],\n",
       " 'gauslevel1_with_25%mislabel_mse': [[0.4206451612903226,\n",
       "   0.20826451612903232,\n",
       "   0.12218333333333342]],\n",
       " 'gauslevel1_with_30%mislabel_mse': [[0.425483870967742,\n",
       "   0.21216451612903228,\n",
       "   0.10574517543859674]],\n",
       " 'gauslevel1_with_40%mislabel_mse': [[0.46741935483870967,\n",
       "   0.235441935483871,\n",
       "   0.007632894736842255]],\n",
       " 'gauslevel2_without_mislabel_mae': [[0.3687096774193549,\n",
       "   0.22362258064516127,\n",
       "   0.05745043859649157]],\n",
       " 'gauslevel2_with_10%mislabel_mae': [[0.35612903225806447,\n",
       "   0.19084516129032256,\n",
       "   0.1956043859649127]],\n",
       " 'gauslevel2_with_15%mislabel_mae': [[0.3732258064516129,\n",
       "   0.19737741935483866,\n",
       "   0.16807149122807064]],\n",
       " 'gauslevel2_with_20%mislabel_mae': [[0.39290322580645154,\n",
       "   0.2051225806451613,\n",
       "   0.13542631578947395]],\n",
       " 'gauslevel2_with_25%mislabel_mae': [[0.4490322580645161,\n",
       "   0.2407741935483871,\n",
       "   -0.014842105263157546]],\n",
       " 'gauslevel2_with_30%mislabel_mae': [[0.47870967741935483,\n",
       "   0.2571290322580645,\n",
       "   -0.08377631578947331]],\n",
       " 'gauslevel2_with_40%mislabel_mae': [[0.5225806451612903,\n",
       "   0.2940774193548387,\n",
       "   -0.23951052631578906]],\n",
       " 'gauslevel2_without_mislabel_mse': [[0.3535483870967742,\n",
       "   0.2217677419354839,\n",
       "   0.06526842105263164]],\n",
       " 'gauslevel2_with_10%mislabel_mse': [[0.3351612903225807,\n",
       "   0.1849516129032258,\n",
       "   0.22044517543859687]],\n",
       " 'gauslevel2_with_15%mislabel_mse': [[0.34548387096774197,\n",
       "   0.18315806451612904,\n",
       "   0.2280048245614037]],\n",
       " 'gauslevel2_with_20%mislabel_mse': [[0.39645161290322584,\n",
       "   0.2091451612903226,\n",
       "   0.11847149122807044]],\n",
       " 'gauslevel2_with_25%mislabel_mse': [[0.42419354838709666,\n",
       "   0.2109516129032258,\n",
       "   0.11085745614035114]],\n",
       " 'gauslevel2_with_30%mislabel_mse': [[0.4612903225806452,\n",
       "   0.23920645161290321,\n",
       "   -0.008234210526315566]],\n",
       " 'gauslevel2_with_40%mislabel_mse': [[0.49354838709677423,\n",
       "   0.2591870967741935,\n",
       "   -0.09245087719298195]],\n",
       " 'gauslevel3_without_mislabel_mae': [[0.4403225806451612,\n",
       "   0.30036451612903226,\n",
       "   -0.2660100877192977]],\n",
       " 'gauslevel3_with_10%mislabel_mae': [[0.44709677419354843,\n",
       "   0.2602193548387098,\n",
       "   -0.09680175438596494]],\n",
       " 'gauslevel3_with_15%mislabel_mae': [[0.46741935483870967,\n",
       "   0.28068709677419357,\n",
       "   -0.18307149122806976]],\n",
       " 'gauslevel3_with_20%mislabel_mae': [[0.46064516129032257,\n",
       "   0.25289677419354845,\n",
       "   -0.06593771929824555]],\n",
       " 'gauslevel3_with_25%mislabel_mae': [[0.5125806451612903,\n",
       "   0.3118677419354839,\n",
       "   -0.3144951754385963]],\n",
       " 'gauslevel3_with_30%mislabel_mae': [[0.49354838709677434,\n",
       "   0.2799225806451613,\n",
       "   -0.17984912280701715]],\n",
       " 'gauslevel3_with_40%mislabel_mae': [[0.53,\n",
       "   0.29779032258064514,\n",
       "   -0.25516008771929766]],\n",
       " 'gauslevel3_without_mislabel_mse': [[0.4074193548387097,\n",
       "   0.27519032258064513,\n",
       "   -0.15990307017543803]],\n",
       " 'gauslevel3_with_10%mislabel_mse': [[0.44290322580645153,\n",
       "   0.2320741935483871,\n",
       "   0.021827631578947626]],\n",
       " 'gauslevel3_with_15%mislabel_mse': [[0.4712903225806451,\n",
       "   0.27149354838709683,\n",
       "   -0.14432149122806992]],\n",
       " 'gauslevel3_with_20%mislabel_mse': [[0.45806451612903226,\n",
       "   0.2444387096774194,\n",
       "   -0.030287719298245364]],\n",
       " 'gauslevel3_with_25%mislabel_mse': [[0.502258064516129,\n",
       "   0.28695806451612915,\n",
       "   -0.20950307017543857]],\n",
       " 'gauslevel3_with_30%mislabel_mse': [[0.49903225806451607,\n",
       "   0.2724870967741936,\n",
       "   -0.1485092105263155]],\n",
       " 'gauslevel3_with_40%mislabel_mse': [[0.5148387096774193,\n",
       "   0.2723354838709678,\n",
       "   -0.14787017543859626]]}"
      ]
     },
     "execution_count": 208,
     "metadata": {},
     "output_type": "execute_result"
    }
   ],
   "source": [
    "results"
   ]
  },
  {
   "cell_type": "code",
   "execution_count": 73,
   "metadata": {},
   "outputs": [],
   "source": [
    "#########################Poisson Noise################################"
   ]
  },
  {
   "cell_type": "code",
   "execution_count": 211,
   "metadata": {},
   "outputs": [
    {
     "name": "stdout",
     "output_type": "stream",
     "text": [
      "[[1 2 0 ... 0 1 0]\n",
      " [0 1 0 ... 0 1 1]\n",
      " [1 1 0 ... 0 1 1]\n",
      " ...\n",
      " [0 0 0 ... 2 0 1]\n",
      " [2 2 3 ... 2 2 0]\n",
      " [0 1 1 ... 0 1 0]]\n",
      "     age  sex  cp  trestbps  chol  fbs  restecg  thalach  exang  oldpeak  \\\n",
      "107   46    2   0       138   239    2        0      152      1      1.2   \n",
      "155   58    1   0       131   197    1        1      134      0      1.6   \n",
      "251   44    2   0       137   247    1        0      143      2      1.1   \n",
      "171   50    1   4       110   229    0        3      168      0      1.0   \n",
      "53    46    1   2       108   142    2        2      175      0      0.6   \n",
      "..   ...  ...  ..       ...   ...  ...      ...      ...    ...      ...   \n",
      "106   70    2   5       160   235    3        0      132      1      0.1   \n",
      "83    53    3   5       152   298    2        1      178      1      1.2   \n",
      "17    66    0   3       151   227    1        1      115      0      3.6   \n",
      "230   49    3   5       110   243    1        2      153      1      1.0   \n",
      "98    43    2   3       130   316    1        2      164      0      4.9   \n",
      "\n",
      "     slope  ca  thal  \n",
      "107      1   1     2  \n",
      "155      1   1     3  \n",
      "251      1   5     4  \n",
      "171      3   0     5  \n",
      "53       1   4     2  \n",
      "..     ...  ..   ...  \n",
      "106      4   1     2  \n",
      "83       1   2     5  \n",
      "17       2   0     3  \n",
      "230      4   2     2  \n",
      "98       2   2     2  \n",
      "\n",
      "[272 rows x 13 columns]\n"
     ]
    }
   ],
   "source": [
    "#lambda=1\n",
    "np.random.seed(42)\n",
    "noise = np.random.poisson(1, X_train.shape)\n",
    "print(noise)\n",
    "new_X_train_poisson_1 = X_train + noise\n",
    "print(new_X_train_poisson_1)"
   ]
  },
  {
   "cell_type": "code",
   "execution_count": 217,
   "metadata": {},
   "outputs": [
    {
     "name": "stdout",
     "output_type": "stream",
     "text": [
      "[[5 4 4 ... 7 1 4]\n",
      " [3 3 0 ... 6 6 4]\n",
      " [3 5 5 ... 3 4 4]\n",
      " ...\n",
      " [2 1 6 ... 6 3 5]\n",
      " [6 1 6 ... 3 1 5]\n",
      " [2 6 2 ... 1 5 4]]\n",
      "     age  sex  cp  trestbps  chol  fbs  restecg  thalach  exang  oldpeak  \\\n",
      "107   50    4   4       142   238    5        2      157      4      5.2   \n",
      "155   61    3   0       135   201    6        8      132      5      2.6   \n",
      "251   46    6   5       134   248    4        6      147      3      2.1   \n",
      "171   52   10   2       112   231    4        7      171      7      5.0   \n",
      "53    51    7   9       110   144    2        4      177      7      2.6   \n",
      "..   ...  ...  ..       ...   ...  ...      ...      ...    ...      ...   \n",
      "106   70    8   5       162   237    4        4      133      6      3.1   \n",
      "83    59    3   6       158   300    9        5      182      3      5.2   \n",
      "17    68    1   9       155   227    5        5      115      2      8.6   \n",
      "230   53    2   8       113   251    7        6      155      1      6.0   \n",
      "98    45    7   4       134   317    3        3      165      1      6.9   \n",
      "\n",
      "     slope  ca  thal  \n",
      "107      8   1     6  \n",
      "155      7   6     6  \n",
      "251      4   8     7  \n",
      "171      6   8     8  \n",
      "53       4   2     6  \n",
      "..     ...  ..   ...  \n",
      "106      5   7     5  \n",
      "83       6   9     5  \n",
      "17       6   3     7  \n",
      "230      5   1     7  \n",
      "98       3   6     6  \n",
      "\n",
      "[272 rows x 13 columns]\n"
     ]
    }
   ],
   "source": [
    "#lambda=4\n",
    "np.random.seed(42)\n",
    "noise = np.random.poisson(4, X_train.shape)\n",
    "print(noise)\n",
    "new_X_train_poisson_4 = X_train + noise\n",
    "print(new_X_train_poisson_4)"
   ]
  },
  {
   "cell_type": "code",
   "execution_count": 218,
   "metadata": {},
   "outputs": [
    {
     "name": "stdout",
     "output_type": "stream",
     "text": [
      "[[12  6 11 ...  7 11 11]\n",
      " [ 8 12  6 ...  8  6 13]\n",
      " [12 13  9 ... 10  8 15]\n",
      " ...\n",
      " [15 14 12 ... 14  5 10]\n",
      " [ 9  9 10 ...  7 13  7]\n",
      " [13  9 12 ... 12 11  9]]\n",
      "     age  sex  cp  trestbps  chol  fbs  restecg  thalach  exang  oldpeak  \\\n",
      "107   57    6  11       152   243    8        9      163      9     10.2   \n",
      "155   66   12   6       137   205   10        6      134      9     13.6   \n",
      "251   55   14   9       146   255    9       12      158     14     13.1   \n",
      "171   57    8   9       123   244    8        8      177      6     17.0   \n",
      "53    52   11   5       123   147    7       10      186      8     12.6   \n",
      "..   ...  ...  ..       ...   ...  ...      ...      ...    ...      ...   \n",
      "106   79   14  15       170   243   19       12      140      9     10.1   \n",
      "83    64   16  16       166   306    9        9      185     11     10.2   \n",
      "17    81   14  15       167   237   16       11      127      4     12.6   \n",
      "230   56   10  12       124   255   10        9      164     10      7.0   \n",
      "98    56   10  14       143   323    6        9      174     12      9.9   \n",
      "\n",
      "     slope  ca  thal  \n",
      "107      8  11    13  \n",
      "155      9   6    15  \n",
      "251     11  12    18  \n",
      "171     10  18    13  \n",
      "53      11  11    14  \n",
      "..     ...  ..   ...  \n",
      "106      7   7    18  \n",
      "83      13  12    20  \n",
      "17      14   5    12  \n",
      "230      9  13     9  \n",
      "98      14  12    11  \n",
      "\n",
      "[272 rows x 13 columns]\n"
     ]
    }
   ],
   "source": [
    "#lambda=10\n",
    "np.random.seed(42)\n",
    "noise = np.random.poisson(10, X_train.shape)\n",
    "print(noise)\n",
    "new_X_train_poisson_10 = X_train + noise\n",
    "print(new_X_train_poisson_10)"
   ]
  },
  {
   "cell_type": "code",
   "execution_count": 263,
   "metadata": {},
   "outputs": [],
   "source": [
    "new_X_train_poisson_1.to_csv('new_X_train_poisson_1.csv', index=True)\n",
    "new_X_train_poisson_4.to_csv('new_X_train_poisson_4.csv', index=True)\n",
    "new_X_train_poisson_10.to_csv('new_X_train_poisson_10.csv', index=True)"
   ]
  },
  {
   "cell_type": "code",
   "execution_count": 219,
   "metadata": {},
   "outputs": [
    {
     "name": "stderr",
     "output_type": "stream",
     "text": [
      "/home/apurva/anaconda3/envs/scikitlearnoriginal/scikit-learn/sklearn/ensemble/_forest.py:394: FutureWarning: Criterion 'mae' was deprecated in v1.0 and will be removed in version 1.2. Use `criterion='absolute_error'` which is equivalent.\n",
      "  warn(\n"
     ]
    },
    {
     "name": "stdout",
     "output_type": "stream",
     "text": [
      "0.40354838709677415\n",
      "0.13051798245614066\n"
     ]
    },
    {
     "name": "stderr",
     "output_type": "stream",
     "text": [
      "/home/apurva/anaconda3/envs/scikitlearnoriginal/scikit-learn/sklearn/ensemble/_forest.py:394: FutureWarning: Criterion 'mae' was deprecated in v1.0 and will be removed in version 1.2. Use `criterion='absolute_error'` which is equivalent.\n",
      "  warn(\n"
     ]
    },
    {
     "name": "stdout",
     "output_type": "stream",
     "text": [
      "0.4019354838709677\n",
      "0.13673157894736865\n"
     ]
    },
    {
     "name": "stderr",
     "output_type": "stream",
     "text": [
      "/home/apurva/anaconda3/envs/scikitlearnoriginal/scikit-learn/sklearn/ensemble/_forest.py:394: FutureWarning: Criterion 'mae' was deprecated in v1.0 and will be removed in version 1.2. Use `criterion='absolute_error'` which is equivalent.\n",
      "  warn(\n"
     ]
    },
    {
     "name": "stdout",
     "output_type": "stream",
     "text": [
      "0.42967741935483866\n",
      "0.025512280701754597\n"
     ]
    },
    {
     "name": "stderr",
     "output_type": "stream",
     "text": [
      "/home/apurva/anaconda3/envs/scikitlearnoriginal/scikit-learn/sklearn/ensemble/_forest.py:394: FutureWarning: Criterion 'mae' was deprecated in v1.0 and will be removed in version 1.2. Use `criterion='absolute_error'` which is equivalent.\n",
      "  warn(\n"
     ]
    },
    {
     "name": "stdout",
     "output_type": "stream",
     "text": [
      "0.4209677419354839\n",
      "0.10139429824561419\n"
     ]
    },
    {
     "name": "stderr",
     "output_type": "stream",
     "text": [
      "/home/apurva/anaconda3/envs/scikitlearnoriginal/scikit-learn/sklearn/ensemble/_forest.py:394: FutureWarning: Criterion 'mae' was deprecated in v1.0 and will be removed in version 1.2. Use `criterion='absolute_error'` which is equivalent.\n",
      "  warn(\n"
     ]
    },
    {
     "name": "stdout",
     "output_type": "stream",
     "text": [
      "0.4641935483870968\n",
      "-0.02187149122806975\n"
     ]
    },
    {
     "name": "stderr",
     "output_type": "stream",
     "text": [
      "/home/apurva/anaconda3/envs/scikitlearnoriginal/scikit-learn/sklearn/ensemble/_forest.py:394: FutureWarning: Criterion 'mae' was deprecated in v1.0 and will be removed in version 1.2. Use `criterion='absolute_error'` which is equivalent.\n",
      "  warn(\n"
     ]
    },
    {
     "name": "stdout",
     "output_type": "stream",
     "text": [
      "0.45290322580645165\n",
      "0.031304385964912695\n"
     ]
    },
    {
     "name": "stderr",
     "output_type": "stream",
     "text": [
      "/home/apurva/anaconda3/envs/scikitlearnoriginal/scikit-learn/sklearn/ensemble/_forest.py:394: FutureWarning: Criterion 'mae' was deprecated in v1.0 and will be removed in version 1.2. Use `criterion='absolute_error'` which is equivalent.\n",
      "  warn(\n"
     ]
    },
    {
     "name": "stdout",
     "output_type": "stream",
     "text": [
      "0.4690322580645162\n",
      "-0.01579385964912272\n"
     ]
    }
   ],
   "source": [
    "##Calling regression function where criterion=mae with mislabelling for Poisson noise where lambda=1\n",
    "poisson_results={}\n",
    "poisson_results['poissonlevel1_without_mislabel_mae'] =[]\n",
    "poisson_results['poissonlevel1_with_10%mislabel_mae'] = []\n",
    "poisson_results['poissonlevel1_with_15%mislabel_mae'] = []\n",
    "poisson_results['poissonlevel1_with_20%mislabel_mae'] = []\n",
    "poisson_results['poissonlevel1_with_25%mislabel_mae'] = []\n",
    "poisson_results['poissonlevel1_with_30%mislabel_mae'] = []\n",
    "poisson_results['poissonlevel1_with_40%mislabel_mae'] = []\n",
    "poisson_results['poissonlevel1_without_mislabel_mae'].append(crit_mae(new_X_train_poisson_1,X_test,y_train,y_test))\n",
    "poisson_results['poissonlevel1_with_10%mislabel_mae'].append(crit_mae(new_X_train_poisson_1,X_test,y_train_10mislabel,y_test))\n",
    "poisson_results['poissonlevel1_with_15%mislabel_mae'].append(crit_mae(new_X_train_poisson_1,X_test,y_train_15mislabel,y_test))\n",
    "poisson_results['poissonlevel1_with_20%mislabel_mae'].append(crit_mae(new_X_train_poisson_1,X_test,y_train_20mislabel,y_test))\n",
    "poisson_results['poissonlevel1_with_25%mislabel_mae'].append(crit_mae(new_X_train_poisson_1,X_test,y_train_25mislabel,y_test))\n",
    "poisson_results['poissonlevel1_with_30%mislabel_mae'].append(crit_mae(new_X_train_poisson_1,X_test,y_train_30mislabel,y_test))\n",
    "poisson_results['poissonlevel1_with_40%mislabel_mae'].append(crit_mae(new_X_train_poisson_1,X_test,y_train_40mislabel,y_test))"
   ]
  },
  {
   "cell_type": "code",
   "execution_count": 221,
   "metadata": {},
   "outputs": [
    {
     "name": "stderr",
     "output_type": "stream",
     "text": [
      "/home/apurva/anaconda3/envs/scikitlearnoriginal/scikit-learn/sklearn/ensemble/_forest.py:387: FutureWarning: Criterion 'mse' was deprecated in v1.0 and will be removed in version 1.2. Use `criterion='squared_error'` which is equivalent.\n",
      "  warn(\n"
     ]
    },
    {
     "name": "stdout",
     "output_type": "stream",
     "text": [
      "0.36612903225806454\n",
      "0.11134692982456185\n"
     ]
    },
    {
     "name": "stderr",
     "output_type": "stream",
     "text": [
      "/home/apurva/anaconda3/envs/scikitlearnoriginal/scikit-learn/sklearn/ensemble/_forest.py:387: FutureWarning: Criterion 'mse' was deprecated in v1.0 and will be removed in version 1.2. Use `criterion='squared_error'` which is equivalent.\n",
      "  warn(\n"
     ]
    },
    {
     "name": "stdout",
     "output_type": "stream",
     "text": [
      "0.3864516129032258\n",
      "0.12264561403508789\n"
     ]
    },
    {
     "name": "stderr",
     "output_type": "stream",
     "text": [
      "/home/apurva/anaconda3/envs/scikitlearnoriginal/scikit-learn/sklearn/ensemble/_forest.py:387: FutureWarning: Criterion 'mse' was deprecated in v1.0 and will be removed in version 1.2. Use `criterion='squared_error'` which is equivalent.\n",
      "  warn(\n"
     ]
    },
    {
     "name": "stdout",
     "output_type": "stream",
     "text": [
      "0.39903225806451614\n",
      "0.0562811403508775\n"
     ]
    },
    {
     "name": "stderr",
     "output_type": "stream",
     "text": [
      "/home/apurva/anaconda3/envs/scikitlearnoriginal/scikit-learn/sklearn/ensemble/_forest.py:387: FutureWarning: Criterion 'mse' was deprecated in v1.0 and will be removed in version 1.2. Use `criterion='squared_error'` which is equivalent.\n",
      "  warn(\n"
     ]
    },
    {
     "name": "stdout",
     "output_type": "stream",
     "text": [
      "0.4209677419354839\n",
      "0.0761320175438599\n"
     ]
    },
    {
     "name": "stderr",
     "output_type": "stream",
     "text": [
      "/home/apurva/anaconda3/envs/scikitlearnoriginal/scikit-learn/sklearn/ensemble/_forest.py:387: FutureWarning: Criterion 'mse' was deprecated in v1.0 and will be removed in version 1.2. Use `criterion='squared_error'` which is equivalent.\n",
      "  warn(\n"
     ]
    },
    {
     "name": "stdout",
     "output_type": "stream",
     "text": [
      "0.4832258064516129\n",
      "-0.10338245614035046\n"
     ]
    },
    {
     "name": "stderr",
     "output_type": "stream",
     "text": [
      "/home/apurva/anaconda3/envs/scikitlearnoriginal/scikit-learn/sklearn/ensemble/_forest.py:387: FutureWarning: Criterion 'mse' was deprecated in v1.0 and will be removed in version 1.2. Use `criterion='squared_error'` which is equivalent.\n",
      "  warn(\n"
     ]
    },
    {
     "name": "stdout",
     "output_type": "stream",
     "text": [
      "0.48129032258064514\n",
      "-0.06664473684210503\n"
     ]
    },
    {
     "name": "stderr",
     "output_type": "stream",
     "text": [
      "/home/apurva/anaconda3/envs/scikitlearnoriginal/scikit-learn/sklearn/ensemble/_forest.py:387: FutureWarning: Criterion 'mse' was deprecated in v1.0 and will be removed in version 1.2. Use `criterion='squared_error'` which is equivalent.\n",
      "  warn(\n"
     ]
    },
    {
     "name": "stdout",
     "output_type": "stream",
     "text": [
      "0.47677419354838707\n",
      "-0.05312982456140314\n"
     ]
    }
   ],
   "source": [
    "##Calling regression function where criterion=mse with mislabelling for Poisson noise where lambda=1\n",
    "poisson_results['poissonlevel1_without_mislabel_mse'] =[]\n",
    "poisson_results['poissonlevel1_with_10%mislabel_mse'] = []\n",
    "poisson_results['poissonlevel1_with_15%mislabel_mse'] = []\n",
    "poisson_results['poissonlevel1_with_20%mislabel_mse'] = []\n",
    "poisson_results['poissonlevel1_with_25%mislabel_mse'] = []\n",
    "poisson_results['poissonlevel1_with_30%mislabel_mse'] = []\n",
    "poisson_results['poissonlevel1_with_40%mislabel_mse'] = []\n",
    "poisson_results['poissonlevel1_without_mislabel_mse'].append(crit_mse(new_X_train_poisson_1,X_test,y_train,y_test))\n",
    "poisson_results['poissonlevel1_with_10%mislabel_mse'].append(crit_mse(new_X_train_poisson_1,X_test,y_train_10mislabel,y_test))\n",
    "poisson_results['poissonlevel1_with_15%mislabel_mse'].append(crit_mse(new_X_train_poisson_1,X_test,y_train_15mislabel,y_test))\n",
    "poisson_results['poissonlevel1_with_20%mislabel_mse'].append(crit_mse(new_X_train_poisson_1,X_test,y_train_20mislabel,y_test))\n",
    "poisson_results['poissonlevel1_with_25%mislabel_mse'].append(crit_mse(new_X_train_poisson_1,X_test,y_train_25mislabel,y_test))\n",
    "poisson_results['poissonlevel1_with_30%mislabel_mse'].append(crit_mse(new_X_train_poisson_1,X_test,y_train_30mislabel,y_test))\n",
    "poisson_results['poissonlevel1_with_40%mislabel_mse'].append(crit_mse(new_X_train_poisson_1,X_test,y_train_40mislabel,y_test))"
   ]
  },
  {
   "cell_type": "code",
   "execution_count": 222,
   "metadata": {},
   "outputs": [
    {
     "data": {
      "text/plain": [
       "{'poissonlevel1_without_mislabel_mse': [[0.36612903225806454,\n",
       "   0.2108354838709677,\n",
       "   0.11134692982456185]],\n",
       " 'poissonlevel1_with_10%mislabel_mse': [[0.3864516129032258,\n",
       "   0.20815483870967744,\n",
       "   0.12264561403508789]],\n",
       " 'poissonlevel1_with_15%mislabel_mse': [[0.39903225806451614,\n",
       "   0.22390000000000002,\n",
       "   0.0562811403508775]],\n",
       " 'poissonlevel1_with_20%mislabel_mse': [[0.4209677419354839,\n",
       "   0.21919032258064516,\n",
       "   0.0761320175438599]],\n",
       " 'poissonlevel1_with_25%mislabel_mse': [[0.4832258064516129,\n",
       "   0.2617806451612903,\n",
       "   -0.10338245614035046]],\n",
       " 'poissonlevel1_with_30%mislabel_mse': [[0.48129032258064514,\n",
       "   0.2530645161290323,\n",
       "   -0.06664473684210503]],\n",
       " 'poissonlevel1_with_40%mislabel_mse': [[0.47677419354838707,\n",
       "   0.24985806451612905,\n",
       "   -0.05312982456140314]]}"
      ]
     },
     "execution_count": 222,
     "metadata": {},
     "output_type": "execute_result"
    }
   ],
   "source": [
    "poisson_results"
   ]
  },
  {
   "cell_type": "code",
   "execution_count": 223,
   "metadata": {},
   "outputs": [
    {
     "name": "stderr",
     "output_type": "stream",
     "text": [
      "/home/apurva/anaconda3/envs/scikitlearnoriginal/scikit-learn/sklearn/ensemble/_forest.py:394: FutureWarning: Criterion 'mae' was deprecated in v1.0 and will be removed in version 1.2. Use `criterion='absolute_error'` which is equivalent.\n",
      "  warn(\n"
     ]
    },
    {
     "name": "stdout",
     "output_type": "stream",
     "text": [
      "0.5819354838709677\n",
      "-0.6499070175438595\n"
     ]
    },
    {
     "name": "stderr",
     "output_type": "stream",
     "text": [
      "/home/apurva/anaconda3/envs/scikitlearnoriginal/scikit-learn/sklearn/ensemble/_forest.py:394: FutureWarning: Criterion 'mae' was deprecated in v1.0 and will be removed in version 1.2. Use `criterion='absolute_error'` which is equivalent.\n",
      "  warn(\n"
     ]
    },
    {
     "name": "stdout",
     "output_type": "stream",
     "text": [
      "0.5306451612903226\n",
      "-0.2197004385964909\n"
     ]
    },
    {
     "name": "stderr",
     "output_type": "stream",
     "text": [
      "/home/apurva/anaconda3/envs/scikitlearnoriginal/scikit-learn/sklearn/ensemble/_forest.py:394: FutureWarning: Criterion 'mae' was deprecated in v1.0 and will be removed in version 1.2. Use `criterion='absolute_error'` which is equivalent.\n",
      "  warn(\n"
     ]
    },
    {
     "name": "stdout",
     "output_type": "stream",
     "text": [
      "0.4880645161290323\n",
      "-0.07818815789473654\n"
     ]
    },
    {
     "name": "stderr",
     "output_type": "stream",
     "text": [
      "/home/apurva/anaconda3/envs/scikitlearnoriginal/scikit-learn/sklearn/ensemble/_forest.py:394: FutureWarning: Criterion 'mae' was deprecated in v1.0 and will be removed in version 1.2. Use `criterion='absolute_error'` which is equivalent.\n",
      "  warn(\n"
     ]
    },
    {
     "name": "stdout",
     "output_type": "stream",
     "text": [
      "0.48806451612903223\n",
      "-0.012136403508771654\n"
     ]
    },
    {
     "name": "stderr",
     "output_type": "stream",
     "text": [
      "/home/apurva/anaconda3/envs/scikitlearnoriginal/scikit-learn/sklearn/ensemble/_forest.py:394: FutureWarning: Criterion 'mae' was deprecated in v1.0 and will be removed in version 1.2. Use `criterion='absolute_error'` which is equivalent.\n",
      "  warn(\n"
     ]
    },
    {
     "name": "stdout",
     "output_type": "stream",
     "text": [
      "0.5080645161290323\n",
      "-0.09934429824561386\n"
     ]
    },
    {
     "name": "stderr",
     "output_type": "stream",
     "text": [
      "/home/apurva/anaconda3/envs/scikitlearnoriginal/scikit-learn/sklearn/ensemble/_forest.py:394: FutureWarning: Criterion 'mae' was deprecated in v1.0 and will be removed in version 1.2. Use `criterion='absolute_error'` which is equivalent.\n",
      "  warn(\n"
     ]
    },
    {
     "name": "stdout",
     "output_type": "stream",
     "text": [
      "0.51\n",
      "-0.10162850877192975\n"
     ]
    },
    {
     "name": "stderr",
     "output_type": "stream",
     "text": [
      "/home/apurva/anaconda3/envs/scikitlearnoriginal/scikit-learn/sklearn/ensemble/_forest.py:394: FutureWarning: Criterion 'mae' was deprecated in v1.0 and will be removed in version 1.2. Use `criterion='absolute_error'` which is equivalent.\n",
      "  warn(\n"
     ]
    },
    {
     "name": "stdout",
     "output_type": "stream",
     "text": [
      "0.5074193548387097\n",
      "-0.09115921052631548\n"
     ]
    }
   ],
   "source": [
    "##Calling regression function where criterion=mae with mislabelling for Poisson noise where lambda=10\n",
    "poisson_results_l2={}\n",
    "poisson_results_l2['poissonlevel2_without_mislabel_mae'] =[]\n",
    "poisson_results_l2['poissonlevel2_with_10%mislabel_mae'] = []\n",
    "poisson_results_l2['poissonlevel2_with_15%mislabel_mae'] = []\n",
    "poisson_results_l2['poissonlevel2_with_20%mislabel_mae'] = []\n",
    "poisson_results_l2['poissonlevel2_with_25%mislabel_mae'] = []\n",
    "poisson_results_l2['poissonlevel2_with_30%mislabel_mae'] = []\n",
    "poisson_results_l2['poissonlevel2_with_40%mislabel_mae'] = []\n",
    "poisson_results_l2['poissonlevel2_without_mislabel_mae'].append(crit_mae(new_X_train_poisson_10,X_test,y_train,y_test))\n",
    "poisson_results_l2['poissonlevel2_with_10%mislabel_mae'].append(crit_mae(new_X_train_poisson_10,X_test,y_train_10mislabel,y_test))\n",
    "poisson_results_l2['poissonlevel2_with_15%mislabel_mae'].append(crit_mae(new_X_train_poisson_10,X_test,y_train_15mislabel,y_test))\n",
    "poisson_results_l2['poissonlevel2_with_20%mislabel_mae'].append(crit_mae(new_X_train_poisson_10,X_test,y_train_20mislabel,y_test))\n",
    "poisson_results_l2['poissonlevel2_with_25%mislabel_mae'].append(crit_mae(new_X_train_poisson_10,X_test,y_train_25mislabel,y_test))\n",
    "poisson_results_l2['poissonlevel2_with_30%mislabel_mae'].append(crit_mae(new_X_train_poisson_10,X_test,y_train_30mislabel,y_test))\n",
    "poisson_results_l2['poissonlevel2_with_40%mislabel_mae'].append(crit_mae(new_X_train_poisson_10,X_test,y_train_40mislabel,y_test))"
   ]
  },
  {
   "cell_type": "code",
   "execution_count": 225,
   "metadata": {},
   "outputs": [
    {
     "name": "stderr",
     "output_type": "stream",
     "text": [
      "/home/apurva/anaconda3/envs/scikitlearnoriginal/scikit-learn/sklearn/ensemble/_forest.py:387: FutureWarning: Criterion 'mse' was deprecated in v1.0 and will be removed in version 1.2. Use `criterion='squared_error'` which is equivalent.\n",
      "  warn(\n"
     ]
    },
    {
     "name": "stdout",
     "output_type": "stream",
     "text": [
      "0.5280645161290322\n",
      "-0.2716118421052627\n"
     ]
    },
    {
     "name": "stderr",
     "output_type": "stream",
     "text": [
      "/home/apurva/anaconda3/envs/scikitlearnoriginal/scikit-learn/sklearn/ensemble/_forest.py:387: FutureWarning: Criterion 'mse' was deprecated in v1.0 and will be removed in version 1.2. Use `criterion='squared_error'` which is equivalent.\n",
      "  warn(\n"
     ]
    },
    {
     "name": "stdout",
     "output_type": "stream",
     "text": [
      "0.5109677419354839\n",
      "-0.12043245614035025\n"
     ]
    },
    {
     "name": "stderr",
     "output_type": "stream",
     "text": [
      "/home/apurva/anaconda3/envs/scikitlearnoriginal/scikit-learn/sklearn/ensemble/_forest.py:387: FutureWarning: Criterion 'mse' was deprecated in v1.0 and will be removed in version 1.2. Use `criterion='squared_error'` which is equivalent.\n",
      "  warn(\n"
     ]
    },
    {
     "name": "stdout",
     "output_type": "stream",
     "text": [
      "0.5116129032258065\n",
      "-0.12796491228070161\n"
     ]
    },
    {
     "name": "stderr",
     "output_type": "stream",
     "text": [
      "/home/apurva/anaconda3/envs/scikitlearnoriginal/scikit-learn/sklearn/ensemble/_forest.py:387: FutureWarning: Criterion 'mse' was deprecated in v1.0 and will be removed in version 1.2. Use `criterion='squared_error'` which is equivalent.\n",
      "  warn(\n"
     ]
    },
    {
     "name": "stdout",
     "output_type": "stream",
     "text": [
      "0.5203225806451613\n",
      "-0.15378464912280676\n"
     ]
    },
    {
     "name": "stderr",
     "output_type": "stream",
     "text": [
      "/home/apurva/anaconda3/envs/scikitlearnoriginal/scikit-learn/sklearn/ensemble/_forest.py:387: FutureWarning: Criterion 'mse' was deprecated in v1.0 and will be removed in version 1.2. Use `criterion='squared_error'` which is equivalent.\n",
      "  warn(\n"
     ]
    },
    {
     "name": "stdout",
     "output_type": "stream",
     "text": [
      "0.49580645161290327\n",
      "-0.04068903508771915\n"
     ]
    },
    {
     "name": "stderr",
     "output_type": "stream",
     "text": [
      "/home/apurva/anaconda3/envs/scikitlearnoriginal/scikit-learn/sklearn/ensemble/_forest.py:387: FutureWarning: Criterion 'mse' was deprecated in v1.0 and will be removed in version 1.2. Use `criterion='squared_error'` which is equivalent.\n",
      "  warn(\n"
     ]
    },
    {
     "name": "stdout",
     "output_type": "stream",
     "text": [
      "0.4851612903225806\n",
      "-0.04663070175438566\n"
     ]
    },
    {
     "name": "stderr",
     "output_type": "stream",
     "text": [
      "/home/apurva/anaconda3/envs/scikitlearnoriginal/scikit-learn/sklearn/ensemble/_forest.py:387: FutureWarning: Criterion 'mse' was deprecated in v1.0 and will be removed in version 1.2. Use `criterion='squared_error'` which is equivalent.\n",
      "  warn(\n"
     ]
    },
    {
     "name": "stdout",
     "output_type": "stream",
     "text": [
      "0.5061290322580645\n",
      "-0.08743377192982438\n"
     ]
    }
   ],
   "source": [
    "##Calling regression function where criterion=mse with mislabelling for Poisson noise where lambda=10\n",
    "poisson_results_l2['poissonlevel2_without_mislabel_mse'] =[]\n",
    "poisson_results_l2['poissonlevel2_with_10%mislabel_mse'] = []\n",
    "poisson_results_l2['poissonlevel2_with_15%mislabel_mse'] = []\n",
    "poisson_results_l2['poissonlevel2_with_20%mislabel_mse'] = []\n",
    "poisson_results_l2['poissonlevel2_with_25%mislabel_mse'] = []\n",
    "poisson_results_l2['poissonlevel2_with_30%mislabel_mse'] = []\n",
    "poisson_results_l2['poissonlevel2_with_40%mislabel_mse'] = []\n",
    "poisson_results_l2['poissonlevel2_without_mislabel_mse'].append(crit_mse(new_X_train_poisson_10,X_test,y_train,y_test))\n",
    "poisson_results_l2['poissonlevel2_with_10%mislabel_mse'].append(crit_mse(new_X_train_poisson_10,X_test,y_train_10mislabel,y_test))\n",
    "poisson_results_l2['poissonlevel2_with_15%mislabel_mse'].append(crit_mse(new_X_train_poisson_10,X_test,y_train_15mislabel,y_test))\n",
    "poisson_results_l2['poissonlevel2_with_20%mislabel_mse'].append(crit_mse(new_X_train_poisson_10,X_test,y_train_20mislabel,y_test))\n",
    "poisson_results_l2['poissonlevel2_with_25%mislabel_mse'].append(crit_mse(new_X_train_poisson_10,X_test,y_train_25mislabel,y_test))\n",
    "poisson_results_l2['poissonlevel2_with_30%mislabel_mse'].append(crit_mse(new_X_train_poisson_10,X_test,y_train_30mislabel,y_test))\n",
    "poisson_results_l2['poissonlevel2_with_40%mislabel_mse'].append(crit_mse(new_X_train_poisson_10,X_test,y_train_40mislabel,y_test))"
   ]
  },
  {
   "cell_type": "code",
   "execution_count": 226,
   "metadata": {},
   "outputs": [
    {
     "data": {
      "text/plain": [
       "{'poissonlevel2_without_mislabel_mae': [[0.5819354838709677,\n",
       "   0.39144516129032264,\n",
       "   -0.6499070175438595]],\n",
       " 'poissonlevel2_with_10%mislabel_mae': [[0.5306451612903226,\n",
       "   0.28937741935483874,\n",
       "   -0.2197004385964909]],\n",
       " 'poissonlevel2_with_15%mislabel_mae': [[0.4880645161290323,\n",
       "   0.25580322580645165,\n",
       "   -0.07818815789473654]],\n",
       " 'poissonlevel2_with_20%mislabel_mae': [[0.48806451612903223,\n",
       "   0.24013225806451616,\n",
       "   -0.012136403508771654]],\n",
       " 'poissonlevel2_with_25%mislabel_mae': [[0.5080645161290323,\n",
       "   0.26082258064516134,\n",
       "   -0.09934429824561386]],\n",
       " 'poissonlevel2_with_30%mislabel_mae': [[0.51,\n",
       "   0.2613645161290323,\n",
       "   -0.10162850877192975]],\n",
       " 'poissonlevel2_with_40%mislabel_mae': [[0.5074193548387097,\n",
       "   0.25888064516129033,\n",
       "   -0.09115921052631548]],\n",
       " 'poissonlevel2_without_mislabel_mse': [[0.5280645161290322,\n",
       "   0.3016935483870967,\n",
       "   -0.2716118421052627]],\n",
       " 'poissonlevel2_with_10%mislabel_mse': [[0.5109677419354839,\n",
       "   0.26582580645161286,\n",
       "   -0.12043245614035025]],\n",
       " 'poissonlevel2_with_15%mislabel_mse': [[0.5116129032258065,\n",
       "   0.2676129032258065,\n",
       "   -0.12796491228070161]],\n",
       " 'poissonlevel2_with_20%mislabel_mse': [[0.5203225806451613,\n",
       "   0.27373870967741937,\n",
       "   -0.15378464912280676]],\n",
       " 'poissonlevel2_with_25%mislabel_mse': [[0.49580645161290327,\n",
       "   0.24690645161290325,\n",
       "   -0.04068903508771915]],\n",
       " 'poissonlevel2_with_30%mislabel_mse': [[0.4851612903225806,\n",
       "   0.24831612903225805,\n",
       "   -0.04663070175438566]],\n",
       " 'poissonlevel2_with_40%mislabel_mse': [[0.5061290322580645,\n",
       "   0.2579967741935484,\n",
       "   -0.08743377192982438]]}"
      ]
     },
     "execution_count": 226,
     "metadata": {},
     "output_type": "execute_result"
    }
   ],
   "source": [
    "poisson_results_l2"
   ]
  },
  {
   "cell_type": "code",
   "execution_count": null,
   "metadata": {},
   "outputs": [],
   "source": [
    "#########################Uniform Noise################################"
   ]
  },
  {
   "cell_type": "code",
   "execution_count": 227,
   "metadata": {},
   "outputs": [
    {
     "name": "stdout",
     "output_type": "stream",
     "text": [
      "[[0.37454012 0.95071431 0.73199394 ... 0.02058449 0.96990985 0.83244264]\n",
      " [0.21233911 0.18182497 0.18340451 ... 0.36636184 0.45606998 0.78517596]\n",
      " [0.19967378 0.51423444 0.59241457 ... 0.30461377 0.09767211 0.68423303]\n",
      " ...\n",
      " [0.88609344 0.19665358 0.73742609 ... 0.46500952 0.84738793 0.06239407]\n",
      " [0.33527905 0.06701654 0.97534313 ... 0.22936578 0.46910721 0.26856217]\n",
      " [0.10097811 0.16749109 0.14727556 ... 0.29938337 0.23250599 0.12967898]]\n",
      "           age       sex        cp    trestbps        chol       fbs  \\\n",
      "107  45.374540  0.950714  0.731994  138.598658  236.156019  0.155995   \n",
      "155  58.212339  0.181825  0.183405  130.304242  197.524756  0.431945   \n",
      "251  43.199674  1.514234  0.592415  132.046450  247.607545  1.170524   \n",
      "171  48.440152  1.122038  1.495177  110.034389  229.909320  0.258780   \n",
      "53   44.939499  0.894827  2.597900  108.921874  141.088493  0.195983   \n",
      "..         ...       ...       ...         ...         ...       ...   \n",
      "106  69.779103  1.609697  3.699640  160.838155  234.802811  1.960920   \n",
      "83   52.583191  1.592840  3.354925  152.051989  298.031744  1.423335   \n",
      "17   66.886093  0.196654  3.737426  150.286520  226.802640  0.997238   \n",
      "230  47.335279  1.067017  2.975343  108.816974  243.852547  0.937965   \n",
      "98   43.100978  1.167491  2.147276  130.973077  315.759293  0.967761   \n",
      "\n",
      "      restecg     thalach     exang   oldpeak     slope        ca      thal  \n",
      "107  0.058084  152.866176  1.601115  0.908073  1.020584  0.969910  2.832443  \n",
      "155  1.291229  131.611853  0.139494  0.892145  1.366362  0.456070  2.785176  \n",
      "251  0.065052  143.948886  1.965632  0.908397  1.304614  4.097672  3.684233  \n",
      "171  1.662522  168.311711  0.520068  1.546710  0.184854  0.969585  3.775133  \n",
      "53   1.045227  175.325330  0.388677  0.871349  1.828738  0.356753  2.280935  \n",
      "..        ...         ...       ...       ...       ...       ...       ...  \n",
      "106  0.535935  131.488496  0.401887  0.253691  1.572607  1.277013  2.921308  \n",
      "83   1.084565  178.606847  0.880973  2.082915  1.659045  0.211232  3.862997  \n",
      "17   1.030026  114.897366  0.622631  3.573383  0.465010  0.847388  2.062394  \n",
      "230  1.085103  152.385598  0.071035  0.210793  2.229366  0.469107  2.268562  \n",
      "98   1.439740  162.278368  0.798293  2.226254  2.299383  1.232506  2.129679  \n",
      "\n",
      "[272 rows x 13 columns]\n"
     ]
    }
   ],
   "source": [
    "np.random.seed(42)\n",
    "noise = np.random.uniform(low=0.0, high=1.0, size=X_train.shape)\n",
    "print(noise)\n",
    "new_X_train_uniform = X_train + noise\n",
    "print(new_X_train_uniform)"
   ]
  },
  {
   "cell_type": "code",
   "execution_count": 264,
   "metadata": {},
   "outputs": [],
   "source": [
    "new_X_train_uniform.to_csv('new_X_train_uniform.csv', index=True)"
   ]
  },
  {
   "cell_type": "code",
   "execution_count": 228,
   "metadata": {},
   "outputs": [
    {
     "name": "stderr",
     "output_type": "stream",
     "text": [
      "/home/apurva/anaconda3/envs/scikitlearnoriginal/scikit-learn/sklearn/ensemble/_forest.py:394: FutureWarning: Criterion 'mae' was deprecated in v1.0 and will be removed in version 1.2. Use `criterion='absolute_error'` which is equivalent.\n",
      "  warn(\n"
     ]
    },
    {
     "name": "stdout",
     "output_type": "stream",
     "text": [
      "0.3264516129032258\n",
      "0.2618736842105265\n"
     ]
    },
    {
     "data": {
      "text/plain": [
       "[0.3264516129032258, 0.1751225806451613, 0.2618736842105265]"
      ]
     },
     "execution_count": 228,
     "metadata": {},
     "output_type": "execute_result"
    }
   ],
   "source": [
    "crit_mae(X_train,X_test,y_train,y_test)"
   ]
  },
  {
   "cell_type": "code",
   "execution_count": 229,
   "metadata": {},
   "outputs": [
    {
     "name": "stderr",
     "output_type": "stream",
     "text": [
      "/home/apurva/anaconda3/envs/scikitlearnoriginal/scikit-learn/sklearn/ensemble/_forest.py:394: FutureWarning: Criterion 'mae' was deprecated in v1.0 and will be removed in version 1.2. Use `criterion='absolute_error'` which is equivalent.\n",
      "  warn(\n"
     ]
    },
    {
     "name": "stdout",
     "output_type": "stream",
     "text": [
      "0.517741935483871\n",
      "-0.18630745614035082\n",
      "[0.517741935483871, 0.2814548387096775, -0.18630745614035082]\n"
     ]
    },
    {
     "name": "stderr",
     "output_type": "stream",
     "text": [
      "/home/apurva/anaconda3/envs/scikitlearnoriginal/scikit-learn/sklearn/ensemble/_forest.py:394: FutureWarning: Criterion 'mae' was deprecated in v1.0 and will be removed in version 1.2. Use `criterion='absolute_error'` which is equivalent.\n",
      "  warn(\n"
     ]
    },
    {
     "name": "stdout",
     "output_type": "stream",
     "text": [
      "0.5748387096774193\n",
      "-0.5266684210526311\n",
      "[0.5748387096774193, 0.36220645161290327, -0.5266684210526311]\n"
     ]
    },
    {
     "name": "stderr",
     "output_type": "stream",
     "text": [
      "/home/apurva/anaconda3/envs/scikitlearnoriginal/scikit-learn/sklearn/ensemble/_forest.py:394: FutureWarning: Criterion 'mae' was deprecated in v1.0 and will be removed in version 1.2. Use `criterion='absolute_error'` which is equivalent.\n",
      "  warn(\n"
     ]
    },
    {
     "name": "stdout",
     "output_type": "stream",
     "text": [
      "0.5635483870967741\n",
      "-0.41206359649122826\n",
      "[0.5635483870967741, 0.3350161290322582, -0.41206359649122826]\n"
     ]
    },
    {
     "name": "stderr",
     "output_type": "stream",
     "text": [
      "/home/apurva/anaconda3/envs/scikitlearnoriginal/scikit-learn/sklearn/ensemble/_forest.py:394: FutureWarning: Criterion 'mae' was deprecated in v1.0 and will be removed in version 1.2. Use `criterion='absolute_error'` which is equivalent.\n",
      "  warn(\n"
     ]
    },
    {
     "name": "stdout",
     "output_type": "stream",
     "text": [
      "0.5464516129032259\n",
      "-0.30333245614035054\n",
      "[0.5464516129032259, 0.3092193548387097, -0.30333245614035054]\n"
     ]
    },
    {
     "name": "stderr",
     "output_type": "stream",
     "text": [
      "/home/apurva/anaconda3/envs/scikitlearnoriginal/scikit-learn/sklearn/ensemble/_forest.py:394: FutureWarning: Criterion 'mae' was deprecated in v1.0 and will be removed in version 1.2. Use `criterion='absolute_error'` which is equivalent.\n",
      "  warn(\n"
     ]
    },
    {
     "name": "stdout",
     "output_type": "stream",
     "text": [
      "0.5351612903225806\n",
      "-0.23878991228070134\n",
      "[0.5351612903225806, 0.29390645161290324, -0.23878991228070134]\n"
     ]
    },
    {
     "name": "stderr",
     "output_type": "stream",
     "text": [
      "/home/apurva/anaconda3/envs/scikitlearnoriginal/scikit-learn/sklearn/ensemble/_forest.py:394: FutureWarning: Criterion 'mae' was deprecated in v1.0 and will be removed in version 1.2. Use `criterion='absolute_error'` which is equivalent.\n",
      "  warn(\n"
     ]
    },
    {
     "name": "stdout",
     "output_type": "stream",
     "text": [
      "0.5467741935483871\n",
      "-0.28156447368421\n",
      "[0.5467741935483871, 0.30405483870967737, -0.28156447368421]\n"
     ]
    }
   ],
   "source": [
    "##Calling regression function where criterion=mae with mislabelling for Uniform noise \n",
    "print(crit_mae(new_X_train_uniform,X_test,y_train_10mislabel,y_test))\n",
    "print(crit_mae(new_X_train_uniform,X_test,y_train_15mislabel,y_test))\n",
    "print(crit_mae(new_X_train_uniform,X_test,y_train_20mislabel,y_test))\n",
    "print(crit_mae(new_X_train_uniform,X_test,y_train_25mislabel,y_test))\n",
    "print(crit_mae(new_X_train_uniform,X_test,y_train_30mislabel,y_test))\n",
    "print(crit_mae(new_X_train_uniform,X_test,y_train_40mislabel,y_test))"
   ]
  },
  {
   "cell_type": "code",
   "execution_count": 230,
   "metadata": {},
   "outputs": [
    {
     "name": "stderr",
     "output_type": "stream",
     "text": [
      "/home/apurva/anaconda3/envs/scikitlearnoriginal/scikit-learn/sklearn/ensemble/_forest.py:387: FutureWarning: Criterion 'mse' was deprecated in v1.0 and will be removed in version 1.2. Use `criterion='squared_error'` which is equivalent.\n",
      "  warn(\n"
     ]
    },
    {
     "name": "stdout",
     "output_type": "stream",
     "text": [
      "0.4438709677419355\n",
      "0.037531578947368804\n",
      "[0.4438709677419355, 0.22834838709677416, 0.037531578947368804]\n"
     ]
    },
    {
     "name": "stderr",
     "output_type": "stream",
     "text": [
      "/home/apurva/anaconda3/envs/scikitlearnoriginal/scikit-learn/sklearn/ensemble/_forest.py:387: FutureWarning: Criterion 'mse' was deprecated in v1.0 and will be removed in version 1.2. Use `criterion='squared_error'` which is equivalent.\n",
      "  warn(\n"
     ]
    },
    {
     "name": "stdout",
     "output_type": "stream",
     "text": [
      "0.4929032258064517\n",
      "-0.10346403508771918\n",
      "[0.4929032258064517, 0.2618000000000001, -0.10346403508771918]\n"
     ]
    },
    {
     "name": "stderr",
     "output_type": "stream",
     "text": [
      "/home/apurva/anaconda3/envs/scikitlearnoriginal/scikit-learn/sklearn/ensemble/_forest.py:387: FutureWarning: Criterion 'mse' was deprecated in v1.0 and will be removed in version 1.2. Use `criterion='squared_error'` which is equivalent.\n",
      "  warn(\n"
     ]
    },
    {
     "name": "stdout",
     "output_type": "stream",
     "text": [
      "0.4887096774193548\n",
      "-0.08389868421052604\n",
      "[0.4887096774193548, 0.25715806451612905, -0.08389868421052604]\n"
     ]
    },
    {
     "name": "stderr",
     "output_type": "stream",
     "text": [
      "/home/apurva/anaconda3/envs/scikitlearnoriginal/scikit-learn/sklearn/ensemble/_forest.py:387: FutureWarning: Criterion 'mse' was deprecated in v1.0 and will be removed in version 1.2. Use `criterion='squared_error'` which is equivalent.\n",
      "  warn(\n"
     ]
    },
    {
     "name": "stdout",
     "output_type": "stream",
     "text": [
      "0.48322580645161284\n",
      "-0.05791578947368392\n",
      "[0.48322580645161284, 0.25099354838709675, -0.05791578947368392]\n"
     ]
    },
    {
     "name": "stderr",
     "output_type": "stream",
     "text": [
      "/home/apurva/anaconda3/envs/scikitlearnoriginal/scikit-learn/sklearn/ensemble/_forest.py:387: FutureWarning: Criterion 'mse' was deprecated in v1.0 and will be removed in version 1.2. Use `criterion='squared_error'` which is equivalent.\n",
      "  warn(\n"
     ]
    },
    {
     "name": "stdout",
     "output_type": "stream",
     "text": [
      "0.48129032258064525\n",
      "-0.008098245614034827\n",
      "[0.48129032258064525, 0.23917419354838712, -0.008098245614034827]\n"
     ]
    },
    {
     "name": "stderr",
     "output_type": "stream",
     "text": [
      "/home/apurva/anaconda3/envs/scikitlearnoriginal/scikit-learn/sklearn/ensemble/_forest.py:387: FutureWarning: Criterion 'mse' was deprecated in v1.0 and will be removed in version 1.2. Use `criterion='squared_error'` which is equivalent.\n",
      "  warn(\n"
     ]
    },
    {
     "name": "stdout",
     "output_type": "stream",
     "text": [
      "0.5145161290322581\n",
      "-0.14361447368421065\n",
      "[0.5145161290322581, 0.27132580645161297, -0.14361447368421065]\n"
     ]
    }
   ],
   "source": [
    "##Calling regression function where criterion=mse with mislabelling for Uniform noise \n",
    "print(crit_mse(new_X_train_uniform,X_test,y_train_10mislabel,y_test))\n",
    "print(crit_mse(new_X_train_uniform,X_test,y_train_15mislabel,y_test))\n",
    "print(crit_mse(new_X_train_uniform,X_test,y_train_20mislabel,y_test))\n",
    "print(crit_mse(new_X_train_uniform,X_test,y_train_25mislabel,y_test))\n",
    "print(crit_mse(new_X_train_uniform,X_test,y_train_30mislabel,y_test))\n",
    "print(crit_mse(new_X_train_uniform,X_test,y_train_40mislabel,y_test))"
   ]
  },
  {
   "cell_type": "code",
   "execution_count": null,
   "metadata": {},
   "outputs": [],
   "source": [
    "#########################Spike Noise################################"
   ]
  },
  {
   "cell_type": "code",
   "execution_count": 231,
   "metadata": {},
   "outputs": [
    {
     "data": {
      "text/html": [
       "<div>\n",
       "<style scoped>\n",
       "    .dataframe tbody tr th:only-of-type {\n",
       "        vertical-align: middle;\n",
       "    }\n",
       "\n",
       "    .dataframe tbody tr th {\n",
       "        vertical-align: top;\n",
       "    }\n",
       "\n",
       "    .dataframe thead th {\n",
       "        text-align: right;\n",
       "    }\n",
       "</style>\n",
       "<table border=\"1\" class=\"dataframe\">\n",
       "  <thead>\n",
       "    <tr style=\"text-align: right;\">\n",
       "      <th></th>\n",
       "      <th>age</th>\n",
       "      <th>sex</th>\n",
       "      <th>cp</th>\n",
       "      <th>trestbps</th>\n",
       "      <th>chol</th>\n",
       "      <th>fbs</th>\n",
       "      <th>restecg</th>\n",
       "      <th>thalach</th>\n",
       "      <th>exang</th>\n",
       "      <th>oldpeak</th>\n",
       "      <th>slope</th>\n",
       "      <th>ca</th>\n",
       "      <th>thal</th>\n",
       "    </tr>\n",
       "  </thead>\n",
       "  <tbody>\n",
       "    <tr>\n",
       "      <th>107</th>\n",
       "      <td>NaN</td>\n",
       "      <td>NaN</td>\n",
       "      <td>NaN</td>\n",
       "      <td>138.0</td>\n",
       "      <td>236</td>\n",
       "      <td>NaN</td>\n",
       "      <td>NaN</td>\n",
       "      <td>152.0</td>\n",
       "      <td>NaN</td>\n",
       "      <td>NaN</td>\n",
       "      <td>NaN</td>\n",
       "      <td>NaN</td>\n",
       "      <td>NaN</td>\n",
       "    </tr>\n",
       "    <tr>\n",
       "      <th>155</th>\n",
       "      <td>NaN</td>\n",
       "      <td>NaN</td>\n",
       "      <td>NaN</td>\n",
       "      <td>130.0</td>\n",
       "      <td>197</td>\n",
       "      <td>NaN</td>\n",
       "      <td>NaN</td>\n",
       "      <td>131.0</td>\n",
       "      <td>NaN</td>\n",
       "      <td>NaN</td>\n",
       "      <td>NaN</td>\n",
       "      <td>NaN</td>\n",
       "      <td>NaN</td>\n",
       "    </tr>\n",
       "    <tr>\n",
       "      <th>251</th>\n",
       "      <td>NaN</td>\n",
       "      <td>NaN</td>\n",
       "      <td>NaN</td>\n",
       "      <td>132.0</td>\n",
       "      <td>247</td>\n",
       "      <td>NaN</td>\n",
       "      <td>NaN</td>\n",
       "      <td>143.0</td>\n",
       "      <td>NaN</td>\n",
       "      <td>NaN</td>\n",
       "      <td>NaN</td>\n",
       "      <td>NaN</td>\n",
       "      <td>NaN</td>\n",
       "    </tr>\n",
       "    <tr>\n",
       "      <th>171</th>\n",
       "      <td>NaN</td>\n",
       "      <td>NaN</td>\n",
       "      <td>NaN</td>\n",
       "      <td>110.0</td>\n",
       "      <td>229</td>\n",
       "      <td>NaN</td>\n",
       "      <td>NaN</td>\n",
       "      <td>168.0</td>\n",
       "      <td>NaN</td>\n",
       "      <td>NaN</td>\n",
       "      <td>NaN</td>\n",
       "      <td>NaN</td>\n",
       "      <td>NaN</td>\n",
       "    </tr>\n",
       "    <tr>\n",
       "      <th>53</th>\n",
       "      <td>NaN</td>\n",
       "      <td>NaN</td>\n",
       "      <td>NaN</td>\n",
       "      <td>108.0</td>\n",
       "      <td>141</td>\n",
       "      <td>NaN</td>\n",
       "      <td>NaN</td>\n",
       "      <td>175.0</td>\n",
       "      <td>NaN</td>\n",
       "      <td>NaN</td>\n",
       "      <td>NaN</td>\n",
       "      <td>NaN</td>\n",
       "      <td>NaN</td>\n",
       "    </tr>\n",
       "    <tr>\n",
       "      <th>...</th>\n",
       "      <td>...</td>\n",
       "      <td>...</td>\n",
       "      <td>...</td>\n",
       "      <td>...</td>\n",
       "      <td>...</td>\n",
       "      <td>...</td>\n",
       "      <td>...</td>\n",
       "      <td>...</td>\n",
       "      <td>...</td>\n",
       "      <td>...</td>\n",
       "      <td>...</td>\n",
       "      <td>...</td>\n",
       "      <td>...</td>\n",
       "    </tr>\n",
       "    <tr>\n",
       "      <th>106</th>\n",
       "      <td>NaN</td>\n",
       "      <td>NaN</td>\n",
       "      <td>NaN</td>\n",
       "      <td>160.0</td>\n",
       "      <td>234</td>\n",
       "      <td>NaN</td>\n",
       "      <td>NaN</td>\n",
       "      <td>131.0</td>\n",
       "      <td>NaN</td>\n",
       "      <td>NaN</td>\n",
       "      <td>NaN</td>\n",
       "      <td>NaN</td>\n",
       "      <td>NaN</td>\n",
       "    </tr>\n",
       "    <tr>\n",
       "      <th>83</th>\n",
       "      <td>NaN</td>\n",
       "      <td>NaN</td>\n",
       "      <td>NaN</td>\n",
       "      <td>152.0</td>\n",
       "      <td>298</td>\n",
       "      <td>NaN</td>\n",
       "      <td>NaN</td>\n",
       "      <td>178.0</td>\n",
       "      <td>NaN</td>\n",
       "      <td>NaN</td>\n",
       "      <td>NaN</td>\n",
       "      <td>NaN</td>\n",
       "      <td>NaN</td>\n",
       "    </tr>\n",
       "    <tr>\n",
       "      <th>17</th>\n",
       "      <td>NaN</td>\n",
       "      <td>NaN</td>\n",
       "      <td>NaN</td>\n",
       "      <td>150.0</td>\n",
       "      <td>226</td>\n",
       "      <td>NaN</td>\n",
       "      <td>NaN</td>\n",
       "      <td>114.0</td>\n",
       "      <td>NaN</td>\n",
       "      <td>NaN</td>\n",
       "      <td>NaN</td>\n",
       "      <td>NaN</td>\n",
       "      <td>NaN</td>\n",
       "    </tr>\n",
       "    <tr>\n",
       "      <th>230</th>\n",
       "      <td>NaN</td>\n",
       "      <td>NaN</td>\n",
       "      <td>NaN</td>\n",
       "      <td>108.0</td>\n",
       "      <td>243</td>\n",
       "      <td>NaN</td>\n",
       "      <td>NaN</td>\n",
       "      <td>152.0</td>\n",
       "      <td>NaN</td>\n",
       "      <td>NaN</td>\n",
       "      <td>NaN</td>\n",
       "      <td>NaN</td>\n",
       "      <td>NaN</td>\n",
       "    </tr>\n",
       "    <tr>\n",
       "      <th>98</th>\n",
       "      <td>NaN</td>\n",
       "      <td>NaN</td>\n",
       "      <td>NaN</td>\n",
       "      <td>130.0</td>\n",
       "      <td>315</td>\n",
       "      <td>NaN</td>\n",
       "      <td>NaN</td>\n",
       "      <td>162.0</td>\n",
       "      <td>NaN</td>\n",
       "      <td>NaN</td>\n",
       "      <td>NaN</td>\n",
       "      <td>NaN</td>\n",
       "      <td>NaN</td>\n",
       "    </tr>\n",
       "  </tbody>\n",
       "</table>\n",
       "<p>272 rows × 13 columns</p>\n",
       "</div>"
      ],
      "text/plain": [
       "     age  sex  cp  trestbps  chol  fbs  restecg  thalach  exang  oldpeak  \\\n",
       "107  NaN  NaN NaN     138.0   236  NaN      NaN    152.0    NaN      NaN   \n",
       "155  NaN  NaN NaN     130.0   197  NaN      NaN    131.0    NaN      NaN   \n",
       "251  NaN  NaN NaN     132.0   247  NaN      NaN    143.0    NaN      NaN   \n",
       "171  NaN  NaN NaN     110.0   229  NaN      NaN    168.0    NaN      NaN   \n",
       "53   NaN  NaN NaN     108.0   141  NaN      NaN    175.0    NaN      NaN   \n",
       "..   ...  ...  ..       ...   ...  ...      ...      ...    ...      ...   \n",
       "106  NaN  NaN NaN     160.0   234  NaN      NaN    131.0    NaN      NaN   \n",
       "83   NaN  NaN NaN     152.0   298  NaN      NaN    178.0    NaN      NaN   \n",
       "17   NaN  NaN NaN     150.0   226  NaN      NaN    114.0    NaN      NaN   \n",
       "230  NaN  NaN NaN     108.0   243  NaN      NaN    152.0    NaN      NaN   \n",
       "98   NaN  NaN NaN     130.0   315  NaN      NaN    162.0    NaN      NaN   \n",
       "\n",
       "     slope  ca  thal  \n",
       "107    NaN NaN   NaN  \n",
       "155    NaN NaN   NaN  \n",
       "251    NaN NaN   NaN  \n",
       "171    NaN NaN   NaN  \n",
       "53     NaN NaN   NaN  \n",
       "..     ...  ..   ...  \n",
       "106    NaN NaN   NaN  \n",
       "83     NaN NaN   NaN  \n",
       "17     NaN NaN   NaN  \n",
       "230    NaN NaN   NaN  \n",
       "98     NaN NaN   NaN  \n",
       "\n",
       "[272 rows x 13 columns]"
      ]
     },
     "execution_count": 231,
     "metadata": {},
     "output_type": "execute_result"
    }
   ],
   "source": [
    "X_train[X_train > 100]"
   ]
  },
  {
   "cell_type": "code",
   "execution_count": 232,
   "metadata": {},
   "outputs": [
    {
     "data": {
      "text/plain": [
       "[<matplotlib.lines.Line2D at 0x7f2ea9b55d30>,\n",
       " <matplotlib.lines.Line2D at 0x7f2ea9b55cd0>,\n",
       " <matplotlib.lines.Line2D at 0x7f2ea9b55e80>,\n",
       " <matplotlib.lines.Line2D at 0x7f2ea9b55fa0>,\n",
       " <matplotlib.lines.Line2D at 0x7f2ea9b66100>,\n",
       " <matplotlib.lines.Line2D at 0x7f2ea9b66220>,\n",
       " <matplotlib.lines.Line2D at 0x7f2ea9b66340>,\n",
       " <matplotlib.lines.Line2D at 0x7f2ea9b66460>,\n",
       " <matplotlib.lines.Line2D at 0x7f2ea9b66580>,\n",
       " <matplotlib.lines.Line2D at 0x7f2ea9b666a0>,\n",
       " <matplotlib.lines.Line2D at 0x7f2eaa21e790>,\n",
       " <matplotlib.lines.Line2D at 0x7f2ea9b667c0>,\n",
       " <matplotlib.lines.Line2D at 0x7f2ea9b669d0>]"
      ]
     },
     "execution_count": 232,
     "metadata": {},
     "output_type": "execute_result"
    },
    {
     "data": {
      "image/png": "[encoded data removed]",
      "text/plain": [
       "<Figure size 432x288 with 1 Axes>"
      ]
     },
     "metadata": {
      "needs_background": "light"
     },
     "output_type": "display_data"
    }
   ],
   "source": [
    "import numpy as np                    \n",
    "import matplotlib.pyplot as plt \n",
    "from scipy.signal import find_peaks \n",
    "plt.plot(X_train)"
   ]
  },
  {
   "cell_type": "code",
   "execution_count": 233,
   "metadata": {},
   "outputs": [],
   "source": [
    "npX_train=X_train.to_numpy()\n",
    "from scipy.signal import argrelextrema\n",
    "c_max_index = argrelextrema(npX_train, np.greater)"
   ]
  },
  {
   "cell_type": "code",
   "execution_count": 234,
   "metadata": {},
   "outputs": [
    {
     "name": "stdout",
     "output_type": "stream",
     "text": [
      "[[58.  0.  0. ...  1.  0.  2.]\n",
      " [58.  0.  0. ...  1.  0.  2.]\n",
      " [58.  0.  0. ...  1.  0.  2.]\n",
      " ...\n",
      " [52.  1.  3. ...  1.  0.  3.]\n",
      " [66.  0.  3. ...  0.  0.  2.]\n",
      " [66.  0.  3. ...  0.  0.  2.]]\n"
     ]
    }
   ],
   "source": [
    "print(npX_train[c_max_index[0]])#peak points"
   ]
  },
  {
   "cell_type": "code",
   "execution_count": 235,
   "metadata": {},
   "outputs": [
    {
     "ename": "ValueError",
     "evalue": "x and y must be the same size",
     "output_type": "error",
     "traceback": [
      "\u001b[0;31m---------------------------------------------------------------------------\u001b[0m",
      "\u001b[0;31mValueError\u001b[0m                                Traceback (most recent call last)",
      "\u001b[0;32m/tmp/ipykernel_29397/455286714.py\u001b[0m in \u001b[0;36m<module>\u001b[0;34m\u001b[0m\n\u001b[1;32m      1\u001b[0m \u001b[0mplt\u001b[0m\u001b[0;34m.\u001b[0m\u001b[0mplot\u001b[0m\u001b[0;34m(\u001b[0m\u001b[0mnpX_train\u001b[0m\u001b[0;34m)\u001b[0m\u001b[0;34m\u001b[0m\u001b[0;34m\u001b[0m\u001b[0m\n\u001b[0;32m----> 2\u001b[0;31m \u001b[0mplt\u001b[0m\u001b[0;34m.\u001b[0m\u001b[0mscatter\u001b[0m\u001b[0;34m(\u001b[0m\u001b[0mc_max_index\u001b[0m\u001b[0;34m[\u001b[0m\u001b[0;36m0\u001b[0m\u001b[0;34m]\u001b[0m\u001b[0;34m,\u001b[0m\u001b[0mnpX_train\u001b[0m\u001b[0;34m[\u001b[0m\u001b[0mc_max_index\u001b[0m\u001b[0;34m[\u001b[0m\u001b[0;36m0\u001b[0m\u001b[0;34m]\u001b[0m\u001b[0;34m]\u001b[0m\u001b[0;34m,\u001b[0m\u001b[0mlinewidth\u001b[0m\u001b[0;34m=\u001b[0m\u001b[0;36m0.3\u001b[0m\u001b[0;34m,\u001b[0m \u001b[0ms\u001b[0m\u001b[0;34m=\u001b[0m\u001b[0;36m50\u001b[0m\u001b[0;34m,\u001b[0m \u001b[0mc\u001b[0m\u001b[0;34m=\u001b[0m\u001b[0;34m'r'\u001b[0m\u001b[0;34m)\u001b[0m\u001b[0;34m\u001b[0m\u001b[0;34m\u001b[0m\u001b[0m\n\u001b[0m",
      "\u001b[0;32m~/anaconda3/envs/scikitlearnoriginal/lib/python3.9/site-packages/matplotlib/pyplot.py\u001b[0m in \u001b[0;36mscatter\u001b[0;34m(x, y, s, c, marker, cmap, norm, vmin, vmax, alpha, linewidths, edgecolors, plotnonfinite, data, **kwargs)\u001b[0m\n\u001b[1;32m   3066\u001b[0m         \u001b[0mvmin\u001b[0m\u001b[0;34m=\u001b[0m\u001b[0;32mNone\u001b[0m\u001b[0;34m,\u001b[0m \u001b[0mvmax\u001b[0m\u001b[0;34m=\u001b[0m\u001b[0;32mNone\u001b[0m\u001b[0;34m,\u001b[0m \u001b[0malpha\u001b[0m\u001b[0;34m=\u001b[0m\u001b[0;32mNone\u001b[0m\u001b[0;34m,\u001b[0m \u001b[0mlinewidths\u001b[0m\u001b[0;34m=\u001b[0m\u001b[0;32mNone\u001b[0m\u001b[0;34m,\u001b[0m \u001b[0;34m*\u001b[0m\u001b[0;34m,\u001b[0m\u001b[0;34m\u001b[0m\u001b[0;34m\u001b[0m\u001b[0m\n\u001b[1;32m   3067\u001b[0m         edgecolors=None, plotnonfinite=False, data=None, **kwargs):\n\u001b[0;32m-> 3068\u001b[0;31m     __ret = gca().scatter(\n\u001b[0m\u001b[1;32m   3069\u001b[0m         \u001b[0mx\u001b[0m\u001b[0;34m,\u001b[0m \u001b[0my\u001b[0m\u001b[0;34m,\u001b[0m \u001b[0ms\u001b[0m\u001b[0;34m=\u001b[0m\u001b[0ms\u001b[0m\u001b[0;34m,\u001b[0m \u001b[0mc\u001b[0m\u001b[0;34m=\u001b[0m\u001b[0mc\u001b[0m\u001b[0;34m,\u001b[0m \u001b[0mmarker\u001b[0m\u001b[0;34m=\u001b[0m\u001b[0mmarker\u001b[0m\u001b[0;34m,\u001b[0m \u001b[0mcmap\u001b[0m\u001b[0;34m=\u001b[0m\u001b[0mcmap\u001b[0m\u001b[0;34m,\u001b[0m \u001b[0mnorm\u001b[0m\u001b[0;34m=\u001b[0m\u001b[0mnorm\u001b[0m\u001b[0;34m,\u001b[0m\u001b[0;34m\u001b[0m\u001b[0;34m\u001b[0m\u001b[0m\n\u001b[1;32m   3070\u001b[0m         \u001b[0mvmin\u001b[0m\u001b[0;34m=\u001b[0m\u001b[0mvmin\u001b[0m\u001b[0;34m,\u001b[0m \u001b[0mvmax\u001b[0m\u001b[0;34m=\u001b[0m\u001b[0mvmax\u001b[0m\u001b[0;34m,\u001b[0m \u001b[0malpha\u001b[0m\u001b[0;34m=\u001b[0m\u001b[0malpha\u001b[0m\u001b[0;34m,\u001b[0m \u001b[0mlinewidths\u001b[0m\u001b[0;34m=\u001b[0m\u001b[0mlinewidths\u001b[0m\u001b[0;34m,\u001b[0m\u001b[0;34m\u001b[0m\u001b[0;34m\u001b[0m\u001b[0m\n",
      "\u001b[0;32m~/anaconda3/envs/scikitlearnoriginal/lib/python3.9/site-packages/matplotlib/__init__.py\u001b[0m in \u001b[0;36minner\u001b[0;34m(ax, data, *args, **kwargs)\u001b[0m\n\u001b[1;32m   1359\u001b[0m     \u001b[0;32mdef\u001b[0m \u001b[0minner\u001b[0m\u001b[0;34m(\u001b[0m\u001b[0max\u001b[0m\u001b[0;34m,\u001b[0m \u001b[0;34m*\u001b[0m\u001b[0margs\u001b[0m\u001b[0;34m,\u001b[0m \u001b[0mdata\u001b[0m\u001b[0;34m=\u001b[0m\u001b[0;32mNone\u001b[0m\u001b[0;34m,\u001b[0m \u001b[0;34m**\u001b[0m\u001b[0mkwargs\u001b[0m\u001b[0;34m)\u001b[0m\u001b[0;34m:\u001b[0m\u001b[0;34m\u001b[0m\u001b[0;34m\u001b[0m\u001b[0m\n\u001b[1;32m   1360\u001b[0m         \u001b[0;32mif\u001b[0m \u001b[0mdata\u001b[0m \u001b[0;32mis\u001b[0m \u001b[0;32mNone\u001b[0m\u001b[0;34m:\u001b[0m\u001b[0;34m\u001b[0m\u001b[0;34m\u001b[0m\u001b[0m\n\u001b[0;32m-> 1361\u001b[0;31m             \u001b[0;32mreturn\u001b[0m \u001b[0mfunc\u001b[0m\u001b[0;34m(\u001b[0m\u001b[0max\u001b[0m\u001b[0;34m,\u001b[0m \u001b[0;34m*\u001b[0m\u001b[0mmap\u001b[0m\u001b[0;34m(\u001b[0m\u001b[0msanitize_sequence\u001b[0m\u001b[0;34m,\u001b[0m \u001b[0margs\u001b[0m\u001b[0;34m)\u001b[0m\u001b[0;34m,\u001b[0m \u001b[0;34m**\u001b[0m\u001b[0mkwargs\u001b[0m\u001b[0;34m)\u001b[0m\u001b[0;34m\u001b[0m\u001b[0;34m\u001b[0m\u001b[0m\n\u001b[0m\u001b[1;32m   1362\u001b[0m \u001b[0;34m\u001b[0m\u001b[0m\n\u001b[1;32m   1363\u001b[0m         \u001b[0mbound\u001b[0m \u001b[0;34m=\u001b[0m \u001b[0mnew_sig\u001b[0m\u001b[0;34m.\u001b[0m\u001b[0mbind\u001b[0m\u001b[0;34m(\u001b[0m\u001b[0max\u001b[0m\u001b[0;34m,\u001b[0m \u001b[0;34m*\u001b[0m\u001b[0margs\u001b[0m\u001b[0;34m,\u001b[0m \u001b[0;34m**\u001b[0m\u001b[0mkwargs\u001b[0m\u001b[0;34m)\u001b[0m\u001b[0;34m\u001b[0m\u001b[0;34m\u001b[0m\u001b[0m\n",
      "\u001b[0;32m~/anaconda3/envs/scikitlearnoriginal/lib/python3.9/site-packages/matplotlib/axes/_axes.py\u001b[0m in \u001b[0;36mscatter\u001b[0;34m(self, x, y, s, c, marker, cmap, norm, vmin, vmax, alpha, linewidths, edgecolors, plotnonfinite, **kwargs)\u001b[0m\n\u001b[1;32m   4496\u001b[0m         \u001b[0my\u001b[0m \u001b[0;34m=\u001b[0m \u001b[0mnp\u001b[0m\u001b[0;34m.\u001b[0m\u001b[0mma\u001b[0m\u001b[0;34m.\u001b[0m\u001b[0mravel\u001b[0m\u001b[0;34m(\u001b[0m\u001b[0my\u001b[0m\u001b[0;34m)\u001b[0m\u001b[0;34m\u001b[0m\u001b[0;34m\u001b[0m\u001b[0m\n\u001b[1;32m   4497\u001b[0m         \u001b[0;32mif\u001b[0m \u001b[0mx\u001b[0m\u001b[0;34m.\u001b[0m\u001b[0msize\u001b[0m \u001b[0;34m!=\u001b[0m \u001b[0my\u001b[0m\u001b[0;34m.\u001b[0m\u001b[0msize\u001b[0m\u001b[0;34m:\u001b[0m\u001b[0;34m\u001b[0m\u001b[0;34m\u001b[0m\u001b[0m\n\u001b[0;32m-> 4498\u001b[0;31m             \u001b[0;32mraise\u001b[0m \u001b[0mValueError\u001b[0m\u001b[0;34m(\u001b[0m\u001b[0;34m\"x and y must be the same size\"\u001b[0m\u001b[0;34m)\u001b[0m\u001b[0;34m\u001b[0m\u001b[0;34m\u001b[0m\u001b[0m\n\u001b[0m\u001b[1;32m   4499\u001b[0m \u001b[0;34m\u001b[0m\u001b[0m\n\u001b[1;32m   4500\u001b[0m         \u001b[0;32mif\u001b[0m \u001b[0ms\u001b[0m \u001b[0;32mis\u001b[0m \u001b[0;32mNone\u001b[0m\u001b[0;34m:\u001b[0m\u001b[0;34m\u001b[0m\u001b[0;34m\u001b[0m\u001b[0m\n",
      "\u001b[0;31mValueError\u001b[0m: x and y must be the same size"
     ]
    },
    {
     "data": {
      "image/png": "[encoded data removed]",
      "text/plain": [
       "<Figure size 432x288 with 1 Axes>"
      ]
     },
     "metadata": {
      "needs_background": "light"
     },
     "output_type": "display_data"
    }
   ],
   "source": [
    "plt.plot(npX_train)\n",
    "plt.scatter(c_max_index[0],npX_train[c_max_index[0]],linewidth=0.3, s=50, c='r')"
   ]
  },
  {
   "cell_type": "code",
   "execution_count": 237,
   "metadata": {},
   "outputs": [
    {
     "name": "stdout",
     "output_type": "stream",
     "text": [
      "[[51 92 14 ... 87 99 23]\n",
      " [ 2 21 52 ... 20 32 75]\n",
      " [57 21 88 ... 14 61 61]\n",
      " ...\n",
      " [29 11 34 ... 19 66 43]\n",
      " [32 72 60 ... 64  7 44]\n",
      " [86 46 39 ... 25 51 92]]\n",
      "     age  sex  cp  trestbps  chol  fbs  restecg  thalach  exang  oldpeak  \\\n",
      "107   96   92  14       209   296   20       82      238     75     74.2   \n",
      "155   60   21  52       131   284   29       38      132     63     59.6   \n",
      "251  100   22  88       180   337   59       41      234     60     79.1   \n",
      "171   94   62  51       164   292    2       51      174     20     73.0   \n",
      "53   132   59  15       116   230   52        2      258     91     59.6   \n",
      "..   ...  ...  ..       ...   ...  ...      ...      ...    ...      ...   \n",
      "106   98    9  66       192   285   89       13      205     52     98.1   \n",
      "83    92   68  70       243   305    2       86      218     54     16.2   \n",
      "17    95   11  37       160   289   49       85      134     68     49.6   \n",
      "230   79   73  62       116   310   34       81      249     87     95.0   \n",
      "98   129   47  41       205   368   75       46      208     14     19.9   \n",
      "\n",
      "     slope  ca  thal  \n",
      "107     88  99    25  \n",
      "155     21  32    77  \n",
      "251     15  65    64  \n",
      "171     38  17     6  \n",
      "53      71  43     9  \n",
      "..     ...  ..   ...  \n",
      "106     59  78    95  \n",
      "83      93  61    50  \n",
      "17      19  66    45  \n",
      "230     66   7    46  \n",
      "98      27  52    94  \n",
      "\n",
      "[272 rows x 13 columns]\n"
     ]
    }
   ],
   "source": [
    "np.random.seed(42)\n",
    "noise = np.random.randint(low=0.0, high=100, size=X_train.shape)\n",
    "print(noise)\n",
    "new_X_train_spike = X_train + noise\n",
    "print(new_X_train_spike)"
   ]
  },
  {
   "cell_type": "code",
   "execution_count": 238,
   "metadata": {},
   "outputs": [],
   "source": [
    "npX_train=new_X_train_spike.to_numpy()\n",
    "from scipy.signal import argrelextrema\n",
    "c_max_index = argrelextrema(npX_train, np.greater)"
   ]
  },
  {
   "cell_type": "code",
   "execution_count": 239,
   "metadata": {},
   "outputs": [
    {
     "name": "stdout",
     "output_type": "stream",
     "text": [
      "[[ 60.  21.  52. ...  21.  32.  77.]\n",
      " [100.  22.  88. ...  15.  65.  64.]\n",
      " [100.  22.  88. ...  15.  65.  64.]\n",
      " ...\n",
      " [ 79.  73.  62. ...  66.   7.  46.]\n",
      " [ 79.  73.  62. ...  66.   7.  46.]\n",
      " [ 79.  73.  62. ...  66.   7.  46.]]\n"
     ]
    }
   ],
   "source": [
    "print(npX_train[c_max_index[0]])#peak points"
   ]
  },
  {
   "cell_type": "code",
   "execution_count": 240,
   "metadata": {},
   "outputs": [
    {
     "ename": "ValueError",
     "evalue": "x and y must be the same size",
     "output_type": "error",
     "traceback": [
      "\u001b[0;31m---------------------------------------------------------------------------\u001b[0m",
      "\u001b[0;31mValueError\u001b[0m                                Traceback (most recent call last)",
      "\u001b[0;32m/tmp/ipykernel_29397/455286714.py\u001b[0m in \u001b[0;36m<module>\u001b[0;34m\u001b[0m\n\u001b[1;32m      1\u001b[0m \u001b[0mplt\u001b[0m\u001b[0;34m.\u001b[0m\u001b[0mplot\u001b[0m\u001b[0;34m(\u001b[0m\u001b[0mnpX_train\u001b[0m\u001b[0;34m)\u001b[0m\u001b[0;34m\u001b[0m\u001b[0;34m\u001b[0m\u001b[0m\n\u001b[0;32m----> 2\u001b[0;31m \u001b[0mplt\u001b[0m\u001b[0;34m.\u001b[0m\u001b[0mscatter\u001b[0m\u001b[0;34m(\u001b[0m\u001b[0mc_max_index\u001b[0m\u001b[0;34m[\u001b[0m\u001b[0;36m0\u001b[0m\u001b[0;34m]\u001b[0m\u001b[0;34m,\u001b[0m\u001b[0mnpX_train\u001b[0m\u001b[0;34m[\u001b[0m\u001b[0mc_max_index\u001b[0m\u001b[0;34m[\u001b[0m\u001b[0;36m0\u001b[0m\u001b[0;34m]\u001b[0m\u001b[0;34m]\u001b[0m\u001b[0;34m,\u001b[0m\u001b[0mlinewidth\u001b[0m\u001b[0;34m=\u001b[0m\u001b[0;36m0.3\u001b[0m\u001b[0;34m,\u001b[0m \u001b[0ms\u001b[0m\u001b[0;34m=\u001b[0m\u001b[0;36m50\u001b[0m\u001b[0;34m,\u001b[0m \u001b[0mc\u001b[0m\u001b[0;34m=\u001b[0m\u001b[0;34m'r'\u001b[0m\u001b[0;34m)\u001b[0m\u001b[0;34m\u001b[0m\u001b[0;34m\u001b[0m\u001b[0m\n\u001b[0m",
      "\u001b[0;32m~/anaconda3/envs/scikitlearnoriginal/lib/python3.9/site-packages/matplotlib/pyplot.py\u001b[0m in \u001b[0;36mscatter\u001b[0;34m(x, y, s, c, marker, cmap, norm, vmin, vmax, alpha, linewidths, edgecolors, plotnonfinite, data, **kwargs)\u001b[0m\n\u001b[1;32m   3066\u001b[0m         \u001b[0mvmin\u001b[0m\u001b[0;34m=\u001b[0m\u001b[0;32mNone\u001b[0m\u001b[0;34m,\u001b[0m \u001b[0mvmax\u001b[0m\u001b[0;34m=\u001b[0m\u001b[0;32mNone\u001b[0m\u001b[0;34m,\u001b[0m \u001b[0malpha\u001b[0m\u001b[0;34m=\u001b[0m\u001b[0;32mNone\u001b[0m\u001b[0;34m,\u001b[0m \u001b[0mlinewidths\u001b[0m\u001b[0;34m=\u001b[0m\u001b[0;32mNone\u001b[0m\u001b[0;34m,\u001b[0m \u001b[0;34m*\u001b[0m\u001b[0;34m,\u001b[0m\u001b[0;34m\u001b[0m\u001b[0;34m\u001b[0m\u001b[0m\n\u001b[1;32m   3067\u001b[0m         edgecolors=None, plotnonfinite=False, data=None, **kwargs):\n\u001b[0;32m-> 3068\u001b[0;31m     __ret = gca().scatter(\n\u001b[0m\u001b[1;32m   3069\u001b[0m         \u001b[0mx\u001b[0m\u001b[0;34m,\u001b[0m \u001b[0my\u001b[0m\u001b[0;34m,\u001b[0m \u001b[0ms\u001b[0m\u001b[0;34m=\u001b[0m\u001b[0ms\u001b[0m\u001b[0;34m,\u001b[0m \u001b[0mc\u001b[0m\u001b[0;34m=\u001b[0m\u001b[0mc\u001b[0m\u001b[0;34m,\u001b[0m \u001b[0mmarker\u001b[0m\u001b[0;34m=\u001b[0m\u001b[0mmarker\u001b[0m\u001b[0;34m,\u001b[0m \u001b[0mcmap\u001b[0m\u001b[0;34m=\u001b[0m\u001b[0mcmap\u001b[0m\u001b[0;34m,\u001b[0m \u001b[0mnorm\u001b[0m\u001b[0;34m=\u001b[0m\u001b[0mnorm\u001b[0m\u001b[0;34m,\u001b[0m\u001b[0;34m\u001b[0m\u001b[0;34m\u001b[0m\u001b[0m\n\u001b[1;32m   3070\u001b[0m         \u001b[0mvmin\u001b[0m\u001b[0;34m=\u001b[0m\u001b[0mvmin\u001b[0m\u001b[0;34m,\u001b[0m \u001b[0mvmax\u001b[0m\u001b[0;34m=\u001b[0m\u001b[0mvmax\u001b[0m\u001b[0;34m,\u001b[0m \u001b[0malpha\u001b[0m\u001b[0;34m=\u001b[0m\u001b[0malpha\u001b[0m\u001b[0;34m,\u001b[0m \u001b[0mlinewidths\u001b[0m\u001b[0;34m=\u001b[0m\u001b[0mlinewidths\u001b[0m\u001b[0;34m,\u001b[0m\u001b[0;34m\u001b[0m\u001b[0;34m\u001b[0m\u001b[0m\n",
      "\u001b[0;32m~/anaconda3/envs/scikitlearnoriginal/lib/python3.9/site-packages/matplotlib/__init__.py\u001b[0m in \u001b[0;36minner\u001b[0;34m(ax, data, *args, **kwargs)\u001b[0m\n\u001b[1;32m   1359\u001b[0m     \u001b[0;32mdef\u001b[0m \u001b[0minner\u001b[0m\u001b[0;34m(\u001b[0m\u001b[0max\u001b[0m\u001b[0;34m,\u001b[0m \u001b[0;34m*\u001b[0m\u001b[0margs\u001b[0m\u001b[0;34m,\u001b[0m \u001b[0mdata\u001b[0m\u001b[0;34m=\u001b[0m\u001b[0;32mNone\u001b[0m\u001b[0;34m,\u001b[0m \u001b[0;34m**\u001b[0m\u001b[0mkwargs\u001b[0m\u001b[0;34m)\u001b[0m\u001b[0;34m:\u001b[0m\u001b[0;34m\u001b[0m\u001b[0;34m\u001b[0m\u001b[0m\n\u001b[1;32m   1360\u001b[0m         \u001b[0;32mif\u001b[0m \u001b[0mdata\u001b[0m \u001b[0;32mis\u001b[0m \u001b[0;32mNone\u001b[0m\u001b[0;34m:\u001b[0m\u001b[0;34m\u001b[0m\u001b[0;34m\u001b[0m\u001b[0m\n\u001b[0;32m-> 1361\u001b[0;31m             \u001b[0;32mreturn\u001b[0m \u001b[0mfunc\u001b[0m\u001b[0;34m(\u001b[0m\u001b[0max\u001b[0m\u001b[0;34m,\u001b[0m \u001b[0;34m*\u001b[0m\u001b[0mmap\u001b[0m\u001b[0;34m(\u001b[0m\u001b[0msanitize_sequence\u001b[0m\u001b[0;34m,\u001b[0m \u001b[0margs\u001b[0m\u001b[0;34m)\u001b[0m\u001b[0;34m,\u001b[0m \u001b[0;34m**\u001b[0m\u001b[0mkwargs\u001b[0m\u001b[0;34m)\u001b[0m\u001b[0;34m\u001b[0m\u001b[0;34m\u001b[0m\u001b[0m\n\u001b[0m\u001b[1;32m   1362\u001b[0m \u001b[0;34m\u001b[0m\u001b[0m\n\u001b[1;32m   1363\u001b[0m         \u001b[0mbound\u001b[0m \u001b[0;34m=\u001b[0m \u001b[0mnew_sig\u001b[0m\u001b[0;34m.\u001b[0m\u001b[0mbind\u001b[0m\u001b[0;34m(\u001b[0m\u001b[0max\u001b[0m\u001b[0;34m,\u001b[0m \u001b[0;34m*\u001b[0m\u001b[0margs\u001b[0m\u001b[0;34m,\u001b[0m \u001b[0;34m**\u001b[0m\u001b[0mkwargs\u001b[0m\u001b[0;34m)\u001b[0m\u001b[0;34m\u001b[0m\u001b[0;34m\u001b[0m\u001b[0m\n",
      "\u001b[0;32m~/anaconda3/envs/scikitlearnoriginal/lib/python3.9/site-packages/matplotlib/axes/_axes.py\u001b[0m in \u001b[0;36mscatter\u001b[0;34m(self, x, y, s, c, marker, cmap, norm, vmin, vmax, alpha, linewidths, edgecolors, plotnonfinite, **kwargs)\u001b[0m\n\u001b[1;32m   4496\u001b[0m         \u001b[0my\u001b[0m \u001b[0;34m=\u001b[0m \u001b[0mnp\u001b[0m\u001b[0;34m.\u001b[0m\u001b[0mma\u001b[0m\u001b[0;34m.\u001b[0m\u001b[0mravel\u001b[0m\u001b[0;34m(\u001b[0m\u001b[0my\u001b[0m\u001b[0;34m)\u001b[0m\u001b[0;34m\u001b[0m\u001b[0;34m\u001b[0m\u001b[0m\n\u001b[1;32m   4497\u001b[0m         \u001b[0;32mif\u001b[0m \u001b[0mx\u001b[0m\u001b[0;34m.\u001b[0m\u001b[0msize\u001b[0m \u001b[0;34m!=\u001b[0m \u001b[0my\u001b[0m\u001b[0;34m.\u001b[0m\u001b[0msize\u001b[0m\u001b[0;34m:\u001b[0m\u001b[0;34m\u001b[0m\u001b[0;34m\u001b[0m\u001b[0m\n\u001b[0;32m-> 4498\u001b[0;31m             \u001b[0;32mraise\u001b[0m \u001b[0mValueError\u001b[0m\u001b[0;34m(\u001b[0m\u001b[0;34m\"x and y must be the same size\"\u001b[0m\u001b[0;34m)\u001b[0m\u001b[0;34m\u001b[0m\u001b[0;34m\u001b[0m\u001b[0m\n\u001b[0m\u001b[1;32m   4499\u001b[0m \u001b[0;34m\u001b[0m\u001b[0m\n\u001b[1;32m   4500\u001b[0m         \u001b[0;32mif\u001b[0m \u001b[0ms\u001b[0m \u001b[0;32mis\u001b[0m \u001b[0;32mNone\u001b[0m\u001b[0;34m:\u001b[0m\u001b[0;34m\u001b[0m\u001b[0;34m\u001b[0m\u001b[0m\n",
      "\u001b[0;31mValueError\u001b[0m: x and y must be the same size"
     ]
    },
    {
     "data": {
      "image/png": "[encoded data removed]",
      "text/plain": [
       "<Figure size 432x288 with 1 Axes>"
      ]
     },
     "metadata": {
      "needs_background": "light"
     },
     "output_type": "display_data"
    }
   ],
   "source": [
    "plt.plot(npX_train)\n",
    "plt.scatter(c_max_index[0],npX_train[c_max_index[0]],linewidth=0.3, s=50, c='r')"
   ]
  },
  {
   "cell_type": "code",
   "execution_count": null,
   "metadata": {},
   "outputs": [],
   "source": [
    "new_X_train_spike.to_csv('new_X_train_spike.csv', index=True)"
   ]
  },
  {
   "cell_type": "code",
   "execution_count": 241,
   "metadata": {},
   "outputs": [
    {
     "name": "stderr",
     "output_type": "stream",
     "text": [
      "/home/apurva/anaconda3/envs/scikitlearnoriginal/scikit-learn/sklearn/ensemble/_forest.py:394: FutureWarning: Criterion 'mae' was deprecated in v1.0 and will be removed in version 1.2. Use `criterion='absolute_error'` which is equivalent.\n",
      "  warn(\n"
     ]
    },
    {
     "name": "stdout",
     "output_type": "stream",
     "text": [
      "0.5180645161290323\n",
      "-0.15616403508771892\n"
     ]
    },
    {
     "data": {
      "text/plain": [
       "[0.5180645161290323, 0.2743032258064516, -0.15616403508771892]"
      ]
     },
     "execution_count": 241,
     "metadata": {},
     "output_type": "execute_result"
    }
   ],
   "source": [
    "crit_mae(new_X_train_spike,X_test,y_train,y_test)"
   ]
  },
  {
   "cell_type": "code",
   "execution_count": 242,
   "metadata": {},
   "outputs": [
    {
     "name": "stderr",
     "output_type": "stream",
     "text": [
      "/home/apurva/anaconda3/envs/scikitlearnoriginal/scikit-learn/sklearn/ensemble/_forest.py:394: FutureWarning: Criterion 'mae' was deprecated in v1.0 and will be removed in version 1.2. Use `criterion='absolute_error'` which is equivalent.\n",
      "  warn(\n"
     ]
    },
    {
     "name": "stdout",
     "output_type": "stream",
     "text": [
      "0.5241935483870968\n",
      "-0.21513201754385913\n",
      "[0.5241935483870968, 0.28829354838709675, -0.21513201754385913]\n"
     ]
    },
    {
     "name": "stderr",
     "output_type": "stream",
     "text": [
      "/home/apurva/anaconda3/envs/scikitlearnoriginal/scikit-learn/sklearn/ensemble/_forest.py:394: FutureWarning: Criterion 'mae' was deprecated in v1.0 and will be removed in version 1.2. Use `criterion='absolute_error'` which is equivalent.\n",
      "  warn(\n"
     ]
    },
    {
     "name": "stdout",
     "output_type": "stream",
     "text": [
      "0.52\n",
      "-0.1583666666666661\n",
      "[0.52, 0.27482580645161286, -0.1583666666666661]\n"
     ]
    },
    {
     "name": "stderr",
     "output_type": "stream",
     "text": [
      "/home/apurva/anaconda3/envs/scikitlearnoriginal/scikit-learn/sklearn/ensemble/_forest.py:394: FutureWarning: Criterion 'mae' was deprecated in v1.0 and will be removed in version 1.2. Use `criterion='absolute_error'` which is equivalent.\n",
      "  warn(\n"
     ]
    },
    {
     "name": "stdout",
     "output_type": "stream",
     "text": [
      "0.4932258064516129\n",
      "-0.02953991228070163\n",
      "[0.4932258064516129, 0.2442612903225807, -0.02953991228070163]\n"
     ]
    },
    {
     "name": "stderr",
     "output_type": "stream",
     "text": [
      "/home/apurva/anaconda3/envs/scikitlearnoriginal/scikit-learn/sklearn/ensemble/_forest.py:394: FutureWarning: Criterion 'mae' was deprecated in v1.0 and will be removed in version 1.2. Use `criterion='absolute_error'` which is equivalent.\n",
      "  warn(\n"
     ]
    },
    {
     "name": "stdout",
     "output_type": "stream",
     "text": [
      "0.5164516129032257\n",
      "-0.1707530701754385\n",
      "[0.5164516129032257, 0.2777645161290323, -0.1707530701754385]\n"
     ]
    },
    {
     "name": "stderr",
     "output_type": "stream",
     "text": [
      "/home/apurva/anaconda3/envs/scikitlearnoriginal/scikit-learn/sklearn/ensemble/_forest.py:394: FutureWarning: Criterion 'mae' was deprecated in v1.0 and will be removed in version 1.2. Use `criterion='absolute_error'` which is equivalent.\n",
      "  warn(\n"
     ]
    },
    {
     "name": "stdout",
     "output_type": "stream",
     "text": [
      "0.5019354838709676\n",
      "-0.067406140350877\n",
      "[0.5019354838709676, 0.25324516129032265, -0.067406140350877]\n"
     ]
    },
    {
     "name": "stderr",
     "output_type": "stream",
     "text": [
      "/home/apurva/anaconda3/envs/scikitlearnoriginal/scikit-learn/sklearn/ensemble/_forest.py:394: FutureWarning: Criterion 'mae' was deprecated in v1.0 and will be removed in version 1.2. Use `criterion='absolute_error'` which is equivalent.\n",
      "  warn(\n"
     ]
    },
    {
     "name": "stdout",
     "output_type": "stream",
     "text": [
      "0.4735483870967741\n",
      "-0.007771929824560875\n",
      "[0.4735483870967741, 0.23909677419354836, -0.007771929824560875]\n"
     ]
    }
   ],
   "source": [
    "#Calling regression function where criterion=mae with mislabelling for Spike noise \n",
    "print(crit_mae(new_X_train_spike,X_test,y_train_10mislabel,y_test))\n",
    "print(crit_mae(new_X_train_spike,X_test,y_train_15mislabel,y_test))\n",
    "print(crit_mae(new_X_train_spike,X_test,y_train_20mislabel,y_test))\n",
    "print(crit_mae(new_X_train_spike,X_test,y_train_25mislabel,y_test))\n",
    "print(crit_mae(new_X_train_spike,X_test,y_train_30mislabel,y_test))\n",
    "print(crit_mae(new_X_train_spike,X_test,y_train_40mislabel,y_test))"
   ]
  },
  {
   "cell_type": "code",
   "execution_count": 243,
   "metadata": {},
   "outputs": [
    {
     "name": "stderr",
     "output_type": "stream",
     "text": [
      "/home/apurva/anaconda3/envs/scikitlearnoriginal/scikit-learn/sklearn/ensemble/_forest.py:387: FutureWarning: Criterion 'mse' was deprecated in v1.0 and will be removed in version 1.2. Use `criterion='squared_error'` which is equivalent.\n",
      "  warn(\n"
     ]
    },
    {
     "name": "stdout",
     "output_type": "stream",
     "text": [
      "0.48451612903225805\n",
      "-0.00034824561403468124\n",
      "[0.48451612903225805, 0.23733548387096776, -0.00034824561403468124]\n"
     ]
    },
    {
     "name": "stderr",
     "output_type": "stream",
     "text": [
      "/home/apurva/anaconda3/envs/scikitlearnoriginal/scikit-learn/sklearn/ensemble/_forest.py:387: FutureWarning: Criterion 'mse' was deprecated in v1.0 and will be removed in version 1.2. Use `criterion='squared_error'` which is equivalent.\n",
      "  warn(\n"
     ]
    },
    {
     "name": "stdout",
     "output_type": "stream",
     "text": [
      "0.4938709677419355\n",
      "-0.03206885964912254\n",
      "[0.4938709677419355, 0.24486129032258064, -0.03206885964912254]\n"
     ]
    },
    {
     "name": "stderr",
     "output_type": "stream",
     "text": [
      "/home/apurva/anaconda3/envs/scikitlearnoriginal/scikit-learn/sklearn/ensemble/_forest.py:387: FutureWarning: Criterion 'mse' was deprecated in v1.0 and will be removed in version 1.2. Use `criterion='squared_error'` which is equivalent.\n",
      "  warn(\n"
     ]
    },
    {
     "name": "stdout",
     "output_type": "stream",
     "text": [
      "0.4732258064516129\n",
      "-0.01803728070175392\n",
      "[0.4732258064516129, 0.2415322580645161, -0.01803728070175392]\n"
     ]
    },
    {
     "name": "stderr",
     "output_type": "stream",
     "text": [
      "/home/apurva/anaconda3/envs/scikitlearnoriginal/scikit-learn/sklearn/ensemble/_forest.py:387: FutureWarning: Criterion 'mse' was deprecated in v1.0 and will be removed in version 1.2. Use `criterion='squared_error'` which is equivalent.\n",
      "  warn(\n"
     ]
    },
    {
     "name": "stdout",
     "output_type": "stream",
     "text": [
      "0.47451612903225804\n",
      "-0.050940789473683745\n",
      "[0.47451612903225804, 0.24933870967741936, -0.050940789473683745]\n"
     ]
    },
    {
     "name": "stderr",
     "output_type": "stream",
     "text": [
      "/home/apurva/anaconda3/envs/scikitlearnoriginal/scikit-learn/sklearn/ensemble/_forest.py:387: FutureWarning: Criterion 'mse' was deprecated in v1.0 and will be removed in version 1.2. Use `criterion='squared_error'` which is equivalent.\n",
      "  warn(\n"
     ]
    },
    {
     "name": "stdout",
     "output_type": "stream",
     "text": [
      "0.4732258064516129\n",
      "-0.03076359649122784\n",
      "[0.4732258064516129, 0.2445516129032258, -0.03076359649122784]\n"
     ]
    },
    {
     "name": "stderr",
     "output_type": "stream",
     "text": [
      "/home/apurva/anaconda3/envs/scikitlearnoriginal/scikit-learn/sklearn/ensemble/_forest.py:387: FutureWarning: Criterion 'mse' was deprecated in v1.0 and will be removed in version 1.2. Use `criterion='squared_error'` which is equivalent.\n",
      "  warn(\n"
     ]
    },
    {
     "name": "stdout",
     "output_type": "stream",
     "text": [
      "0.4767741935483871\n",
      "0.029428070175438914\n",
      "[0.4767741935483871, 0.23027096774193548, 0.029428070175438914]\n"
     ]
    },
    {
     "name": "stderr",
     "output_type": "stream",
     "text": [
      "/home/apurva/anaconda3/envs/scikitlearnoriginal/scikit-learn/sklearn/ensemble/_forest.py:387: FutureWarning: Criterion 'mse' was deprecated in v1.0 and will be removed in version 1.2. Use `criterion='squared_error'` which is equivalent.\n",
      "  warn(\n"
     ]
    },
    {
     "name": "stdout",
     "output_type": "stream",
     "text": [
      "0.4741935483870968\n",
      "-0.07192017543859608\n",
      "[0.4741935483870968, 0.25431612903225803, -0.07192017543859608]\n"
     ]
    }
   ],
   "source": [
    "#Calling regression function where criterion=mse with mislabelling for Spike noise\n",
    "print(crit_mse(new_X_train_spike,X_test,y_train,y_test))\n",
    "print(crit_mse(new_X_train_spike,X_test,y_train_10mislabel,y_test))\n",
    "print(crit_mse(new_X_train_spike,X_test,y_train_15mislabel,y_test))\n",
    "print(crit_mse(new_X_train_spike,X_test,y_train_20mislabel,y_test))\n",
    "print(crit_mse(new_X_train_spike,X_test,y_train_25mislabel,y_test))\n",
    "print(crit_mse(new_X_train_spike,X_test,y_train_30mislabel,y_test))\n",
    "print(crit_mse(new_X_train_spike,X_test,y_train_40mislabel,y_test))"
   ]
  },
  {
   "cell_type": "code",
   "execution_count": null,
   "metadata": {},
   "outputs": [],
   "source": [
    "#########################Salt & Pepper Noise################################"
   ]
  },
  {
   "cell_type": "code",
   "execution_count": 244,
   "metadata": {},
   "outputs": [
    {
     "name": "stdout",
     "output_type": "stream",
     "text": [
      "age          77.0\n",
      "sex           1.0\n",
      "cp            3.0\n",
      "trestbps    192.0\n",
      "chol        564.0\n",
      "fbs           1.0\n",
      "restecg       2.0\n",
      "thalach     202.0\n",
      "exang         1.0\n",
      "oldpeak       5.6\n",
      "slope         2.0\n",
      "ca            4.0\n",
      "thal          3.0\n",
      "dtype: float64\n",
      "age          29.0\n",
      "sex           0.0\n",
      "cp            0.0\n",
      "trestbps     94.0\n",
      "chol        126.0\n",
      "fbs           0.0\n",
      "restecg       0.0\n",
      "thalach      71.0\n",
      "exang         0.0\n",
      "oldpeak       0.0\n",
      "slope         0.0\n",
      "ca            0.0\n",
      "thal          0.0\n",
      "dtype: float64\n"
     ]
    }
   ],
   "source": [
    "maxValues = X_train.max()\n",
    " \n",
    "print(maxValues)\n",
    "minValues = X_train.min()\n",
    " \n",
    "print(minValues)"
   ]
  },
  {
   "cell_type": "code",
   "execution_count": 245,
   "metadata": {},
   "outputs": [
    {
     "name": "stdout",
     "output_type": "stream",
     "text": [
      "[[ 0.49671415 -0.1382643   0.64768854 ... -0.46341769 -0.46572975\n",
      "   0.24196227]\n",
      " [-1.91328024 -1.72491783 -0.56228753 ... -1.42474819 -0.54438272\n",
      "   0.11092259]\n",
      " [-1.15099358  0.37569802 -0.60063869 ...  0.2088636  -1.95967012\n",
      "  -1.32818605]\n",
      " ...\n",
      " [-0.04808851 -0.18315047 -0.35667313 ... -0.06100397  0.50024047\n",
      "  -0.53360031]\n",
      " [ 1.2208213  -0.87677378  1.71204028 ...  0.50274481 -2.49327082\n",
      "  -0.9656648 ]\n",
      " [ 1.62916636 -0.58178203 -1.17387996 ... -1.2390527   2.0958435\n",
      "   1.59444239]]\n"
     ]
    }
   ],
   "source": [
    "####Gaussian Noise Level 1 mu=0  sigma=0.1 ####\n",
    "np.random.seed(42)\n",
    "noise = np.random.normal(0, 1, X_train.shape)\n",
    "print(noise)"
   ]
  },
  {
   "cell_type": "code",
   "execution_count": 246,
   "metadata": {},
   "outputs": [
    {
     "name": "stdout",
     "output_type": "stream",
     "text": [
      "[[0. 0. 1. ... 0. 0. 0.]\n",
      " [0. 0. 0. ... 0. 0. 0.]\n",
      " [0. 0. 0. ... 0. 0. 0.]\n",
      " ...\n",
      " [0. 0. 0. ... 0. 1. 0.]\n",
      " [1. 0. 1. ... 1. 0. 0.]\n",
      " [1. 0. 0. ... 0. 1. 1.]]\n"
     ]
    }
   ],
   "source": [
    "noise[noise < 0.5] = 0\n",
    "noise[noise > 0.5] = 1\n",
    "print(noise)"
   ]
  },
  {
   "cell_type": "code",
   "execution_count": 247,
   "metadata": {},
   "outputs": [],
   "source": [
    "X_train_saltandpepper = X_train"
   ]
  },
  {
   "cell_type": "code",
   "execution_count": 248,
   "metadata": {},
   "outputs": [],
   "source": [
    "X_train_saltandpepper=X_train_saltandpepper.clip(X_train_saltandpepper.max(),axis=1)"
   ]
  },
  {
   "cell_type": "code",
   "execution_count": 249,
   "metadata": {},
   "outputs": [
    {
     "name": "stdout",
     "output_type": "stream",
     "text": [
      "      age  sex   cp  trestbps   chol  fbs  restecg  thalach  exang  oldpeak  \\\n",
      "107  77.0  1.0  4.0     193.0  564.0  1.0      3.0    203.0    1.0      6.6   \n",
      "155  77.0  1.0  3.0     192.0  564.0  1.0      2.0    203.0    1.0      5.6   \n",
      "251  77.0  1.0  3.0     192.0  564.0  2.0      2.0    202.0    2.0      5.6   \n",
      "171  77.0  2.0  3.0     192.0  564.0  1.0      2.0    202.0    2.0      5.6   \n",
      "53   77.0  2.0  4.0     193.0  564.0  1.0      2.0    203.0    1.0      5.6   \n",
      "..    ...  ...  ...       ...    ...  ...      ...      ...    ...      ...   \n",
      "106  77.0  1.0  3.0     192.0  564.0  2.0      2.0    203.0    2.0      5.6   \n",
      "83   77.0  1.0  4.0     193.0  564.0  1.0      2.0    202.0    1.0      5.6   \n",
      "17   77.0  1.0  3.0     193.0  564.0  1.0      2.0    202.0    1.0      5.6   \n",
      "230  78.0  1.0  4.0     192.0  564.0  1.0      2.0    202.0    2.0      5.6   \n",
      "98   78.0  1.0  3.0     192.0  565.0  1.0      2.0    203.0    2.0      5.6   \n",
      "\n",
      "     slope   ca  thal  \n",
      "107    2.0  4.0   3.0  \n",
      "155    2.0  4.0   3.0  \n",
      "251    2.0  4.0   3.0  \n",
      "171    2.0  4.0   3.0  \n",
      "53     2.0  4.0   4.0  \n",
      "..     ...  ...   ...  \n",
      "106    2.0  4.0   3.0  \n",
      "83     3.0  5.0   4.0  \n",
      "17     2.0  5.0   3.0  \n",
      "230    3.0  4.0   3.0  \n",
      "98     2.0  5.0   4.0  \n",
      "\n",
      "[272 rows x 13 columns]\n"
     ]
    }
   ],
   "source": [
    "X_train_saltandpepper = noise + X_train_saltandpepper\n",
    "print(X_train_saltandpepper)"
   ]
  },
  {
   "cell_type": "code",
   "execution_count": 250,
   "metadata": {},
   "outputs": [
    {
     "data": {
      "text/html": [
       "<div>\n",
       "<style scoped>\n",
       "    .dataframe tbody tr th:only-of-type {\n",
       "        vertical-align: middle;\n",
       "    }\n",
       "\n",
       "    .dataframe tbody tr th {\n",
       "        vertical-align: top;\n",
       "    }\n",
       "\n",
       "    .dataframe thead th {\n",
       "        text-align: right;\n",
       "    }\n",
       "</style>\n",
       "<table border=\"1\" class=\"dataframe\">\n",
       "  <thead>\n",
       "    <tr style=\"text-align: right;\">\n",
       "      <th></th>\n",
       "      <th>age</th>\n",
       "      <th>sex</th>\n",
       "      <th>cp</th>\n",
       "      <th>trestbps</th>\n",
       "      <th>chol</th>\n",
       "      <th>fbs</th>\n",
       "      <th>restecg</th>\n",
       "      <th>thalach</th>\n",
       "      <th>exang</th>\n",
       "      <th>oldpeak</th>\n",
       "      <th>slope</th>\n",
       "      <th>ca</th>\n",
       "      <th>thal</th>\n",
       "    </tr>\n",
       "  </thead>\n",
       "  <tbody>\n",
       "    <tr>\n",
       "      <th>107</th>\n",
       "      <td>77.0</td>\n",
       "      <td>1.0</td>\n",
       "      <td>0.0</td>\n",
       "      <td>94.0</td>\n",
       "      <td>564.0</td>\n",
       "      <td>1.0</td>\n",
       "      <td>0.0</td>\n",
       "      <td>71.0</td>\n",
       "      <td>1.0</td>\n",
       "      <td>0.0</td>\n",
       "      <td>2.0</td>\n",
       "      <td>4.0</td>\n",
       "      <td>3.0</td>\n",
       "    </tr>\n",
       "    <tr>\n",
       "      <th>155</th>\n",
       "      <td>77.0</td>\n",
       "      <td>1.0</td>\n",
       "      <td>3.0</td>\n",
       "      <td>192.0</td>\n",
       "      <td>564.0</td>\n",
       "      <td>1.0</td>\n",
       "      <td>2.0</td>\n",
       "      <td>71.0</td>\n",
       "      <td>1.0</td>\n",
       "      <td>5.6</td>\n",
       "      <td>2.0</td>\n",
       "      <td>4.0</td>\n",
       "      <td>3.0</td>\n",
       "    </tr>\n",
       "    <tr>\n",
       "      <th>251</th>\n",
       "      <td>77.0</td>\n",
       "      <td>1.0</td>\n",
       "      <td>3.0</td>\n",
       "      <td>192.0</td>\n",
       "      <td>564.0</td>\n",
       "      <td>0.0</td>\n",
       "      <td>2.0</td>\n",
       "      <td>202.0</td>\n",
       "      <td>0.0</td>\n",
       "      <td>5.6</td>\n",
       "      <td>2.0</td>\n",
       "      <td>4.0</td>\n",
       "      <td>3.0</td>\n",
       "    </tr>\n",
       "    <tr>\n",
       "      <th>171</th>\n",
       "      <td>77.0</td>\n",
       "      <td>0.0</td>\n",
       "      <td>3.0</td>\n",
       "      <td>192.0</td>\n",
       "      <td>564.0</td>\n",
       "      <td>1.0</td>\n",
       "      <td>2.0</td>\n",
       "      <td>202.0</td>\n",
       "      <td>0.0</td>\n",
       "      <td>5.6</td>\n",
       "      <td>2.0</td>\n",
       "      <td>4.0</td>\n",
       "      <td>3.0</td>\n",
       "    </tr>\n",
       "    <tr>\n",
       "      <th>53</th>\n",
       "      <td>77.0</td>\n",
       "      <td>0.0</td>\n",
       "      <td>0.0</td>\n",
       "      <td>94.0</td>\n",
       "      <td>564.0</td>\n",
       "      <td>1.0</td>\n",
       "      <td>2.0</td>\n",
       "      <td>71.0</td>\n",
       "      <td>1.0</td>\n",
       "      <td>5.6</td>\n",
       "      <td>2.0</td>\n",
       "      <td>4.0</td>\n",
       "      <td>0.0</td>\n",
       "    </tr>\n",
       "    <tr>\n",
       "      <th>...</th>\n",
       "      <td>...</td>\n",
       "      <td>...</td>\n",
       "      <td>...</td>\n",
       "      <td>...</td>\n",
       "      <td>...</td>\n",
       "      <td>...</td>\n",
       "      <td>...</td>\n",
       "      <td>...</td>\n",
       "      <td>...</td>\n",
       "      <td>...</td>\n",
       "      <td>...</td>\n",
       "      <td>...</td>\n",
       "      <td>...</td>\n",
       "    </tr>\n",
       "    <tr>\n",
       "      <th>106</th>\n",
       "      <td>77.0</td>\n",
       "      <td>1.0</td>\n",
       "      <td>3.0</td>\n",
       "      <td>192.0</td>\n",
       "      <td>564.0</td>\n",
       "      <td>0.0</td>\n",
       "      <td>2.0</td>\n",
       "      <td>71.0</td>\n",
       "      <td>0.0</td>\n",
       "      <td>5.6</td>\n",
       "      <td>2.0</td>\n",
       "      <td>4.0</td>\n",
       "      <td>3.0</td>\n",
       "    </tr>\n",
       "    <tr>\n",
       "      <th>83</th>\n",
       "      <td>77.0</td>\n",
       "      <td>1.0</td>\n",
       "      <td>0.0</td>\n",
       "      <td>94.0</td>\n",
       "      <td>564.0</td>\n",
       "      <td>1.0</td>\n",
       "      <td>2.0</td>\n",
       "      <td>202.0</td>\n",
       "      <td>1.0</td>\n",
       "      <td>5.6</td>\n",
       "      <td>0.0</td>\n",
       "      <td>0.0</td>\n",
       "      <td>0.0</td>\n",
       "    </tr>\n",
       "    <tr>\n",
       "      <th>17</th>\n",
       "      <td>77.0</td>\n",
       "      <td>1.0</td>\n",
       "      <td>3.0</td>\n",
       "      <td>94.0</td>\n",
       "      <td>564.0</td>\n",
       "      <td>1.0</td>\n",
       "      <td>2.0</td>\n",
       "      <td>202.0</td>\n",
       "      <td>1.0</td>\n",
       "      <td>5.6</td>\n",
       "      <td>2.0</td>\n",
       "      <td>0.0</td>\n",
       "      <td>3.0</td>\n",
       "    </tr>\n",
       "    <tr>\n",
       "      <th>230</th>\n",
       "      <td>29.0</td>\n",
       "      <td>1.0</td>\n",
       "      <td>0.0</td>\n",
       "      <td>192.0</td>\n",
       "      <td>564.0</td>\n",
       "      <td>1.0</td>\n",
       "      <td>2.0</td>\n",
       "      <td>202.0</td>\n",
       "      <td>0.0</td>\n",
       "      <td>5.6</td>\n",
       "      <td>0.0</td>\n",
       "      <td>4.0</td>\n",
       "      <td>3.0</td>\n",
       "    </tr>\n",
       "    <tr>\n",
       "      <th>98</th>\n",
       "      <td>29.0</td>\n",
       "      <td>1.0</td>\n",
       "      <td>3.0</td>\n",
       "      <td>192.0</td>\n",
       "      <td>126.0</td>\n",
       "      <td>1.0</td>\n",
       "      <td>2.0</td>\n",
       "      <td>71.0</td>\n",
       "      <td>0.0</td>\n",
       "      <td>5.6</td>\n",
       "      <td>2.0</td>\n",
       "      <td>0.0</td>\n",
       "      <td>0.0</td>\n",
       "    </tr>\n",
       "  </tbody>\n",
       "</table>\n",
       "<p>272 rows × 13 columns</p>\n",
       "</div>"
      ],
      "text/plain": [
       "      age  sex   cp  trestbps   chol  fbs  restecg  thalach  exang  oldpeak  \\\n",
       "107  77.0  1.0  0.0      94.0  564.0  1.0      0.0     71.0    1.0      0.0   \n",
       "155  77.0  1.0  3.0     192.0  564.0  1.0      2.0     71.0    1.0      5.6   \n",
       "251  77.0  1.0  3.0     192.0  564.0  0.0      2.0    202.0    0.0      5.6   \n",
       "171  77.0  0.0  3.0     192.0  564.0  1.0      2.0    202.0    0.0      5.6   \n",
       "53   77.0  0.0  0.0      94.0  564.0  1.0      2.0     71.0    1.0      5.6   \n",
       "..    ...  ...  ...       ...    ...  ...      ...      ...    ...      ...   \n",
       "106  77.0  1.0  3.0     192.0  564.0  0.0      2.0     71.0    0.0      5.6   \n",
       "83   77.0  1.0  0.0      94.0  564.0  1.0      2.0    202.0    1.0      5.6   \n",
       "17   77.0  1.0  3.0      94.0  564.0  1.0      2.0    202.0    1.0      5.6   \n",
       "230  29.0  1.0  0.0     192.0  564.0  1.0      2.0    202.0    0.0      5.6   \n",
       "98   29.0  1.0  3.0     192.0  126.0  1.0      2.0     71.0    0.0      5.6   \n",
       "\n",
       "     slope   ca  thal  \n",
       "107    2.0  4.0   3.0  \n",
       "155    2.0  4.0   3.0  \n",
       "251    2.0  4.0   3.0  \n",
       "171    2.0  4.0   3.0  \n",
       "53     2.0  4.0   0.0  \n",
       "..     ...  ...   ...  \n",
       "106    2.0  4.0   3.0  \n",
       "83     0.0  0.0   0.0  \n",
       "17     2.0  0.0   3.0  \n",
       "230    0.0  4.0   3.0  \n",
       "98     2.0  0.0   0.0  \n",
       "\n",
       "[272 rows x 13 columns]"
      ]
     },
     "execution_count": 250,
     "metadata": {},
     "output_type": "execute_result"
    }
   ],
   "source": [
    "X_train_saltandpepper.replace(X_train_saltandpepper.max(),X_train.min())"
   ]
  },
  {
   "cell_type": "code",
   "execution_count": 265,
   "metadata": {},
   "outputs": [],
   "source": [
    "X_train_saltandpepper.to_csv('X_train_saltandpepper.csv', index=True)"
   ]
  },
  {
   "cell_type": "code",
   "execution_count": 251,
   "metadata": {
    "scrolled": true
   },
   "outputs": [
    {
     "name": "stderr",
     "output_type": "stream",
     "text": [
      "/home/apurva/anaconda3/envs/scikitlearnoriginal/scikit-learn/sklearn/ensemble/_forest.py:394: FutureWarning: Criterion 'mae' was deprecated in v1.0 and will be removed in version 1.2. Use `criterion='absolute_error'` which is equivalent.\n",
      "  warn(\n"
     ]
    },
    {
     "name": "stdout",
     "output_type": "stream",
     "text": [
      "0.5964516129032259\n",
      "-1.426966885964911\n"
     ]
    },
    {
     "data": {
      "text/plain": [
       "[0.5964516129032259, 0.5758048387096772, -1.426966885964911]"
      ]
     },
     "execution_count": 251,
     "metadata": {},
     "output_type": "execute_result"
    }
   ],
   "source": [
    "crit_mae(X_train_saltandpepper,X_test,y_train,y_test)"
   ]
  },
  {
   "cell_type": "code",
   "execution_count": 252,
   "metadata": {},
   "outputs": [
    {
     "name": "stderr",
     "output_type": "stream",
     "text": [
      "/home/apurva/anaconda3/envs/scikitlearnoriginal/scikit-learn/sklearn/ensemble/_forest.py:394: FutureWarning: Criterion 'mae' was deprecated in v1.0 and will be removed in version 1.2. Use `criterion='absolute_error'` which is equivalent.\n",
      "  warn(\n"
     ]
    },
    {
     "name": "stdout",
     "output_type": "stream",
     "text": [
      "0.5554838709677419\n",
      "-0.5873359649122802\n",
      "[0.5554838709677419, 0.3766, -0.5873359649122802]\n"
     ]
    },
    {
     "name": "stderr",
     "output_type": "stream",
     "text": [
      "/home/apurva/anaconda3/envs/scikitlearnoriginal/scikit-learn/sklearn/ensemble/_forest.py:394: FutureWarning: Criterion 'mae' was deprecated in v1.0 and will be removed in version 1.2. Use `criterion='absolute_error'` which is equivalent.\n",
      "  warn(\n"
     ]
    },
    {
     "name": "stdout",
     "output_type": "stream",
     "text": [
      "0.5520967741935483\n",
      "-0.4895805921052627\n",
      "[0.5520967741935483, 0.3534072580645161, -0.4895805921052627]\n"
     ]
    },
    {
     "name": "stderr",
     "output_type": "stream",
     "text": [
      "/home/apurva/anaconda3/envs/scikitlearnoriginal/scikit-learn/sklearn/ensemble/_forest.py:394: FutureWarning: Criterion 'mae' was deprecated in v1.0 and will be removed in version 1.2. Use `criterion='absolute_error'` which is equivalent.\n",
      "  warn(\n"
     ]
    },
    {
     "name": "stdout",
     "output_type": "stream",
     "text": [
      "0.5564516129032256\n",
      "-0.6336388157894737\n",
      "[0.5564516129032256, 0.38758548387096786, -0.6336388157894737]\n"
     ]
    },
    {
     "name": "stderr",
     "output_type": "stream",
     "text": [
      "/home/apurva/anaconda3/envs/scikitlearnoriginal/scikit-learn/sklearn/ensemble/_forest.py:394: FutureWarning: Criterion 'mae' was deprecated in v1.0 and will be removed in version 1.2. Use `criterion='absolute_error'` which is equivalent.\n",
      "  warn(\n"
     ]
    },
    {
     "name": "stdout",
     "output_type": "stream",
     "text": [
      "0.5503225806451612\n",
      "-0.558994078947368\n",
      "[0.5503225806451612, 0.36987580645161294, -0.558994078947368]\n"
     ]
    },
    {
     "name": "stderr",
     "output_type": "stream",
     "text": [
      "/home/apurva/anaconda3/envs/scikitlearnoriginal/scikit-learn/sklearn/ensemble/_forest.py:394: FutureWarning: Criterion 'mae' was deprecated in v1.0 and will be removed in version 1.2. Use `criterion='absolute_error'` which is equivalent.\n",
      "  warn(\n"
     ]
    },
    {
     "name": "stdout",
     "output_type": "stream",
     "text": [
      "0.527258064516129\n",
      "-0.2764283991228067\n",
      "[0.527258064516129, 0.3028362903225807, -0.2764283991228067]\n"
     ]
    },
    {
     "name": "stderr",
     "output_type": "stream",
     "text": [
      "/home/apurva/anaconda3/envs/scikitlearnoriginal/scikit-learn/sklearn/ensemble/_forest.py:394: FutureWarning: Criterion 'mae' was deprecated in v1.0 and will be removed in version 1.2. Use `criterion='absolute_error'` which is equivalent.\n",
      "  warn(\n"
     ]
    },
    {
     "name": "stdout",
     "output_type": "stream",
     "text": [
      "0.5314516129032258\n",
      "-0.37894594298245554\n",
      "[0.5314516129032258, 0.3271588709677419, -0.37894594298245554]\n"
     ]
    }
   ],
   "source": [
    "#Calling regression function where criterion=mae with mislabelling for Salt&Pepper\n",
    "print(crit_mae(X_train_saltandpepper,X_test,y_train_10mislabel,y_test))\n",
    "print(crit_mae(X_train_saltandpepper,X_test,y_train_15mislabel,y_test))\n",
    "print(crit_mae(X_train_saltandpepper,X_test,y_train_20mislabel,y_test))\n",
    "print(crit_mae(X_train_saltandpepper,X_test,y_train_25mislabel,y_test))\n",
    "print(crit_mae(X_train_saltandpepper,X_test,y_train_30mislabel,y_test))\n",
    "print(crit_mae(X_train_saltandpepper,X_test,y_train_40mislabel,y_test))"
   ]
  },
  {
   "cell_type": "code",
   "execution_count": 253,
   "metadata": {},
   "outputs": [
    {
     "name": "stderr",
     "output_type": "stream",
     "text": [
      "/home/apurva/anaconda3/envs/scikitlearnoriginal/scikit-learn/sklearn/ensemble/_forest.py:387: FutureWarning: Criterion 'mse' was deprecated in v1.0 and will be removed in version 1.2. Use `criterion='squared_error'` which is equivalent.\n",
      "  warn(\n"
     ]
    },
    {
     "name": "stdout",
     "output_type": "stream",
     "text": [
      "0.5861989247311827\n",
      "-1.3131430476364514\n",
      "[0.5861989247311827, 0.5487998073476702, -1.3131430476364514]\n"
     ]
    },
    {
     "name": "stderr",
     "output_type": "stream",
     "text": [
      "/home/apurva/anaconda3/envs/scikitlearnoriginal/scikit-learn/sklearn/ensemble/_forest.py:387: FutureWarning: Criterion 'mse' was deprecated in v1.0 and will be removed in version 1.2. Use `criterion='squared_error'` which is equivalent.\n",
      "  warn(\n"
     ]
    },
    {
     "name": "stdout",
     "output_type": "stream",
     "text": [
      "0.5317688172043011\n",
      "-0.26412127952404085\n",
      "[0.5317688172043011, 0.2999163909796893, -0.26412127952404085]\n"
     ]
    },
    {
     "name": "stderr",
     "output_type": "stream",
     "text": [
      "/home/apurva/anaconda3/envs/scikitlearnoriginal/scikit-learn/sklearn/ensemble/_forest.py:387: FutureWarning: Criterion 'mse' was deprecated in v1.0 and will be removed in version 1.2. Use `criterion='squared_error'` which is equivalent.\n",
      "  warn(\n"
     ]
    },
    {
     "name": "stdout",
     "output_type": "stream",
     "text": [
      "0.5386554019457246\n",
      "-0.3541005829261197\n",
      "[0.5386554019457246, 0.32126423819683186, -0.3541005829261197]\n"
     ]
    },
    {
     "name": "stderr",
     "output_type": "stream",
     "text": [
      "/home/apurva/anaconda3/envs/scikitlearnoriginal/scikit-learn/sklearn/ensemble/_forest.py:387: FutureWarning: Criterion 'mse' was deprecated in v1.0 and will be removed in version 1.2. Use `criterion='squared_error'` which is equivalent.\n",
      "  warn(\n"
     ]
    },
    {
     "name": "stdout",
     "output_type": "stream",
     "text": [
      "0.5361336405529954\n",
      "-0.355447755683852\n",
      "[0.5361336405529954, 0.32158385878867674, -0.355447755683852]\n"
     ]
    },
    {
     "name": "stderr",
     "output_type": "stream",
     "text": [
      "/home/apurva/anaconda3/envs/scikitlearnoriginal/scikit-learn/sklearn/ensemble/_forest.py:387: FutureWarning: Criterion 'mse' was deprecated in v1.0 and will be removed in version 1.2. Use `criterion='squared_error'` which is equivalent.\n",
      "  warn(\n"
     ]
    },
    {
     "name": "stdout",
     "output_type": "stream",
     "text": [
      "0.5214861751152073\n",
      "-0.21312202211630216\n",
      "[0.5214861751152073, 0.2878166712201009, -0.21312202211630216]\n"
     ]
    },
    {
     "name": "stderr",
     "output_type": "stream",
     "text": [
      "/home/apurva/anaconda3/envs/scikitlearnoriginal/scikit-learn/sklearn/ensemble/_forest.py:387: FutureWarning: Criterion 'mse' was deprecated in v1.0 and will be removed in version 1.2. Use `criterion='squared_error'` which is equivalent.\n",
      "  warn(\n"
     ]
    },
    {
     "name": "stdout",
     "output_type": "stream",
     "text": [
      "0.5249639016897082\n",
      "-0.2482567015330983\n",
      "[0.5249639016897082, 0.2961524744532222, -0.2482567015330983]\n"
     ]
    },
    {
     "name": "stderr",
     "output_type": "stream",
     "text": [
      "/home/apurva/anaconda3/envs/scikitlearnoriginal/scikit-learn/sklearn/ensemble/_forest.py:387: FutureWarning: Criterion 'mse' was deprecated in v1.0 and will be removed in version 1.2. Use `criterion='squared_error'` which is equivalent.\n",
      "  warn(\n"
     ]
    },
    {
     "name": "stdout",
     "output_type": "stream",
     "text": [
      "0.5147626728110599\n",
      "-0.16459879500586716\n",
      "[0.5147626728110599, 0.27630439673396234, -0.16459879500586716]\n"
     ]
    }
   ],
   "source": [
    "#Calling regression function where criterion=mse with mislabelling for Salt&Pepper\n",
    "print(crit_mse(X_train_saltandpepper,X_test,y_train,y_test))\n",
    "print(crit_mse(X_train_saltandpepper,X_test,y_train_10mislabel,y_test))\n",
    "print(crit_mse(X_train_saltandpepper,X_test,y_train_15mislabel,y_test))\n",
    "print(crit_mse(X_train_saltandpepper,X_test,y_train_20mislabel,y_test))\n",
    "print(crit_mse(X_train_saltandpepper,X_test,y_train_25mislabel,y_test))\n",
    "print(crit_mse(X_train_saltandpepper,X_test,y_train_30mislabel,y_test))\n",
    "print(crit_mse(X_train_saltandpepper,X_test,y_train_40mislabel,y_test))"
   ]
  },
  {
   "cell_type": "code",
   "execution_count": null,
   "metadata": {},
   "outputs": [],
   "source": []
  }
 ],
 "metadata": {
  "kernelspec": {
   "display_name": "Python 3 (ipykernel)",
   "language": "python",
   "name": "python3"
  },
  "language_info": {
   "codemirror_mode": {
    "name": "ipython",
    "version": 3
   },
   "file_extension": ".py",
   "mimetype": "text/x-python",
   "name": "python",
   "nbconvert_exporter": "python",
   "pygments_lexer": "ipython3",
   "version": "3.9.4"
  }
 },
 "nbformat": 4,
 "nbformat_minor": 4
}
