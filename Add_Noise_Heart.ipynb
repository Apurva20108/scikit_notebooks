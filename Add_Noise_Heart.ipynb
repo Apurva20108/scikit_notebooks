{
 "cells": [
  {
   "cell_type": "code",
   "execution_count": 7,
   "metadata": {},
   "outputs": [],
   "source": [
    "import numpy as np\n",
    "import pandas as pd \n",
    "\n",
    "df=pd.read_csv(\"heart.csv\")"
   ]
  },
  {
   "cell_type": "code",
   "execution_count": 8,
   "metadata": {},
   "outputs": [],
   "source": [
    "from sklearn.ensemble import RandomForestRegressor\n",
    "from sklearn import metrics\n",
    "from sklearn.model_selection import train_test_split"
   ]
  },
  {
   "cell_type": "code",
   "execution_count": 9,
   "metadata": {},
   "outputs": [
    {
     "data": {
      "text/html": [
       "<div>\n",
       "<style scoped>\n",
       "    .dataframe tbody tr th:only-of-type {\n",
       "        vertical-align: middle;\n",
       "    }\n",
       "\n",
       "    .dataframe tbody tr th {\n",
       "        vertical-align: top;\n",
       "    }\n",
       "\n",
       "    .dataframe thead th {\n",
       "        text-align: right;\n",
       "    }\n",
       "</style>\n",
       "<table border=\"1\" class=\"dataframe\">\n",
       "  <thead>\n",
       "    <tr style=\"text-align: right;\">\n",
       "      <th></th>\n",
       "      <th>age</th>\n",
       "      <th>sex</th>\n",
       "      <th>cp</th>\n",
       "      <th>trestbps</th>\n",
       "      <th>chol</th>\n",
       "      <th>fbs</th>\n",
       "      <th>restecg</th>\n",
       "      <th>thalach</th>\n",
       "      <th>exang</th>\n",
       "      <th>oldpeak</th>\n",
       "      <th>slope</th>\n",
       "      <th>ca</th>\n",
       "      <th>thal</th>\n",
       "      <th>target</th>\n",
       "    </tr>\n",
       "  </thead>\n",
       "  <tbody>\n",
       "    <tr>\n",
       "      <th>0</th>\n",
       "      <td>63</td>\n",
       "      <td>1</td>\n",
       "      <td>3</td>\n",
       "      <td>145</td>\n",
       "      <td>233</td>\n",
       "      <td>1</td>\n",
       "      <td>0</td>\n",
       "      <td>150</td>\n",
       "      <td>0</td>\n",
       "      <td>2.3</td>\n",
       "      <td>0</td>\n",
       "      <td>0</td>\n",
       "      <td>1</td>\n",
       "      <td>1</td>\n",
       "    </tr>\n",
       "    <tr>\n",
       "      <th>1</th>\n",
       "      <td>37</td>\n",
       "      <td>1</td>\n",
       "      <td>2</td>\n",
       "      <td>130</td>\n",
       "      <td>250</td>\n",
       "      <td>0</td>\n",
       "      <td>1</td>\n",
       "      <td>187</td>\n",
       "      <td>0</td>\n",
       "      <td>3.5</td>\n",
       "      <td>0</td>\n",
       "      <td>0</td>\n",
       "      <td>2</td>\n",
       "      <td>1</td>\n",
       "    </tr>\n",
       "    <tr>\n",
       "      <th>2</th>\n",
       "      <td>41</td>\n",
       "      <td>0</td>\n",
       "      <td>1</td>\n",
       "      <td>130</td>\n",
       "      <td>204</td>\n",
       "      <td>0</td>\n",
       "      <td>0</td>\n",
       "      <td>172</td>\n",
       "      <td>0</td>\n",
       "      <td>1.4</td>\n",
       "      <td>2</td>\n",
       "      <td>0</td>\n",
       "      <td>2</td>\n",
       "      <td>1</td>\n",
       "    </tr>\n",
       "    <tr>\n",
       "      <th>3</th>\n",
       "      <td>56</td>\n",
       "      <td>1</td>\n",
       "      <td>1</td>\n",
       "      <td>120</td>\n",
       "      <td>236</td>\n",
       "      <td>0</td>\n",
       "      <td>1</td>\n",
       "      <td>178</td>\n",
       "      <td>0</td>\n",
       "      <td>0.8</td>\n",
       "      <td>2</td>\n",
       "      <td>0</td>\n",
       "      <td>2</td>\n",
       "      <td>1</td>\n",
       "    </tr>\n",
       "    <tr>\n",
       "      <th>4</th>\n",
       "      <td>57</td>\n",
       "      <td>0</td>\n",
       "      <td>0</td>\n",
       "      <td>120</td>\n",
       "      <td>354</td>\n",
       "      <td>0</td>\n",
       "      <td>1</td>\n",
       "      <td>163</td>\n",
       "      <td>1</td>\n",
       "      <td>0.6</td>\n",
       "      <td>2</td>\n",
       "      <td>0</td>\n",
       "      <td>2</td>\n",
       "      <td>1</td>\n",
       "    </tr>\n",
       "  </tbody>\n",
       "</table>\n",
       "</div>"
      ],
      "text/plain": [
       "   age  sex  cp  trestbps  chol  fbs  restecg  thalach  exang  oldpeak  slope  \\\n",
       "0   63    1   3       145   233    1        0      150      0      2.3      0   \n",
       "1   37    1   2       130   250    0        1      187      0      3.5      0   \n",
       "2   41    0   1       130   204    0        0      172      0      1.4      2   \n",
       "3   56    1   1       120   236    0        1      178      0      0.8      2   \n",
       "4   57    0   0       120   354    0        1      163      1      0.6      2   \n",
       "\n",
       "   ca  thal  target  \n",
       "0   0     1       1  \n",
       "1   0     2       1  \n",
       "2   0     2       1  \n",
       "3   0     2       1  \n",
       "4   0     2       1  "
      ]
     },
     "execution_count": 9,
     "metadata": {},
     "output_type": "execute_result"
    }
   ],
   "source": [
    "df.head()"
   ]
  },
  {
   "cell_type": "code",
   "execution_count": 10,
   "metadata": {},
   "outputs": [
    {
     "name": "stdout",
     "output_type": "stream",
     "text": [
      "<class 'pandas.core.frame.DataFrame'>\n",
      "RangeIndex: 303 entries, 0 to 302\n",
      "Data columns (total 14 columns):\n",
      " #   Column    Non-Null Count  Dtype  \n",
      "---  ------    --------------  -----  \n",
      " 0   age       303 non-null    int64  \n",
      " 1   sex       303 non-null    int64  \n",
      " 2   cp        303 non-null    int64  \n",
      " 3   trestbps  303 non-null    int64  \n",
      " 4   chol      303 non-null    int64  \n",
      " 5   fbs       303 non-null    int64  \n",
      " 6   restecg   303 non-null    int64  \n",
      " 7   thalach   303 non-null    int64  \n",
      " 8   exang     303 non-null    int64  \n",
      " 9   oldpeak   303 non-null    float64\n",
      " 10  slope     303 non-null    int64  \n",
      " 11  ca        303 non-null    int64  \n",
      " 12  thal      303 non-null    int64  \n",
      " 13  target    303 non-null    int64  \n",
      "dtypes: float64(1), int64(13)\n",
      "memory usage: 33.3 KB\n"
     ]
    }
   ],
   "source": [
    "df.info()"
   ]
  },
  {
   "cell_type": "code",
   "execution_count": 11,
   "metadata": {},
   "outputs": [
    {
     "data": {
      "text/plain": [
       "age         0\n",
       "sex         0\n",
       "cp          0\n",
       "trestbps    0\n",
       "chol        0\n",
       "fbs         0\n",
       "restecg     0\n",
       "thalach     0\n",
       "exang       0\n",
       "oldpeak     0\n",
       "slope       0\n",
       "ca          0\n",
       "thal        0\n",
       "target      0\n",
       "dtype: int64"
      ]
     },
     "execution_count": 11,
     "metadata": {},
     "output_type": "execute_result"
    }
   ],
   "source": [
    " df.isnull().sum()"
   ]
  },
  {
   "cell_type": "code",
   "execution_count": 12,
   "metadata": {},
   "outputs": [
    {
     "name": "stdout",
     "output_type": "stream",
     "text": [
      "num of pepole without heart disease: 138\n",
      "num of pepole with chance for heart disease: 165\n"
     ]
    }
   ],
   "source": [
    "healthy = df[(df['target'] ==0) ].count()[1]\n",
    "sick = df[(df['target'] ==1) ].count()[1]\n",
    "print (\"num of pepole without heart disease: \"+ str(healthy))\n",
    "print (\"num of pepole with chance for heart disease: \"+ str(sick))"
   ]
  },
  {
   "cell_type": "code",
   "execution_count": 13,
   "metadata": {},
   "outputs": [
    {
     "name": "stdout",
     "output_type": "stream",
     "text": [
      "['age', 'sex', 'cp', 'trestbps', 'chol', 'fbs', 'restecg', 'thalach', 'exang', 'oldpeak', 'slope', 'ca', 'thal']\n"
     ]
    }
   ],
   "source": [
    "features = df.columns.tolist()\n",
    "features.remove('target')\n",
    "print(features)\n",
    "X = df[features]\n",
    "y = df[\"target\"]"
   ]
  },
  {
   "cell_type": "code",
   "execution_count": 14,
   "metadata": {},
   "outputs": [],
   "source": [
    "X = df[features]\n",
    "y = df[\"target\"]"
   ]
  },
  {
   "cell_type": "code",
   "execution_count": 15,
   "metadata": {},
   "outputs": [
    {
     "data": {
      "text/html": [
       "<div>\n",
       "<style scoped>\n",
       "    .dataframe tbody tr th:only-of-type {\n",
       "        vertical-align: middle;\n",
       "    }\n",
       "\n",
       "    .dataframe tbody tr th {\n",
       "        vertical-align: top;\n",
       "    }\n",
       "\n",
       "    .dataframe thead th {\n",
       "        text-align: right;\n",
       "    }\n",
       "</style>\n",
       "<table border=\"1\" class=\"dataframe\">\n",
       "  <thead>\n",
       "    <tr style=\"text-align: right;\">\n",
       "      <th></th>\n",
       "      <th>age</th>\n",
       "      <th>sex</th>\n",
       "      <th>cp</th>\n",
       "      <th>trestbps</th>\n",
       "      <th>chol</th>\n",
       "      <th>fbs</th>\n",
       "      <th>restecg</th>\n",
       "      <th>thalach</th>\n",
       "      <th>exang</th>\n",
       "      <th>oldpeak</th>\n",
       "      <th>slope</th>\n",
       "      <th>ca</th>\n",
       "      <th>thal</th>\n",
       "    </tr>\n",
       "  </thead>\n",
       "  <tbody>\n",
       "    <tr>\n",
       "      <th>0</th>\n",
       "      <td>63</td>\n",
       "      <td>1</td>\n",
       "      <td>3</td>\n",
       "      <td>145</td>\n",
       "      <td>233</td>\n",
       "      <td>1</td>\n",
       "      <td>0</td>\n",
       "      <td>150</td>\n",
       "      <td>0</td>\n",
       "      <td>2.3</td>\n",
       "      <td>0</td>\n",
       "      <td>0</td>\n",
       "      <td>1</td>\n",
       "    </tr>\n",
       "    <tr>\n",
       "      <th>1</th>\n",
       "      <td>37</td>\n",
       "      <td>1</td>\n",
       "      <td>2</td>\n",
       "      <td>130</td>\n",
       "      <td>250</td>\n",
       "      <td>0</td>\n",
       "      <td>1</td>\n",
       "      <td>187</td>\n",
       "      <td>0</td>\n",
       "      <td>3.5</td>\n",
       "      <td>0</td>\n",
       "      <td>0</td>\n",
       "      <td>2</td>\n",
       "    </tr>\n",
       "    <tr>\n",
       "      <th>2</th>\n",
       "      <td>41</td>\n",
       "      <td>0</td>\n",
       "      <td>1</td>\n",
       "      <td>130</td>\n",
       "      <td>204</td>\n",
       "      <td>0</td>\n",
       "      <td>0</td>\n",
       "      <td>172</td>\n",
       "      <td>0</td>\n",
       "      <td>1.4</td>\n",
       "      <td>2</td>\n",
       "      <td>0</td>\n",
       "      <td>2</td>\n",
       "    </tr>\n",
       "    <tr>\n",
       "      <th>3</th>\n",
       "      <td>56</td>\n",
       "      <td>1</td>\n",
       "      <td>1</td>\n",
       "      <td>120</td>\n",
       "      <td>236</td>\n",
       "      <td>0</td>\n",
       "      <td>1</td>\n",
       "      <td>178</td>\n",
       "      <td>0</td>\n",
       "      <td>0.8</td>\n",
       "      <td>2</td>\n",
       "      <td>0</td>\n",
       "      <td>2</td>\n",
       "    </tr>\n",
       "    <tr>\n",
       "      <th>4</th>\n",
       "      <td>57</td>\n",
       "      <td>0</td>\n",
       "      <td>0</td>\n",
       "      <td>120</td>\n",
       "      <td>354</td>\n",
       "      <td>0</td>\n",
       "      <td>1</td>\n",
       "      <td>163</td>\n",
       "      <td>1</td>\n",
       "      <td>0.6</td>\n",
       "      <td>2</td>\n",
       "      <td>0</td>\n",
       "      <td>2</td>\n",
       "    </tr>\n",
       "  </tbody>\n",
       "</table>\n",
       "</div>"
      ],
      "text/plain": [
       "   age  sex  cp  trestbps  chol  fbs  restecg  thalach  exang  oldpeak  slope  \\\n",
       "0   63    1   3       145   233    1        0      150      0      2.3      0   \n",
       "1   37    1   2       130   250    0        1      187      0      3.5      0   \n",
       "2   41    0   1       130   204    0        0      172      0      1.4      2   \n",
       "3   56    1   1       120   236    0        1      178      0      0.8      2   \n",
       "4   57    0   0       120   354    0        1      163      1      0.6      2   \n",
       "\n",
       "   ca  thal  \n",
       "0   0     1  \n",
       "1   0     2  \n",
       "2   0     2  \n",
       "3   0     2  \n",
       "4   0     2  "
      ]
     },
     "execution_count": 15,
     "metadata": {},
     "output_type": "execute_result"
    }
   ],
   "source": [
    "X.head()"
   ]
  },
  {
   "cell_type": "code",
   "execution_count": 16,
   "metadata": {},
   "outputs": [
    {
     "data": {
      "text/plain": [
       "0    1\n",
       "1    1\n",
       "2    1\n",
       "3    1\n",
       "4    1\n",
       "Name: target, dtype: int64"
      ]
     },
     "execution_count": 16,
     "metadata": {},
     "output_type": "execute_result"
    }
   ],
   "source": [
    "y.head()"
   ]
  },
  {
   "cell_type": "code",
   "execution_count": 175,
   "metadata": {},
   "outputs": [],
   "source": [
    "from sklearn.ensemble import RandomForestRegressor\n",
    "from sklearn import metrics\n",
    "from sklearn.model_selection import train_test_split\n",
    "import pandas\n",
    "\n",
    "def func(X,y,a):    \n",
    "    X_train, X_test, y_train, y_test = train_test_split(X, y, test_size = 0.10,random_state=123)\n",
    "    #print(X_train)\n",
    "    #print(X_test)\n",
    "    #print(y_train)\n",
    "    #print(y_test)\n",
    "    rg = RandomForestRegressor(criterion='barron',alpha=a)\n",
    "    rg.fit(X_train, y_train)\n",
    "    y_pred = rg.predict(X_test)\n",
    "    #print(y_pred)\n",
    "    #print(y_test)\n",
    "    mae = metrics.mean_absolute_error(y_test, y_pred)\n",
    "    mse = metrics.mean_squared_error(y_test, y_pred)\n",
    "    r2score=metrics.r2_score(y_test, y_pred)\n",
    "    return ([a, mae, mse,r2score])"
   ]
  },
  {
   "cell_type": "code",
   "execution_count": 176,
   "metadata": {},
   "outputs": [
    {
     "name": "stdout",
     "output_type": "stream",
     "text": [
      "-40\n",
      "-30\n",
      "-20\n",
      "-10\n"
     ]
    }
   ],
   "source": [
    "results={}\n",
    "results['heart'] = []\n",
    "for alpha in [-40, -30, -20, -10]:\n",
    "    print(alpha)\n",
    "    results['heart'].append(func(X, y, alpha))"
   ]
  },
  {
   "cell_type": "code",
   "execution_count": 177,
   "metadata": {},
   "outputs": [
    {
     "data": {
      "text/plain": [
       "{'heart': [[-40, 0.393132443303692, 0.3671175119147797, -0.5473681094302771],\n",
       "  [-30, 0.3931370275395267, 0.36710288024661814, -0.5473064382324557],\n",
       "  [-20, 0.39311056882892265, 0.36718734080299414, -0.54766243206876],\n",
       "  [-10, 0.39311778214059456, 0.36716431200300587, -0.5475653676968795]]}"
      ]
     },
     "execution_count": 177,
     "metadata": {},
     "output_type": "execute_result"
    }
   ],
   "source": [
    "results"
   ]
  },
  {
   "cell_type": "code",
   "execution_count": 163,
   "metadata": {},
   "outputs": [],
   "source": [
    "#from sklearn.metrics import roc_curve\n",
    "#from sklearn.metrics import plot_roc_curve\n",
    "#from sklearn.metrics import roc_auc_score\n",
    "#import matplotlib.pyplot as plt\n",
    "def Barronfunc(X_trainf,X_testf,y_trainf,y_testf,a):  \n",
    "    #X_train, X_test, y_train, y_test = train_test_split(X, y, test_size = 0.20,random_state=123)\n",
    "    #print(X_trainf)\n",
    "    rg = RandomForestRegressor(criterion='barron',alpha=a)\n",
    "    rg.fit(X_trainf, y_trainf)\n",
    "    y_pred = rg.predict(X_testf)\n",
    "    #print(y_pred)\n",
    "    #print(y_test)\n",
    "    mae=metrics.mean_absolute_error(y_testf, y_pred)\n",
    "    mse = metrics.mean_squared_error(y_testf, y_pred)\n",
    "    r2score=metrics.r2_score(y_testf, y_pred)\n",
    "    #ax = plt.gca()\n",
    "    #rfc_disp = plot_roc_curve(rg, X_test, y_test, ax=ax, alpha=0.8)\n",
    "    #plt.show()\n",
    "    #pred_prob1 = rg.predict_proba(X_test)\n",
    "    #fpr1, tpr1, thresh1 = roc_curve(y_test, pred_prob1[:,1], pos_label=1)\n",
    "    # roc curve for tpr = fpr \n",
    "    #random_probs = [0 for i in range(len(y_test))]\n",
    "    #p_fpr, p_tpr, _ = roc_curve(y_test, random_probs, pos_label=1)\n",
    "    #auc_score1 = roc_auc_score(y_test, pred_prob1[:,1])\n",
    "    #rint('AUC score:',auc_score1)\n",
    "    # plot the roc curve for the model\n",
    "    return ([a, mae, mse,r2score])\n",
    "    "
   ]
  },
  {
   "cell_type": "code",
   "execution_count": 24,
   "metadata": {},
   "outputs": [],
   "source": [
    "#splitting data\n",
    "X_train, X_test, y_train, y_test = train_test_split(X, y, test_size = 0.10,random_state=123)\n"
   ]
  },
  {
   "cell_type": "code",
   "execution_count": 25,
   "metadata": {
    "scrolled": false
   },
   "outputs": [
    {
     "data": {
      "text/html": [
       "<div>\n",
       "<style scoped>\n",
       "    .dataframe tbody tr th:only-of-type {\n",
       "        vertical-align: middle;\n",
       "    }\n",
       "\n",
       "    .dataframe tbody tr th {\n",
       "        vertical-align: top;\n",
       "    }\n",
       "\n",
       "    .dataframe thead th {\n",
       "        text-align: right;\n",
       "    }\n",
       "</style>\n",
       "<table border=\"1\" class=\"dataframe\">\n",
       "  <thead>\n",
       "    <tr style=\"text-align: right;\">\n",
       "      <th></th>\n",
       "      <th>age</th>\n",
       "      <th>sex</th>\n",
       "      <th>cp</th>\n",
       "      <th>trestbps</th>\n",
       "      <th>chol</th>\n",
       "      <th>fbs</th>\n",
       "      <th>restecg</th>\n",
       "      <th>thalach</th>\n",
       "      <th>exang</th>\n",
       "      <th>oldpeak</th>\n",
       "      <th>slope</th>\n",
       "      <th>ca</th>\n",
       "      <th>thal</th>\n",
       "    </tr>\n",
       "  </thead>\n",
       "  <tbody>\n",
       "    <tr>\n",
       "      <th>107</th>\n",
       "      <td>45</td>\n",
       "      <td>0</td>\n",
       "      <td>0</td>\n",
       "      <td>138</td>\n",
       "      <td>236</td>\n",
       "      <td>0</td>\n",
       "      <td>0</td>\n",
       "      <td>152</td>\n",
       "      <td>1</td>\n",
       "      <td>0.2</td>\n",
       "      <td>1</td>\n",
       "      <td>0</td>\n",
       "      <td>2</td>\n",
       "    </tr>\n",
       "    <tr>\n",
       "      <th>155</th>\n",
       "      <td>58</td>\n",
       "      <td>0</td>\n",
       "      <td>0</td>\n",
       "      <td>130</td>\n",
       "      <td>197</td>\n",
       "      <td>0</td>\n",
       "      <td>1</td>\n",
       "      <td>131</td>\n",
       "      <td>0</td>\n",
       "      <td>0.6</td>\n",
       "      <td>1</td>\n",
       "      <td>0</td>\n",
       "      <td>2</td>\n",
       "    </tr>\n",
       "    <tr>\n",
       "      <th>251</th>\n",
       "      <td>43</td>\n",
       "      <td>1</td>\n",
       "      <td>0</td>\n",
       "      <td>132</td>\n",
       "      <td>247</td>\n",
       "      <td>1</td>\n",
       "      <td>0</td>\n",
       "      <td>143</td>\n",
       "      <td>1</td>\n",
       "      <td>0.1</td>\n",
       "      <td>1</td>\n",
       "      <td>4</td>\n",
       "      <td>3</td>\n",
       "    </tr>\n",
       "    <tr>\n",
       "      <th>171</th>\n",
       "      <td>48</td>\n",
       "      <td>1</td>\n",
       "      <td>1</td>\n",
       "      <td>110</td>\n",
       "      <td>229</td>\n",
       "      <td>0</td>\n",
       "      <td>1</td>\n",
       "      <td>168</td>\n",
       "      <td>0</td>\n",
       "      <td>1.0</td>\n",
       "      <td>0</td>\n",
       "      <td>0</td>\n",
       "      <td>3</td>\n",
       "    </tr>\n",
       "    <tr>\n",
       "      <th>53</th>\n",
       "      <td>44</td>\n",
       "      <td>0</td>\n",
       "      <td>2</td>\n",
       "      <td>108</td>\n",
       "      <td>141</td>\n",
       "      <td>0</td>\n",
       "      <td>1</td>\n",
       "      <td>175</td>\n",
       "      <td>0</td>\n",
       "      <td>0.6</td>\n",
       "      <td>1</td>\n",
       "      <td>0</td>\n",
       "      <td>2</td>\n",
       "    </tr>\n",
       "    <tr>\n",
       "      <th>...</th>\n",
       "      <td>...</td>\n",
       "      <td>...</td>\n",
       "      <td>...</td>\n",
       "      <td>...</td>\n",
       "      <td>...</td>\n",
       "      <td>...</td>\n",
       "      <td>...</td>\n",
       "      <td>...</td>\n",
       "      <td>...</td>\n",
       "      <td>...</td>\n",
       "      <td>...</td>\n",
       "      <td>...</td>\n",
       "      <td>...</td>\n",
       "    </tr>\n",
       "    <tr>\n",
       "      <th>106</th>\n",
       "      <td>69</td>\n",
       "      <td>1</td>\n",
       "      <td>3</td>\n",
       "      <td>160</td>\n",
       "      <td>234</td>\n",
       "      <td>1</td>\n",
       "      <td>0</td>\n",
       "      <td>131</td>\n",
       "      <td>0</td>\n",
       "      <td>0.1</td>\n",
       "      <td>1</td>\n",
       "      <td>1</td>\n",
       "      <td>2</td>\n",
       "    </tr>\n",
       "    <tr>\n",
       "      <th>83</th>\n",
       "      <td>52</td>\n",
       "      <td>1</td>\n",
       "      <td>3</td>\n",
       "      <td>152</td>\n",
       "      <td>298</td>\n",
       "      <td>1</td>\n",
       "      <td>1</td>\n",
       "      <td>178</td>\n",
       "      <td>0</td>\n",
       "      <td>1.2</td>\n",
       "      <td>1</td>\n",
       "      <td>0</td>\n",
       "      <td>3</td>\n",
       "    </tr>\n",
       "    <tr>\n",
       "      <th>17</th>\n",
       "      <td>66</td>\n",
       "      <td>0</td>\n",
       "      <td>3</td>\n",
       "      <td>150</td>\n",
       "      <td>226</td>\n",
       "      <td>0</td>\n",
       "      <td>1</td>\n",
       "      <td>114</td>\n",
       "      <td>0</td>\n",
       "      <td>2.6</td>\n",
       "      <td>0</td>\n",
       "      <td>0</td>\n",
       "      <td>2</td>\n",
       "    </tr>\n",
       "    <tr>\n",
       "      <th>230</th>\n",
       "      <td>47</td>\n",
       "      <td>1</td>\n",
       "      <td>2</td>\n",
       "      <td>108</td>\n",
       "      <td>243</td>\n",
       "      <td>0</td>\n",
       "      <td>1</td>\n",
       "      <td>152</td>\n",
       "      <td>0</td>\n",
       "      <td>0.0</td>\n",
       "      <td>2</td>\n",
       "      <td>0</td>\n",
       "      <td>2</td>\n",
       "    </tr>\n",
       "    <tr>\n",
       "      <th>98</th>\n",
       "      <td>43</td>\n",
       "      <td>1</td>\n",
       "      <td>2</td>\n",
       "      <td>130</td>\n",
       "      <td>315</td>\n",
       "      <td>0</td>\n",
       "      <td>1</td>\n",
       "      <td>162</td>\n",
       "      <td>0</td>\n",
       "      <td>1.9</td>\n",
       "      <td>2</td>\n",
       "      <td>1</td>\n",
       "      <td>2</td>\n",
       "    </tr>\n",
       "  </tbody>\n",
       "</table>\n",
       "<p>272 rows × 13 columns</p>\n",
       "</div>"
      ],
      "text/plain": [
       "     age  sex  cp  trestbps  chol  fbs  restecg  thalach  exang  oldpeak  \\\n",
       "107   45    0   0       138   236    0        0      152      1      0.2   \n",
       "155   58    0   0       130   197    0        1      131      0      0.6   \n",
       "251   43    1   0       132   247    1        0      143      1      0.1   \n",
       "171   48    1   1       110   229    0        1      168      0      1.0   \n",
       "53    44    0   2       108   141    0        1      175      0      0.6   \n",
       "..   ...  ...  ..       ...   ...  ...      ...      ...    ...      ...   \n",
       "106   69    1   3       160   234    1        0      131      0      0.1   \n",
       "83    52    1   3       152   298    1        1      178      0      1.2   \n",
       "17    66    0   3       150   226    0        1      114      0      2.6   \n",
       "230   47    1   2       108   243    0        1      152      0      0.0   \n",
       "98    43    1   2       130   315    0        1      162      0      1.9   \n",
       "\n",
       "     slope  ca  thal  \n",
       "107      1   0     2  \n",
       "155      1   0     2  \n",
       "251      1   4     3  \n",
       "171      0   0     3  \n",
       "53       1   0     2  \n",
       "..     ...  ..   ...  \n",
       "106      1   1     2  \n",
       "83       1   0     3  \n",
       "17       0   0     2  \n",
       "230      2   0     2  \n",
       "98       2   1     2  \n",
       "\n",
       "[272 rows x 13 columns]"
      ]
     },
     "execution_count": 25,
     "metadata": {},
     "output_type": "execute_result"
    }
   ],
   "source": [
    "X_train"
   ]
  },
  {
   "cell_type": "code",
   "execution_count": 26,
   "metadata": {},
   "outputs": [
    {
     "data": {
      "text/plain": [
       "107    1\n",
       "155    1\n",
       "251    0\n",
       "171    0\n",
       "53     1\n",
       "      ..\n",
       "106    1\n",
       "83     1\n",
       "17     1\n",
       "230    0\n",
       "98     1\n",
       "Name: target, Length: 272, dtype: int64"
      ]
     },
     "execution_count": 26,
     "metadata": {},
     "output_type": "execute_result"
    }
   ],
   "source": [
    "y_train"
   ]
  },
  {
   "cell_type": "code",
   "execution_count": 27,
   "metadata": {},
   "outputs": [
    {
     "data": {
      "text/html": [
       "<div>\n",
       "<style scoped>\n",
       "    .dataframe tbody tr th:only-of-type {\n",
       "        vertical-align: middle;\n",
       "    }\n",
       "\n",
       "    .dataframe tbody tr th {\n",
       "        vertical-align: top;\n",
       "    }\n",
       "\n",
       "    .dataframe thead th {\n",
       "        text-align: right;\n",
       "    }\n",
       "</style>\n",
       "<table border=\"1\" class=\"dataframe\">\n",
       "  <thead>\n",
       "    <tr style=\"text-align: right;\">\n",
       "      <th></th>\n",
       "      <th>age</th>\n",
       "      <th>sex</th>\n",
       "      <th>cp</th>\n",
       "      <th>trestbps</th>\n",
       "      <th>chol</th>\n",
       "      <th>fbs</th>\n",
       "      <th>restecg</th>\n",
       "      <th>thalach</th>\n",
       "      <th>exang</th>\n",
       "      <th>oldpeak</th>\n",
       "      <th>slope</th>\n",
       "      <th>ca</th>\n",
       "      <th>thal</th>\n",
       "    </tr>\n",
       "  </thead>\n",
       "  <tbody>\n",
       "    <tr>\n",
       "      <th>11</th>\n",
       "      <td>48</td>\n",
       "      <td>0</td>\n",
       "      <td>2</td>\n",
       "      <td>130</td>\n",
       "      <td>275</td>\n",
       "      <td>0</td>\n",
       "      <td>1</td>\n",
       "      <td>139</td>\n",
       "      <td>0</td>\n",
       "      <td>0.2</td>\n",
       "      <td>2</td>\n",
       "      <td>0</td>\n",
       "      <td>2</td>\n",
       "    </tr>\n",
       "    <tr>\n",
       "      <th>292</th>\n",
       "      <td>58</td>\n",
       "      <td>0</td>\n",
       "      <td>0</td>\n",
       "      <td>170</td>\n",
       "      <td>225</td>\n",
       "      <td>1</td>\n",
       "      <td>0</td>\n",
       "      <td>146</td>\n",
       "      <td>1</td>\n",
       "      <td>2.8</td>\n",
       "      <td>1</td>\n",
       "      <td>2</td>\n",
       "      <td>1</td>\n",
       "    </tr>\n",
       "    <tr>\n",
       "      <th>269</th>\n",
       "      <td>56</td>\n",
       "      <td>1</td>\n",
       "      <td>0</td>\n",
       "      <td>130</td>\n",
       "      <td>283</td>\n",
       "      <td>1</td>\n",
       "      <td>0</td>\n",
       "      <td>103</td>\n",
       "      <td>1</td>\n",
       "      <td>1.6</td>\n",
       "      <td>0</td>\n",
       "      <td>0</td>\n",
       "      <td>3</td>\n",
       "    </tr>\n",
       "    <tr>\n",
       "      <th>268</th>\n",
       "      <td>54</td>\n",
       "      <td>1</td>\n",
       "      <td>0</td>\n",
       "      <td>122</td>\n",
       "      <td>286</td>\n",
       "      <td>0</td>\n",
       "      <td>0</td>\n",
       "      <td>116</td>\n",
       "      <td>1</td>\n",
       "      <td>3.2</td>\n",
       "      <td>1</td>\n",
       "      <td>2</td>\n",
       "      <td>2</td>\n",
       "    </tr>\n",
       "    <tr>\n",
       "      <th>94</th>\n",
       "      <td>45</td>\n",
       "      <td>0</td>\n",
       "      <td>1</td>\n",
       "      <td>112</td>\n",
       "      <td>160</td>\n",
       "      <td>0</td>\n",
       "      <td>1</td>\n",
       "      <td>138</td>\n",
       "      <td>0</td>\n",
       "      <td>0.0</td>\n",
       "      <td>1</td>\n",
       "      <td>0</td>\n",
       "      <td>2</td>\n",
       "    </tr>\n",
       "    <tr>\n",
       "      <th>201</th>\n",
       "      <td>60</td>\n",
       "      <td>1</td>\n",
       "      <td>0</td>\n",
       "      <td>125</td>\n",
       "      <td>258</td>\n",
       "      <td>0</td>\n",
       "      <td>0</td>\n",
       "      <td>141</td>\n",
       "      <td>1</td>\n",
       "      <td>2.8</td>\n",
       "      <td>1</td>\n",
       "      <td>1</td>\n",
       "      <td>3</td>\n",
       "    </tr>\n",
       "    <tr>\n",
       "      <th>81</th>\n",
       "      <td>45</td>\n",
       "      <td>1</td>\n",
       "      <td>1</td>\n",
       "      <td>128</td>\n",
       "      <td>308</td>\n",
       "      <td>0</td>\n",
       "      <td>0</td>\n",
       "      <td>170</td>\n",
       "      <td>0</td>\n",
       "      <td>0.0</td>\n",
       "      <td>2</td>\n",
       "      <td>0</td>\n",
       "      <td>2</td>\n",
       "    </tr>\n",
       "    <tr>\n",
       "      <th>20</th>\n",
       "      <td>59</td>\n",
       "      <td>1</td>\n",
       "      <td>0</td>\n",
       "      <td>135</td>\n",
       "      <td>234</td>\n",
       "      <td>0</td>\n",
       "      <td>1</td>\n",
       "      <td>161</td>\n",
       "      <td>0</td>\n",
       "      <td>0.5</td>\n",
       "      <td>1</td>\n",
       "      <td>0</td>\n",
       "      <td>3</td>\n",
       "    </tr>\n",
       "    <tr>\n",
       "      <th>54</th>\n",
       "      <td>63</td>\n",
       "      <td>0</td>\n",
       "      <td>2</td>\n",
       "      <td>135</td>\n",
       "      <td>252</td>\n",
       "      <td>0</td>\n",
       "      <td>0</td>\n",
       "      <td>172</td>\n",
       "      <td>0</td>\n",
       "      <td>0.0</td>\n",
       "      <td>2</td>\n",
       "      <td>0</td>\n",
       "      <td>2</td>\n",
       "    </tr>\n",
       "    <tr>\n",
       "      <th>196</th>\n",
       "      <td>46</td>\n",
       "      <td>1</td>\n",
       "      <td>2</td>\n",
       "      <td>150</td>\n",
       "      <td>231</td>\n",
       "      <td>0</td>\n",
       "      <td>1</td>\n",
       "      <td>147</td>\n",
       "      <td>0</td>\n",
       "      <td>3.6</td>\n",
       "      <td>1</td>\n",
       "      <td>0</td>\n",
       "      <td>2</td>\n",
       "    </tr>\n",
       "    <tr>\n",
       "      <th>202</th>\n",
       "      <td>58</td>\n",
       "      <td>1</td>\n",
       "      <td>0</td>\n",
       "      <td>150</td>\n",
       "      <td>270</td>\n",
       "      <td>0</td>\n",
       "      <td>0</td>\n",
       "      <td>111</td>\n",
       "      <td>1</td>\n",
       "      <td>0.8</td>\n",
       "      <td>2</td>\n",
       "      <td>0</td>\n",
       "      <td>3</td>\n",
       "    </tr>\n",
       "    <tr>\n",
       "      <th>31</th>\n",
       "      <td>65</td>\n",
       "      <td>1</td>\n",
       "      <td>0</td>\n",
       "      <td>120</td>\n",
       "      <td>177</td>\n",
       "      <td>0</td>\n",
       "      <td>1</td>\n",
       "      <td>140</td>\n",
       "      <td>0</td>\n",
       "      <td>0.4</td>\n",
       "      <td>2</td>\n",
       "      <td>0</td>\n",
       "      <td>3</td>\n",
       "    </tr>\n",
       "    <tr>\n",
       "      <th>250</th>\n",
       "      <td>51</td>\n",
       "      <td>1</td>\n",
       "      <td>0</td>\n",
       "      <td>140</td>\n",
       "      <td>298</td>\n",
       "      <td>0</td>\n",
       "      <td>1</td>\n",
       "      <td>122</td>\n",
       "      <td>1</td>\n",
       "      <td>4.2</td>\n",
       "      <td>1</td>\n",
       "      <td>3</td>\n",
       "      <td>3</td>\n",
       "    </tr>\n",
       "    <tr>\n",
       "      <th>256</th>\n",
       "      <td>58</td>\n",
       "      <td>1</td>\n",
       "      <td>0</td>\n",
       "      <td>128</td>\n",
       "      <td>259</td>\n",
       "      <td>0</td>\n",
       "      <td>0</td>\n",
       "      <td>130</td>\n",
       "      <td>1</td>\n",
       "      <td>3.0</td>\n",
       "      <td>1</td>\n",
       "      <td>2</td>\n",
       "      <td>3</td>\n",
       "    </tr>\n",
       "    <tr>\n",
       "      <th>245</th>\n",
       "      <td>48</td>\n",
       "      <td>1</td>\n",
       "      <td>0</td>\n",
       "      <td>124</td>\n",
       "      <td>274</td>\n",
       "      <td>0</td>\n",
       "      <td>0</td>\n",
       "      <td>166</td>\n",
       "      <td>0</td>\n",
       "      <td>0.5</td>\n",
       "      <td>1</td>\n",
       "      <td>0</td>\n",
       "      <td>3</td>\n",
       "    </tr>\n",
       "    <tr>\n",
       "      <th>204</th>\n",
       "      <td>62</td>\n",
       "      <td>0</td>\n",
       "      <td>0</td>\n",
       "      <td>160</td>\n",
       "      <td>164</td>\n",
       "      <td>0</td>\n",
       "      <td>0</td>\n",
       "      <td>145</td>\n",
       "      <td>0</td>\n",
       "      <td>6.2</td>\n",
       "      <td>0</td>\n",
       "      <td>3</td>\n",
       "      <td>3</td>\n",
       "    </tr>\n",
       "    <tr>\n",
       "      <th>120</th>\n",
       "      <td>64</td>\n",
       "      <td>0</td>\n",
       "      <td>0</td>\n",
       "      <td>130</td>\n",
       "      <td>303</td>\n",
       "      <td>0</td>\n",
       "      <td>1</td>\n",
       "      <td>122</td>\n",
       "      <td>0</td>\n",
       "      <td>2.0</td>\n",
       "      <td>1</td>\n",
       "      <td>2</td>\n",
       "      <td>2</td>\n",
       "    </tr>\n",
       "    <tr>\n",
       "      <th>281</th>\n",
       "      <td>52</td>\n",
       "      <td>1</td>\n",
       "      <td>0</td>\n",
       "      <td>128</td>\n",
       "      <td>204</td>\n",
       "      <td>1</td>\n",
       "      <td>1</td>\n",
       "      <td>156</td>\n",
       "      <td>1</td>\n",
       "      <td>1.0</td>\n",
       "      <td>1</td>\n",
       "      <td>0</td>\n",
       "      <td>0</td>\n",
       "    </tr>\n",
       "    <tr>\n",
       "      <th>199</th>\n",
       "      <td>65</td>\n",
       "      <td>1</td>\n",
       "      <td>0</td>\n",
       "      <td>110</td>\n",
       "      <td>248</td>\n",
       "      <td>0</td>\n",
       "      <td>0</td>\n",
       "      <td>158</td>\n",
       "      <td>0</td>\n",
       "      <td>0.6</td>\n",
       "      <td>2</td>\n",
       "      <td>2</td>\n",
       "      <td>1</td>\n",
       "    </tr>\n",
       "    <tr>\n",
       "      <th>89</th>\n",
       "      <td>58</td>\n",
       "      <td>0</td>\n",
       "      <td>0</td>\n",
       "      <td>100</td>\n",
       "      <td>248</td>\n",
       "      <td>0</td>\n",
       "      <td>0</td>\n",
       "      <td>122</td>\n",
       "      <td>0</td>\n",
       "      <td>1.0</td>\n",
       "      <td>1</td>\n",
       "      <td>0</td>\n",
       "      <td>2</td>\n",
       "    </tr>\n",
       "    <tr>\n",
       "      <th>159</th>\n",
       "      <td>56</td>\n",
       "      <td>1</td>\n",
       "      <td>1</td>\n",
       "      <td>130</td>\n",
       "      <td>221</td>\n",
       "      <td>0</td>\n",
       "      <td>0</td>\n",
       "      <td>163</td>\n",
       "      <td>0</td>\n",
       "      <td>0.0</td>\n",
       "      <td>2</td>\n",
       "      <td>0</td>\n",
       "      <td>3</td>\n",
       "    </tr>\n",
       "    <tr>\n",
       "      <th>247</th>\n",
       "      <td>66</td>\n",
       "      <td>1</td>\n",
       "      <td>1</td>\n",
       "      <td>160</td>\n",
       "      <td>246</td>\n",
       "      <td>0</td>\n",
       "      <td>1</td>\n",
       "      <td>120</td>\n",
       "      <td>1</td>\n",
       "      <td>0.0</td>\n",
       "      <td>1</td>\n",
       "      <td>3</td>\n",
       "      <td>1</td>\n",
       "    </tr>\n",
       "    <tr>\n",
       "      <th>115</th>\n",
       "      <td>37</td>\n",
       "      <td>0</td>\n",
       "      <td>2</td>\n",
       "      <td>120</td>\n",
       "      <td>215</td>\n",
       "      <td>0</td>\n",
       "      <td>1</td>\n",
       "      <td>170</td>\n",
       "      <td>0</td>\n",
       "      <td>0.0</td>\n",
       "      <td>2</td>\n",
       "      <td>0</td>\n",
       "      <td>2</td>\n",
       "    </tr>\n",
       "    <tr>\n",
       "      <th>52</th>\n",
       "      <td>62</td>\n",
       "      <td>1</td>\n",
       "      <td>2</td>\n",
       "      <td>130</td>\n",
       "      <td>231</td>\n",
       "      <td>0</td>\n",
       "      <td>1</td>\n",
       "      <td>146</td>\n",
       "      <td>0</td>\n",
       "      <td>1.8</td>\n",
       "      <td>1</td>\n",
       "      <td>3</td>\n",
       "      <td>3</td>\n",
       "    </tr>\n",
       "    <tr>\n",
       "      <th>203</th>\n",
       "      <td>68</td>\n",
       "      <td>1</td>\n",
       "      <td>2</td>\n",
       "      <td>180</td>\n",
       "      <td>274</td>\n",
       "      <td>1</td>\n",
       "      <td>0</td>\n",
       "      <td>150</td>\n",
       "      <td>1</td>\n",
       "      <td>1.6</td>\n",
       "      <td>1</td>\n",
       "      <td>0</td>\n",
       "      <td>3</td>\n",
       "    </tr>\n",
       "    <tr>\n",
       "      <th>241</th>\n",
       "      <td>59</td>\n",
       "      <td>0</td>\n",
       "      <td>0</td>\n",
       "      <td>174</td>\n",
       "      <td>249</td>\n",
       "      <td>0</td>\n",
       "      <td>1</td>\n",
       "      <td>143</td>\n",
       "      <td>1</td>\n",
       "      <td>0.0</td>\n",
       "      <td>1</td>\n",
       "      <td>0</td>\n",
       "      <td>2</td>\n",
       "    </tr>\n",
       "    <tr>\n",
       "      <th>167</th>\n",
       "      <td>62</td>\n",
       "      <td>0</td>\n",
       "      <td>0</td>\n",
       "      <td>140</td>\n",
       "      <td>268</td>\n",
       "      <td>0</td>\n",
       "      <td>0</td>\n",
       "      <td>160</td>\n",
       "      <td>0</td>\n",
       "      <td>3.6</td>\n",
       "      <td>0</td>\n",
       "      <td>2</td>\n",
       "      <td>2</td>\n",
       "    </tr>\n",
       "    <tr>\n",
       "      <th>296</th>\n",
       "      <td>63</td>\n",
       "      <td>0</td>\n",
       "      <td>0</td>\n",
       "      <td>124</td>\n",
       "      <td>197</td>\n",
       "      <td>0</td>\n",
       "      <td>1</td>\n",
       "      <td>136</td>\n",
       "      <td>1</td>\n",
       "      <td>0.0</td>\n",
       "      <td>1</td>\n",
       "      <td>0</td>\n",
       "      <td>2</td>\n",
       "    </tr>\n",
       "    <tr>\n",
       "      <th>223</th>\n",
       "      <td>56</td>\n",
       "      <td>0</td>\n",
       "      <td>0</td>\n",
       "      <td>200</td>\n",
       "      <td>288</td>\n",
       "      <td>1</td>\n",
       "      <td>0</td>\n",
       "      <td>133</td>\n",
       "      <td>1</td>\n",
       "      <td>4.0</td>\n",
       "      <td>0</td>\n",
       "      <td>2</td>\n",
       "      <td>3</td>\n",
       "    </tr>\n",
       "    <tr>\n",
       "      <th>150</th>\n",
       "      <td>66</td>\n",
       "      <td>1</td>\n",
       "      <td>0</td>\n",
       "      <td>160</td>\n",
       "      <td>228</td>\n",
       "      <td>0</td>\n",
       "      <td>0</td>\n",
       "      <td>138</td>\n",
       "      <td>0</td>\n",
       "      <td>2.3</td>\n",
       "      <td>2</td>\n",
       "      <td>0</td>\n",
       "      <td>1</td>\n",
       "    </tr>\n",
       "    <tr>\n",
       "      <th>165</th>\n",
       "      <td>67</td>\n",
       "      <td>1</td>\n",
       "      <td>0</td>\n",
       "      <td>160</td>\n",
       "      <td>286</td>\n",
       "      <td>0</td>\n",
       "      <td>0</td>\n",
       "      <td>108</td>\n",
       "      <td>1</td>\n",
       "      <td>1.5</td>\n",
       "      <td>1</td>\n",
       "      <td>3</td>\n",
       "      <td>2</td>\n",
       "    </tr>\n",
       "  </tbody>\n",
       "</table>\n",
       "</div>"
      ],
      "text/plain": [
       "     age  sex  cp  trestbps  chol  fbs  restecg  thalach  exang  oldpeak  \\\n",
       "11    48    0   2       130   275    0        1      139      0      0.2   \n",
       "292   58    0   0       170   225    1        0      146      1      2.8   \n",
       "269   56    1   0       130   283    1        0      103      1      1.6   \n",
       "268   54    1   0       122   286    0        0      116      1      3.2   \n",
       "94    45    0   1       112   160    0        1      138      0      0.0   \n",
       "201   60    1   0       125   258    0        0      141      1      2.8   \n",
       "81    45    1   1       128   308    0        0      170      0      0.0   \n",
       "20    59    1   0       135   234    0        1      161      0      0.5   \n",
       "54    63    0   2       135   252    0        0      172      0      0.0   \n",
       "196   46    1   2       150   231    0        1      147      0      3.6   \n",
       "202   58    1   0       150   270    0        0      111      1      0.8   \n",
       "31    65    1   0       120   177    0        1      140      0      0.4   \n",
       "250   51    1   0       140   298    0        1      122      1      4.2   \n",
       "256   58    1   0       128   259    0        0      130      1      3.0   \n",
       "245   48    1   0       124   274    0        0      166      0      0.5   \n",
       "204   62    0   0       160   164    0        0      145      0      6.2   \n",
       "120   64    0   0       130   303    0        1      122      0      2.0   \n",
       "281   52    1   0       128   204    1        1      156      1      1.0   \n",
       "199   65    1   0       110   248    0        0      158      0      0.6   \n",
       "89    58    0   0       100   248    0        0      122      0      1.0   \n",
       "159   56    1   1       130   221    0        0      163      0      0.0   \n",
       "247   66    1   1       160   246    0        1      120      1      0.0   \n",
       "115   37    0   2       120   215    0        1      170      0      0.0   \n",
       "52    62    1   2       130   231    0        1      146      0      1.8   \n",
       "203   68    1   2       180   274    1        0      150      1      1.6   \n",
       "241   59    0   0       174   249    0        1      143      1      0.0   \n",
       "167   62    0   0       140   268    0        0      160      0      3.6   \n",
       "296   63    0   0       124   197    0        1      136      1      0.0   \n",
       "223   56    0   0       200   288    1        0      133      1      4.0   \n",
       "150   66    1   0       160   228    0        0      138      0      2.3   \n",
       "165   67    1   0       160   286    0        0      108      1      1.5   \n",
       "\n",
       "     slope  ca  thal  \n",
       "11       2   0     2  \n",
       "292      1   2     1  \n",
       "269      0   0     3  \n",
       "268      1   2     2  \n",
       "94       1   0     2  \n",
       "201      1   1     3  \n",
       "81       2   0     2  \n",
       "20       1   0     3  \n",
       "54       2   0     2  \n",
       "196      1   0     2  \n",
       "202      2   0     3  \n",
       "31       2   0     3  \n",
       "250      1   3     3  \n",
       "256      1   2     3  \n",
       "245      1   0     3  \n",
       "204      0   3     3  \n",
       "120      1   2     2  \n",
       "281      1   0     0  \n",
       "199      2   2     1  \n",
       "89       1   0     2  \n",
       "159      2   0     3  \n",
       "247      1   3     1  \n",
       "115      2   0     2  \n",
       "52       1   3     3  \n",
       "203      1   0     3  \n",
       "241      1   0     2  \n",
       "167      0   2     2  \n",
       "296      1   0     2  \n",
       "223      0   2     3  \n",
       "150      2   0     1  \n",
       "165      1   3     2  "
      ]
     },
     "execution_count": 27,
     "metadata": {},
     "output_type": "execute_result"
    }
   ],
   "source": [
    "X_test"
   ]
  },
  {
   "cell_type": "code",
   "execution_count": 28,
   "metadata": {},
   "outputs": [
    {
     "data": {
      "text/plain": [
       "11     1\n",
       "292    0\n",
       "269    0\n",
       "268    0\n",
       "94     1\n",
       "201    0\n",
       "81     1\n",
       "20     1\n",
       "54     1\n",
       "196    0\n",
       "202    0\n",
       "31     1\n",
       "250    0\n",
       "256    0\n",
       "245    0\n",
       "204    0\n",
       "120    1\n",
       "281    0\n",
       "199    0\n",
       "89     1\n",
       "159    1\n",
       "247    0\n",
       "115    1\n",
       "52     1\n",
       "203    0\n",
       "241    0\n",
       "167    0\n",
       "296    0\n",
       "223    0\n",
       "150    1\n",
       "165    0\n",
       "Name: target, dtype: int64"
      ]
     },
     "execution_count": 28,
     "metadata": {},
     "output_type": "execute_result"
    }
   ],
   "source": [
    "y_test"
   ]
  },
  {
   "cell_type": "code",
   "execution_count": 57,
   "metadata": {},
   "outputs": [
    {
     "name": "stdout",
     "output_type": "stream",
     "text": [
      "-40\n",
      "Calling Random Forest Function\n",
      "-30\n",
      "Calling Random Forest Function\n",
      "-20\n",
      "Calling Random Forest Function\n",
      "-10\n",
      "Calling Random Forest Function\n"
     ]
    }
   ],
   "source": [
    "results_split={}\n",
    "results_split['heart'] = []\n",
    "for alpha in [-40, -30, -20, -10]:\n",
    "    print(alpha)\n",
    "    results_split['heart'].append(Barronfunc(X_train, X_test, y_train, y_test, alpha))"
   ]
  },
  {
   "cell_type": "code",
   "execution_count": 58,
   "metadata": {},
   "outputs": [
    {
     "data": {
      "text/plain": [
       "{'heart': [[-40,\n",
       "   0.39311440595536473,\n",
       "   0.36717509036185136,\n",
       "   -0.5476107975339433],\n",
       "  [-30, 0.3931212349911959, 0.3671532893549651, -0.5475189082022867],\n",
       "  [-20, 0.3931252358207748, 0.3671405179605453, -0.5474650778951051],\n",
       "  [-10, 0.39312047662493316, 0.36715571027234245, -0.547529112156671]]}"
      ]
     },
     "execution_count": 58,
     "metadata": {},
     "output_type": "execute_result"
    }
   ],
   "source": [
    "results_split"
   ]
  },
  {
   "cell_type": "code",
   "execution_count": 19,
   "metadata": {},
   "outputs": [],
   "source": [
    "###############Mislabelling 10% of data##########################"
   ]
  },
  {
   "cell_type": "code",
   "execution_count": 59,
   "metadata": {},
   "outputs": [],
   "source": [
    "Y_train10,Y_train90=train_test_split(y_train, train_size = 0.10,random_state=123,shuffle=False)"
   ]
  },
  {
   "cell_type": "code",
   "execution_count": 60,
   "metadata": {},
   "outputs": [
    {
     "data": {
      "text/plain": [
       "107    1\n",
       "155    1\n",
       "251    0\n",
       "171    0\n",
       "53     1\n",
       "41     1\n",
       "29     1\n",
       "142    1\n",
       "75     1\n",
       "72     1\n",
       "270    0\n",
       "266    0\n",
       "30     1\n",
       "19     1\n",
       "229    0\n",
       "191    0\n",
       "216    0\n",
       "90     1\n",
       "22     1\n",
       "184    0\n",
       "284    0\n",
       "80     1\n",
       "71     1\n",
       "299    0\n",
       "35     1\n",
       "95     1\n",
       "26     1\n",
       "Name: target, dtype: int64"
      ]
     },
     "execution_count": 60,
     "metadata": {},
     "output_type": "execute_result"
    }
   ],
   "source": [
    "Y_train10"
   ]
  },
  {
   "cell_type": "code",
   "execution_count": 61,
   "metadata": {},
   "outputs": [
    {
     "data": {
      "text/plain": [
       "259    0\n",
       "143    1\n",
       "42     1\n",
       "102    1\n",
       "261    0\n",
       "      ..\n",
       "106    1\n",
       "83     1\n",
       "17     1\n",
       "230    0\n",
       "98     1\n",
       "Name: target, Length: 245, dtype: int64"
      ]
     },
     "execution_count": 61,
     "metadata": {},
     "output_type": "execute_result"
    }
   ],
   "source": [
    "Y_train90"
   ]
  },
  {
   "cell_type": "code",
   "execution_count": 62,
   "metadata": {},
   "outputs": [
    {
     "data": {
      "text/plain": [
       "10"
      ]
     },
     "execution_count": 62,
     "metadata": {},
     "output_type": "execute_result"
    }
   ],
   "source": [
    "#no. of label as 0 before mislabelling\n",
    "(Y_train10 == 0).sum()"
   ]
  },
  {
   "cell_type": "code",
   "execution_count": 63,
   "metadata": {},
   "outputs": [
    {
     "data": {
      "text/plain": [
       "17"
      ]
     },
     "execution_count": 63,
     "metadata": {},
     "output_type": "execute_result"
    }
   ],
   "source": [
    "#no. of label as 1 before mislabelling\n",
    "(Y_train10 == 1).sum()"
   ]
  },
  {
   "cell_type": "code",
   "execution_count": 64,
   "metadata": {},
   "outputs": [],
   "source": [
    "#changing labels\n",
    "Y_train10=Y_train10.eq(0).mul(1)"
   ]
  },
  {
   "cell_type": "code",
   "execution_count": 65,
   "metadata": {},
   "outputs": [
    {
     "data": {
      "text/plain": [
       "107    0\n",
       "155    0\n",
       "251    1\n",
       "171    1\n",
       "53     0\n",
       "41     0\n",
       "29     0\n",
       "142    0\n",
       "75     0\n",
       "72     0\n",
       "270    1\n",
       "266    1\n",
       "30     0\n",
       "19     0\n",
       "229    1\n",
       "191    1\n",
       "216    1\n",
       "90     0\n",
       "22     0\n",
       "184    1\n",
       "284    1\n",
       "80     0\n",
       "71     0\n",
       "299    1\n",
       "35     0\n",
       "95     0\n",
       "26     0\n",
       "Name: target, dtype: int64"
      ]
     },
     "execution_count": 65,
     "metadata": {},
     "output_type": "execute_result"
    }
   ],
   "source": [
    "Y_train10"
   ]
  },
  {
   "cell_type": "code",
   "execution_count": 66,
   "metadata": {},
   "outputs": [
    {
     "data": {
      "text/plain": [
       "17"
      ]
     },
     "execution_count": 66,
     "metadata": {},
     "output_type": "execute_result"
    }
   ],
   "source": [
    "#no. of label as 0 after mislabelling\n",
    "(Y_train10 == 0).sum()"
   ]
  },
  {
   "cell_type": "code",
   "execution_count": 67,
   "metadata": {},
   "outputs": [
    {
     "data": {
      "text/plain": [
       "10"
      ]
     },
     "execution_count": 67,
     "metadata": {},
     "output_type": "execute_result"
    }
   ],
   "source": [
    "#no. of label as 1 after mislabelling\n",
    "(Y_train10 == 1).sum()"
   ]
  },
  {
   "cell_type": "code",
   "execution_count": 68,
   "metadata": {},
   "outputs": [],
   "source": [
    "y_train_10mislabel = pd.concat([Y_train10, Y_train90])"
   ]
  },
  {
   "cell_type": "code",
   "execution_count": 69,
   "metadata": {},
   "outputs": [
    {
     "data": {
      "text/plain": [
       "107    0\n",
       "155    0\n",
       "251    1\n",
       "171    1\n",
       "53     0\n",
       "      ..\n",
       "106    1\n",
       "83     1\n",
       "17     1\n",
       "230    0\n",
       "98     1\n",
       "Name: target, Length: 272, dtype: int64"
      ]
     },
     "execution_count": 69,
     "metadata": {},
     "output_type": "execute_result"
    }
   ],
   "source": [
    "y_train_10mislabel"
   ]
  },
  {
   "cell_type": "code",
   "execution_count": 31,
   "metadata": {},
   "outputs": [],
   "source": [
    "###############Mislabelling 15% of data##########################"
   ]
  },
  {
   "cell_type": "code",
   "execution_count": 70,
   "metadata": {},
   "outputs": [],
   "source": [
    "Y_train15,Y_train85=train_test_split(y_train, train_size = 0.15,random_state=123,shuffle=False)"
   ]
  },
  {
   "cell_type": "code",
   "execution_count": 71,
   "metadata": {},
   "outputs": [
    {
     "name": "stdout",
     "output_type": "stream",
     "text": [
      "107    1\n",
      "155    1\n",
      "251    0\n",
      "171    0\n",
      "53     1\n",
      "41     1\n",
      "29     1\n",
      "142    1\n",
      "75     1\n",
      "72     1\n",
      "270    0\n",
      "266    0\n",
      "30     1\n",
      "19     1\n",
      "229    0\n",
      "191    0\n",
      "216    0\n",
      "90     1\n",
      "22     1\n",
      "184    0\n",
      "284    0\n",
      "80     1\n",
      "71     1\n",
      "299    0\n",
      "35     1\n",
      "95     1\n",
      "26     1\n",
      "259    0\n",
      "143    1\n",
      "42     1\n",
      "102    1\n",
      "261    0\n",
      "228    0\n",
      "288    0\n",
      "78     1\n",
      "124    1\n",
      "200    0\n",
      "197    0\n",
      "24     1\n",
      "174    0\n",
      "Name: target, dtype: int64\n",
      "175    0\n",
      "105    1\n",
      "220    0\n",
      "61     1\n",
      "179    0\n",
      "      ..\n",
      "106    1\n",
      "83     1\n",
      "17     1\n",
      "230    0\n",
      "98     1\n",
      "Name: target, Length: 232, dtype: int64\n"
     ]
    }
   ],
   "source": [
    "print(Y_train15)\n",
    "print(Y_train85)"
   ]
  },
  {
   "cell_type": "code",
   "execution_count": 72,
   "metadata": {},
   "outputs": [
    {
     "name": "stdout",
     "output_type": "stream",
     "text": [
      "17\n",
      "23\n"
     ]
    }
   ],
   "source": [
    "#no. of label as 0 before mislabelling\n",
    "print((Y_train15 == 0).sum())\n",
    "#no. of label as 1 before mislabelling\n",
    "print((Y_train15 == 1).sum())"
   ]
  },
  {
   "cell_type": "code",
   "execution_count": 73,
   "metadata": {},
   "outputs": [
    {
     "name": "stdout",
     "output_type": "stream",
     "text": [
      "23\n",
      "17\n"
     ]
    }
   ],
   "source": [
    "#changing labels\n",
    "Y_train15=Y_train15.eq(0).mul(1)\n",
    "#no. of label as 0 before mislabelling\n",
    "print((Y_train15 == 0).sum())\n",
    "#no. of label as 1 before mislabelling\n",
    "print((Y_train15 == 1).sum())"
   ]
  },
  {
   "cell_type": "code",
   "execution_count": 74,
   "metadata": {},
   "outputs": [
    {
     "data": {
      "text/plain": [
       "107    0\n",
       "155    0\n",
       "251    1\n",
       "171    1\n",
       "53     0\n",
       "41     0\n",
       "29     0\n",
       "142    0\n",
       "75     0\n",
       "72     0\n",
       "270    1\n",
       "266    1\n",
       "30     0\n",
       "19     0\n",
       "229    1\n",
       "191    1\n",
       "216    1\n",
       "90     0\n",
       "22     0\n",
       "184    1\n",
       "284    1\n",
       "80     0\n",
       "71     0\n",
       "299    1\n",
       "35     0\n",
       "95     0\n",
       "26     0\n",
       "259    1\n",
       "143    0\n",
       "42     0\n",
       "102    0\n",
       "261    1\n",
       "228    1\n",
       "288    1\n",
       "78     0\n",
       "124    0\n",
       "200    1\n",
       "197    1\n",
       "24     0\n",
       "174    1\n",
       "Name: target, dtype: int64"
      ]
     },
     "execution_count": 74,
     "metadata": {},
     "output_type": "execute_result"
    }
   ],
   "source": [
    "Y_train15"
   ]
  },
  {
   "cell_type": "code",
   "execution_count": 75,
   "metadata": {},
   "outputs": [],
   "source": [
    "y_train_15mislabel = pd.concat([Y_train15, Y_train85])"
   ]
  },
  {
   "cell_type": "code",
   "execution_count": 76,
   "metadata": {},
   "outputs": [
    {
     "name": "stdout",
     "output_type": "stream",
     "text": [
      "107    0\n",
      "155    0\n",
      "251    1\n",
      "171    1\n",
      "53     0\n",
      "      ..\n",
      "106    1\n",
      "83     1\n",
      "17     1\n",
      "230    0\n",
      "98     1\n",
      "Name: target, Length: 272, dtype: int64\n"
     ]
    }
   ],
   "source": [
    "print(y_train_15mislabel)"
   ]
  },
  {
   "cell_type": "code",
   "execution_count": 77,
   "metadata": {},
   "outputs": [],
   "source": [
    "###############Mislabelling 20% of data##########################"
   ]
  },
  {
   "cell_type": "code",
   "execution_count": 78,
   "metadata": {},
   "outputs": [],
   "source": [
    "Y_train20,Y_train80=train_test_split(y_train, train_size = 0.20,random_state=123,shuffle=False)"
   ]
  },
  {
   "cell_type": "code",
   "execution_count": 79,
   "metadata": {},
   "outputs": [
    {
     "name": "stdout",
     "output_type": "stream",
     "text": [
      "22\n",
      "32\n",
      "32\n",
      "22\n",
      "107    0\n",
      "155    0\n",
      "251    1\n",
      "171    1\n",
      "53     0\n",
      "      ..\n",
      "106    1\n",
      "83     1\n",
      "17     1\n",
      "230    0\n",
      "98     1\n",
      "Name: target, Length: 272, dtype: int64\n"
     ]
    }
   ],
   "source": [
    "#no. of label as 0 before mislabelling\n",
    "print((Y_train20 == 0).sum())\n",
    "#no. of label as 1 before mislabelling\n",
    "print((Y_train20 == 1).sum())\n",
    "\n",
    "#changing labels\n",
    "Y_train20=Y_train20.eq(0).mul(1)\n",
    "#no. of label as 0 before mislabelling\n",
    "print((Y_train20 == 0).sum())\n",
    "#no. of label as 1 before mislabelling\n",
    "print((Y_train20 == 1).sum())\n",
    "\n",
    "y_train_20mislabel = pd.concat([Y_train20, Y_train80])\n",
    "\n",
    "print(y_train_20mislabel)"
   ]
  },
  {
   "cell_type": "code",
   "execution_count": 80,
   "metadata": {},
   "outputs": [],
   "source": [
    "###############Mislabelling 25% of data##########################"
   ]
  },
  {
   "cell_type": "code",
   "execution_count": 81,
   "metadata": {},
   "outputs": [
    {
     "name": "stdout",
     "output_type": "stream",
     "text": [
      "31\n",
      "37\n",
      "37\n",
      "31\n",
      "107    0\n",
      "155    0\n",
      "251    1\n",
      "171    1\n",
      "53     0\n",
      "      ..\n",
      "106    1\n",
      "83     1\n",
      "17     1\n",
      "230    0\n",
      "98     1\n",
      "Name: target, Length: 272, dtype: int64\n"
     ]
    }
   ],
   "source": [
    "Y_train25,Y_train75=train_test_split(y_train, train_size = 0.25,random_state=123,shuffle=False)\n",
    "\n",
    "#no. of label as 0 before mislabelling\n",
    "print((Y_train25 == 0).sum())\n",
    "#no. of label as 1 before mislabelling\n",
    "print((Y_train25 == 1).sum())\n",
    "\n",
    "#changing labels\n",
    "Y_train25=Y_train25.eq(0).mul(1)\n",
    "#no. of label as 0 after mislabelling\n",
    "print((Y_train25 == 0).sum())\n",
    "#no. of label as 1 after mislabelling\n",
    "print((Y_train25 == 1).sum())\n",
    "\n",
    "y_train_25mislabel = pd.concat([Y_train25, Y_train75])\n",
    "\n",
    "print(y_train_25mislabel)"
   ]
  },
  {
   "cell_type": "code",
   "execution_count": 82,
   "metadata": {},
   "outputs": [],
   "source": [
    "###############Mislabelling 30% of data##########################"
   ]
  },
  {
   "cell_type": "code",
   "execution_count": 83,
   "metadata": {},
   "outputs": [
    {
     "name": "stdout",
     "output_type": "stream",
     "text": [
      "36\n",
      "45\n",
      "45\n",
      "36\n",
      "107    0\n",
      "155    0\n",
      "251    1\n",
      "171    1\n",
      "53     0\n",
      "      ..\n",
      "106    1\n",
      "83     1\n",
      "17     1\n",
      "230    0\n",
      "98     1\n",
      "Name: target, Length: 272, dtype: int64\n"
     ]
    }
   ],
   "source": [
    "Y_train30,Y_train70=train_test_split(y_train, train_size = 0.30,random_state=123,shuffle=False)\n",
    "\n",
    "#no. of label as 0 before mislabelling\n",
    "print((Y_train30 == 0).sum())\n",
    "#no. of label as 1 before mislabelling\n",
    "print((Y_train30 == 1).sum())\n",
    "\n",
    "#changing labels\n",
    "Y_train30=Y_train30.eq(0).mul(1)\n",
    "#no. of label as 0 after mislabelling\n",
    "print((Y_train30 == 0).sum())\n",
    "#no. of label as 1 after mislabelling\n",
    "print((Y_train30 == 1).sum())\n",
    "\n",
    "y_train_30mislabel = pd.concat([Y_train30, Y_train70])\n",
    "\n",
    "print(y_train_30mislabel)"
   ]
  },
  {
   "cell_type": "code",
   "execution_count": 84,
   "metadata": {},
   "outputs": [],
   "source": [
    "###############Mislabelling 40% of data##########################"
   ]
  },
  {
   "cell_type": "code",
   "execution_count": 85,
   "metadata": {},
   "outputs": [
    {
     "name": "stdout",
     "output_type": "stream",
     "text": [
      "45\n",
      "63\n",
      "63\n",
      "45\n",
      "107    0\n",
      "155    0\n",
      "251    1\n",
      "171    1\n",
      "53     0\n",
      "      ..\n",
      "106    1\n",
      "83     1\n",
      "17     1\n",
      "230    0\n",
      "98     1\n",
      "Name: target, Length: 272, dtype: int64\n"
     ]
    }
   ],
   "source": [
    "Y_train40,Y_train60=train_test_split(y_train, train_size = 0.40,random_state=123,shuffle=False)\n",
    "\n",
    "#no. of label as 0 before mislabelling\n",
    "print((Y_train40 == 0).sum())\n",
    "#no. of label as 1 before mislabelling\n",
    "print((Y_train40 == 1).sum())\n",
    "\n",
    "#changing labels\n",
    "Y_train40=Y_train40.eq(0).mul(1)\n",
    "#no. of label as 0 after mislabelling\n",
    "print((Y_train40 == 0).sum())\n",
    "#no. of label as 1 after mislabelling\n",
    "print((Y_train40 == 1).sum())\n",
    "\n",
    "y_train_40mislabel = pd.concat([Y_train40, Y_train60])\n",
    "\n",
    "print(y_train_40mislabel)"
   ]
  },
  {
   "cell_type": "code",
   "execution_count": 86,
   "metadata": {},
   "outputs": [],
   "source": [
    "#########################Gaussian Noise################################"
   ]
  },
  {
   "cell_type": "code",
   "execution_count": 87,
   "metadata": {},
   "outputs": [
    {
     "name": "stdout",
     "output_type": "stream",
     "text": [
      "[[-0.11939838  0.13813347 -0.03079375 ...  0.06023718 -0.11208909\n",
      "  -0.07576904]\n",
      " [ 0.02052069  0.02537469  0.00620282 ... -0.09650841 -0.0502373\n",
      "   0.14338671]\n",
      " [ 0.15711194  0.01178245 -0.06342662 ...  0.09545095  0.00027146\n",
      "   0.22190399]\n",
      " ...\n",
      " [ 0.01653799 -0.13713947 -0.05330196 ...  0.17881528 -0.10659302\n",
      "  -0.02894346]\n",
      " [ 0.03043801  0.08884038  0.04673763 ... -0.18448523 -0.18738078\n",
      "   0.06160277]\n",
      " [ 0.16708875 -0.08629914 -0.10549953 ...  0.19629873 -0.17112023\n",
      "  -0.02884242]]\n",
      "           age       sex        cp    trestbps        chol       fbs  \\\n",
      "107  44.880602  0.138133 -0.030794  138.126356  235.907651 -0.168109   \n",
      "155  58.020521  0.025375  0.006203  129.996744  196.864306 -0.185539   \n",
      "251  43.157112  1.011782 -0.063427  132.070041  246.896609  1.109961   \n",
      "171  47.925214  1.058169  1.069432  109.869435  228.872231 -0.059008   \n",
      "53   44.100744  0.053812  1.942314  107.899600  140.928618  0.050846   \n",
      "..         ...       ...       ...         ...         ...       ...   \n",
      "106  68.901213  1.193762  2.805947  160.165108  233.880434  1.001455   \n",
      "83   51.907130  0.985170  2.947414  152.025104  297.942158  0.936030   \n",
      "17   66.016538 -0.137139  2.946698  150.100904  225.918898  0.243477   \n",
      "230  47.030438  1.088840  2.046738  107.860017  243.019815 -0.078404   \n",
      "98   43.167089  0.913701  1.894500  129.907920  315.090895 -0.022757   \n",
      "\n",
      "      restecg     thalach     exang   oldpeak     slope        ca      thal  \n",
      "107 -0.127843  151.993829  1.059756  0.250650  1.060237 -0.112089  1.924231  \n",
      "155  1.022684  131.019773  0.058298  0.530630  0.903492 -0.050237  2.143387  \n",
      "251  0.108694  142.820934  0.991749  0.255578  1.095451  4.000271  3.221904  \n",
      "171  1.101272  167.955067  0.061050  0.989478 -0.083794  0.046625  2.715627  \n",
      "53   1.045260  174.974042  0.113716  0.679095  0.816584  0.011817  1.990545  \n",
      "..        ...         ...       ...       ...       ...       ...       ...  \n",
      "106  0.027661  131.140768 -0.016029  0.173545  0.949567  1.073538  2.052435  \n",
      "83   0.843626  177.892879 -0.187163  1.328612  1.097077 -0.172908  3.088331  \n",
      "17   0.867185  113.874720  0.043699  2.539406  0.178815 -0.106593  1.971057  \n",
      "230  1.124333  151.973772  0.057095  0.043488  1.815515 -0.187381  2.061603  \n",
      "98   0.921523  161.850730 -0.000054  1.935665  2.196299  0.828880  1.971158  \n",
      "\n",
      "[272 rows x 13 columns]\n"
     ]
    }
   ],
   "source": [
    "####Gaussian Noise Level 1 mu=0  sigma=0.1 ####\n",
    "noise = np.random.normal(0, .1, X_train.shape)\n",
    "print(noise)\n",
    "X_train_gaus1 = X_train + noise\n",
    "print(X_train_gaus1)"
   ]
  },
  {
   "cell_type": "code",
   "execution_count": 118,
   "metadata": {},
   "outputs": [
    {
     "name": "stdout",
     "output_type": "stream",
     "text": [
      "[[ 1.26011977e+00  6.03944799e-01 -8.11163060e-01 ...  5.92963127e-01\n",
      "  -2.23623089e-01  6.33543745e-01]\n",
      " [ 2.78461254e-01  1.05657361e+00  2.05898823e-01 ...  2.25749609e-01\n",
      "   6.76986099e-01 -5.35020690e-01]\n",
      " [ 1.18944670e+00 -1.41750790e+00  1.87108456e+00 ...  1.01244913e+00\n",
      "   1.21301444e+00 -1.91943220e-01]\n",
      " ...\n",
      " [-7.93536012e-01 -2.07109067e+00 -1.05267196e-03 ... -2.87570770e-01\n",
      "  -1.91675337e+00 -3.54359387e-01]\n",
      " [-2.72515513e-01 -4.16875327e-01 -7.59527187e-01 ... -1.16591656e+00\n",
      "   1.03997131e+00 -3.09605663e+00]\n",
      " [-2.06262874e-01  8.93352039e-01  3.52293686e-02 ...  1.15835889e+00\n",
      "  -1.98514842e+00 -2.58786546e-01]]\n",
      "           age       sex        cp    trestbps        chol       fbs  \\\n",
      "107  46.260120  0.603945 -0.811163  138.465794  235.393962  0.058125   \n",
      "155  58.278461  1.056574  0.205899  130.282315  198.081432  0.471025   \n",
      "251  44.189447 -0.417508  1.871085  131.561522  246.913300  1.487649   \n",
      "171  48.049000  2.133440 -0.192971  110.962408  230.562842  0.158993   \n",
      "53   42.603201  0.329620  1.472076  108.418967  142.435747 -0.916608   \n",
      "..         ...       ...       ...         ...         ...       ...   \n",
      "106  68.218955  1.388210  1.388682  159.593660  234.697478  1.291255   \n",
      "83   52.047697  1.635822  2.387109  151.599625  296.398777  1.704502   \n",
      "17   65.206464 -2.071091  2.998947  148.451920  225.943105 -1.454726   \n",
      "230  46.727484  0.583125  1.240473  107.986775  243.596697  0.421272   \n",
      "98   42.793737  1.893352  2.035229  130.350402  314.712110  0.149388   \n",
      "\n",
      "      restecg     thalach     exang   oldpeak     slope        ca      thal  \n",
      "107 -0.817613  151.302323  1.033142  1.350328  1.592963 -0.223623  2.633544  \n",
      "155 -0.010408  129.385900  0.901790  0.762376  1.225750  0.676986  1.464979  \n",
      "251  0.400607  142.380512  1.767357 -1.830585  2.012449  5.213014  2.808057  \n",
      "171  1.648762  168.455699 -1.258212  1.511030 -0.151814  1.174006  3.485261  \n",
      "53   0.780591  175.832105 -1.316151 -0.539583  1.072731 -1.780244  3.104605  \n",
      "..        ...         ...       ...       ...       ...       ...       ...  \n",
      "106 -0.110001  130.375276 -2.847405  0.025004  1.597483  0.911229  1.220835  \n",
      "83   2.592914  179.682533 -0.726474  1.955024  0.222549  0.632518  3.007143  \n",
      "17  -0.179849  115.971296 -0.936228  3.162622 -0.287571 -1.916753  1.645641  \n",
      "230  1.557529  152.362333 -0.426451 -3.054390  0.834083  1.039971 -1.096057  \n",
      "98   1.651096  160.212643 -0.522421  1.439308  3.158359 -0.985148  1.741213  \n",
      "\n",
      "[272 rows x 13 columns]\n"
     ]
    }
   ],
   "source": [
    "####Gaussian Noise Level 2 mu=0  sigma=1 ####\n",
    "noise = np.random.normal(0, 1, X_train.shape)\n",
    "print(noise)\n",
    "X_train_gaus2 = X_train + noise\n",
    "print(X_train_gaus2)"
   ]
  },
  {
   "cell_type": "code",
   "execution_count": 88,
   "metadata": {},
   "outputs": [
    {
     "name": "stdout",
     "output_type": "stream",
     "text": [
      "           age        sex         cp    trestbps        chol       fbs  \\\n",
      "107  41.394739   6.592883   4.852430  138.604959  236.133197  5.384483   \n",
      "155  57.674007  -0.474298   7.234409  133.182537  201.037447 -5.379513   \n",
      "251  39.536081  -3.043210  -5.341562  136.155089  241.136165 -3.338949   \n",
      "171  44.901758   7.684879   3.025075  116.062169  220.854532  3.007970   \n",
      "53   44.111243  -0.378761   0.569373  112.557935  137.060653  1.642110   \n",
      "..         ...        ...        ...         ...         ...       ...   \n",
      "106  69.796320  10.720879   3.271798  160.028344  235.019532  7.461236   \n",
      "83   41.222879   2.928036   0.419293  160.084591  299.781631 -7.217855   \n",
      "17   69.810885   1.000284   9.756581  140.946027  226.174814  2.561633   \n",
      "230  47.405731   6.300378  -9.696266  105.445216  240.580957 -8.935216   \n",
      "98   42.348173  -2.248908  11.219066  134.706613  318.912085  6.249070   \n",
      "\n",
      "      restecg     thalach     exang   oldpeak      slope        ca      thal  \n",
      "107 -0.898164  149.118412  5.339781 -3.333793  16.885664 -1.016242 -1.007987  \n",
      "155 -2.622330  133.125452 -1.340819  4.643668  -1.173542 -3.608264  1.609698  \n",
      "251 -0.857685  136.002344 -5.790020  2.703681  -0.331943  5.528513  0.946450  \n",
      "171 -2.420049  164.442763  1.516172  7.602331  -2.914011  3.316601  1.282303  \n",
      "53   5.866118  175.274141 -5.146334  4.851476   0.075306  0.135546  2.661496  \n",
      "..        ...         ...       ...       ...        ...       ...       ...  \n",
      "106 -8.105739  124.633982 -6.478680 -2.916634   4.449449 -3.917545 -7.761484  \n",
      "83   2.614063  179.286028 -3.179365  1.466874   2.423610  3.152629 -1.170100  \n",
      "17  -1.657700  120.353367 -0.729015  4.901863   5.453552  6.645819  2.128483  \n",
      "230 -0.290119  150.702912 -6.050581 -2.041609   6.870280  2.976747 -0.677142  \n",
      "98   1.326764  156.089239 -2.922490 -2.242181   3.791265  2.074286  2.829953  \n",
      "\n",
      "[272 rows x 13 columns]\n"
     ]
    }
   ],
   "source": [
    "####Gaussian Noise Level 3 mu=0  sigma=5 ####\n",
    "noise = np.random.normal(0, 5, X_train.shape)\n",
    "X_train_gaus3 = X_train + noise\n",
    "print(X_train_gaus3)"
   ]
  },
  {
   "cell_type": "code",
   "execution_count": 104,
   "metadata": {},
   "outputs": [
    {
     "name": "stdout",
     "output_type": "stream",
     "text": [
      "-40\n",
      "Calling Random Forest Function\n",
      "-30\n",
      "Calling Random Forest Function\n",
      "-20\n",
      "Calling Random Forest Function\n",
      "-10\n",
      "Calling Random Forest Function\n"
     ]
    }
   ],
   "source": [
    "#Calling Barron function without mislabelling\n",
    "results={}\n",
    "results['gauslevel1_without_mislabel'] = []\n",
    "for alpha in [-40, -30, -20, -10]:\n",
    "    print(alpha)\n",
    "    results['gauslevel1_without_mislabel'].append(Barronfunc(X_train_gaus1,X_test,y_train,y_test,alpha))\n"
   ]
  },
  {
   "cell_type": "code",
   "execution_count": 105,
   "metadata": {},
   "outputs": [
    {
     "name": "stdout",
     "output_type": "stream",
     "text": [
      "-40\n",
      "Calling Random Forest Function\n",
      "-30\n",
      "Calling Random Forest Function\n",
      "-20\n",
      "Calling Random Forest Function\n",
      "-10\n",
      "Calling Random Forest Function\n"
     ]
    }
   ],
   "source": [
    "#Calling Barron function with 10% mislabelling\n",
    "results['gauslevel1_with_10%mislabel'] = []\n",
    "for alpha in [-40, -30, -20, -10]:\n",
    "    print(alpha)\n",
    "    results['gauslevel1_with_10%mislabel'].append(Barronfunc(X_train_gaus1,X_test,y_train_10mislabel,y_test,alpha))"
   ]
  },
  {
   "cell_type": "code",
   "execution_count": 107,
   "metadata": {},
   "outputs": [
    {
     "name": "stdout",
     "output_type": "stream",
     "text": [
      "-40\n",
      "Calling Random Forest Function\n",
      "-30\n",
      "Calling Random Forest Function\n",
      "-20\n",
      "Calling Random Forest Function\n",
      "-10\n",
      "Calling Random Forest Function\n"
     ]
    }
   ],
   "source": [
    "#Calling Barron function with 15% mislabelling for level1 \n",
    "results['gauslevel1_with_15%mislabel'] = []\n",
    "for alpha in [-40, -30, -20, -10]:\n",
    "    print(alpha)\n",
    "    results['gauslevel1_with_15%mislabel'].append(Barronfunc(X_train_gaus1,X_test,y_train_15mislabel,y_test,alpha))"
   ]
  },
  {
   "cell_type": "code",
   "execution_count": 109,
   "metadata": {},
   "outputs": [
    {
     "name": "stdout",
     "output_type": "stream",
     "text": [
      "-40\n",
      "Calling Random Forest Function\n",
      "-30\n",
      "Calling Random Forest Function\n",
      "-20\n",
      "Calling Random Forest Function\n",
      "-10\n",
      "Calling Random Forest Function\n"
     ]
    }
   ],
   "source": [
    "#Calling Barron function with 20% mislabelling for level1 \n",
    "results['gauslevel1_with_20%mislabel'] = []\n",
    "for alpha in [-40, -30, -20, -10]:\n",
    "    print(alpha)\n",
    "    results['gauslevel1_with_20%mislabel'].append(Barronfunc(X_train_gaus1,X_test,y_train_20mislabel,y_test,alpha))"
   ]
  },
  {
   "cell_type": "code",
   "execution_count": 110,
   "metadata": {},
   "outputs": [
    {
     "name": "stdout",
     "output_type": "stream",
     "text": [
      "-40\n",
      "Calling Random Forest Function\n",
      "-30\n",
      "Calling Random Forest Function\n",
      "-20\n",
      "Calling Random Forest Function\n",
      "-10\n",
      "Calling Random Forest Function\n"
     ]
    }
   ],
   "source": [
    "#Calling Barron function with 25% mislabelling for level1 \n",
    "results['gauslevel1_with_25%mislabel'] = []\n",
    "for alpha in [-40, -30, -20, -10]:\n",
    "    print(alpha)\n",
    "    results['gauslevel1_with_25%mislabel'].append(Barronfunc(X_train_gaus1,X_test,y_train_25mislabel,y_test,alpha))"
   ]
  },
  {
   "cell_type": "code",
   "execution_count": 114,
   "metadata": {},
   "outputs": [
    {
     "name": "stdout",
     "output_type": "stream",
     "text": [
      "-40\n",
      "Calling Random Forest Function\n",
      "-30\n",
      "Calling Random Forest Function\n",
      "-20\n",
      "Calling Random Forest Function\n",
      "-10\n",
      "Calling Random Forest Function\n"
     ]
    }
   ],
   "source": [
    "#Calling Barron function with 30% mislabelling for level1 \n",
    "results['gauslevel1_with_30%mislabel'] = []\n",
    "for alpha in [-40, -30, -20, -10]:\n",
    "    print(alpha)\n",
    "    results['gauslevel1_with_30%mislabel'].append(Barronfunc(X_train_gaus1,X_test,y_train_30mislabel,y_test,alpha))"
   ]
  },
  {
   "cell_type": "code",
   "execution_count": 115,
   "metadata": {},
   "outputs": [
    {
     "name": "stdout",
     "output_type": "stream",
     "text": [
      "-40\n",
      "Calling Random Forest Function\n",
      "-30\n",
      "Calling Random Forest Function\n",
      "-20\n",
      "Calling Random Forest Function\n",
      "-10\n",
      "Calling Random Forest Function\n"
     ]
    }
   ],
   "source": [
    "#Calling Barron function with 40% mislabelling for level1\n",
    "results['gauslevel1_with_40%mislabel'] = []\n",
    "for alpha in [-40, -30, -20, -10]:\n",
    "    print(alpha)\n",
    "    results['gauslevel1_with_40%mislabel'].append(Barronfunc(X_train_gaus1,X_test,y_train_40mislabel,y_test,alpha))"
   ]
  },
  {
   "cell_type": "code",
   "execution_count": 119,
   "metadata": {},
   "outputs": [
    {
     "name": "stdout",
     "output_type": "stream",
     "text": [
      "-40\n",
      "Calling Random Forest Function\n",
      "Calling Random Forest Function\n",
      "Calling Random Forest Function\n",
      "Calling Random Forest Function\n",
      "Calling Random Forest Function\n",
      "Calling Random Forest Function\n",
      "Calling Random Forest Function\n",
      "-30\n",
      "Calling Random Forest Function\n",
      "Calling Random Forest Function\n",
      "Calling Random Forest Function\n",
      "Calling Random Forest Function\n",
      "Calling Random Forest Function\n",
      "Calling Random Forest Function\n",
      "Calling Random Forest Function\n",
      "-20\n",
      "Calling Random Forest Function\n",
      "Calling Random Forest Function\n",
      "Calling Random Forest Function\n",
      "Calling Random Forest Function\n",
      "Calling Random Forest Function\n",
      "Calling Random Forest Function\n",
      "Calling Random Forest Function\n",
      "-10\n",
      "Calling Random Forest Function\n",
      "Calling Random Forest Function\n",
      "Calling Random Forest Function\n",
      "Calling Random Forest Function\n",
      "Calling Random Forest Function\n",
      "Calling Random Forest Function\n",
      "Calling Random Forest Function\n"
     ]
    }
   ],
   "source": [
    "#Calling Barron function with mislabelling for level2 \n",
    "results['gauslevel2_without_mislabel'] =[]\n",
    "results['gauslevel2_with_10%mislabel'] = []\n",
    "results['gauslevel2_with_15%mislabel'] = []\n",
    "results['gauslevel2_with_20%mislabel'] = []\n",
    "results['gauslevel2_with_25%mislabel'] = []\n",
    "results['gauslevel2_with_30%mislabel'] = []\n",
    "results['gauslevel2_with_40%mislabel'] = []\n",
    "for alpha in [-40, -30, -20, -10]:\n",
    "    print(alpha)\n",
    "    results['gauslevel2_without_mislabel'].append(Barronfunc(X_train_gaus2,X_test,y_train,y_test,alpha))\n",
    "    results['gauslevel2_with_10%mislabel'].append(Barronfunc(X_train_gaus2,X_test,y_train_10mislabel,y_test,alpha))\n",
    "    results['gauslevel2_with_15%mislabel'].append(Barronfunc(X_train_gaus2,X_test,y_train_15mislabel,y_test,alpha))\n",
    "    results['gauslevel2_with_20%mislabel'].append(Barronfunc(X_train_gaus2,X_test,y_train_20mislabel,y_test,alpha))\n",
    "    results['gauslevel2_with_25%mislabel'].append(Barronfunc(X_train_gaus2,X_test,y_train_25mislabel,y_test,alpha))\n",
    "    results['gauslevel2_with_30%mislabel'].append(Barronfunc(X_train_gaus2,X_test,y_train_30mislabel,y_test,alpha))\n",
    "    results['gauslevel2_with_40%mislabel'].append(Barronfunc(X_train_gaus2,X_test,y_train_40mislabel,y_test,alpha))"
   ]
  },
  {
   "cell_type": "code",
   "execution_count": 121,
   "metadata": {},
   "outputs": [
    {
     "name": "stdout",
     "output_type": "stream",
     "text": [
      "-40\n",
      "Calling Random Forest Function\n",
      "Calling Random Forest Function\n",
      "Calling Random Forest Function\n",
      "Calling Random Forest Function\n",
      "Calling Random Forest Function\n",
      "Calling Random Forest Function\n",
      "Calling Random Forest Function\n",
      "-30\n",
      "Calling Random Forest Function\n",
      "Calling Random Forest Function\n",
      "Calling Random Forest Function\n",
      "Calling Random Forest Function\n",
      "Calling Random Forest Function\n",
      "Calling Random Forest Function\n",
      "Calling Random Forest Function\n",
      "-20\n",
      "Calling Random Forest Function\n",
      "Calling Random Forest Function\n",
      "Calling Random Forest Function\n",
      "Calling Random Forest Function\n",
      "Calling Random Forest Function\n",
      "Calling Random Forest Function\n",
      "Calling Random Forest Function\n",
      "-10\n",
      "Calling Random Forest Function\n",
      "Calling Random Forest Function\n",
      "Calling Random Forest Function\n",
      "Calling Random Forest Function\n",
      "Calling Random Forest Function\n",
      "Calling Random Forest Function\n",
      "Calling Random Forest Function\n"
     ]
    }
   ],
   "source": [
    "#Calling Barron function with mislabelling for level3 gaussian noise \n",
    "results['gauslevel3_without_mislabel'] =[]\n",
    "results['gauslevel3_with_10%mislabel'] = []\n",
    "results['gauslevel3_with_15%mislabel'] = []\n",
    "results['gauslevel3_with_20%mislabel'] = []\n",
    "results['gauslevel3_with_25%mislabel'] = []\n",
    "results['gauslevel3_with_30%mislabel'] = []\n",
    "results['gauslevel3_with_40%mislabel'] = []\n",
    "for alpha in [-40, -30, -20, -10]:\n",
    "    print(alpha)\n",
    "    results['gauslevel3_without_mislabel'].append(Barronfunc(X_train_gaus3,X_test,y_train,y_test,alpha))\n",
    "    results['gauslevel3_with_10%mislabel'].append(Barronfunc(X_train_gaus3,X_test,y_train_10mislabel,y_test,alpha))\n",
    "    results['gauslevel3_with_15%mislabel'].append(Barronfunc(X_train_gaus3,X_test,y_train_15mislabel,y_test,alpha))\n",
    "    results['gauslevel3_with_20%mislabel'].append(Barronfunc(X_train_gaus3,X_test,y_train_20mislabel,y_test,alpha))\n",
    "    results['gauslevel3_with_25%mislabel'].append(Barronfunc(X_train_gaus3,X_test,y_train_25mislabel,y_test,alpha))\n",
    "    results['gauslevel3_with_30%mislabel'].append(Barronfunc(X_train_gaus3,X_test,y_train_30mislabel,y_test,alpha))\n",
    "    results['gauslevel3_with_40%mislabel'].append(Barronfunc(X_train_gaus3,X_test,y_train_40mislabel,y_test,alpha))"
   ]
  },
  {
   "cell_type": "code",
   "execution_count": 122,
   "metadata": {},
   "outputs": [
    {
     "data": {
      "text/plain": [
       "{'gauslevel1_without_mislabel': [[-40,\n",
       "   0.39312100391412746,\n",
       "   0.36715402701525623,\n",
       "   -0.5475220173757067],\n",
       "  [-30, 0.3931192436809305, 0.36715964622285235, -0.5475457018428114],\n",
       "  [-20, 0.39310908636808084, 0.3671920738742194, -0.5476823815487928],\n",
       "  [-10, 0.3931164442236086, 0.36716858320491874, -0.5475833704382755]],\n",
       " 'gauslevel1_with_10%mislabel': [[-40,\n",
       "   0.3930563792586832,\n",
       "   0.3673604085360176,\n",
       "   -0.5483918973820736],\n",
       "  [-30, 0.3930624887653023, 0.367340890561574, -0.5483096308318969],\n",
       "  [-20, 0.3930625796450872, 0.36734060023996357, -0.5483084071517759],\n",
       "  [-10, 0.39306136212539955, 0.3673444897157342, -0.5483248009509669]],\n",
       " 'gauslevel1_with_15%mislabel': [[-40,\n",
       "   0.3930709407549871,\n",
       "   0.3673138914956718,\n",
       "   -0.5481958321374583],\n",
       "  [-30, 0.3930726699311626, 0.3673083681544225, -0.5481725517385962],\n",
       "  [-20, 0.3930752408023832, 0.3673001564844051, -0.5481379402697948],\n",
       "  [-10, 0.39307018004570027, 0.3673163213933748, -0.5482060739431274]],\n",
       " 'gauslevel1_with_20%mislabel': [[-40,\n",
       "   0.393041451097993,\n",
       "   0.36740810552814246,\n",
       "   -0.5485929360199333],\n",
       "  [-30, 0.393028065003302, 0.36745088289589806, -0.5487732388726223],\n",
       "  [-20, 0.3930334914407477, 0.3674335410157621, -0.5487001443690669],\n",
       "  [-10, 0.3930373210745876, 0.36742130291678643, -0.5486485618554018]],\n",
       " 'gauslevel1_with_25%mislabel': [[-40,\n",
       "   0.3930651578424186,\n",
       "   0.3673323641494276,\n",
       "   -0.5482736927526306],\n",
       "  [-30, 0.393069381354147, 0.3673188726404623, -0.5482168272258079],\n",
       "  [-20, 0.393058574656395, 0.36735339475426193, -0.5483623349072175],\n",
       "  [-10, 0.3930759715945682, 0.3672978222941231, -0.5481281018625097]],\n",
       " 'gauslevel1_with_30%mislabel': [[-40,\n",
       "   0.3930473823472381,\n",
       "   0.36738915353682006,\n",
       "   -0.5485130550389647],\n",
       "  [-30, 0.39304063871874495, 0.36741070141327525, -0.5486038774480588],\n",
       "  [-20, 0.3930485664028423, 0.3673853703150107, -0.5484971090908997],\n",
       "  [-10, 0.3930499576063382, 0.3673809252972327, -0.5484783737308794]],\n",
       " 'gauslevel1_with_40%mislabel': [[-40,\n",
       "   0.392971609316421,\n",
       "   0.36763137323961415,\n",
       "   -0.5495339898388993],\n",
       "  [-30, 0.39297416648810046, 0.3676231951901223, -0.5494995200776642],\n",
       "  [-20, 0.39296343230493497, 0.36765752572955823, -0.5496442202899356],\n",
       "  [-10, 0.39297194530785495, 0.3676302986961942, -0.5495294607326424]],\n",
       " 'gauslevel2_without_mislabel': [[-40,\n",
       "   0.3931145536765011,\n",
       "   0.367174618757693,\n",
       "   -0.5476088097637846],\n",
       "  [-30, 0.3931162522476542, 0.3671691960798422, -0.5475859536523169],\n",
       "  [-20, 0.39311586977871327, 0.3671704170996871, -0.547591100143856],\n",
       "  [-10, 0.393125060961918, 0.36714107612951735, -0.54746743052836]],\n",
       " 'gauslevel2_with_10%mislabel': [[-40,\n",
       "   0.39306432473508174,\n",
       "   0.36733502549495645,\n",
       "   -0.5482849100905836],\n",
       "  [-30, 0.39307333589557353, 0.3673062409596002, -0.5481635857990161],\n",
       "  [-20, 0.39307309205696295, 0.36730701981636266, -0.5481668686119492],\n",
       "  [-10, 0.39306910823750846, 0.3673197450581191, -0.5482205043897033]],\n",
       " 'gauslevel2_with_15%mislabel': [[-40,\n",
       "   0.3930775147925076,\n",
       "   0.36729289330417103,\n",
       "   -0.5481073266022292],\n",
       "  [-30, 0.3930695915029138, 0.3673182013633411, -0.5482139978516258],\n",
       "  [-20, 0.39306354321348663, 0.36733752207556297, -0.5482954329588419],\n",
       "  [-10, 0.39307462449057495, 0.36730212503437326, -0.5481462375352308]],\n",
       " 'gauslevel2_with_20%mislabel': [[-40,\n",
       "   0.3930381593050902,\n",
       "   0.3674186243176287,\n",
       "   -0.5486372717949168],\n",
       "  [-30, 0.3930354637744628, 0.36742723809194155, -0.5486735780980514],\n",
       "  [-20, 0.39303883661587086, 0.36741645996402167, -0.548628149234319],\n",
       "  [-10, 0.39304060213623326, 0.36741081831002403, -0.5486043701576009]],\n",
       " 'gauslevel2_with_25%mislabel': [[-40,\n",
       "   0.393067267400628,\n",
       "   0.36732562532763213,\n",
       "   -0.5482452892098875],\n",
       "  [-30, 0.393078202740679, 0.3672906960208012, -0.5480980652455696],\n",
       "  [-20, 0.39307919822773474, 0.36728751650142255, -0.5480846638502936],\n",
       "  [-10, 0.39307684362004, 0.36729503702439753, -0.5481163621949381]],\n",
       " 'gauslevel2_with_30%mislabel': [[-40,\n",
       "   0.39304534227011884,\n",
       "   0.36739567199504763,\n",
       "   -0.5485405297685992],\n",
       "  [-30, 0.3930431445667192, 0.36740269428371697, -0.5485701280993505],\n",
       "  [-20, 0.3930497187958809, 0.3673816883122926, -0.5484815897724258],\n",
       "  [-10, 0.3930475597965943, 0.3673885865580235, -0.5485106652730722]],\n",
       " 'gauslevel2_with_40%mislabel': [[-40,\n",
       "   0.39298379469460465,\n",
       "   0.3675924056792137,\n",
       "   -0.5493697449900188],\n",
       "  [-30, 0.392973080380342, 0.367626668622487, -0.5495141602903943],\n",
       "  [-20, 0.39297765451260963, 0.36761204060875347, -0.5494525044956666],\n",
       "  [-10, 0.39296925213127265, 0.3676389119425964, -0.54956576481068]],\n",
       " 'gauslevel3_without_mislabel': [[-40,\n",
       "   0.3931188455460131,\n",
       "   0.3671609172092322,\n",
       "   -0.5475510589389125],\n",
       "  [-30, 0.393120180902183, 0.3671566543082483, -0.5475330911852039],\n",
       "  [-20, 0.39312627428094615, 0.3671372031045736, -0.5474511060679612],\n",
       "  [-10, 0.39312167755932126, 0.3671518765640577, -0.5475129534125407]],\n",
       " 'gauslevel3_with_10%mislabel': [[-40,\n",
       "   0.3930560039423443,\n",
       "   0.3673616076027827,\n",
       "   -0.5483969513433071],\n",
       "  [-30, 0.3930650824374892, 0.36733260502791826, -0.5482747080343391],\n",
       "  [-20, 0.39304993727197884, 0.36738099026675597, -0.5484786475717209],\n",
       "  [-10, 0.39305933915013563, 0.3673509524201053, -0.5483520406829872]],\n",
       " 'gauslevel3_with_15%mislabel': [[-40,\n",
       "   0.3930757625555101,\n",
       "   0.3672984899741905,\n",
       "   -0.5481309160754253],\n",
       "  [-30, 0.39306435034864246, 0.36733494367251823, -0.5482845652161839],\n",
       "  [-20, 0.39306765929277304, 0.367324373477478, -0.5482400127712992],\n",
       "  [-10, 0.3930664838041868, 0.3673281284459468, -0.5482558396340123]],\n",
       " 'gauslevel3_with_20%mislabel': [[-40,\n",
       "   0.39304789287131053,\n",
       "   0.36738752233488775,\n",
       "   -0.5485061796659081],\n",
       "  [-30, 0.3930315150168982, 0.3674398571633562, -0.548726766377128],\n",
       "  [-20, 0.39303745122461536, 0.3674208870153494, -0.5486468088673275],\n",
       "  [-10, 0.3930323539785411, 0.3674371760367574, -0.5487154656637008]],\n",
       " 'gauslevel3_with_25%mislabel': [[-40,\n",
       "   0.39308058188929734,\n",
       "   0.3672830972430757,\n",
       "   -0.5480660370640158],\n",
       "  [-30, 0.39307465184753637, 0.3673020376537006, -0.5481458692333603],\n",
       "  [-20, 0.3930718746111865, 0.36731090855401044, -0.5481832593000171],\n",
       "  [-10, 0.3930743952187416, 0.36730285735103196, -0.5481493241857089]],\n",
       " 'gauslevel3_with_30%mislabel': [[-40,\n",
       "   0.3930405859041455,\n",
       "   0.3674108701784932,\n",
       "   -0.5486045887786486],\n",
       "  [-30, 0.39304300699565403, 0.3674031338687764, -0.5485719809118157],\n",
       "  [-20, 0.39305117440116033, 0.3673770375927756, -0.5484619873976195],\n",
       "  [-10, 0.3930434047931576, 0.3674018627761978, -0.5485666233680964]],\n",
       " 'gauslevel3_with_40%mislabel': [[-40,\n",
       "   0.3929761363280113,\n",
       "   0.36761689565177613,\n",
       "   -0.5494729680761261],\n",
       "  [-30, 0.39295584985062226, 0.36768177899420673, -0.5497464456729497],\n",
       "  [-20, 0.39297387897996583, 0.3676241146524517, -0.5495033955307278],\n",
       "  [-10, 0.3929684508026612, 0.36764147478557274, -0.5495765669690142]]}"
      ]
     },
     "execution_count": 122,
     "metadata": {},
     "output_type": "execute_result"
    }
   ],
   "source": [
    "results"
   ]
  },
  {
   "cell_type": "code",
   "execution_count": 73,
   "metadata": {},
   "outputs": [],
   "source": [
    "#########################Poisson Noise################################"
   ]
  },
  {
   "cell_type": "code",
   "execution_count": 128,
   "metadata": {},
   "outputs": [
    {
     "name": "stdout",
     "output_type": "stream",
     "text": [
      "[[0 0 0 ... 1 2 0]\n",
      " [0 1 1 ... 0 1 0]\n",
      " [2 1 0 ... 1 1 2]\n",
      " ...\n",
      " [0 1 1 ... 0 1 2]\n",
      " [0 1 0 ... 1 0 0]\n",
      " [0 3 1 ... 1 1 1]]\n",
      "     age  sex  cp  trestbps  chol  fbs  restecg  thalach  exang  oldpeak  \\\n",
      "107   45    0   0       140   236    1        0      152      1      1.2   \n",
      "155   58    1   1       132   197    1        3      131      1      1.6   \n",
      "251   45    2   0       134   247    2        0      143      2      1.1   \n",
      "171   49    2   3       112   230    0        4      169      1      2.0   \n",
      "53    45    0   2       108   144    4        5      177      0      0.6   \n",
      "..   ...  ...  ..       ...   ...  ...      ...      ...    ...      ...   \n",
      "106   69    2   5       163   234    2        0      132      0      2.1   \n",
      "83    53    3   4       154   298    2        4      179      0      1.2   \n",
      "17    66    1   4       151   228    0        4      115      3      2.6   \n",
      "230   47    2   2       108   244    0        1      154      2      2.0   \n",
      "98    43    4   3       130   316    0        6      163      0      2.9   \n",
      "\n",
      "     slope  ca  thal  \n",
      "107      2   2     2  \n",
      "155      1   1     2  \n",
      "251      2   5     5  \n",
      "171      0   1     4  \n",
      "53       1   2     2  \n",
      "..     ...  ..   ...  \n",
      "106      3   1     2  \n",
      "83       2   0     3  \n",
      "17       0   1     4  \n",
      "230      3   0     2  \n",
      "98       3   2     3  \n",
      "\n",
      "[272 rows x 13 columns]\n"
     ]
    }
   ],
   "source": [
    "#lambda=10\n",
    "noise = np.random.poisson(1, X_train.shape)\n",
    "print(noise)\n",
    "new_X_train_poisson_1 = X_train + noise\n",
    "print(new_X_train_poisson_1)"
   ]
  },
  {
   "cell_type": "code",
   "execution_count": 129,
   "metadata": {},
   "outputs": [
    {
     "name": "stdout",
     "output_type": "stream",
     "text": [
      "[[4 6 5 ... 5 4 5]\n",
      " [4 5 3 ... 6 4 6]\n",
      " [1 2 5 ... 6 6 3]\n",
      " ...\n",
      " [5 3 3 ... 8 4 4]\n",
      " [5 3 5 ... 4 4 5]\n",
      " [2 6 3 ... 5 5 2]]\n",
      "     age  sex  cp  trestbps  chol  fbs  restecg  thalach  exang  oldpeak  \\\n",
      "107   49    6   5       140   240    8        3      155      5      3.2   \n",
      "155   62    5   3       134   200    8        3      135      3      7.6   \n",
      "251   44    3   5       136   249    4        3      148      7      6.1   \n",
      "171   55    2   5       114   231    5        5      168      4      4.0   \n",
      "53    48    0   6       112   143    4        2      177      6      5.6   \n",
      "..   ...  ...  ..       ...   ...  ...      ...      ...    ...      ...   \n",
      "106   76    2   8       166   237    3        8      135      4      0.1   \n",
      "83    53    3   7       161   303    6        4      184      6      4.2   \n",
      "17    71    3   6       155   230    4        5      115      1      5.6   \n",
      "230   52    4   7       112   249    3        6      154      2      1.0   \n",
      "98    45    7   5       134   319    2        7      167      1      9.9   \n",
      "\n",
      "     slope  ca  thal  \n",
      "107      6   4     7  \n",
      "155      7   4     8  \n",
      "251      7  10     6  \n",
      "171      5   3     7  \n",
      "53       8   4     6  \n",
      "..     ...  ..   ...  \n",
      "106      4   7     5  \n",
      "83       5   2     7  \n",
      "17       8   4     6  \n",
      "230      6   4     7  \n",
      "98       7   6     4  \n",
      "\n",
      "[272 rows x 13 columns]\n"
     ]
    }
   ],
   "source": [
    "#lambda=10\n",
    "noise = np.random.poisson(4, X_train.shape)\n",
    "print(noise)\n",
    "new_X_train_poisson_4 = X_train + noise\n",
    "print(new_X_train_poisson_4)"
   ]
  },
  {
   "cell_type": "code",
   "execution_count": 130,
   "metadata": {},
   "outputs": [
    {
     "name": "stdout",
     "output_type": "stream",
     "text": [
      "[[15 10 11 ...  8 10 12]\n",
      " [12 14  8 ...  7 10  7]\n",
      " [ 4 14  3 ...  9 10 13]\n",
      " ...\n",
      " [10 10 12 ... 10  9 12]\n",
      " [11  4  8 ... 11 11  8]\n",
      " [ 6 12  8 ...  8 14 11]]\n",
      "     age  sex  cp  trestbps  chol  fbs  restecg  thalach  exang  oldpeak  \\\n",
      "107   60   10  11       148   249    8        8      169     12      7.2   \n",
      "155   70   14   8       137   206   10       11      136     12      6.6   \n",
      "251   47   15   3       144   258   12       12      154     11      9.1   \n",
      "171   57   10   9       118   239    7       12      179     11      8.0   \n",
      "53    55   13  10       122   159   11        8      189      6     13.6   \n",
      "..   ...  ...  ..       ...   ...  ...      ...      ...    ...      ...   \n",
      "106   81   11  10       173   240   12        9      140      9     17.1   \n",
      "83    60   13  10       162   307   10        5      186      8      9.2   \n",
      "17    76   10  15       158   237   13       11      121      8     11.6   \n",
      "230   58    5  10       121   255   12       11      161      9     12.0   \n",
      "98    49   13  10       137   325   14       11      173      7      7.9   \n",
      "\n",
      "     slope  ca  thal  \n",
      "107      9  10    14  \n",
      "155      8  10     9  \n",
      "251     10  14    16  \n",
      "171     10  12    10  \n",
      "53       8  11    15  \n",
      "..     ...  ..   ...  \n",
      "106     16   8     8  \n",
      "83      11  13    18  \n",
      "17      10   9    14  \n",
      "230     13  11    10  \n",
      "98      10  15    13  \n",
      "\n",
      "[272 rows x 13 columns]\n"
     ]
    }
   ],
   "source": [
    "#lambda=10\n",
    "noise = np.random.poisson(10, X_train.shape)\n",
    "print(noise)\n",
    "new_X_train_poisson_10 = X_train + noise\n",
    "print(new_X_train_poisson_10)"
   ]
  },
  {
   "cell_type": "code",
   "execution_count": 132,
   "metadata": {},
   "outputs": [
    {
     "name": "stdout",
     "output_type": "stream",
     "text": [
      "-40\n",
      "Calling Random Forest Function\n",
      "Calling Random Forest Function\n",
      "Calling Random Forest Function\n",
      "Calling Random Forest Function\n",
      "Calling Random Forest Function\n",
      "Calling Random Forest Function\n",
      "Calling Random Forest Function\n",
      "-30\n",
      "Calling Random Forest Function\n",
      "Calling Random Forest Function\n",
      "Calling Random Forest Function\n",
      "Calling Random Forest Function\n",
      "Calling Random Forest Function\n",
      "Calling Random Forest Function\n",
      "Calling Random Forest Function\n",
      "-20\n",
      "Calling Random Forest Function\n",
      "Calling Random Forest Function\n",
      "Calling Random Forest Function\n",
      "Calling Random Forest Function\n",
      "Calling Random Forest Function\n",
      "Calling Random Forest Function\n",
      "Calling Random Forest Function\n",
      "-10\n",
      "Calling Random Forest Function\n",
      "Calling Random Forest Function\n",
      "Calling Random Forest Function\n",
      "Calling Random Forest Function\n",
      "Calling Random Forest Function\n",
      "Calling Random Forest Function\n",
      "Calling Random Forest Function\n"
     ]
    }
   ],
   "source": [
    "#Calling Barron function with mislabelling for level1 poisson noise \n",
    "poisson_results={}\n",
    "poisson_results['poissonlevel1_without_mislabel'] =[]\n",
    "poisson_results['poissonlevel1_with_10%mislabel'] = []\n",
    "poisson_results['poissonlevel1_with_15%mislabel'] = []\n",
    "poisson_results['poissonlevel1_with_20%mislabel'] = []\n",
    "poisson_results['poissonlevel1_with_25%mislabel'] = []\n",
    "poisson_results['poissonlevel1_with_30%mislabel'] = []\n",
    "poisson_results['poissonlevel1_with_40%mislabel'] = []\n",
    "for alpha in [-40, -30, -20, -10]:\n",
    "    print(alpha)\n",
    "    poisson_results['poissonlevel1_without_mislabel'].append(Barronfunc(new_X_train_poisson_1,X_test,y_train,y_test,alpha))\n",
    "    poisson_results['poissonlevel1_with_10%mislabel'].append(Barronfunc(new_X_train_poisson_1,X_test,y_train_10mislabel,y_test,alpha))\n",
    "    poisson_results['poissonlevel1_with_15%mislabel'].append(Barronfunc(new_X_train_poisson_1,X_test,y_train_15mislabel,y_test,alpha))\n",
    "    poisson_results['poissonlevel1_with_20%mislabel'].append(Barronfunc(new_X_train_poisson_1,X_test,y_train_20mislabel,y_test,alpha))\n",
    "    poisson_results['poissonlevel1_with_25%mislabel'].append(Barronfunc(new_X_train_poisson_1,X_test,y_train_25mislabel,y_test,alpha))\n",
    "    poisson_results['poissonlevel1_with_30%mislabel'].append(Barronfunc(new_X_train_poisson_1,X_test,y_train_30mislabel,y_test,alpha))\n",
    "    poisson_results['poissonlevel1_with_40%mislabel'].append(Barronfunc(new_X_train_poisson_1,X_test,y_train_40mislabel,y_test,alpha))"
   ]
  },
  {
   "cell_type": "code",
   "execution_count": 133,
   "metadata": {},
   "outputs": [
    {
     "data": {
      "text/plain": [
       "{'poissonlevel1_without_mislabel': [[-40,\n",
       "   0.3931215192669748,\n",
       "   0.3671523818729234,\n",
       "   -0.5475150832450844],\n",
       "  [-30, 0.39312998054971454, 0.36712537271439843, -0.5474012420111263],\n",
       "  [-20, 0.3931228276706624, 0.3671482051497533, -0.5474974787233018],\n",
       "  [-10, 0.3931178811739086, 0.36716399584920034, -0.547564035136322]],\n",
       " 'poissonlevel1_with_10%mislabel': [[-40,\n",
       "   0.39307358820507454,\n",
       "   0.3673054350480099,\n",
       "   -0.5481601889523569],\n",
       "  [-30, 0.3930656801321888, 0.3673306957185827, -0.5482666604629731],\n",
       "  [-20, 0.3930778621646682, 0.3672917838068287, -0.5481026501682555],\n",
       "  [-10, 0.39306596990725595, 0.36732977004996487, -0.5482627588509479]],\n",
       " 'poissonlevel1_with_15%mislabel': [[-40,\n",
       "   0.3930668591319214,\n",
       "   0.3673269294970589,\n",
       "   -0.5482507861696206],\n",
       "  [-30, 0.39306360205043084, 0.36733733411936736, -0.5482946407399645],\n",
       "  [-20, 0.39307880232045617, 0.3672887809982564, -0.5480899935935275],\n",
       "  [-10, 0.39309060831242876, 0.36725107622665837, -0.547931071288678]],\n",
       " 'poissonlevel1_with_20%mislabel': [[-40,\n",
       "   0.3930339375395937,\n",
       "   0.36743211541858334,\n",
       "   -0.5486941356020107],\n",
       "  [-30, 0.39302387281584356, 0.3674642811345234, -0.5488297112731442],\n",
       "  [-20, 0.39302565297809317, 0.3674585916485742, -0.548805730588946],\n",
       "  [-10, 0.3930348742435462, 0.36742912202106237, -0.5486815186940386]],\n",
       " 'poissonlevel1_with_25%mislabel': [[-40,\n",
       "   0.3930568588491891,\n",
       "   0.3673588763404824,\n",
       "   -0.548385439312296],\n",
       "  [-30, 0.3930635756607441, 0.36733741842191187, -0.5482949960677947],\n",
       "  [-20, 0.3930705974397498, 0.36731498812848934, -0.5482004543485883],\n",
       "  [-10, 0.39306018334834236, 0.36734825548009814, -0.5483406733174307]],\n",
       " 'poissonlevel1_with_30%mislabel': [[-40,\n",
       "   0.39304514899645776,\n",
       "   0.36739628955187686,\n",
       "   -0.5485431327164629],\n",
       "  [-30, 0.3930338278694949, 0.3674324658903718, -0.5486956128098561],\n",
       "  [-20, 0.39304798422917614, 0.36738723043371274, -0.5485049493280607],\n",
       "  [-10, 0.3930577221555998, 0.36735611827228304, -0.5483738142967713]],\n",
       " 'poissonlevel1_with_40%mislabel': [[-40,\n",
       "   0.3929784660173342,\n",
       "   0.36760944551322733,\n",
       "   -0.5494415663956638],\n",
       "  [-30, 0.392975772313069, 0.36761805975830736, -0.5494778746830407],\n",
       "  [-20, 0.39296691219863666, 0.3676463956844909, -0.5495973081262968],\n",
       "  [-10, 0.392960928362264, 0.36766553459987067, -0.5496779769757703]]}"
      ]
     },
     "execution_count": 133,
     "metadata": {},
     "output_type": "execute_result"
    }
   ],
   "source": [
    "poisson_results"
   ]
  },
  {
   "cell_type": "code",
   "execution_count": 148,
   "metadata": {},
   "outputs": [
    {
     "name": "stdout",
     "output_type": "stream",
     "text": [
      "-40\n",
      "Calling Random Forest Function\n",
      "Calling Random Forest Function\n",
      "Calling Random Forest Function\n",
      "Calling Random Forest Function\n",
      "Calling Random Forest Function\n",
      "Calling Random Forest Function\n",
      "Calling Random Forest Function\n",
      "-30\n",
      "Calling Random Forest Function\n",
      "Calling Random Forest Function\n",
      "Calling Random Forest Function\n",
      "Calling Random Forest Function\n",
      "Calling Random Forest Function\n",
      "Calling Random Forest Function\n",
      "Calling Random Forest Function\n",
      "-20\n",
      "Calling Random Forest Function\n",
      "Calling Random Forest Function\n",
      "Calling Random Forest Function\n",
      "Calling Random Forest Function\n",
      "Calling Random Forest Function\n",
      "Calling Random Forest Function\n",
      "Calling Random Forest Function\n",
      "-10\n",
      "Calling Random Forest Function\n",
      "Calling Random Forest Function\n",
      "Calling Random Forest Function\n",
      "Calling Random Forest Function\n",
      "Calling Random Forest Function\n",
      "Calling Random Forest Function\n",
      "Calling Random Forest Function\n"
     ]
    }
   ],
   "source": [
    "#Calling Barron function with mislabelling for level1 poisson noise \n",
    "poisson_results_l2={}\n",
    "poisson_results_l2['poissonlevel2_without_mislabel'] =[]\n",
    "poisson_results_l2['poissonlevel2_with_10%mislabel'] = []\n",
    "poisson_results_l2['poissonlevel2_with_15%mislabel'] = []\n",
    "poisson_results_l2['poissonlevel2_with_20%mislabel'] = []\n",
    "poisson_results_l2['poissonlevel2_with_25%mislabel'] = []\n",
    "poisson_results_l2['poissonlevel2_with_30%mislabel'] = []\n",
    "poisson_results_l2['poissonlevel2_with_40%mislabel'] = []\n",
    "for alpha in [-40, -30, -20, -10]:\n",
    "    print(alpha)\n",
    "    poisson_results_l2['poissonlevel2_without_mislabel'].append(Barronfunc(new_X_train_poisson_10,X_test,y_train,y_test,alpha))\n",
    "    poisson_results_l2['poissonlevel2_with_10%mislabel'].append(Barronfunc(new_X_train_poisson_10,X_test,y_train_10mislabel,y_test,alpha))\n",
    "    poisson_results_l2['poissonlevel2_with_15%mislabel'].append(Barronfunc(new_X_train_poisson_10,X_test,y_train_15mislabel,y_test,alpha))\n",
    "    poisson_results_l2['poissonlevel2_with_20%mislabel'].append(Barronfunc(new_X_train_poisson_10,X_test,y_train_20mislabel,y_test,alpha))\n",
    "    poisson_results_l2['poissonlevel2_with_25%mislabel'].append(Barronfunc(new_X_train_poisson_10,X_test,y_train_25mislabel,y_test,alpha))\n",
    "    poisson_results_l2['poissonlevel2_with_30%mislabel'].append(Barronfunc(new_X_train_poisson_10,X_test,y_train_30mislabel,y_test,alpha))\n",
    "    poisson_results_l2['poissonlevel2_with_40%mislabel'].append(Barronfunc(new_X_train_poisson_10,X_test,y_train_40mislabel,y_test,alpha))"
   ]
  },
  {
   "cell_type": "code",
   "execution_count": 149,
   "metadata": {},
   "outputs": [
    {
     "data": {
      "text/plain": [
       "{'poissonlevel2_without_mislabel': [[-40,\n",
       "   0.3931165662142002,\n",
       "   0.3671681937559871,\n",
       "   -0.5475817289451907],\n",
       "  [-30, 0.39312047512467124, 0.3671557150616212, -0.5475291323430609],\n",
       "  [-20, 0.3931214585739898, 0.36715257562041226, -0.5475158998737546],\n",
       "  [-10, 0.3931265865542982, 0.3671362063089107, -0.5474469046616803]],\n",
       " 'poissonlevel2_with_10%mislabel': [[-40,\n",
       "   0.39306100096301444,\n",
       "   0.3673456434925277,\n",
       "   -0.548329664018943],\n",
       "  [-30, 0.3930622199494441, 0.36734174931388397, -0.5483132503975543],\n",
       "  [-20, 0.39306837423970625, 0.36732208968496444, -0.5482303867861873],\n",
       "  [-10, 0.3930686775483987, 0.36732112081614665, -0.5482263030891088]],\n",
       " 'poissonlevel2_with_15%mislabel': [[-40,\n",
       "   0.3930690009928985,\n",
       "   0.3673200876308397,\n",
       "   -0.5482219483036703],\n",
       "  [-30, 0.39306896910939626, 0.36732018947677314, -0.5482223775753459],\n",
       "  [-20, 0.3930831514535588, 0.36727489054502055, -0.5480314465515992],\n",
       "  [-10, 0.3930759918903305, 0.36729775746864607, -0.5481278286288103]],\n",
       " 'poissonlevel2_with_20%mislabel': [[-40,\n",
       "   0.3930406319112593,\n",
       "   0.367410723166095,\n",
       "   -0.5486039691342859],\n",
       "  [-30, 0.39303752080758214, 0.3674206646594977, -0.5486458716569174],\n",
       "  [-20, 0.39304449057755453, 0.367398393373025, -0.5485520001380566],\n",
       "  [-10, 0.39304542399268866, 0.3673954108718005, -0.5485394291570183]],\n",
       " 'poissonlevel2_with_25%mislabel': [[-40,\n",
       "   0.3930683051363661,\n",
       "   0.3673223104245159,\n",
       "   -0.5482313171840336],\n",
       "  [-30, 0.39306994247869786, 0.3673170802470681, -0.5482092724448788],\n",
       "  [-20, 0.39306472011014654, 0.36733376247344346, -0.5482795865656978],\n",
       "  [-10, 0.3930747568795351, 0.36730170217202623, -0.5481444552075312]],\n",
       " 'poissonlevel2_with_30%mislabel': [[-40,\n",
       "   0.39305003481496215,\n",
       "   0.3673806786110981,\n",
       "   -0.548477333970461],\n",
       "  [-30, 0.3930557865857559, 0.3673623020196852, -0.5483998782496375],\n",
       "  [-20, 0.3930475168789537, 0.367388723686569, -0.5485112432578627],\n",
       "  [-10, 0.39305629184100477, 0.36736068781894954, -0.5483930745351333]],\n",
       " 'poissonlevel2_with_40%mislabel': [[-40,\n",
       "   0.3929698731325681,\n",
       "   0.3676369258473737,\n",
       "   -0.5495573935935352],\n",
       "  [-30, 0.39297372907694406, 0.3676245940495001, -0.5495054161472346],\n",
       "  [-20, 0.39297038000845724, 0.3676353047608699, -0.5495505608561222],\n",
       "  [-10, 0.39295710476033463, 0.36767776487991993, -0.5497295265333462]]}"
      ]
     },
     "execution_count": 149,
     "metadata": {},
     "output_type": "execute_result"
    }
   ],
   "source": [
    "poisson_results_l2"
   ]
  },
  {
   "cell_type": "code",
   "execution_count": null,
   "metadata": {},
   "outputs": [],
   "source": [
    "#########################Uniform Noise################################"
   ]
  },
  {
   "cell_type": "code",
   "execution_count": 150,
   "metadata": {},
   "outputs": [
    {
     "name": "stdout",
     "output_type": "stream",
     "text": [
      "[[0.60875985 0.03408931 0.96324869 ... 0.69505749 0.81472093 0.7242671 ]\n",
      " [0.36797073 0.92189492 0.76761539 ... 0.51848932 0.89654095 0.27094488]\n",
      " [0.32244407 0.16639332 0.24379884 ... 0.40596301 0.57884496 0.91209711]\n",
      " ...\n",
      " [0.14685426 0.18306256 0.18512162 ... 0.19127734 0.70487552 0.15833928]\n",
      " [0.77605759 0.34934953 0.75136537 ... 0.03819293 0.34310693 0.77541369]\n",
      " [0.13180515 0.10182583 0.26729121 ... 0.90842947 0.73462558 0.40542616]]\n",
      "           age       sex        cp    trestbps        chol       fbs  \\\n",
      "107  45.608760  0.034089  0.963249  138.096057  236.447910  0.090050   \n",
      "155  58.367971  0.921895  0.767615  130.532093  197.277363  0.593679   \n",
      "251  43.322444  1.166393  0.243799  132.990445  247.650233  1.057039   \n",
      "171  48.104384  1.736009  1.774300  110.863771  229.830974  0.914398   \n",
      "53   44.731159  0.116308  2.291599  108.642416  141.016549  0.248924   \n",
      "..         ...       ...       ...         ...         ...       ...   \n",
      "106  69.602204  1.188530  3.476461  160.952431  234.681739  1.487888   \n",
      "83   52.525910  1.951216  3.269428  152.088100  298.272381  1.396329   \n",
      "17   66.146854  0.183063  3.185122  150.477169  226.607959  0.455133   \n",
      "230  47.776058  1.349350  2.751365  108.665229  243.626378  0.825301   \n",
      "98   43.131805  1.101826  2.267291  130.803542  315.353185  0.895926   \n",
      "\n",
      "      restecg     thalach     exang   oldpeak     slope        ca      thal  \n",
      "107  0.452854  152.796445  1.680370  0.925426  1.695057  0.814721  2.724267  \n",
      "155  1.319328  131.308652  0.694943  1.371647  1.518489  0.896541  2.270945  \n",
      "251  0.022676  143.106640  1.079904  0.760003  1.405963  4.578845  3.912097  \n",
      "171  1.039691  168.438920  0.256597  1.768960  0.385228  0.984039  3.605157  \n",
      "53   1.624525  175.326355  0.922292  1.181438  1.327483  0.332444  2.152014  \n",
      "..        ...         ...       ...       ...       ...       ...       ...  \n",
      "106  0.545899  131.449415  0.188634  0.169169  1.572479  1.943058  2.533194  \n",
      "83   1.308496  178.319998  0.023959  1.238957  1.473748  0.388367  3.449063  \n",
      "17   1.346443  114.843656  0.670559  2.667440  0.191277  0.704876  2.158339  \n",
      "230  1.104847  152.667759  0.107380  0.811670  2.038193  0.343107  2.775414  \n",
      "98   1.624174  162.126432  0.586625  2.300128  2.908429  1.734626  2.405426  \n",
      "\n",
      "[272 rows x 13 columns]\n"
     ]
    }
   ],
   "source": [
    "noise = np.random.uniform(low=0.0, high=1.0, size=X_train.shape)\n",
    "print(noise)\n",
    "new_X_train_uniform = X_train + noise\n",
    "print(new_X_train_uniform)"
   ]
  },
  {
   "cell_type": "code",
   "execution_count": 168,
   "metadata": {},
   "outputs": [
    {
     "data": {
      "text/plain": [
       "[-20, 0.39312413970643845, 0.3671440168995578, -0.5474798256161182]"
      ]
     },
     "execution_count": 168,
     "metadata": {},
     "output_type": "execute_result"
    }
   ],
   "source": [
    "Barronfunc(X_train,X_test,y_train,y_test,-20)"
   ]
  },
  {
   "cell_type": "code",
   "execution_count": 167,
   "metadata": {},
   "outputs": [
    {
     "name": "stdout",
     "output_type": "stream",
     "text": [
      "[-20, 0.3930737870075141, 0.36730480004716276, -0.548157512479488]\n",
      "[-20, 0.39308877690120086, 0.3672569248425568, -0.5479557226916532]\n",
      "[-20, 0.3930253091762888, 0.3674596904463353, -0.5488103619251234]\n",
      "[-20, 0.39307535249191755, 0.3672997997405561, -0.5481364366257646]\n",
      "[-20, 0.3930508049395819, 0.36737821803004234, -0.5484669628371517]\n",
      "[-20, 0.3929747115581394, 0.3676214520435884, -0.5494921728679314]\n"
     ]
    }
   ],
   "source": [
    "#Calling Barron function with mislabelling for level3 gaussian noise \n",
    "print(Barronfunc(new_X_train_uniform,X_test,y_train_10mislabel,y_test,-20))\n",
    "print(Barronfunc(new_X_train_uniform,X_test,y_train_15mislabel,y_test,-20))\n",
    "print(Barronfunc(new_X_train_uniform,X_test,y_train_20mislabel,y_test,-20))\n",
    "print(Barronfunc(new_X_train_uniform,X_test,y_train_25mislabel,y_test,-20))\n",
    "print(Barronfunc(new_X_train_uniform,X_test,y_train_30mislabel,y_test,-20))\n",
    "print(Barronfunc(new_X_train_uniform,X_test,y_train_40mislabel,y_test,-20))"
   ]
  },
  {
   "cell_type": "code",
   "execution_count": null,
   "metadata": {},
   "outputs": [],
   "source": [
    "#########################Spike Noise################################"
   ]
  },
  {
   "cell_type": "code",
   "execution_count": 178,
   "metadata": {},
   "outputs": [
    {
     "data": {
      "text/html": [
       "<div>\n",
       "<style scoped>\n",
       "    .dataframe tbody tr th:only-of-type {\n",
       "        vertical-align: middle;\n",
       "    }\n",
       "\n",
       "    .dataframe tbody tr th {\n",
       "        vertical-align: top;\n",
       "    }\n",
       "\n",
       "    .dataframe thead th {\n",
       "        text-align: right;\n",
       "    }\n",
       "</style>\n",
       "<table border=\"1\" class=\"dataframe\">\n",
       "  <thead>\n",
       "    <tr style=\"text-align: right;\">\n",
       "      <th></th>\n",
       "      <th>age</th>\n",
       "      <th>sex</th>\n",
       "      <th>cp</th>\n",
       "      <th>trestbps</th>\n",
       "      <th>chol</th>\n",
       "      <th>fbs</th>\n",
       "      <th>restecg</th>\n",
       "      <th>thalach</th>\n",
       "      <th>exang</th>\n",
       "      <th>oldpeak</th>\n",
       "      <th>slope</th>\n",
       "      <th>ca</th>\n",
       "      <th>thal</th>\n",
       "    </tr>\n",
       "  </thead>\n",
       "  <tbody>\n",
       "    <tr>\n",
       "      <th>107</th>\n",
       "      <td>NaN</td>\n",
       "      <td>NaN</td>\n",
       "      <td>NaN</td>\n",
       "      <td>138.0</td>\n",
       "      <td>236</td>\n",
       "      <td>NaN</td>\n",
       "      <td>NaN</td>\n",
       "      <td>152.0</td>\n",
       "      <td>NaN</td>\n",
       "      <td>NaN</td>\n",
       "      <td>NaN</td>\n",
       "      <td>NaN</td>\n",
       "      <td>NaN</td>\n",
       "    </tr>\n",
       "    <tr>\n",
       "      <th>155</th>\n",
       "      <td>NaN</td>\n",
       "      <td>NaN</td>\n",
       "      <td>NaN</td>\n",
       "      <td>130.0</td>\n",
       "      <td>197</td>\n",
       "      <td>NaN</td>\n",
       "      <td>NaN</td>\n",
       "      <td>131.0</td>\n",
       "      <td>NaN</td>\n",
       "      <td>NaN</td>\n",
       "      <td>NaN</td>\n",
       "      <td>NaN</td>\n",
       "      <td>NaN</td>\n",
       "    </tr>\n",
       "    <tr>\n",
       "      <th>251</th>\n",
       "      <td>NaN</td>\n",
       "      <td>NaN</td>\n",
       "      <td>NaN</td>\n",
       "      <td>132.0</td>\n",
       "      <td>247</td>\n",
       "      <td>NaN</td>\n",
       "      <td>NaN</td>\n",
       "      <td>143.0</td>\n",
       "      <td>NaN</td>\n",
       "      <td>NaN</td>\n",
       "      <td>NaN</td>\n",
       "      <td>NaN</td>\n",
       "      <td>NaN</td>\n",
       "    </tr>\n",
       "    <tr>\n",
       "      <th>171</th>\n",
       "      <td>NaN</td>\n",
       "      <td>NaN</td>\n",
       "      <td>NaN</td>\n",
       "      <td>110.0</td>\n",
       "      <td>229</td>\n",
       "      <td>NaN</td>\n",
       "      <td>NaN</td>\n",
       "      <td>168.0</td>\n",
       "      <td>NaN</td>\n",
       "      <td>NaN</td>\n",
       "      <td>NaN</td>\n",
       "      <td>NaN</td>\n",
       "      <td>NaN</td>\n",
       "    </tr>\n",
       "    <tr>\n",
       "      <th>53</th>\n",
       "      <td>NaN</td>\n",
       "      <td>NaN</td>\n",
       "      <td>NaN</td>\n",
       "      <td>108.0</td>\n",
       "      <td>141</td>\n",
       "      <td>NaN</td>\n",
       "      <td>NaN</td>\n",
       "      <td>175.0</td>\n",
       "      <td>NaN</td>\n",
       "      <td>NaN</td>\n",
       "      <td>NaN</td>\n",
       "      <td>NaN</td>\n",
       "      <td>NaN</td>\n",
       "    </tr>\n",
       "    <tr>\n",
       "      <th>...</th>\n",
       "      <td>...</td>\n",
       "      <td>...</td>\n",
       "      <td>...</td>\n",
       "      <td>...</td>\n",
       "      <td>...</td>\n",
       "      <td>...</td>\n",
       "      <td>...</td>\n",
       "      <td>...</td>\n",
       "      <td>...</td>\n",
       "      <td>...</td>\n",
       "      <td>...</td>\n",
       "      <td>...</td>\n",
       "      <td>...</td>\n",
       "    </tr>\n",
       "    <tr>\n",
       "      <th>106</th>\n",
       "      <td>NaN</td>\n",
       "      <td>NaN</td>\n",
       "      <td>NaN</td>\n",
       "      <td>160.0</td>\n",
       "      <td>234</td>\n",
       "      <td>NaN</td>\n",
       "      <td>NaN</td>\n",
       "      <td>131.0</td>\n",
       "      <td>NaN</td>\n",
       "      <td>NaN</td>\n",
       "      <td>NaN</td>\n",
       "      <td>NaN</td>\n",
       "      <td>NaN</td>\n",
       "    </tr>\n",
       "    <tr>\n",
       "      <th>83</th>\n",
       "      <td>NaN</td>\n",
       "      <td>NaN</td>\n",
       "      <td>NaN</td>\n",
       "      <td>152.0</td>\n",
       "      <td>298</td>\n",
       "      <td>NaN</td>\n",
       "      <td>NaN</td>\n",
       "      <td>178.0</td>\n",
       "      <td>NaN</td>\n",
       "      <td>NaN</td>\n",
       "      <td>NaN</td>\n",
       "      <td>NaN</td>\n",
       "      <td>NaN</td>\n",
       "    </tr>\n",
       "    <tr>\n",
       "      <th>17</th>\n",
       "      <td>NaN</td>\n",
       "      <td>NaN</td>\n",
       "      <td>NaN</td>\n",
       "      <td>150.0</td>\n",
       "      <td>226</td>\n",
       "      <td>NaN</td>\n",
       "      <td>NaN</td>\n",
       "      <td>114.0</td>\n",
       "      <td>NaN</td>\n",
       "      <td>NaN</td>\n",
       "      <td>NaN</td>\n",
       "      <td>NaN</td>\n",
       "      <td>NaN</td>\n",
       "    </tr>\n",
       "    <tr>\n",
       "      <th>230</th>\n",
       "      <td>NaN</td>\n",
       "      <td>NaN</td>\n",
       "      <td>NaN</td>\n",
       "      <td>108.0</td>\n",
       "      <td>243</td>\n",
       "      <td>NaN</td>\n",
       "      <td>NaN</td>\n",
       "      <td>152.0</td>\n",
       "      <td>NaN</td>\n",
       "      <td>NaN</td>\n",
       "      <td>NaN</td>\n",
       "      <td>NaN</td>\n",
       "      <td>NaN</td>\n",
       "    </tr>\n",
       "    <tr>\n",
       "      <th>98</th>\n",
       "      <td>NaN</td>\n",
       "      <td>NaN</td>\n",
       "      <td>NaN</td>\n",
       "      <td>130.0</td>\n",
       "      <td>315</td>\n",
       "      <td>NaN</td>\n",
       "      <td>NaN</td>\n",
       "      <td>162.0</td>\n",
       "      <td>NaN</td>\n",
       "      <td>NaN</td>\n",
       "      <td>NaN</td>\n",
       "      <td>NaN</td>\n",
       "      <td>NaN</td>\n",
       "    </tr>\n",
       "  </tbody>\n",
       "</table>\n",
       "<p>272 rows × 13 columns</p>\n",
       "</div>"
      ],
      "text/plain": [
       "     age  sex  cp  trestbps  chol  fbs  restecg  thalach  exang  oldpeak  \\\n",
       "107  NaN  NaN NaN     138.0   236  NaN      NaN    152.0    NaN      NaN   \n",
       "155  NaN  NaN NaN     130.0   197  NaN      NaN    131.0    NaN      NaN   \n",
       "251  NaN  NaN NaN     132.0   247  NaN      NaN    143.0    NaN      NaN   \n",
       "171  NaN  NaN NaN     110.0   229  NaN      NaN    168.0    NaN      NaN   \n",
       "53   NaN  NaN NaN     108.0   141  NaN      NaN    175.0    NaN      NaN   \n",
       "..   ...  ...  ..       ...   ...  ...      ...      ...    ...      ...   \n",
       "106  NaN  NaN NaN     160.0   234  NaN      NaN    131.0    NaN      NaN   \n",
       "83   NaN  NaN NaN     152.0   298  NaN      NaN    178.0    NaN      NaN   \n",
       "17   NaN  NaN NaN     150.0   226  NaN      NaN    114.0    NaN      NaN   \n",
       "230  NaN  NaN NaN     108.0   243  NaN      NaN    152.0    NaN      NaN   \n",
       "98   NaN  NaN NaN     130.0   315  NaN      NaN    162.0    NaN      NaN   \n",
       "\n",
       "     slope  ca  thal  \n",
       "107    NaN NaN   NaN  \n",
       "155    NaN NaN   NaN  \n",
       "251    NaN NaN   NaN  \n",
       "171    NaN NaN   NaN  \n",
       "53     NaN NaN   NaN  \n",
       "..     ...  ..   ...  \n",
       "106    NaN NaN   NaN  \n",
       "83     NaN NaN   NaN  \n",
       "17     NaN NaN   NaN  \n",
       "230    NaN NaN   NaN  \n",
       "98     NaN NaN   NaN  \n",
       "\n",
       "[272 rows x 13 columns]"
      ]
     },
     "execution_count": 178,
     "metadata": {},
     "output_type": "execute_result"
    }
   ],
   "source": [
    "X_train[X_train > 100]"
   ]
  },
  {
   "cell_type": "code",
   "execution_count": 179,
   "metadata": {},
   "outputs": [
    {
     "data": {
      "text/plain": [
       "[<matplotlib.lines.Line2D at 0x7f90e1a52580>,\n",
       " <matplotlib.lines.Line2D at 0x7f90e1a525b0>,\n",
       " <matplotlib.lines.Line2D at 0x7f90e1a526d0>,\n",
       " <matplotlib.lines.Line2D at 0x7f90e1a527f0>,\n",
       " <matplotlib.lines.Line2D at 0x7f90e1a52910>,\n",
       " <matplotlib.lines.Line2D at 0x7f90e1a52a30>,\n",
       " <matplotlib.lines.Line2D at 0x7f90e1a52b50>,\n",
       " <matplotlib.lines.Line2D at 0x7f90e1a52c70>,\n",
       " <matplotlib.lines.Line2D at 0x7f90e1a52d90>,\n",
       " <matplotlib.lines.Line2D at 0x7f90e1a52eb0>,\n",
       " <matplotlib.lines.Line2D at 0x7f90e1a52fd0>,\n",
       " <matplotlib.lines.Line2D at 0x7f90e1ec6f10>,\n",
       " <matplotlib.lines.Line2D at 0x7f90d99e3220>]"
      ]
     },
     "execution_count": 179,
     "metadata": {},
     "output_type": "execute_result"
    },
    {
     "data": {
      "image/png": "[encoded data removed]",
      "text/plain": [
       "<Figure size 432x288 with 1 Axes>"
      ]
     },
     "metadata": {
      "needs_background": "light"
     },
     "output_type": "display_data"
    }
   ],
   "source": [
    "import numpy as np                    \n",
    "import matplotlib.pyplot as plt \n",
    "from scipy.signal import find_peaks \n",
    "plt.plot(X_train)"
   ]
  },
  {
   "cell_type": "code",
   "execution_count": 180,
   "metadata": {},
   "outputs": [],
   "source": [
    "npX_train=X_train.to_numpy()\n",
    "from scipy.signal import argrelextrema\n",
    "c_max_index = argrelextrema(npX_train, np.greater)"
   ]
  },
  {
   "cell_type": "code",
   "execution_count": 181,
   "metadata": {},
   "outputs": [
    {
     "name": "stdout",
     "output_type": "stream",
     "text": [
      "[[58.  0.  0. ...  1.  0.  2.]\n",
      " [58.  0.  0. ...  1.  0.  2.]\n",
      " [58.  0.  0. ...  1.  0.  2.]\n",
      " ...\n",
      " [52.  1.  3. ...  1.  0.  3.]\n",
      " [66.  0.  3. ...  0.  0.  2.]\n",
      " [66.  0.  3. ...  0.  0.  2.]]\n"
     ]
    }
   ],
   "source": [
    "print(npX_train[c_max_index[0]])#peak points"
   ]
  },
  {
   "cell_type": "code",
   "execution_count": 182,
   "metadata": {},
   "outputs": [
    {
     "ename": "ValueError",
     "evalue": "x and y must be the same size",
     "output_type": "error",
     "traceback": [
      "\u001b[0;31m---------------------------------------------------------------------------\u001b[0m",
      "\u001b[0;31mValueError\u001b[0m                                Traceback (most recent call last)",
      "\u001b[0;32m/tmp/ipykernel_14506/455286714.py\u001b[0m in \u001b[0;36m<module>\u001b[0;34m\u001b[0m\n\u001b[1;32m      1\u001b[0m \u001b[0mplt\u001b[0m\u001b[0;34m.\u001b[0m\u001b[0mplot\u001b[0m\u001b[0;34m(\u001b[0m\u001b[0mnpX_train\u001b[0m\u001b[0;34m)\u001b[0m\u001b[0;34m\u001b[0m\u001b[0;34m\u001b[0m\u001b[0m\n\u001b[0;32m----> 2\u001b[0;31m \u001b[0mplt\u001b[0m\u001b[0;34m.\u001b[0m\u001b[0mscatter\u001b[0m\u001b[0;34m(\u001b[0m\u001b[0mc_max_index\u001b[0m\u001b[0;34m[\u001b[0m\u001b[0;36m0\u001b[0m\u001b[0;34m]\u001b[0m\u001b[0;34m,\u001b[0m\u001b[0mnpX_train\u001b[0m\u001b[0;34m[\u001b[0m\u001b[0mc_max_index\u001b[0m\u001b[0;34m[\u001b[0m\u001b[0;36m0\u001b[0m\u001b[0;34m]\u001b[0m\u001b[0;34m]\u001b[0m\u001b[0;34m,\u001b[0m\u001b[0mlinewidth\u001b[0m\u001b[0;34m=\u001b[0m\u001b[0;36m0.3\u001b[0m\u001b[0;34m,\u001b[0m \u001b[0ms\u001b[0m\u001b[0;34m=\u001b[0m\u001b[0;36m50\u001b[0m\u001b[0;34m,\u001b[0m \u001b[0mc\u001b[0m\u001b[0;34m=\u001b[0m\u001b[0;34m'r'\u001b[0m\u001b[0;34m)\u001b[0m\u001b[0;34m\u001b[0m\u001b[0;34m\u001b[0m\u001b[0m\n\u001b[0m",
      "\u001b[0;32m~/anaconda3/envs/scikitlearn_mod/lib/python3.9/site-packages/matplotlib/pyplot.py\u001b[0m in \u001b[0;36mscatter\u001b[0;34m(x, y, s, c, marker, cmap, norm, vmin, vmax, alpha, linewidths, edgecolors, plotnonfinite, data, **kwargs)\u001b[0m\n\u001b[1;32m   3066\u001b[0m         \u001b[0mvmin\u001b[0m\u001b[0;34m=\u001b[0m\u001b[0;32mNone\u001b[0m\u001b[0;34m,\u001b[0m \u001b[0mvmax\u001b[0m\u001b[0;34m=\u001b[0m\u001b[0;32mNone\u001b[0m\u001b[0;34m,\u001b[0m \u001b[0malpha\u001b[0m\u001b[0;34m=\u001b[0m\u001b[0;32mNone\u001b[0m\u001b[0;34m,\u001b[0m \u001b[0mlinewidths\u001b[0m\u001b[0;34m=\u001b[0m\u001b[0;32mNone\u001b[0m\u001b[0;34m,\u001b[0m \u001b[0;34m*\u001b[0m\u001b[0;34m,\u001b[0m\u001b[0;34m\u001b[0m\u001b[0;34m\u001b[0m\u001b[0m\n\u001b[1;32m   3067\u001b[0m         edgecolors=None, plotnonfinite=False, data=None, **kwargs):\n\u001b[0;32m-> 3068\u001b[0;31m     __ret = gca().scatter(\n\u001b[0m\u001b[1;32m   3069\u001b[0m         \u001b[0mx\u001b[0m\u001b[0;34m,\u001b[0m \u001b[0my\u001b[0m\u001b[0;34m,\u001b[0m \u001b[0ms\u001b[0m\u001b[0;34m=\u001b[0m\u001b[0ms\u001b[0m\u001b[0;34m,\u001b[0m \u001b[0mc\u001b[0m\u001b[0;34m=\u001b[0m\u001b[0mc\u001b[0m\u001b[0;34m,\u001b[0m \u001b[0mmarker\u001b[0m\u001b[0;34m=\u001b[0m\u001b[0mmarker\u001b[0m\u001b[0;34m,\u001b[0m \u001b[0mcmap\u001b[0m\u001b[0;34m=\u001b[0m\u001b[0mcmap\u001b[0m\u001b[0;34m,\u001b[0m \u001b[0mnorm\u001b[0m\u001b[0;34m=\u001b[0m\u001b[0mnorm\u001b[0m\u001b[0;34m,\u001b[0m\u001b[0;34m\u001b[0m\u001b[0;34m\u001b[0m\u001b[0m\n\u001b[1;32m   3070\u001b[0m         \u001b[0mvmin\u001b[0m\u001b[0;34m=\u001b[0m\u001b[0mvmin\u001b[0m\u001b[0;34m,\u001b[0m \u001b[0mvmax\u001b[0m\u001b[0;34m=\u001b[0m\u001b[0mvmax\u001b[0m\u001b[0;34m,\u001b[0m \u001b[0malpha\u001b[0m\u001b[0;34m=\u001b[0m\u001b[0malpha\u001b[0m\u001b[0;34m,\u001b[0m \u001b[0mlinewidths\u001b[0m\u001b[0;34m=\u001b[0m\u001b[0mlinewidths\u001b[0m\u001b[0;34m,\u001b[0m\u001b[0;34m\u001b[0m\u001b[0;34m\u001b[0m\u001b[0m\n",
      "\u001b[0;32m~/anaconda3/envs/scikitlearn_mod/lib/python3.9/site-packages/matplotlib/__init__.py\u001b[0m in \u001b[0;36minner\u001b[0;34m(ax, data, *args, **kwargs)\u001b[0m\n\u001b[1;32m   1359\u001b[0m     \u001b[0;32mdef\u001b[0m \u001b[0minner\u001b[0m\u001b[0;34m(\u001b[0m\u001b[0max\u001b[0m\u001b[0;34m,\u001b[0m \u001b[0;34m*\u001b[0m\u001b[0margs\u001b[0m\u001b[0;34m,\u001b[0m \u001b[0mdata\u001b[0m\u001b[0;34m=\u001b[0m\u001b[0;32mNone\u001b[0m\u001b[0;34m,\u001b[0m \u001b[0;34m**\u001b[0m\u001b[0mkwargs\u001b[0m\u001b[0;34m)\u001b[0m\u001b[0;34m:\u001b[0m\u001b[0;34m\u001b[0m\u001b[0;34m\u001b[0m\u001b[0m\n\u001b[1;32m   1360\u001b[0m         \u001b[0;32mif\u001b[0m \u001b[0mdata\u001b[0m \u001b[0;32mis\u001b[0m \u001b[0;32mNone\u001b[0m\u001b[0;34m:\u001b[0m\u001b[0;34m\u001b[0m\u001b[0;34m\u001b[0m\u001b[0m\n\u001b[0;32m-> 1361\u001b[0;31m             \u001b[0;32mreturn\u001b[0m \u001b[0mfunc\u001b[0m\u001b[0;34m(\u001b[0m\u001b[0max\u001b[0m\u001b[0;34m,\u001b[0m \u001b[0;34m*\u001b[0m\u001b[0mmap\u001b[0m\u001b[0;34m(\u001b[0m\u001b[0msanitize_sequence\u001b[0m\u001b[0;34m,\u001b[0m \u001b[0margs\u001b[0m\u001b[0;34m)\u001b[0m\u001b[0;34m,\u001b[0m \u001b[0;34m**\u001b[0m\u001b[0mkwargs\u001b[0m\u001b[0;34m)\u001b[0m\u001b[0;34m\u001b[0m\u001b[0;34m\u001b[0m\u001b[0m\n\u001b[0m\u001b[1;32m   1362\u001b[0m \u001b[0;34m\u001b[0m\u001b[0m\n\u001b[1;32m   1363\u001b[0m         \u001b[0mbound\u001b[0m \u001b[0;34m=\u001b[0m \u001b[0mnew_sig\u001b[0m\u001b[0;34m.\u001b[0m\u001b[0mbind\u001b[0m\u001b[0;34m(\u001b[0m\u001b[0max\u001b[0m\u001b[0;34m,\u001b[0m \u001b[0;34m*\u001b[0m\u001b[0margs\u001b[0m\u001b[0;34m,\u001b[0m \u001b[0;34m**\u001b[0m\u001b[0mkwargs\u001b[0m\u001b[0;34m)\u001b[0m\u001b[0;34m\u001b[0m\u001b[0;34m\u001b[0m\u001b[0m\n",
      "\u001b[0;32m~/anaconda3/envs/scikitlearn_mod/lib/python3.9/site-packages/matplotlib/axes/_axes.py\u001b[0m in \u001b[0;36mscatter\u001b[0;34m(self, x, y, s, c, marker, cmap, norm, vmin, vmax, alpha, linewidths, edgecolors, plotnonfinite, **kwargs)\u001b[0m\n\u001b[1;32m   4496\u001b[0m         \u001b[0my\u001b[0m \u001b[0;34m=\u001b[0m \u001b[0mnp\u001b[0m\u001b[0;34m.\u001b[0m\u001b[0mma\u001b[0m\u001b[0;34m.\u001b[0m\u001b[0mravel\u001b[0m\u001b[0;34m(\u001b[0m\u001b[0my\u001b[0m\u001b[0;34m)\u001b[0m\u001b[0;34m\u001b[0m\u001b[0;34m\u001b[0m\u001b[0m\n\u001b[1;32m   4497\u001b[0m         \u001b[0;32mif\u001b[0m \u001b[0mx\u001b[0m\u001b[0;34m.\u001b[0m\u001b[0msize\u001b[0m \u001b[0;34m!=\u001b[0m \u001b[0my\u001b[0m\u001b[0;34m.\u001b[0m\u001b[0msize\u001b[0m\u001b[0;34m:\u001b[0m\u001b[0;34m\u001b[0m\u001b[0;34m\u001b[0m\u001b[0m\n\u001b[0;32m-> 4498\u001b[0;31m             \u001b[0;32mraise\u001b[0m \u001b[0mValueError\u001b[0m\u001b[0;34m(\u001b[0m\u001b[0;34m\"x and y must be the same size\"\u001b[0m\u001b[0;34m)\u001b[0m\u001b[0;34m\u001b[0m\u001b[0;34m\u001b[0m\u001b[0m\n\u001b[0m\u001b[1;32m   4499\u001b[0m \u001b[0;34m\u001b[0m\u001b[0m\n\u001b[1;32m   4500\u001b[0m         \u001b[0;32mif\u001b[0m \u001b[0ms\u001b[0m \u001b[0;32mis\u001b[0m \u001b[0;32mNone\u001b[0m\u001b[0;34m:\u001b[0m\u001b[0;34m\u001b[0m\u001b[0;34m\u001b[0m\u001b[0m\n",
      "\u001b[0;31mValueError\u001b[0m: x and y must be the same size"
     ]
    },
    {
     "data": {
      "image/png": "[encoded data removed]",
      "text/plain": [
       "<Figure size 432x288 with 1 Axes>"
      ]
     },
     "metadata": {
      "needs_background": "light"
     },
     "output_type": "display_data"
    }
   ],
   "source": [
    "plt.plot(npX_train)\n",
    "plt.scatter(c_max_index[0],npX_train[c_max_index[0]],linewidth=0.3, s=50, c='r')"
   ]
  },
  {
   "cell_type": "code",
   "execution_count": 183,
   "metadata": {},
   "outputs": [
    {
     "name": "stdout",
     "output_type": "stream",
     "text": [
      "[[77  4 76 ... 17 97 99]\n",
      " [57 59  7 ... 76 16  6]\n",
      " [76 86 78 ... 93 11 12]\n",
      " ...\n",
      " [44 60 51 ... 81 65 64]\n",
      " [37 67 27 ...  6  8 43]\n",
      " [89 77 26 ... 27 35 99]]\n",
      "     age  sex  cp  trestbps  chol  fbs  restecg  thalach  exang  oldpeak  \\\n",
      "107  122    4  76       159   311    9       44      159     81     33.2   \n",
      "155  115   59   7       158   271   93       96      199     94      6.6   \n",
      "251  119   87  78       203   307   92       64      169     26     12.1   \n",
      "171  140   49  95       169   284   81       66      262     58     67.0   \n",
      "53    75   16  37       123   156   39       71      249     46     87.6   \n",
      "..   ...  ...  ..       ...   ...  ...      ...      ...    ...      ...   \n",
      "106  102   55  65       185   296  100       43      141     77      6.1   \n",
      "83   108   14  84       208   379    3       14      185     63     21.2   \n",
      "17   110   60  54       193   303   36       11      156     22     96.6   \n",
      "230   84   68  29       157   276   21       83      241     31     21.0   \n",
      "98   132   78  28       154   374   70       65      229     98     67.9   \n",
      "\n",
      "     slope  ca  thal  \n",
      "107     18  97   101  \n",
      "155     77  16     8  \n",
      "251     94  15    15  \n",
      "171     27  54     9  \n",
      "53      61  78    50  \n",
      "..     ...  ..   ...  \n",
      "106     16  70    36  \n",
      "83       9  71    90  \n",
      "17      81  65    66  \n",
      "230      8   8    45  \n",
      "98      29  36   101  \n",
      "\n",
      "[272 rows x 13 columns]\n"
     ]
    }
   ],
   "source": [
    "noise = np.random.randint(low=0.0, high=100, size=X_train.shape)\n",
    "print(noise)\n",
    "new_X_train_spike = X_train + noise\n",
    "print(new_X_train_spike)"
   ]
  },
  {
   "cell_type": "code",
   "execution_count": 184,
   "metadata": {},
   "outputs": [],
   "source": [
    "npX_train=new_X_train_spike.to_numpy()\n",
    "from scipy.signal import argrelextrema\n",
    "c_max_index = argrelextrema(npX_train, np.greater)"
   ]
  },
  {
   "cell_type": "code",
   "execution_count": 185,
   "metadata": {},
   "outputs": [
    {
     "name": "stdout",
     "output_type": "stream",
     "text": [
      "[[115.  59.   7. ...  77.  16.   8.]\n",
      " [115.  59.   7. ...  77.  16.   8.]\n",
      " [115.  59.   7. ...  77.  16.   8.]\n",
      " ...\n",
      " [110.  60.  54. ...  81.  65.  66.]\n",
      " [ 84.  68.  29. ...   8.   8.  45.]\n",
      " [ 84.  68.  29. ...   8.   8.  45.]]\n"
     ]
    }
   ],
   "source": [
    "print(npX_train[c_max_index[0]])#peak points"
   ]
  },
  {
   "cell_type": "code",
   "execution_count": 186,
   "metadata": {},
   "outputs": [
    {
     "ename": "ValueError",
     "evalue": "x and y must be the same size",
     "output_type": "error",
     "traceback": [
      "\u001b[0;31m---------------------------------------------------------------------------\u001b[0m",
      "\u001b[0;31mValueError\u001b[0m                                Traceback (most recent call last)",
      "\u001b[0;32m/tmp/ipykernel_14506/455286714.py\u001b[0m in \u001b[0;36m<module>\u001b[0;34m\u001b[0m\n\u001b[1;32m      1\u001b[0m \u001b[0mplt\u001b[0m\u001b[0;34m.\u001b[0m\u001b[0mplot\u001b[0m\u001b[0;34m(\u001b[0m\u001b[0mnpX_train\u001b[0m\u001b[0;34m)\u001b[0m\u001b[0;34m\u001b[0m\u001b[0;34m\u001b[0m\u001b[0m\n\u001b[0;32m----> 2\u001b[0;31m \u001b[0mplt\u001b[0m\u001b[0;34m.\u001b[0m\u001b[0mscatter\u001b[0m\u001b[0;34m(\u001b[0m\u001b[0mc_max_index\u001b[0m\u001b[0;34m[\u001b[0m\u001b[0;36m0\u001b[0m\u001b[0;34m]\u001b[0m\u001b[0;34m,\u001b[0m\u001b[0mnpX_train\u001b[0m\u001b[0;34m[\u001b[0m\u001b[0mc_max_index\u001b[0m\u001b[0;34m[\u001b[0m\u001b[0;36m0\u001b[0m\u001b[0;34m]\u001b[0m\u001b[0;34m]\u001b[0m\u001b[0;34m,\u001b[0m\u001b[0mlinewidth\u001b[0m\u001b[0;34m=\u001b[0m\u001b[0;36m0.3\u001b[0m\u001b[0;34m,\u001b[0m \u001b[0ms\u001b[0m\u001b[0;34m=\u001b[0m\u001b[0;36m50\u001b[0m\u001b[0;34m,\u001b[0m \u001b[0mc\u001b[0m\u001b[0;34m=\u001b[0m\u001b[0;34m'r'\u001b[0m\u001b[0;34m)\u001b[0m\u001b[0;34m\u001b[0m\u001b[0;34m\u001b[0m\u001b[0m\n\u001b[0m",
      "\u001b[0;32m~/anaconda3/envs/scikitlearn_mod/lib/python3.9/site-packages/matplotlib/pyplot.py\u001b[0m in \u001b[0;36mscatter\u001b[0;34m(x, y, s, c, marker, cmap, norm, vmin, vmax, alpha, linewidths, edgecolors, plotnonfinite, data, **kwargs)\u001b[0m\n\u001b[1;32m   3066\u001b[0m         \u001b[0mvmin\u001b[0m\u001b[0;34m=\u001b[0m\u001b[0;32mNone\u001b[0m\u001b[0;34m,\u001b[0m \u001b[0mvmax\u001b[0m\u001b[0;34m=\u001b[0m\u001b[0;32mNone\u001b[0m\u001b[0;34m,\u001b[0m \u001b[0malpha\u001b[0m\u001b[0;34m=\u001b[0m\u001b[0;32mNone\u001b[0m\u001b[0;34m,\u001b[0m \u001b[0mlinewidths\u001b[0m\u001b[0;34m=\u001b[0m\u001b[0;32mNone\u001b[0m\u001b[0;34m,\u001b[0m \u001b[0;34m*\u001b[0m\u001b[0;34m,\u001b[0m\u001b[0;34m\u001b[0m\u001b[0;34m\u001b[0m\u001b[0m\n\u001b[1;32m   3067\u001b[0m         edgecolors=None, plotnonfinite=False, data=None, **kwargs):\n\u001b[0;32m-> 3068\u001b[0;31m     __ret = gca().scatter(\n\u001b[0m\u001b[1;32m   3069\u001b[0m         \u001b[0mx\u001b[0m\u001b[0;34m,\u001b[0m \u001b[0my\u001b[0m\u001b[0;34m,\u001b[0m \u001b[0ms\u001b[0m\u001b[0;34m=\u001b[0m\u001b[0ms\u001b[0m\u001b[0;34m,\u001b[0m \u001b[0mc\u001b[0m\u001b[0;34m=\u001b[0m\u001b[0mc\u001b[0m\u001b[0;34m,\u001b[0m \u001b[0mmarker\u001b[0m\u001b[0;34m=\u001b[0m\u001b[0mmarker\u001b[0m\u001b[0;34m,\u001b[0m \u001b[0mcmap\u001b[0m\u001b[0;34m=\u001b[0m\u001b[0mcmap\u001b[0m\u001b[0;34m,\u001b[0m \u001b[0mnorm\u001b[0m\u001b[0;34m=\u001b[0m\u001b[0mnorm\u001b[0m\u001b[0;34m,\u001b[0m\u001b[0;34m\u001b[0m\u001b[0;34m\u001b[0m\u001b[0m\n\u001b[1;32m   3070\u001b[0m         \u001b[0mvmin\u001b[0m\u001b[0;34m=\u001b[0m\u001b[0mvmin\u001b[0m\u001b[0;34m,\u001b[0m \u001b[0mvmax\u001b[0m\u001b[0;34m=\u001b[0m\u001b[0mvmax\u001b[0m\u001b[0;34m,\u001b[0m \u001b[0malpha\u001b[0m\u001b[0;34m=\u001b[0m\u001b[0malpha\u001b[0m\u001b[0;34m,\u001b[0m \u001b[0mlinewidths\u001b[0m\u001b[0;34m=\u001b[0m\u001b[0mlinewidths\u001b[0m\u001b[0;34m,\u001b[0m\u001b[0;34m\u001b[0m\u001b[0;34m\u001b[0m\u001b[0m\n",
      "\u001b[0;32m~/anaconda3/envs/scikitlearn_mod/lib/python3.9/site-packages/matplotlib/__init__.py\u001b[0m in \u001b[0;36minner\u001b[0;34m(ax, data, *args, **kwargs)\u001b[0m\n\u001b[1;32m   1359\u001b[0m     \u001b[0;32mdef\u001b[0m \u001b[0minner\u001b[0m\u001b[0;34m(\u001b[0m\u001b[0max\u001b[0m\u001b[0;34m,\u001b[0m \u001b[0;34m*\u001b[0m\u001b[0margs\u001b[0m\u001b[0;34m,\u001b[0m \u001b[0mdata\u001b[0m\u001b[0;34m=\u001b[0m\u001b[0;32mNone\u001b[0m\u001b[0;34m,\u001b[0m \u001b[0;34m**\u001b[0m\u001b[0mkwargs\u001b[0m\u001b[0;34m)\u001b[0m\u001b[0;34m:\u001b[0m\u001b[0;34m\u001b[0m\u001b[0;34m\u001b[0m\u001b[0m\n\u001b[1;32m   1360\u001b[0m         \u001b[0;32mif\u001b[0m \u001b[0mdata\u001b[0m \u001b[0;32mis\u001b[0m \u001b[0;32mNone\u001b[0m\u001b[0;34m:\u001b[0m\u001b[0;34m\u001b[0m\u001b[0;34m\u001b[0m\u001b[0m\n\u001b[0;32m-> 1361\u001b[0;31m             \u001b[0;32mreturn\u001b[0m \u001b[0mfunc\u001b[0m\u001b[0;34m(\u001b[0m\u001b[0max\u001b[0m\u001b[0;34m,\u001b[0m \u001b[0;34m*\u001b[0m\u001b[0mmap\u001b[0m\u001b[0;34m(\u001b[0m\u001b[0msanitize_sequence\u001b[0m\u001b[0;34m,\u001b[0m \u001b[0margs\u001b[0m\u001b[0;34m)\u001b[0m\u001b[0;34m,\u001b[0m \u001b[0;34m**\u001b[0m\u001b[0mkwargs\u001b[0m\u001b[0;34m)\u001b[0m\u001b[0;34m\u001b[0m\u001b[0;34m\u001b[0m\u001b[0m\n\u001b[0m\u001b[1;32m   1362\u001b[0m \u001b[0;34m\u001b[0m\u001b[0m\n\u001b[1;32m   1363\u001b[0m         \u001b[0mbound\u001b[0m \u001b[0;34m=\u001b[0m \u001b[0mnew_sig\u001b[0m\u001b[0;34m.\u001b[0m\u001b[0mbind\u001b[0m\u001b[0;34m(\u001b[0m\u001b[0max\u001b[0m\u001b[0;34m,\u001b[0m \u001b[0;34m*\u001b[0m\u001b[0margs\u001b[0m\u001b[0;34m,\u001b[0m \u001b[0;34m**\u001b[0m\u001b[0mkwargs\u001b[0m\u001b[0;34m)\u001b[0m\u001b[0;34m\u001b[0m\u001b[0;34m\u001b[0m\u001b[0m\n",
      "\u001b[0;32m~/anaconda3/envs/scikitlearn_mod/lib/python3.9/site-packages/matplotlib/axes/_axes.py\u001b[0m in \u001b[0;36mscatter\u001b[0;34m(self, x, y, s, c, marker, cmap, norm, vmin, vmax, alpha, linewidths, edgecolors, plotnonfinite, **kwargs)\u001b[0m\n\u001b[1;32m   4496\u001b[0m         \u001b[0my\u001b[0m \u001b[0;34m=\u001b[0m \u001b[0mnp\u001b[0m\u001b[0;34m.\u001b[0m\u001b[0mma\u001b[0m\u001b[0;34m.\u001b[0m\u001b[0mravel\u001b[0m\u001b[0;34m(\u001b[0m\u001b[0my\u001b[0m\u001b[0;34m)\u001b[0m\u001b[0;34m\u001b[0m\u001b[0;34m\u001b[0m\u001b[0m\n\u001b[1;32m   4497\u001b[0m         \u001b[0;32mif\u001b[0m \u001b[0mx\u001b[0m\u001b[0;34m.\u001b[0m\u001b[0msize\u001b[0m \u001b[0;34m!=\u001b[0m \u001b[0my\u001b[0m\u001b[0;34m.\u001b[0m\u001b[0msize\u001b[0m\u001b[0;34m:\u001b[0m\u001b[0;34m\u001b[0m\u001b[0;34m\u001b[0m\u001b[0m\n\u001b[0;32m-> 4498\u001b[0;31m             \u001b[0;32mraise\u001b[0m \u001b[0mValueError\u001b[0m\u001b[0;34m(\u001b[0m\u001b[0;34m\"x and y must be the same size\"\u001b[0m\u001b[0;34m)\u001b[0m\u001b[0;34m\u001b[0m\u001b[0;34m\u001b[0m\u001b[0m\n\u001b[0m\u001b[1;32m   4499\u001b[0m \u001b[0;34m\u001b[0m\u001b[0m\n\u001b[1;32m   4500\u001b[0m         \u001b[0;32mif\u001b[0m \u001b[0ms\u001b[0m \u001b[0;32mis\u001b[0m \u001b[0;32mNone\u001b[0m\u001b[0;34m:\u001b[0m\u001b[0;34m\u001b[0m\u001b[0;34m\u001b[0m\u001b[0m\n",
      "\u001b[0;31mValueError\u001b[0m: x and y must be the same size"
     ]
    },
    {
     "data": {
      "image/png": "[encoded data removed]",
      "text/plain": [
       "<Figure size 432x288 with 1 Axes>"
      ]
     },
     "metadata": {
      "needs_background": "light"
     },
     "output_type": "display_data"
    }
   ],
   "source": [
    "plt.plot(npX_train)\n",
    "plt.scatter(c_max_index[0],npX_train[c_max_index[0]],linewidth=0.3, s=50, c='r')"
   ]
  },
  {
   "cell_type": "code",
   "execution_count": 189,
   "metadata": {},
   "outputs": [
    {
     "data": {
      "text/plain": [
       "[-20, 0.39312051238949475, 0.36715559610134507, -0.5475286309359322]"
      ]
     },
     "execution_count": 189,
     "metadata": {},
     "output_type": "execute_result"
    }
   ],
   "source": [
    "Barronfunc(new_X_train_spike,X_test,y_train,y_test,-20)"
   ]
  },
  {
   "cell_type": "code",
   "execution_count": 190,
   "metadata": {},
   "outputs": [
    {
     "name": "stdout",
     "output_type": "stream",
     "text": [
      "[-20, 0.39305386603225484, 0.36736843793820717, -0.5484257406079691]\n",
      "[-20, 0.3930682835793599, 0.3673223792849573, -0.5482316074247537]\n",
      "[-20, 0.3930422832377736, 0.36740544652683604, -0.5485817285626724]\n",
      "[-20, 0.39307292200965993, 0.3673075629741035, -0.5481691579741814]\n",
      "[-20, 0.39304767441610944, 0.36738822033117513, -0.5485091216590314]\n",
      "[-20, 0.3929717345828951, 0.36763097262094996, -0.549532301266372]\n"
     ]
    }
   ],
   "source": [
    "#Calling Barron function with mislabelling for level3 gaussian noise \n",
    "print(Barronfunc(new_X_train_spike,X_test,y_train_10mislabel,y_test,-20))\n",
    "print(Barronfunc(new_X_train_spike,X_test,y_train_15mislabel,y_test,-20))\n",
    "print(Barronfunc(new_X_train_spike,X_test,y_train_20mislabel,y_test,-20))\n",
    "print(Barronfunc(new_X_train_spike,X_test,y_train_25mislabel,y_test,-20))\n",
    "print(Barronfunc(new_X_train_spike,X_test,y_train_30mislabel,y_test,-20))\n",
    "print(Barronfunc(new_X_train_spike,X_test,y_train_40mislabel,y_test,-20))"
   ]
  },
  {
   "cell_type": "code",
   "execution_count": null,
   "metadata": {},
   "outputs": [],
   "source": [
    "#########################Salt & Pepper Noise################################"
   ]
  },
  {
   "cell_type": "code",
   "execution_count": 191,
   "metadata": {},
   "outputs": [
    {
     "name": "stdout",
     "output_type": "stream",
     "text": [
      "age          77.0\n",
      "sex           1.0\n",
      "cp            3.0\n",
      "trestbps    192.0\n",
      "chol        564.0\n",
      "fbs           1.0\n",
      "restecg       2.0\n",
      "thalach     202.0\n",
      "exang         1.0\n",
      "oldpeak       5.6\n",
      "slope         2.0\n",
      "ca            4.0\n",
      "thal          3.0\n",
      "dtype: float64\n",
      "age          29.0\n",
      "sex           0.0\n",
      "cp            0.0\n",
      "trestbps     94.0\n",
      "chol        126.0\n",
      "fbs           0.0\n",
      "restecg       0.0\n",
      "thalach      71.0\n",
      "exang         0.0\n",
      "oldpeak       0.0\n",
      "slope         0.0\n",
      "ca            0.0\n",
      "thal          0.0\n",
      "dtype: float64\n"
     ]
    }
   ],
   "source": [
    "maxValues = X_train.max()\n",
    " \n",
    "print(maxValues)\n",
    "minValues = X_train.min()\n",
    " \n",
    "print(minValues)"
   ]
  },
  {
   "cell_type": "code",
   "execution_count": 192,
   "metadata": {},
   "outputs": [
    {
     "name": "stdout",
     "output_type": "stream",
     "text": [
      "[[-0.17143449 -1.30222996 -2.59815509 ...  0.75448345 -0.49895296\n",
      "  -1.25584571]\n",
      " [ 2.01250322  0.88457678 -1.29488853 ...  0.4645778   0.52810326\n",
      "  -0.42025851]\n",
      " [-1.23433908  0.06246432 -0.93047541 ...  0.49990547 -0.82118374\n",
      "   2.3219051 ]\n",
      " ...\n",
      " [-1.05022603  1.50099006 -0.57412927 ...  1.38522987  0.1652644\n",
      "   0.22426844]\n",
      " [-0.32855419  0.25165383 -0.67879139 ...  0.79115539 -1.81982123\n",
      "  -0.31225167]\n",
      " [-0.39896771 -2.31333288 -0.84276882 ... -0.85249282 -0.84185852\n",
      "  -0.47692126]]\n"
     ]
    }
   ],
   "source": [
    "####Gaussian Noise Level 1 mu=0  sigma=0.1 ####\n",
    "noise = np.random.normal(0, 1, X_train.shape)\n",
    "print(noise)"
   ]
  },
  {
   "cell_type": "code",
   "execution_count": 193,
   "metadata": {},
   "outputs": [
    {
     "name": "stdout",
     "output_type": "stream",
     "text": [
      "[[0. 0. 0. ... 1. 0. 0.]\n",
      " [1. 1. 0. ... 0. 1. 0.]\n",
      " [0. 0. 0. ... 0. 0. 1.]\n",
      " ...\n",
      " [0. 1. 0. ... 1. 0. 0.]\n",
      " [0. 0. 0. ... 1. 0. 0.]\n",
      " [0. 0. 0. ... 0. 0. 0.]]\n"
     ]
    }
   ],
   "source": [
    "noise[noise < 0.5] = 0\n",
    "noise[noise > 0.5] = 1\n",
    "print(noise)"
   ]
  },
  {
   "cell_type": "code",
   "execution_count": 194,
   "metadata": {},
   "outputs": [],
   "source": [
    "X_train_saltandpepper = X_train"
   ]
  },
  {
   "cell_type": "code",
   "execution_count": 195,
   "metadata": {},
   "outputs": [],
   "source": [
    "X_train_saltandpepper=X_train_saltandpepper.clip(X_train_saltandpepper.max(),axis=1)"
   ]
  },
  {
   "cell_type": "code",
   "execution_count": 196,
   "metadata": {},
   "outputs": [
    {
     "name": "stdout",
     "output_type": "stream",
     "text": [
      "      age  sex   cp  trestbps   chol  fbs  restecg  thalach  exang  oldpeak  \\\n",
      "107  77.0  1.0  3.0     193.0  564.0  1.0      2.0    203.0    1.0      5.6   \n",
      "155  78.0  2.0  3.0     192.0  564.0  1.0      2.0    202.0    1.0      5.6   \n",
      "251  77.0  1.0  3.0     192.0  564.0  1.0      2.0    202.0    2.0      6.6   \n",
      "171  77.0  1.0  4.0     193.0  564.0  2.0      3.0    202.0    1.0      5.6   \n",
      "53   77.0  1.0  3.0     192.0  565.0  2.0      3.0    202.0    1.0      5.6   \n",
      "..    ...  ...  ...       ...    ...  ...      ...      ...    ...      ...   \n",
      "106  78.0  1.0  3.0     193.0  564.0  1.0      2.0    202.0    1.0      5.6   \n",
      "83   77.0  2.0  4.0     193.0  564.0  1.0      3.0    202.0    1.0      5.6   \n",
      "17   77.0  2.0  3.0     192.0  564.0  2.0      3.0    202.0    1.0      5.6   \n",
      "230  77.0  1.0  3.0     192.0  564.0  1.0      3.0    202.0    1.0      5.6   \n",
      "98   77.0  1.0  3.0     193.0  564.0  1.0      3.0    202.0    2.0      5.6   \n",
      "\n",
      "     slope   ca  thal  \n",
      "107    3.0  4.0   3.0  \n",
      "155    2.0  5.0   3.0  \n",
      "251    2.0  4.0   4.0  \n",
      "171    2.0  4.0   3.0  \n",
      "53     2.0  5.0   3.0  \n",
      "..     ...  ...   ...  \n",
      "106    2.0  4.0   3.0  \n",
      "83     2.0  4.0   3.0  \n",
      "17     3.0  4.0   3.0  \n",
      "230    3.0  4.0   3.0  \n",
      "98     2.0  4.0   3.0  \n",
      "\n",
      "[272 rows x 13 columns]\n"
     ]
    }
   ],
   "source": [
    "X_train_saltandpepper = noise + X_train_saltandpepper\n",
    "print(X_train_saltandpepper)"
   ]
  },
  {
   "cell_type": "code",
   "execution_count": 197,
   "metadata": {},
   "outputs": [
    {
     "data": {
      "text/html": [
       "<div>\n",
       "<style scoped>\n",
       "    .dataframe tbody tr th:only-of-type {\n",
       "        vertical-align: middle;\n",
       "    }\n",
       "\n",
       "    .dataframe tbody tr th {\n",
       "        vertical-align: top;\n",
       "    }\n",
       "\n",
       "    .dataframe thead th {\n",
       "        text-align: right;\n",
       "    }\n",
       "</style>\n",
       "<table border=\"1\" class=\"dataframe\">\n",
       "  <thead>\n",
       "    <tr style=\"text-align: right;\">\n",
       "      <th></th>\n",
       "      <th>age</th>\n",
       "      <th>sex</th>\n",
       "      <th>cp</th>\n",
       "      <th>trestbps</th>\n",
       "      <th>chol</th>\n",
       "      <th>fbs</th>\n",
       "      <th>restecg</th>\n",
       "      <th>thalach</th>\n",
       "      <th>exang</th>\n",
       "      <th>oldpeak</th>\n",
       "      <th>slope</th>\n",
       "      <th>ca</th>\n",
       "      <th>thal</th>\n",
       "    </tr>\n",
       "  </thead>\n",
       "  <tbody>\n",
       "    <tr>\n",
       "      <th>107</th>\n",
       "      <td>77.0</td>\n",
       "      <td>1.0</td>\n",
       "      <td>3.0</td>\n",
       "      <td>94.0</td>\n",
       "      <td>564.0</td>\n",
       "      <td>1.0</td>\n",
       "      <td>2.0</td>\n",
       "      <td>71.0</td>\n",
       "      <td>1.0</td>\n",
       "      <td>5.6</td>\n",
       "      <td>0.0</td>\n",
       "      <td>4.0</td>\n",
       "      <td>3.0</td>\n",
       "    </tr>\n",
       "    <tr>\n",
       "      <th>155</th>\n",
       "      <td>29.0</td>\n",
       "      <td>0.0</td>\n",
       "      <td>3.0</td>\n",
       "      <td>192.0</td>\n",
       "      <td>564.0</td>\n",
       "      <td>1.0</td>\n",
       "      <td>2.0</td>\n",
       "      <td>202.0</td>\n",
       "      <td>1.0</td>\n",
       "      <td>5.6</td>\n",
       "      <td>2.0</td>\n",
       "      <td>0.0</td>\n",
       "      <td>3.0</td>\n",
       "    </tr>\n",
       "    <tr>\n",
       "      <th>251</th>\n",
       "      <td>77.0</td>\n",
       "      <td>1.0</td>\n",
       "      <td>3.0</td>\n",
       "      <td>192.0</td>\n",
       "      <td>564.0</td>\n",
       "      <td>1.0</td>\n",
       "      <td>2.0</td>\n",
       "      <td>202.0</td>\n",
       "      <td>0.0</td>\n",
       "      <td>0.0</td>\n",
       "      <td>2.0</td>\n",
       "      <td>4.0</td>\n",
       "      <td>0.0</td>\n",
       "    </tr>\n",
       "    <tr>\n",
       "      <th>171</th>\n",
       "      <td>77.0</td>\n",
       "      <td>1.0</td>\n",
       "      <td>0.0</td>\n",
       "      <td>94.0</td>\n",
       "      <td>564.0</td>\n",
       "      <td>0.0</td>\n",
       "      <td>0.0</td>\n",
       "      <td>202.0</td>\n",
       "      <td>1.0</td>\n",
       "      <td>5.6</td>\n",
       "      <td>2.0</td>\n",
       "      <td>4.0</td>\n",
       "      <td>3.0</td>\n",
       "    </tr>\n",
       "    <tr>\n",
       "      <th>53</th>\n",
       "      <td>77.0</td>\n",
       "      <td>1.0</td>\n",
       "      <td>3.0</td>\n",
       "      <td>192.0</td>\n",
       "      <td>126.0</td>\n",
       "      <td>0.0</td>\n",
       "      <td>0.0</td>\n",
       "      <td>202.0</td>\n",
       "      <td>1.0</td>\n",
       "      <td>5.6</td>\n",
       "      <td>2.0</td>\n",
       "      <td>0.0</td>\n",
       "      <td>3.0</td>\n",
       "    </tr>\n",
       "    <tr>\n",
       "      <th>...</th>\n",
       "      <td>...</td>\n",
       "      <td>...</td>\n",
       "      <td>...</td>\n",
       "      <td>...</td>\n",
       "      <td>...</td>\n",
       "      <td>...</td>\n",
       "      <td>...</td>\n",
       "      <td>...</td>\n",
       "      <td>...</td>\n",
       "      <td>...</td>\n",
       "      <td>...</td>\n",
       "      <td>...</td>\n",
       "      <td>...</td>\n",
       "    </tr>\n",
       "    <tr>\n",
       "      <th>106</th>\n",
       "      <td>29.0</td>\n",
       "      <td>1.0</td>\n",
       "      <td>3.0</td>\n",
       "      <td>94.0</td>\n",
       "      <td>564.0</td>\n",
       "      <td>1.0</td>\n",
       "      <td>2.0</td>\n",
       "      <td>202.0</td>\n",
       "      <td>1.0</td>\n",
       "      <td>5.6</td>\n",
       "      <td>2.0</td>\n",
       "      <td>4.0</td>\n",
       "      <td>3.0</td>\n",
       "    </tr>\n",
       "    <tr>\n",
       "      <th>83</th>\n",
       "      <td>77.0</td>\n",
       "      <td>0.0</td>\n",
       "      <td>0.0</td>\n",
       "      <td>94.0</td>\n",
       "      <td>564.0</td>\n",
       "      <td>1.0</td>\n",
       "      <td>0.0</td>\n",
       "      <td>202.0</td>\n",
       "      <td>1.0</td>\n",
       "      <td>5.6</td>\n",
       "      <td>2.0</td>\n",
       "      <td>4.0</td>\n",
       "      <td>3.0</td>\n",
       "    </tr>\n",
       "    <tr>\n",
       "      <th>17</th>\n",
       "      <td>77.0</td>\n",
       "      <td>0.0</td>\n",
       "      <td>3.0</td>\n",
       "      <td>192.0</td>\n",
       "      <td>564.0</td>\n",
       "      <td>0.0</td>\n",
       "      <td>0.0</td>\n",
       "      <td>202.0</td>\n",
       "      <td>1.0</td>\n",
       "      <td>5.6</td>\n",
       "      <td>0.0</td>\n",
       "      <td>4.0</td>\n",
       "      <td>3.0</td>\n",
       "    </tr>\n",
       "    <tr>\n",
       "      <th>230</th>\n",
       "      <td>77.0</td>\n",
       "      <td>1.0</td>\n",
       "      <td>3.0</td>\n",
       "      <td>192.0</td>\n",
       "      <td>564.0</td>\n",
       "      <td>1.0</td>\n",
       "      <td>0.0</td>\n",
       "      <td>202.0</td>\n",
       "      <td>1.0</td>\n",
       "      <td>5.6</td>\n",
       "      <td>0.0</td>\n",
       "      <td>4.0</td>\n",
       "      <td>3.0</td>\n",
       "    </tr>\n",
       "    <tr>\n",
       "      <th>98</th>\n",
       "      <td>77.0</td>\n",
       "      <td>1.0</td>\n",
       "      <td>3.0</td>\n",
       "      <td>94.0</td>\n",
       "      <td>564.0</td>\n",
       "      <td>1.0</td>\n",
       "      <td>0.0</td>\n",
       "      <td>202.0</td>\n",
       "      <td>0.0</td>\n",
       "      <td>5.6</td>\n",
       "      <td>2.0</td>\n",
       "      <td>4.0</td>\n",
       "      <td>3.0</td>\n",
       "    </tr>\n",
       "  </tbody>\n",
       "</table>\n",
       "<p>272 rows × 13 columns</p>\n",
       "</div>"
      ],
      "text/plain": [
       "      age  sex   cp  trestbps   chol  fbs  restecg  thalach  exang  oldpeak  \\\n",
       "107  77.0  1.0  3.0      94.0  564.0  1.0      2.0     71.0    1.0      5.6   \n",
       "155  29.0  0.0  3.0     192.0  564.0  1.0      2.0    202.0    1.0      5.6   \n",
       "251  77.0  1.0  3.0     192.0  564.0  1.0      2.0    202.0    0.0      0.0   \n",
       "171  77.0  1.0  0.0      94.0  564.0  0.0      0.0    202.0    1.0      5.6   \n",
       "53   77.0  1.0  3.0     192.0  126.0  0.0      0.0    202.0    1.0      5.6   \n",
       "..    ...  ...  ...       ...    ...  ...      ...      ...    ...      ...   \n",
       "106  29.0  1.0  3.0      94.0  564.0  1.0      2.0    202.0    1.0      5.6   \n",
       "83   77.0  0.0  0.0      94.0  564.0  1.0      0.0    202.0    1.0      5.6   \n",
       "17   77.0  0.0  3.0     192.0  564.0  0.0      0.0    202.0    1.0      5.6   \n",
       "230  77.0  1.0  3.0     192.0  564.0  1.0      0.0    202.0    1.0      5.6   \n",
       "98   77.0  1.0  3.0      94.0  564.0  1.0      0.0    202.0    0.0      5.6   \n",
       "\n",
       "     slope   ca  thal  \n",
       "107    0.0  4.0   3.0  \n",
       "155    2.0  0.0   3.0  \n",
       "251    2.0  4.0   0.0  \n",
       "171    2.0  4.0   3.0  \n",
       "53     2.0  0.0   3.0  \n",
       "..     ...  ...   ...  \n",
       "106    2.0  4.0   3.0  \n",
       "83     2.0  4.0   3.0  \n",
       "17     0.0  4.0   3.0  \n",
       "230    0.0  4.0   3.0  \n",
       "98     2.0  4.0   3.0  \n",
       "\n",
       "[272 rows x 13 columns]"
      ]
     },
     "execution_count": 197,
     "metadata": {},
     "output_type": "execute_result"
    }
   ],
   "source": [
    "X_train_saltandpepper.replace(X_train_saltandpepper.max(),X_train.min())"
   ]
  },
  {
   "cell_type": "code",
   "execution_count": 198,
   "metadata": {
    "scrolled": true
   },
   "outputs": [
    {
     "data": {
      "text/plain": [
       "[-20, 0.3931159488271821, 0.36717016473951086, -0.5475900364678501]"
      ]
     },
     "execution_count": 198,
     "metadata": {},
     "output_type": "execute_result"
    }
   ],
   "source": [
    "Barronfunc(X_train_saltandpepper,X_test,y_train,y_test,-20)"
   ]
  },
  {
   "cell_type": "code",
   "execution_count": 199,
   "metadata": {},
   "outputs": [
    {
     "name": "stdout",
     "output_type": "stream",
     "text": [
      "[-20, 0.39307038735781036, 0.3673156591838548, -0.5482032827880892]\n",
      "[-20, 0.3930762421839447, 0.367296958022143, -0.548124459031927]\n",
      "[-20, 0.39303695582508386, 0.3674224700948315, -0.5486534814084778]\n",
      "[-20, 0.39306018270040155, 0.36734825755004846, -0.5483406820420897]\n",
      "[-20, 0.39304478001736914, 0.3673974685347808, -0.5485481020259833]\n",
      "[-20, 0.39296717830679834, 0.3676455445872869, -0.5495937208262394]\n"
     ]
    }
   ],
   "source": [
    "#Calling Barron function with mislabelling for level3 gaussian noise \n",
    "print(Barronfunc(X_train_saltandpepper,X_test,y_train_10mislabel,y_test,-20))\n",
    "print(Barronfunc(X_train_saltandpepper,X_test,y_train_15mislabel,y_test,-20))\n",
    "print(Barronfunc(X_train_saltandpepper,X_test,y_train_20mislabel,y_test,-20))\n",
    "print(Barronfunc(X_train_saltandpepper,X_test,y_train_25mislabel,y_test,-20))\n",
    "print(Barronfunc(X_train_saltandpepper,X_test,y_train_30mislabel,y_test,-20))\n",
    "print(Barronfunc(X_train_saltandpepper,X_test,y_train_40mislabel,y_test,-20))"
   ]
  },
  {
   "cell_type": "code",
   "execution_count": 200,
   "metadata": {},
   "outputs": [
    {
     "name": "stdout",
     "output_type": "stream",
     "text": [
      "[[1.57405519 0.86529517 1.24005089 ... 0.33396645 1.53407536 0.6973069 ]\n",
      " [5.40937144 4.00914641 1.39566736 ... 0.11691321 0.89493562 1.35360579]\n",
      " [0.06781173 1.00668953 1.45676206 ... 0.68452636 3.4321785  1.15517199]\n",
      " ...\n",
      " [1.24854362 0.00542487 2.02627799 ... 4.4753257  1.64200332 2.41813649]\n",
      " [1.00686816 2.87771055 4.11553882 ... 1.957091   2.18316614 5.26671633]\n",
      " [2.39127867 0.81997467 2.02872906 ... 0.26468458 0.07771943 4.78823363]]\n"
     ]
    }
   ],
   "source": [
    "####Gaussian Noise Level 1 mu=0  sigma=0.1 ####\n",
    "noise = np.random.chisquare(2,X_train.shape)\n",
    "print(noise)"
   ]
  },
  {
   "cell_type": "code",
   "execution_count": null,
   "metadata": {},
   "outputs": [],
   "source": []
  }
 ],
 "metadata": {
  "kernelspec": {
   "display_name": "Python 3 (ipykernel)",
   "language": "python",
   "name": "python3"
  },
  "language_info": {
   "codemirror_mode": {
    "name": "ipython",
    "version": 3
   },
   "file_extension": ".py",
   "mimetype": "text/x-python",
   "name": "python",
   "nbconvert_exporter": "python",
   "pygments_lexer": "ipython3",
   "version": "3.9.4"
  }
 },
 "nbformat": 4,
 "nbformat_minor": 4
}
